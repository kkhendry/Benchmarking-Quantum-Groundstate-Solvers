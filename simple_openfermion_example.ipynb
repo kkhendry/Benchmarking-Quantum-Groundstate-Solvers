{
 "cells": [
  {
   "cell_type": "code",
   "execution_count": 1,
   "metadata": {},
   "outputs": [],
   "source": [
    "# !pip install dimod\n",
    "# !pip install pyscf\n",
    "# !pip install openfermion\n",
    "# !pip install symengine\n",
    "import math\n",
    "\n",
    "from openfermionpyscf import run_pyscf\n",
    "from openfermion.transforms import binary_code_transform, bravyi_kitaev_code, get_fermion_operator\n",
    "# from openfermion.hamiltonians import MolecularData\n",
    "from openfermion.ops import FermionOperator, QubitOperator\n",
    "from openfermion.utils import count_qubits\n",
    "from pyscf import gto, scf, mcscf\n",
    "\n",
    "from helper_functions import *\n",
    "from XBK_method import *\n",
    "from QCC_method import *\n",
    "\n",
    "from openfermion.chem import MolecularData\n",
    "from openfermion.transforms import get_fermion_operator, jordan_wigner\n",
    "from openfermion.linalg import get_ground_state, get_sparse_operator\n",
    "import numpy\n",
    "import scipy\n",
    "import scipy.linalg"
   ]
  },
  {
   "cell_type": "code",
   "execution_count": 2,
   "metadata": {},
   "outputs": [
    {
     "output_type": "stream",
     "name": "stdout",
     "text": [
      "[['H', (0.0, 0.0, 0.0)], ['H', (0.0, 0.0, 0.739)]]\n"
     ]
    }
   ],
   "source": [
    "#create molecule\n",
    "# name = 'H3'\n",
    "charge = 0\n",
    "multiplicity = 1\n",
    "basis = 'sto-6g'\n",
    "\n",
    "# bond_length = 1.1\n",
    "# geometry = get_molGeometry(name, bond_length)\n",
    "geometry = [['H', (  0.0,    0.0,    0.0)],\n",
    "            ['H', (  0.0,    0.0,   0.739)]]\n",
    "print(geometry)    \n",
    "molecule = MolecularData(\n",
    "    geometry=geometry,\n",
    "    basis=basis,\n",
    "    multiplicity=multiplicity,\n",
    "    charge=charge\n",
    ")"
   ]
  },
  {
   "cell_type": "code",
   "execution_count": 8,
   "metadata": {},
   "outputs": [
    {
     "output_type": "stream",
     "name": "stdout",
     "text": [
      "[[[[ 6.74890562e-01 -2.56739074e-16]\n   [-2.49800181e-16  1.81441825e-01]]\n\n  [[-2.49800181e-16  1.81441825e-01]\n   [ 6.64558656e-01 -2.77555756e-17]]]\n\n\n [[[-2.56739074e-16  6.64558656e-01]\n   [ 1.81441825e-01  3.05311332e-16]]\n\n  [[ 1.81441825e-01  3.05311332e-16]\n   [-2.77555756e-17  6.99422082e-01]]]]\n-1.125426989713715\n"
     ]
    }
   ],
   "source": [
    "#run RHF calculations\n",
    "driver = run_pyscf(molecule, run_scf=True)\n",
    "hf_energy = float(molecule.hf_energy)\n",
    "hf_data = molecule._pyscf_data['scf']\n",
    "# print(molecule.n_qubits, molecule.n_electrons, molecule.n_orbitals, molecule.n_atoms, molecule.canonical_orbitals, molecule.get_n_alpha_electrons(), molecule.get_n_beta_electrons(), molecule.one_body_integrals, molecule.two_body_integrals)\n",
    "print(molecule.two_body_integrals)\n",
    "# print(molecule.canonical_orbitals)\n",
    "print(hf_energy)"
   ]
  },
  {
   "cell_type": "code",
   "execution_count": 21,
   "metadata": {},
   "outputs": [
    {
     "output_type": "stream",
     "name": "stdout",
     "text": [
      "-1.2722647705358239\n"
     ]
    }
   ],
   "source": [
    "#define active space\n",
    "n_active_electrons = 2\n",
    "n_active_orbitals = 3\n",
    "occupied_indices, active_indices = get_active_space(molecule, n_active_electrons, n_active_orbitals)\n",
    "\n",
    "#run CASCI calculations\n",
    "casci_data = hf_data.CASCI(n_active_orbitals, n_active_electrons).run(verbose=False)\n",
    "casci_energy = float(casci_data.e_tot)\n",
    "\n",
    "print(casci_energy)"
   ]
  },
  {
   "cell_type": "code",
   "execution_count": 12,
   "metadata": {},
   "outputs": [
    {
     "output_type": "stream",
     "name": "stdout",
     "text": [
      "0.7160720039512857 [] +\n-1.258194777661488 [0^ 0] +\n0.33744528082898784 [0^ 0^ 0 0] +\n0.09072091226423862 [0^ 0^ 2 2] +\n0.33744528082898784 [0^ 1^ 1 0] +\n0.09072091226423862 [0^ 1^ 3 2] +\n0.09072091226423862 [0^ 2^ 0 2] +\n0.3322793281232226 [0^ 2^ 2 0] +\n0.09072091226423862 [0^ 3^ 1 2] +\n0.3322793281232226 [0^ 3^ 3 0] +\n0.33744528082898784 [1^ 0^ 0 1] +\n0.09072091226423862 [1^ 0^ 2 3] +\n-1.258194777661488 [1^ 1] +\n0.33744528082898784 [1^ 1^ 1 1] +\n0.09072091226423862 [1^ 1^ 3 3] +\n0.09072091226423862 [1^ 2^ 0 3] +\n0.3322793281232226 [1^ 2^ 2 1] +\n0.09072091226423862 [1^ 3^ 1 3] +\n0.3322793281232226 [1^ 3^ 3 1] +\n0.3322793281232224 [2^ 0^ 0 2] +\n0.09072091226423862 [2^ 0^ 2 0] +\n0.3322793281232224 [2^ 1^ 1 2] +\n0.09072091226423862 [2^ 1^ 3 0] +\n-0.47869740107940717 [2^ 2] +\n0.09072091226423862 [2^ 2^ 0 0] +\n0.34971104104786654 [2^ 2^ 2 2] +\n0.09072091226423862 [2^ 3^ 1 0] +\n0.34971104104786654 [2^ 3^ 3 2] +\n0.3322793281232224 [3^ 0^ 0 3] +\n0.09072091226423862 [3^ 0^ 2 1] +\n0.3322793281232224 [3^ 1^ 1 3] +\n0.09072091226423862 [3^ 1^ 3 1] +\n0.09072091226423862 [3^ 2^ 0 1] +\n0.34971104104786654 [3^ 2^ 2 3] +\n-0.47869740107940717 [3^ 3] +\n0.09072091226423862 [3^ 3^ 1 1] +\n0.34971104104786654 [3^ 3^ 3 3]\n"
     ]
    }
   ],
   "source": [
    "#convert to fermionic Hamiltonian\n",
    "# molecular_H = molecule.get_molecular_hamiltonian(occupied_indices=occupied_indices, active_indices=active_indices)\n",
    "molecular_H = molecule.get_molecular_hamiltonian()\n",
    "\n",
    "# if molecular_H[()] == None:\n",
    "#     molecular_H[()] = 0\n",
    "fermionic_H = get_fermion_operator(molecular_H)\n",
    "# # print(fermionic_H)\n",
    "# #add penalty term to ensure correct number of electrons in ground state\n",
    "# weight = 5\n",
    "# penalty_term = FermionOperator('', n_active_electrons)\n",
    "\n",
    "# for i in range(molecular_H.n_qubits):\n",
    "#     penalty_term += FermionOperator(str(i)+'^ '+str(i), -1)\n",
    "# fermionic_H += weight*penalty_term**2\n",
    "\n",
    "print(fermionic_H)"
   ]
  },
  {
   "cell_type": "code",
   "execution_count": 16,
   "metadata": {
    "scrolled": true
   },
   "outputs": [
    {
     "output_type": "stream",
     "name": "stdout",
     "text": [
      "4\n(-0.10340426986897597+0j) [] +\n(-0.04536045613211931+0j) [X0 X1 Y2 Y3] +\n(0.04536045613211931+0j) [X0 Y1 Y2 X3] +\n(0.04536045613211931+0j) [Y0 X1 X2 Y3] +\n(-0.04536045613211931+0j) [Y0 Y1 X2 X3] +\n(0.17345587642514687+0j) [Z0] +\n(0.16872264041449392+0j) [Z0 Z1] +\n(0.12077920792949196+0j) [Z0 Z2] +\n(0.16613966406161124+0j) [Z0 Z3] +\n(0.17345587642514684+0j) [Z1] +\n(0.16613966406161124+0j) [Z1 Z2] +\n(0.12077920792949196+0j) [Z1 Z3] +\n(-0.2224256919753329+0j) [Z2] +\n(0.17485552052393327+0j) [Z2 Z3] +\n(-0.22242569197533288+0j) [Z3]\n  (0, 0)\t(0.7160720039512856+0j)\n  (1, 1)\t(0.2373746028718784+0j)\n  (2, 2)\t(0.2373746028718784+0j)\n  (3, 3)\t(0.4580992838882044+0j)\n  (12, 3)\t(0.18144182452847724+0j)\n  (4, 4)\t(-0.5421227737102023+0j)\n  (5, 5)\t(-0.5377033430716417+0j)\n  (6, 6)\t(-0.35626151854316446+0j)\n  (9, 6)\t(-0.18144182452847724+0j)\n  (7, 7)\t(0.34757999419112917+0j)\n  (8, 8)\t(-0.5421227737102025+0j)\n  (6, 9)\t(-0.18144182452847724+0j)\n  (9, 9)\t(-0.35626151854316457+0j)\n  (10, 10)\t(-0.5377033430716417+0j)\n  (11, 11)\t(0.34757999419112917+0j)\n  (3, 12)\t(0.18144182452847724+0j)\n  (12, 12)\t(-1.1254269897137148+0j)\n  (13, 13)\t(-0.456448902828709+0j)\n  (14, 14)\t(-0.456448902828709+0j)\n  (15, 15)\t(0.9119512661520297+0j)\n-0.103*I+0.173*Z(0)+0.173*Z(1)-0.222*Z(2)-0.222*Z(3)+0.169*Z(0)*Z(1)+0.045*Y(0)*X(1)*X(2)*Y(3)-0.045*Y(0)*Y(1)*X(2)*X(3)-0.045*X(0)*X(1)*Y(2)*Y(3)+0.045*X(0)*Y(1)*Y(2)*X(3)+0.121*Z(0)*Z(2)+0.166*Z(0)*Z(3)+0.166*Z(1)*Z(2)+0.121*Z(1)*Z(3)+0.175*Z(2)*Z(3)\n"
     ]
    }
   ],
   "source": [
    "#convert to Pauli operator Hamiltonian\n",
    "# binary_code = bravyi_kitaev_code(molecular_H.n_qubits)\n",
    "# qubit_H = binary_code_transform(fermionic_H, binary_code)\n",
    "qubit_H = jordan_wigner(fermionic_H)\n",
    "# qubit_H.compress()\n",
    "\n",
    "#apply symmetry reductions and calculate minimum eigenvalue (should be equal to CASCI energy)\n",
    "# sectors = taper_qubits(qubit_H)\n",
    "# qubit_H, min_eigenvalue = sector_with_ground(sectors)\n",
    "m = count_qubits(qubit_H)\n",
    "print(m)\n",
    "# print(min_eigenvalue, '\\n')\n",
    "print(qubit_H)\n",
    "print(get_sparse_operator(qubit_H))\n",
    "\n",
    "from openfermion.transforms import qubit_operator_to_pauli_sum\n",
    "print(qubit_operator_to_pauli_sum(qubit_H))"
   ]
  },
  {
   "cell_type": "code",
   "execution_count": 26,
   "metadata": {},
   "outputs": [],
   "source": [
    "#set sampler to perform the annealing\n",
    "# !pip install dwave-ocean-sdk\n",
    "from neal import SimulatedAnnealingSampler\n",
    "sampler = SimulatedAnnealingSampler() #uses simulated annealing, see D-Wave's ocean sdk for more options"
   ]
  },
  {
   "cell_type": "code",
   "execution_count": 27,
   "metadata": {},
   "outputs": [
    {
     "output_type": "stream",
     "name": "stdout",
     "text": [
      "-1.24006930443866\n[1, 0, 0, 1, 1, 0, 0, 1, 1, 1, 1, 1, 1, 1, 1, 1]\n"
     ]
    }
   ],
   "source": [
    "### XBK method ###\n",
    "\n",
    "#set r value\n",
    "r = 4\n",
    "\n",
    "#construct qubit Hamiltonians and C terms for XBK method\n",
    "qubit_Hs, qubit_Cs = [],[]\n",
    "for p in range(int(math.ceil(r/2+1))):\n",
    "    qubit_Hs += [XBK_transform(qubit_H, r, p)]\n",
    "    qubit_Cs += [construct_C(m, r, p)]\n",
    "\n",
    "#run XBK method\n",
    "XBK_energy, ground_state = XBK(qubit_Hs, qubit_Cs, r, sampler, starting_lam=0, num_samples=1000, strength=1e3, verbose=False)\n",
    "\n",
    "print(XBK_energy)\n",
    "print(ground_state) #ground state in rm-qubit space"
   ]
  },
  {
   "cell_type": "code",
   "execution_count": 28,
   "metadata": {},
   "outputs": [
    {
     "output_type": "stream",
     "name": "stdout",
     "text": [
      "-0.8367203530506231\n{phi0: 5.623308632608373, phi1: 6.283185307179586, phi2: 3.141592653589793, phi3: 2.8431514821105015, the0: 3.141592653589793, the1: 1.2581817802130424, the2: 1.2394726282922657, the3: 1.7007244472453488e-08, tau0: 3.2418058608575913, tau1: 3.1416272184587113, tau2: 4.396053380596374, tau3: 5.986532147902271}\n"
     ]
    }
   ],
   "source": [
    "### QCC method ###\n",
    "\n",
    "#set number of Bloch angle and entangler amplitude foldings\n",
    "angle_folds = 2\n",
    "amplitude_folds = 1\n",
    "\n",
    "#create dictionary of QubitOperator entanglers\n",
    "entanglers = {'IYZI': QubitOperator('Y1 Z2'), 'IZYI': QubitOperator('Z1 Y2'),\n",
    "              'IXYI': QubitOperator('X1 Y2'), 'IYXI': QubitOperator('Y1 X2')}\n",
    "\n",
    "#run QCC method\n",
    "QCC_energy, variables = QCC(qubit_H, entanglers, angle_folds, amplitude_folds, sampler, num_cycles=10, num_samples=1000, strength=1e3)\n",
    "    \n",
    "print(QCC_energy)\n",
    "print(variables)"
   ]
  },
  {
   "source": [
    "EXPERIMENTS"
   ],
   "cell_type": "markdown",
   "metadata": {}
  },
  {
   "cell_type": "code",
   "execution_count": 70,
   "metadata": {},
   "outputs": [
    {
     "output_type": "stream",
     "name": "stdout",
     "text": [
      "converged SCF energy = -99.9593211672818\n"
     ]
    }
   ],
   "source": [
    "import pyscf\n",
    "mol = pyscf.M(\n",
    "    atom = 'H 0 0 0; F 0 0 1.1',  # in Angstrom\n",
    "    basis = '6-31g',\n",
    "    symmetry = True,\n",
    ")\n",
    "# print(mol.atom)\n",
    "myhf = mol.RHF().run()\n",
    "# print(myhf.get_occ())\n",
    "#\n",
    "# create an FCI solver based on the SCF object\n",
    "#\n",
    "# cisolver = pyscf.fci.FCI(myhf)\n",
    "# print('E(FCI) = %.12f' % cisolver.kernel()[0])"
   ]
  },
  {
   "cell_type": "code",
   "execution_count": 73,
   "metadata": {},
   "outputs": [
    {
     "output_type": "stream",
     "name": "stdout",
     "text": [
      "converged SCF energy = -99.9873974403488\n",
      "MO integrals (ij|kl) with 4-fold symmetry i>=j, k>=l have shape (190, 190)\n",
      "converged SCF energy = -99.9873974403488\n",
      "[ 5.35675278 -0.52831321  1.25358247 -0.09750893  0.09618362  1.02774801\n",
      "  0.          0.          0.          1.22238529  0.          0.\n",
      "  0.          0.          1.22238529  0.11576072 -0.17902118  0.27038076\n",
      "  0.          0.          0.496825    0.04357091 -0.06704457  0.23163625\n",
      "  0.          0.          0.20430308  0.52078992  0.          0.\n",
      "  0.          0.46777722  0.          0.          0.          0.83934381\n",
      "  0.          0.          0.          0.          0.46777722  0.\n",
      "  0.          0.          0.83934381  0.18301991 -0.17064103 -0.40562827\n",
      "  0.          0.         -0.1299511  -0.14695615  0.          0.\n",
      "  0.90763646  0.          0.          0.         -0.35247869  0.\n",
      "  0.          0.         -0.31506522  0.          0.          0.70668745\n",
      "  0.          0.          0.          0.         -0.35247869  0.\n",
      "  0.          0.         -0.31506522  0.          0.          0.70668745\n",
      " -0.31704039  0.33216483 -0.19437474  0.          0.         -0.27220883\n",
      " -0.22811254  0.          0.          0.15027717  0.          0.\n",
      "  0.93178216  0.31844935 -0.31830573 -0.13888881  0.          0.\n",
      "  0.04131837 -0.10382427  0.          0.          0.20083162  0.\n",
      "  0.         -0.16000675  0.80881595  0.          0.          0.\n",
      "  0.          0.          0.          0.          0.          0.\n",
      "  0.          0.          0.          0.          0.          1.08941351\n",
      "  0.          0.          0.          0.          0.          0.\n",
      "  0.          0.          0.          0.          0.          0.\n",
      "  0.          0.          0.          1.08941351  0.          0.\n",
      "  0.          0.01069407  0.          0.          0.          0.0783204\n",
      "  0.          0.          0.08092069  0.          0.          0.\n",
      "  0.          0.          1.0732011   0.          0.          0.\n",
      "  0.          0.01069407  0.          0.          0.          0.0783204\n",
      "  0.          0.          0.08092069  0.          0.          0.\n",
      "  0.          0.          1.0732011   0.0453614  -0.03465669 -0.0364902\n",
      "  0.          0.          0.01126146  0.02547057  0.          0.\n",
      "  0.12526237  0.          0.         -0.08589973 -0.13355257  0.\n",
      "  0.          0.          0.          1.03406506]\n"
     ]
    }
   ],
   "source": [
    "from pyscf import gto, scf, ao2mo\n",
    "\n",
    "'''\n",
    "A simple example to call integral transformation for given orbitals\n",
    "'''\n",
    "\n",
    "mol = gto.Mole()\n",
    "mol.build(\n",
    "    atom = 'H 0 0 0; F 0 0 1.1',  # in Angstrom\n",
    "    basis = 'ccpvdz',\n",
    "    symmetry = True,\n",
    ")\n",
    "\n",
    "myhf = scf.RHF(mol)\n",
    "myhf.kernel()\n",
    "\n",
    "orb = myhf.mo_coeff\n",
    "eri_4fold = ao2mo.kernel(mol, orb)\n",
    "print('MO integrals (ij|kl) with 4-fold symmetry i>=j, k>=l have shape %s' %\n",
    "      str(eri_4fold.shape))\n",
    "\n",
    "\n",
    "#\n",
    "# Starting from PySCF-1.7, the MO integrals can be computed with the code\n",
    "# below.\n",
    "#\n",
    "import pyscf\n",
    "mol = pyscf.M(\n",
    "    atom = 'H 0 0 0; F 0 0 1.1',  # in Angstrom\n",
    "    basis = 'ccpvdz',\n",
    "    symmetry = True,\n",
    ")\n",
    "orb = mol.RHF().run().mo_coeff\n",
    "eri_4fold = mol.ao2mo(orb)\n",
    "print(eri_4fold[0])"
   ]
  },
  {
   "cell_type": "code",
   "execution_count": null,
   "metadata": {},
   "outputs": [],
   "source": []
  }
 ],
 "metadata": {
  "kernelspec": {
   "name": "python3712jvsc74a57bd04cd7ab41f5fca4b9b44701077e38c5ffd31fe66a6cab21e0214b68d958d0e462",
   "display_name": "Python 3.7.12 64-bit"
  },
  "language_info": {
   "codemirror_mode": {
    "name": "ipython",
    "version": 3
   },
   "file_extension": ".py",
   "mimetype": "text/x-python",
   "name": "python",
   "nbconvert_exporter": "python",
   "pygments_lexer": "ipython3",
   "version": "3.7.12"
  },
  "metadata": {
   "interpreter": {
    "hash": "4cd7ab41f5fca4b9b44701077e38c5ffd31fe66a6cab21e0214b68d958d0e462"
   }
  }
 },
 "nbformat": 4,
 "nbformat_minor": 4
}