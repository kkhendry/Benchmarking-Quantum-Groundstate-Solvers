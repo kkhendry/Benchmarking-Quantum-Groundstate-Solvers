{
  "nbformat": 4,
  "nbformat_minor": 0,
  "metadata": {
    "colab": {
      "name": "ColabMain.ipynb",
      "provenance": [],
      "include_colab_link": true
    },
    "kernelspec": {
      "name": "python3712jvsc74a57bd04cd7ab41f5fca4b9b44701077e38c5ffd31fe66a6cab21e0214b68d958d0e462",
      "display_name": "Python 3.7.12 64-bit"
    },
    "language_info": {
      "name": "python",
      "version": "3.7.12"
    },
    "metadata": {
      "interpreter": {
        "hash": "4cd7ab41f5fca4b9b44701077e38c5ffd31fe66a6cab21e0214b68d958d0e462"
      }
    }
  },
  "cells": [
    {
      "cell_type": "markdown",
      "metadata": {
        "id": "view-in-github",
        "colab_type": "text"
      },
      "source": [
        "<a href=\"https://colab.research.google.com/github/kkhendry/Benchmarking-Quantum-Groundstate-Solvers/blob/master/main/BenchmarkingTool.ipynb\" target=\"_parent\"><img src=\"https://colab.research.google.com/assets/colab-badge.svg\" alt=\"Open In Colab\"/></a>"
      ]
    },
    {
      "source": [
        "To work using VSCode Editor, run cell 1 and 2 below.\n",
        "Input your own ngrok authentication token in cell 1 and access the VSCode ngrok tunnel by clicking the link in cell 2."
      ],
      "cell_type": "markdown",
      "metadata": {
        "id": "i8X6L1QUOihz"
      }
    },
    {
      "cell_type": "code",
      "execution_count": null,
      "metadata": {
        "id": "kHFOoWIm_oZk"
      },
      "outputs": [],
      "source": [
        "#@title Cell 1\n",
        "#%%capture uncomment in google colab to hide output\n",
        "!pip install colabcode\n",
        "!wget -q -c -nc https://bin.equinox.io/c/4VmDzA7iaHb/ngrok-stable-linux-amd64.zip\n",
        "!unzip -qq -n ngrok-stable-linux-amd64.zip\n",
        "!./ngrok authtoken 20U3834NIEtDeUcn98AGuj8rL7B_3trunaPVasZKZijiuZUCH #add your own authtoken here. Log in/sign up for an ngrok account at https://ngrok.com/.\n",
        "from colabcode import ColabCode\n"
      ]
    },
    {
      "cell_type": "code",
      "execution_count": null,
      "metadata": {
        "id": "AXXDz0MSOih5"
      },
      "outputs": [],
      "source": [
        "#@title Cell 2\n",
        "ColabCode(port=10000)"
      ]
    },
    {
      "source": [
        "To work from google colab, run cell 3. This option is great for running to notebook, but limited for editing helper and utility files and functions."
      ],
      "cell_type": "markdown",
      "metadata": {
        "id": "qOvUexzcOih6"
      }
    },
    {
      "cell_type": "code",
      "execution_count": null,
      "metadata": {
        "id": "lD9ulLtzOih7"
      },
      "outputs": [],
      "source": [
        "#@title Cell 3\n",
        "#%%capture uncomment in google colab to hide output\n",
        "!git clone https://github.com/kkhendry/QOSF-2021-Cohort-4-Hydra.git\n",
        "import sys\n",
        "sys.path.insert(0, '/content/QOSF-2021-Cohort-4-Hydra/')\n",
        "%cd QOSF-2021-Cohort-4-Hydra"
      ]
    },
    {
      "source": [
        "Run cell 4 and 5 below to set up all the requirements to run the rest of the notebook. When dwave setup prompts you for an authentication token in cell 5, please use your own. You can sign up for a dwave leap account with limited usage at https://cloud.dwavesys.com/leap/login/?next=/leap/."
      ],
      "cell_type": "markdown",
      "metadata": {
        "id": "1diWWUfROih8"
      }
    },
    {
      "cell_type": "code",
      "source": [
        "#@title Cell 4\n",
        "#%%capture uncomment in google colab to hide output. if using vscode, simply copy and paste the code below in the terminal. For git config add your own email address and user name associated with your github account.\n",
        "!git config --global user.email karan.khendry@gmail.com\n",
        "!git config --global user.name hydraken\n",
        "!pip install -r setup"
      ],
      "metadata": {
        "id": "EOJidPMAJRKq",
        "tags": []
      },
      "execution_count": null,
      "outputs": []
    },
    {
      "cell_type": "code",
      "execution_count": null,
      "metadata": {
        "id": "F6UL2F6LOih9"
      },
      "outputs": [],
      "source": [
        "#@title Cell 5\n",
        "#%%capture uncomment in google colab to hide output. if using vscode, simply copy and past the code below in the terminal.\n",
        "#API Token: DEV-4f5f3a7d07f2dc98dccd35b17cdbaf20b5b7e8cf #use your own dwave Leap API Token\n",
        "!dwave setup"
      ]
    },
    {
      "source": [
        "Install all required modules in cell 6 below."
      ],
      "cell_type": "markdown",
      "metadata": {
        "id": "RPssXZpxOih-"
      }
    },
    {
      "cell_type": "code",
      "source": [
        "#@title Cell 6\n",
        "#General\n",
        "import numpy as np\n",
        "import scipy\n",
        "import scipy.linalg\n",
        "import math\n",
        "import time\n",
        "import matplotlib.pyplot as plt\n",
        "from IPython.display import display, clear_output\n",
        "\n",
        "#Molecule Drivers\n",
        "import pyscf\n",
        "from pyscf import gto, scf, mcscf\n",
        "\n",
        "##QISKIT\n",
        "#Molecule, Fermioninc Operator, Problem Definition\n",
        "from qiskit_nature.drivers import Molecule\n",
        "from qiskit_nature.operators.second_quantization import FermionicOp\n",
        "from qiskit_nature.drivers.second_quantization.pyscfd import PySCFDriver\n",
        "from qiskit_nature.drivers.second_quantization import ElectronicStructureDriverType, ElectronicStructureMoleculeDriver\n",
        "from qiskit_nature.problems.second_quantization import ElectronicStructureProblem\n",
        "\n",
        "#Qubit Operator\n",
        "from qiskit_nature.mappers.second_quantization import JordanWignerMapper, ParityMapper, BravyiKitaevMapper\n",
        "from qiskit_nature.converters.second_quantization import QubitConverter\n",
        "\n",
        "#Circuits, Simulators, Algorithms, Solvers and VQE\n",
        "from qiskit_nature.circuit.library import HartreeFock\n",
        "from qiskit.circuit.library import EfficientSU2, TwoLocal, NLocal, PauliTwoDesign\n",
        "from qiskit_nature.circuit.library import UCCSD, PUCCD, SUCCD\n",
        "from qiskit.algorithms import NumPyMinimumEigensolver\n",
        "from qiskit_nature.algorithms import GroundStateEigensolver\n",
        "from qiskit.providers.aer import StatevectorSimulator, QasmSimulator\n",
        "from qiskit.algorithms.optimizers import COBYLA, L_BFGS_B, SPSA, SLSQP\n",
        "from qiskit.algorithms import VQE\n",
        "from qiskit_nature.algorithms import VQEUCCFactory, GroundStateEigensolver\n",
        "\n",
        "##OPENFERMION\n",
        "from openfermionpyscf import run_pyscf\n",
        "from openfermion.transforms import binary_code_transform, bravyi_kitaev_code, get_fermion_operator\n",
        "from openfermion.ops import FermionOperator, QubitOperator\n",
        "from openfermion.utils import count_qubits\n",
        "from openfermion.chem import MolecularData\n",
        "from openfermion.transforms import get_fermion_operator, jordan_wigner\n",
        "from openfermion.linalg import get_ground_state, get_sparse_operator\n",
        "import numpy\n",
        "import scipy\n",
        "import scipy.linalg\n",
        "\n",
        "##UTILITIES\n",
        "from helper_functions import *\n",
        "from XBK_method import *\n",
        "from QCC_method import *"
      ],
      "metadata": {
        "id": "W6yrBKabAP5H"
      },
      "execution_count": null,
      "outputs": []
    },
    {
      "source": [
        "Set up the molecule and electronic structure rpoblem to work with in cell 7 below. Some molecule have been set up below, uncomment the relevant sections to run experiements with those or create an equivalent code block with a molecule of your choice."
      ],
      "cell_type": "markdown",
      "metadata": {
        "id": "oB0SlSA8OiiA"
      }
    },
    {
      "cell_type": "code",
      "source": [
        "#@title Cell 6\n",
        "\n",
        "#H2\n",
        "# geometry = [['H', [  0.0,    0.0,    0.0]],\n",
        "#             ['H', [  0.0,    0.0,   0.739]]]\n",
        "# molecule = Molecule(geometry=geometry, charge=0, multiplicity=1)\n",
        "# molecule_name = 'H2'\n",
        "# basis = 'sto6g'\n",
        "\n",
        "# H3\n",
        "# geometry = [['H', [0.0, 0.0, 0.0]], ['H', [1.1, 0.0, 0.0]], ['H', [0.55, 0.9526279441628825, 0]]]\n",
        "# molecule = Molecule(geometry=geometry, charge=1, multiplicity=1)\n",
        "# molecule_name = 'H3'\n",
        "# basis = 'sto3g'\n",
        "\n",
        "# #LiH\n",
        "geometry = [['Li', [0.0, 0.0, 0.0]], ['H', [0.0, 0.0, 1.5474]]]\n",
        "molecule = Molecule(geometry=geometry, charge=0, multiplicity=1)\n",
        "molecule_name = 'LiH'\n",
        "basis = 'sto3g'\n",
        "\n",
        "# # H20\n",
        "# geometry = [['O', [0.0, 0.0, 0.0]], ['H', [0.0, 0.0, 1.0]], ['H', [0.0, 1.0, 0.0]]]\n",
        "# molecule = Molecule(geometry=geometry, charge=0, multiplicity=1)\n",
        "# molecule_name = 'H20'\n",
        "# basis = 'sto3g'\n",
        "\n",
        "# #HCONH2\n",
        "# geometry = [[\"O\",  [1.1280, 0.2091, 0.0000]],\n",
        "#             [\"N\", [-1.1878, 0.1791, 0.0000]],\n",
        "#             [\"C\", [0.0598, -0.3882, 0.0000]],\n",
        "#             [\"H\", [-1.3085, 1.1864, 0.0001]],\n",
        "#             [\"H\", [-2.0305, -0.3861, -0.0001]],\n",
        "#             [\"H\", [-0.0014, -1.4883, -0.0001]],\n",
        "#             ['C', [-0.1805, 1.3955, 0.000]]]\n",
        "# molecule = Molecule(geometry=geometry, charge=0, multiplicity=1)\n",
        "# molecule_name = 'HCONH2'\n",
        "# basis = 'sto3g'\n",
        "\n",
        "class Problem: \n",
        "    def __init__(self, molecule, molecule_name, basis):\n",
        "        self.molecule = molecule\n",
        "        self.molecule_name = molecule_name\n",
        "        self.basis = basis\n",
        "\n",
        "    def problemOperators(self, exact_solution = True):\n",
        "        driver = ElectronicStructureMoleculeDriver(molecule=self.molecule, basis=self.basis, driver_type=ElectronicStructureDriverType.PYSCF)\n",
        "\n",
        "        self.es_problem = ElectronicStructureProblem(driver)\n",
        "        self.second_q_op = self.es_problem.second_q_ops()\n",
        "        self.q_fermionic_op = self.second_q_op[0]\n",
        "        # register_length = q_fermionic_op.register_length\n",
        "        self.of_fermionic_op = qiskit2of_fermionicOp(self.q_fermionic_op)\n",
        "\n",
        "        self.qubit_converter = QubitConverter(JordanWignerMapper())\n",
        "        self.q_qubit_op = self.qubit_converter.convert(self.q_fermionic_op)\n",
        "        self.of_qubit_op = jordan_wigner(self.of_fermionic_op)\n",
        "        # m = count_qubits(qubit_H)\n",
        "        # print(qubit_H)\n",
        "\n",
        "        if exact_solution:\n",
        "            numpy_solver = NumPyMinimumEigensolver()\n",
        "            numpy_ground_state_solver = GroundStateEigensolver(self.qubit_converter, numpy_solver)\n",
        "            numpy_results = numpy_ground_state_solver.solve(self.es_problem)\n",
        "            self.exact_energy = numpy_results.computed_energies[0]\n",
        "            print(f\"Exact electronic energy: {self.exact_energy:.6f} Hartree\\n\")\n",
        "            # print(numpy_results)\n",
        "\n",
        "def callback(eval_count, parameters, mean, std):  \n",
        "    # Overwrites the same line when printing\n",
        "    display(\"Evaluation: {}, Energy: {}, Std: {}\".format(eval_count, mean, std))\n",
        "    clear_output(wait=True)\n",
        "    counts.append(eval_count)\n",
        "    values.append(mean)\n",
        "    params.append(parameters)\n",
        "    deviation.append(std)\n",
        "\n",
        "def minEnergyResults(result_dict, method):\n",
        "    fig, ax1 = plt.subplots(1, 1)\n",
        "    fig.set_figwidth(12)\n",
        "    fig.set_figheight(9)\n",
        "    color = 'tab:blue'\n",
        "    ax1.set_xlabel('Iterations')\n",
        "    ax1.set_ylabel('Energy')\n",
        "    ax1.plot(range(len(result_dict['min energies'])), result_dict['min energies'])\n",
        "    ax1.axhline(result_dict['exact energy'], linestyle='--')\n",
        "\n",
        "    # ax2 = ax1.twinx() \n",
        "    # color = 'tab:orange'\n",
        "    # ax2.set_ylabel('Time', color=color)\n",
        "    # ax2.bar(range(len(min_energies)), iter_times, color=color, alpha = 0.2, width = 0.2)\n",
        "\n",
        "    if method == 'VQE':\n",
        "        fig_title = f\"\\\n",
        "        {result_dict['setup']['mapping']}-\\\n",
        "        {result_dict['setup']['ansatz']}-\\\n",
        "        {result_dict['setup']['optimizer']}\"\n",
        "        plt.title(method+\" Convergence Plot\\n\"+fig_title)\n",
        "    elif method == 'QCC':\n",
        "        fig_title = f\"\\\n",
        "        {result_dict['setup']['mapping']}-\\\n",
        "        {result_dict['setup']['angle_folds']}-\\\n",
        "        {result_dict['setup']['amplitude_folds']}\"\n",
        "        plt.title(method+\" Convergence Plot\\n\"+fig_title)\n",
        "    elif method == 'XBK':\n",
        "        fig_title = f\"\\\n",
        "        {result_dict['setup']['mapping']}-\\\n",
        "        {result_dict['setup']['r']}\"\n",
        "        plt.title(method+\" Convergence Plot\\n\"+fig_title)\n",
        "\n",
        "    newline = '\\n'\n",
        "    fig.text(0.65, 0.75, f\"\\\n",
        "        Minimum Energy: {result_dict['result energy (Ha)']:.3f}{newline}\\\n",
        "        Runtime: {result_dict['runtime']:.3f}{newline}\\\n",
        "        Number of Iterations: {result_dict['# of evaluations']}\")\n",
        "    \n",
        "    with open('experiments/results.json', 'r') as file:\n",
        "        results = json.load(file)\n",
        "\n",
        "    results.update(result_dict)\n",
        "\n",
        "    with open('experiments/results.json','w') as file:\n",
        "        json.dump(results, file, sort_keys=True, indent=4)\n",
        "\n",
        "problem = Problem(molecule, molecule_name, basis)\n",
        "mol_dict = {'molecule name': problem.molecule_name, 'basis': problem.basis}\n",
        "problem.problemOperators()\n"
      ],
      "metadata": {
        "id": "ilDGLnKXA-hJ",
        "outputId": "97a1dfc2-6dea-454a-8ce3-d38c29ff97d6"
      },
      "execution_count": null,
      "outputs": [
        {
          "output_type": "stream",
          "name": "stdout",
          "text": [
            "Exact electronic energy: -8.908697 Hartree\n\n"
          ]
        }
      ]
    },
    {
      "source": [
        "Set up the IBM Quantum Device backend in cell 7 below. DO not run cell 7 if you would like to use a simulator. Please use your own IBM Quantum authentication API token. You can login/sign up for an IBM Quantum account at https://quantum-computing.ibm.com/"
      ],
      "cell_type": "markdown",
      "metadata": {
        "id": "qvoYC8roOiiC"
      }
    },
    {
      "source": [
        "Run cell 8 below to set up the quantum annealer simulator or device. Uncomment as applicable."
      ],
      "cell_type": "markdown",
      "metadata": {
        "id": "_ZvI2cGDOiiD"
      }
    },
    {
      "cell_type": "code",
      "source": [
        "#@title Cell 8\n",
        "# from neal import SimulatedAnnealingSampler\n",
        "# sampler = SimulatedAnnealingSampler() #uses simulated annealing, see D-Wave's ocean sdk for more options\n",
        "\n",
        "from dwave.system import LeapHybridSampler\n",
        "sampler = LeapHybridSampler()"
      ],
      "metadata": {
        "id": "Jg0NxVjPKYJr"
      },
      "execution_count": null,
      "outputs": []
    },
    {
      "source": [
        "Run cell 9 to get the classical solution for the exact electronic energy, this may not be feasible for large molecules. (Isn't that the point?)"
      ],
      "cell_type": "markdown",
      "metadata": {
        "id": "c-5vB_tiOiiD"
      }
    },
    {
      "cell_type": "code",
      "source": [
        "method = \"VQE\"\n",
        "init_state = HartreeFock(problem.es_problem.num_spin_orbitals, problem.es_problem.num_particles, problem.qubit_converter)\n",
        "\n",
        "## Backend\n",
        "from qiskit import IBMQ\n",
        "IBMQ.save_account('f10a5be117c16a6472c748a25874a94883f6021cf9bfe6f406e015522235a968d8eb0a5812f47160385c72355172371278d3c36e75e23fc7f4d73f1523fcbdf8')\n",
        "provider = IBMQ.load_account()\n",
        "# provider = IBMQ.get_provider(project='qiskit-runtime')  # Change this to your provider.\n",
        "backend = provider.get_backend('ibmq_qasm_simulator')\n",
        "# backend = QasmSimulator()\n",
        "\n",
        "## Ansatz\n",
        "from qiskit.circuit.library import TwoLocal\n",
        "from qiskit_nature.circuit.library import UCCSD, PUCCD, SUCCD\n",
        "\n",
        "ansatz_type = \"UCCSD\"\n",
        "if ansatz_type == \"TwoLocal\":\n",
        "    rotation_blocks = ['ry', 'rz']\n",
        "    entanglement_blocks = 'cx'\n",
        "    entanglement = 'full'\n",
        "    repetitions = 3\n",
        "    skip_final_rotation_layer = True\n",
        "    ansatz = TwoLocal(problem.q_qubit_op.num_qubits, rotation_blocks, entanglement_blocks, reps=repetitions, \n",
        "                      entanglement=entanglement, skip_final_rotation_layer=skip_final_rotation_layer)\n",
        "    ansatz.compose(init_state, front=True, inplace=True)\n",
        "elif ansatz_type == \"UCCSD\":\n",
        "    ansatz = UCCSD(problem.qubit_converter,problem.es_problem.num_particles,problem.es_problem.num_spin_orbitals,initial_state = init_state)\n",
        "elif ansatz_type == \"PUCCD\":\n",
        "    ansatz = PUCCD(problem.qubit_converter,problem.es_problem.num_particles,problem.es_problem.num_spin_orbitals,initial_state = init_state)\n",
        "elif ansatz_type == \"SUCCD\":\n",
        "    ansatz = SUCCD(problem.qubit_converter,problem.es_problem.num_particles,problem.es_problem.num_spin_orbitals,initial_state = init_state)\n",
        "\n",
        "## Optimizer\n",
        "from qiskit.algorithms.optimizers import COBYLA, L_BFGS_B, SPSA, SLSQP\n",
        "\n",
        "optimizer_type = 'COBYLA'\n",
        "if optimizer_type == 'COBYLA':\n",
        "    optimizer = COBYLA(maxiter=500)\n",
        "elif optimizer_type == 'L_BFGS_B':\n",
        "    optimizer = L_BFGS_B(maxfun=500)\n",
        "elif optimizer_type == 'SPSA':\n",
        "    optimizer = SPSA(maxiter=500)\n",
        "elif optimizer_type == 'SLSQP':\n",
        "    optimizer = SLSQP(maxiter=500)\n",
        "\n",
        "#how about freeze core, Z2symmetry reduction and removed orbitals?\n",
        "if ansatz_type == \"TwoLocal\":\n",
        "    param_dict = {\n",
        "        'optimizer': optimizer.__class__.__name__,\n",
        "        'mapping': problem.qubit_converter.mapper.__class__.__name__,\n",
        "        'ansatz': ansatz.__class__.__name__,\n",
        "        'rotation blocks': rotation_blocks,\n",
        "        'entanglement_blocks': entanglement_blocks,\n",
        "        'entanglement': entanglement,\n",
        "        'repetitions': repetitions,\n",
        "        'skip_final_rotation_layer': skip_final_rotation_layer}\n",
        "else:\n",
        "    param_dict = {\n",
        "        'optimizer': optimizer.__class__.__name__,\n",
        "        'mapping': problem.qubit_converter.mapper.__class__.__name__,\n",
        "        'ansatz': ansatz.__class__.__name__,\n",
        "        'rotation blocks': None,\n",
        "        'entanglement_blocks': None,\n",
        "        'entanglement': None,\n",
        "        'repetitions': None,\n",
        "        'skip_final_rotation_layer': None}\n",
        "\n",
        "np.random.seed(5)  # fix seed for reproducibility\n",
        "initial_point = np.random.random(ansatz.num_parameters)\n",
        "\n",
        "iter_times = []\n",
        "counts = []\n",
        "values = []\n",
        "params = []\n",
        "deviation = []\n",
        "\n",
        "algorithm = VQE(ansatz,\n",
        "                optimizer=optimizer,\n",
        "                quantum_instance=backend,\n",
        "                callback=callback,\n",
        "                initial_point=initial_point)\n",
        "\n",
        "result = algorithm.compute_minimum_eigenvalue(problem.q_qubit_op)\n",
        "exact_energy = problem.exact_energy\n",
        "min_energy = np.real(result.eigenvalue)\n",
        "optimal_state = result.eigenstate\n",
        "optimal_point = result.optimal_point\n",
        "percent_accuracy = 100-np.abs(100*(min_energy-exact_energy)/exact_energy)\n",
        "nominal_accuracy = min_energy-exact_energy\n",
        "min_energies = values\n",
        "\n",
        "result_dict = {\n",
        "    'molecule': mol_dict,\n",
        "    'solution_type': method,\n",
        "    'backend': str(backend),\n",
        "    'setup' : param_dict,\n",
        "    'exact energy': problem.exact_energy,\n",
        "    'result energy (Ha)': min_energy,\n",
        "    'error (mHa)': nominal_accuracy,\n",
        "    'error (%)': percent_accuracy,\n",
        "    'final parameters': optimal_point,\n",
        "    '# of evaluations': len(min_energies),\n",
        "    'runtime': result.optimizer_time,\n",
        "    '# of qubits': int(problem.q_qubit_op.num_qubits),\n",
        "    'min energies': min_energies}\n",
        "\n",
        "minEnergyResults(result_dict, method)"
      ],
      "metadata": {
        "colab": {
          "base_uri": "https://localhost:8080/",
          "height": 434
        },
        "id": "P9jmkGYxKoJP",
        "outputId": "6831d7b1-221c-4a39-ab45-f74b6f3ff234"
      },
      "execution_count": null,
      "outputs": [
        {
          "output_type": "display_data",
          "data": {
            "text/plain": "'Evaluation: 42, Energy: -1.8624885042883244, Std: 0.0032008374035100494'",
            "application/vnd.google.colaboratory.intrinsic+json": {
              "type": "string"
            }
          },
          "metadata": {}
        }
      ]
    },
    {
      "cell_type": "code",
      "source": [
        "### QCC method ###\n",
        "#set number of Bloch angle and entangler amplitude foldings\n",
        "method = 'QCC'\n",
        "start_time = time.time()\n",
        "\n",
        "angle_folds = 4\n",
        "amplitude_folds = 1\n",
        "m = count_qubits(problem.of_qubit_op)\n",
        "#create dictionary of QubitOperator entanglers\n",
        "entanglers = {'IYZI': QubitOperator('Y1 Z2'), 'IZYI': QubitOperator('Z1 Y2'),\n",
        "              'IXYI': QubitOperator('X1 Y2'), 'IYXI': QubitOperator('Y1 X2')}\n",
        "\n",
        "param_dict = {\n",
        "    'mapping': problem.qubit_converter.mapper.__class__.__name__,\n",
        "    'angle folds': angle_folds,\n",
        "    'amplitudefolds': amplitude_folds,\n",
        "    'entanglers': entanglers}\n",
        "\n",
        "#run QCC method\n",
        "min_energy, variables, min_energies, iter_times = QCC(problem.of_qubit_op, entanglers, angle_folds, amplitude_folds, sampler, num_cycles=10, num_samples=1000, strength=1e3, verbose=True)\n",
        "\n",
        "exact_energy = problem.exact_energy\n",
        "min_energy = np.real(min_energy)\n",
        "optimal_point = variables\n",
        "percent_accuracy = 100-np.abs(100*(min_energy-exact_energy)/exact_energy)\n",
        "nominal_accuracy = min_energy-exact_energy\n",
        "\n",
        "result_dict = {\n",
        "    'molecule': mol_dict,\n",
        "    'solution_type': method,\n",
        "    'backend': str(sampler),\n",
        "    'setup' : param_dict,\n",
        "    'exact energy': exact_energy,\n",
        "    'result energy (Ha)': min_energy,\n",
        "    'error (mHa)': nominal_accuracy,\n",
        "    'error (%)': percent_accuracy,\n",
        "    'final parameters': optimal_point,\n",
        "    '# of evaluations': len(min_energies),\n",
        "    'runtime': sum(iter_times),\n",
        "    '# of qubits': m,\n",
        "    'min energies': min_energies}\n",
        "\n",
        "minEnergyResults(result_dict, method)"
      ],
      "metadata": {
        "colab": {
          "base_uri": "https://localhost:8080/",
          "height": 1000
        },
        "id": "1poweDd1Kqj8",
        "outputId": "8e787868-5d9e-4c9d-c438-8d77c2b0176d",
        "tags": []
      },
      "execution_count": null,
      "outputs": [
        {
          "output_type": "stream",
          "name": "stdout",
          "text": [
            "-0.819476273820261 + 0.173455876425147*Z0*cos(the0) - 0.222425691975333*Z1*cos(the1) + 0.173455876425147*Z2*cos(the2) - 0.222425691975333*Z3*cos(the3) + (1 - cos(tau0))*(0.222425691975333*Z1*cos(the1) - 0.120779207929492*Z1*Z0*cos(the1)*cos(the0) - 0.166139664061611*Z2*Z1*cos(the1)*cos(the2) - 0.174855520523933*Z3*Z1*cos(the1)*cos(the3) - 0.0453604561321193*Q0*Q1*sin(the1)*sin(the2)*sin(the3)*sin(the0)*sin(phi1)*sin(phi0)*cos(phi3)*cos(phi2) - 0.0453604561321193*Q0*Q3*Q1*Q2*sin(the1)*sin(the2)*sin(the3)*sin(the0)*sin(phi3)*sin(phi1)*sin(phi0)*sin(phi2)) + (1 - cos(tau1))*(-0.173455876425147*Z2*cos(the2) - 0.168722640414494*Z2*Z0*cos(the0)*cos(the2) - 0.166139664061611*Z2*Z1*cos(the1)*cos(the2) - 0.120779207929492*Z3*Z2*cos(the3)*cos(the2) - 0.0453604561321193*Q3*Q2*sin(the1)*sin(the2)*sin(the3)*sin(the0)*sin(phi3)*cos(phi0)*sin(phi2)*cos(phi1) - 0.0453604561321193*Q0*Q3*Q1*Q2*sin(the1)*sin(the2)*sin(the3)*sin(the0)*sin(phi3)*sin(phi1)*sin(phi0)*sin(phi2)) + (1 - cos(tau2))*(0.222425691975333*Z1*cos(the1) - 0.173455876425147*Z2*cos(the2) - 0.120779207929492*Z1*Z0*cos(the1)*cos(the0) - 0.168722640414494*Z2*Z0*cos(the0)*cos(the2) - 0.174855520523933*Z3*Z1*cos(the1)*cos(the3) - 0.120779207929492*Z3*Z2*cos(the3)*cos(the2) - 0.0453604561321193*sin(the1)*sin(the2)*sin(the3)*sin(the0)*cos(phi3)*cos(phi0)*cos(phi1)*cos(phi2) - 0.0453604561321193*Q0*Q3*Q1*Q2*sin(the1)*sin(the2)*sin(the3)*sin(the0)*sin(phi3)*sin(phi1)*sin(phi0)*sin(phi2)) + (1 - cos(tau3))*(0.222425691975333*Z1*cos(the1) - 0.173455876425147*Z2*cos(the2) - 0.120779207929492*Z1*Z0*cos(the1)*cos(the0) - 0.168722640414494*Z2*Z0*cos(the0)*cos(the2) - 0.174855520523933*Z3*Z1*cos(the1)*cos(the3) - 0.120779207929492*Z3*Z2*cos(the3)*cos(the2) - 0.0453604561321193*sin(the1)*sin(the2)*sin(the3)*sin(the0)*cos(phi3)*cos(phi0)*cos(phi1)*cos(phi2) - 0.0453604561321193*Q0*Q3*Q1*Q2*sin(the1)*sin(the2)*sin(the3)*sin(the0)*sin(phi3)*sin(phi1)*sin(phi0)*sin(phi2)) + F0*sin(tau0)*(-0.166139664061611*sin(the1)*cos(phi1) + 0.222425691975333*Z2*sin(the1)*cos(the2)*cos(phi1) - 0.120779207929492*Z2*Z0*sin(the1)*cos(the0)*cos(the2)*cos(phi1) - 0.174855520523933*Z3*Z2*sin(the1)*cos(the3)*cos(the2)*cos(phi1) - 0.0453604561321193*Q0*Q2*sin(the2)*sin(the3)*sin(the0)*sin(phi0)*cos(phi3)*sin(phi2) + 0.0453604561321193*Q0*Q3*sin(the2)*sin(the3)*sin(the0)*sin(phi3)*sin(phi0)*cos(phi2)) + F1*sin(tau1)*(-0.166139664061611*sin(the2)*cos(phi2) - 0.173455876425147*Z1*sin(the2)*cos(the1)*cos(phi2) - 0.168722640414494*Z1*Z0*sin(the2)*cos(the1)*cos(the0)*cos(phi2) - 0.120779207929492*Z3*Z1*sin(the2)*cos(the1)*cos(the3)*cos(phi2) + 0.0453604561321193*Q0*Q3*sin(the1)*sin(the3)*sin(the0)*sin(phi3)*sin(phi0)*cos(phi1) - 0.0453604561321193*Q3*Q1*sin(the1)*sin(the3)*sin(the0)*sin(phi3)*sin(phi1)*cos(phi0)) + F2*sin(tau2)*(-0.173455876425147*sin(the1)*sin(the2)*cos(phi1)*cos(phi2) - 0.222425691975333*Q1*Q2*sin(the1)*sin(the2)*sin(phi1)*sin(phi2) - 0.168722640414494*Z0*sin(the1)*sin(the2)*cos(the0)*cos(phi1)*cos(phi2) + 0.0453604561321193*Z2*sin(the3)*sin(the0)*cos(the2)*cos(phi3)*cos(phi0) - 0.120779207929492*Z3*sin(the1)*sin(the2)*cos(the3)*cos(phi1)*cos(phi2) - 0.0453604561321193*Q0*Q3*Z1*sin(the3)*sin(the0)*cos(the1)*sin(phi3)*sin(phi0) + 0.120779207929492*Q1*Q2*Z0*sin(the1)*sin(the2)*cos(the0)*sin(phi1)*sin(phi2) + 0.174855520523933*Q1*Q2*Z3*sin(the1)*sin(the2)*cos(the3)*sin(phi1)*sin(phi2)) + F3*sin(tau3)*(0.222425691975333*sin(the1)*sin(the2)*cos(phi1)*cos(phi2) + 0.173455876425147*Q1*Q2*sin(the1)*sin(the2)*sin(phi1)*sin(phi2) - 0.120779207929492*Z0*sin(the1)*sin(the2)*cos(the0)*cos(phi1)*cos(phi2) + 0.0453604561321193*Z1*sin(the3)*sin(the0)*cos(the1)*cos(phi3)*cos(phi0) - 0.174855520523933*Z3*sin(the1)*sin(the2)*cos(the3)*cos(phi1)*cos(phi2) - 0.0453604561321193*Q0*Q3*Z2*sin(the3)*sin(the0)*cos(the2)*sin(phi3)*sin(phi0) + 0.168722640414494*Q1*Q2*Z0*sin(the1)*sin(the2)*cos(the0)*sin(phi1)*sin(phi2) + 0.120779207929492*Q1*Q2*Z3*sin(the1)*sin(the2)*cos(the3)*sin(phi1)*sin(phi2)) + (1 - cos(tau0))*(1 - cos(tau3))*(-0.222425691975333*Z1*cos(the1) + 0.120779207929492*Z1*Z0*cos(the1)*cos(the0) + 0.174855520523933*Z3*Z1*cos(the1)*cos(the3) + 0.0453604561321193*Q0*Q3*Q1*Q2*sin(the1)*sin(the2)*sin(the3)*sin(the0)*sin(phi3)*sin(phi1)*sin(phi0)*sin(phi2)) + (1 - cos(tau1))*(1 - cos(tau0))*(0.166139664061611*Z2*Z1*cos(the1)*cos(the2) + 0.0453604561321193*Q0*Q3*Q1*Q2*sin(the1)*sin(the2)*sin(the3)*sin(the0)*sin(phi3)*sin(phi1)*sin(phi0)*sin(phi2)) + (1 - cos(tau1))*(1 - cos(tau3))*(0.173455876425147*Z2*cos(the2) + 0.168722640414494*Z2*Z0*cos(the0)*cos(the2) + 0.120779207929492*Z3*Z2*cos(the3)*cos(the2) + 0.0453604561321193*Q0*Q3*Q1*Q2*sin(the1)*sin(the2)*sin(the3)*sin(the0)*sin(phi3)*sin(phi1)*sin(phi0)*sin(phi2)) + (1 - cos(tau2))*(1 - cos(tau0))*(-0.222425691975333*Z1*cos(the1) + 0.120779207929492*Z1*Z0*cos(the1)*cos(the0) + 0.174855520523933*Z3*Z1*cos(the1)*cos(the3) + 0.0453604561321193*Q0*Q3*Q1*Q2*sin(the1)*sin(the2)*sin(the3)*sin(the0)*sin(phi3)*sin(phi1)*sin(phi0)*sin(phi2)) + (1 - cos(tau2))*(1 - cos(tau1))*(0.173455876425147*Z2*cos(the2) + 0.168722640414494*Z2*Z0*cos(the0)*cos(the2) + 0.120779207929492*Z3*Z2*cos(the3)*cos(the2) + 0.0453604561321193*Q0*Q3*Q1*Q2*sin(the1)*sin(the2)*sin(the3)*sin(the0)*sin(phi3)*sin(phi1)*sin(phi0)*sin(phi2)) + (1 - cos(tau2))*(1 - cos(tau3))*(-0.222425691975333*Z1*cos(the1) + 0.173455876425147*Z2*cos(the2) + 0.120779207929492*Z1*Z0*cos(the1)*cos(the0) + 0.168722640414494*Z2*Z0*cos(the0)*cos(the2) + 0.174855520523933*Z3*Z1*cos(the1)*cos(the3) + 0.120779207929492*Z3*Z2*cos(the3)*cos(the2) + 0.0453604561321193*sin(the1)*sin(the2)*sin(the3)*sin(the0)*cos(phi3)*cos(phi0)*cos(phi1)*cos(phi2) + 0.0453604561321193*Q0*Q3*Q1*Q2*sin(the1)*sin(the2)*sin(the3)*sin(the0)*sin(phi3)*sin(phi1)*sin(phi0)*sin(phi2)) + F0*sin(tau0)*(1 - cos(tau1))*(0.166139664061611*sin(the1)*cos(phi1) - 0.0453604561321193*Q0*Q3*sin(the2)*sin(the3)*sin(the0)*sin(phi3)*sin(phi0)*cos(phi2)) + F0*sin(tau0)*(1 - cos(tau2))*(-0.222425691975333*Z2*sin(the1)*cos(the2)*cos(phi1) + 0.120779207929492*Z2*Z0*sin(the1)*cos(the0)*cos(the2)*cos(phi1) + 0.174855520523933*Z3*Z2*sin(the1)*cos(the3)*cos(the2)*cos(phi1) - 0.0453604561321193*Q0*Q3*sin(the2)*sin(the3)*sin(the0)*sin(phi3)*sin(phi0)*cos(phi2)) + F0*sin(tau0)*(1 - cos(tau3))*(0.166139664061611*sin(the1)*cos(phi1) + 0.0453604561321193*Q0*Q2*sin(the2)*sin(the3)*sin(the0)*sin(phi0)*cos(phi3)*sin(phi2)) + F1*sin(tau1)*(1 - cos(tau0))*(0.166139664061611*sin(the2)*cos(phi2) - 0.0453604561321193*Q0*Q3*sin(the1)*sin(the3)*sin(the0)*sin(phi3)*sin(phi0)*cos(phi1)) + F1*sin(tau1)*(1 - cos(tau2))*(0.166139664061611*sin(the2)*cos(phi2) + 0.0453604561321193*Q3*Q1*sin(the1)*sin(the3)*sin(the0)*sin(phi3)*sin(phi1)*cos(phi0)) + F1*sin(tau1)*(1 - cos(tau3))*(0.173455876425147*Z1*sin(the2)*cos(the1)*cos(phi2) + 0.168722640414494*Z1*Z0*sin(the2)*cos(the1)*cos(the0)*cos(phi2) + 0.120779207929492*Z3*Z1*sin(the2)*cos(the1)*cos(the3)*cos(phi2) - 0.0453604561321193*Q0*Q3*sin(the1)*sin(the3)*sin(the0)*sin(phi3)*sin(phi0)*cos(phi1)) + F2*sin(tau2)*(1 - cos(tau0))*(0.222425691975333*Q1*Q2*sin(the1)*sin(the2)*sin(phi1)*sin(phi2) + 0.0453604561321193*Q0*Q3*Z1*sin(the3)*sin(the0)*cos(the1)*sin(phi3)*sin(phi0) - 0.120779207929492*Q1*Q2*Z0*sin(the1)*sin(the2)*cos(the0)*sin(phi1)*sin(phi2) - 0.174855520523933*Q1*Q2*Z3*sin(the1)*sin(the2)*cos(the3)*sin(phi1)*sin(phi2)) + F2*sin(tau2)*(1 - cos(tau1))*(0.173455876425147*sin(the1)*sin(the2)*cos(phi1)*cos(phi2) + 0.168722640414494*Z0*sin(the1)*sin(the2)*cos(the0)*cos(phi1)*cos(phi2) + 0.120779207929492*Z3*sin(the1)*sin(the2)*cos(the3)*cos(phi1)*cos(phi2) + 0.0453604561321193*Q0*Q3*Z1*sin(the3)*sin(the0)*cos(the1)*sin(phi3)*sin(phi0)) + F2*sin(tau2)*(1 - cos(tau3))*(0.173455876425147*sin(the1)*sin(the2)*cos(phi1)*cos(phi2) + 0.222425691975333*Q1*Q2*sin(the1)*sin(the2)*sin(phi1)*sin(phi2) + 0.168722640414494*Z0*sin(the1)*sin(the2)*cos(the0)*cos(phi1)*cos(phi2) - 0.0453604561321193*Z2*sin(the3)*sin(the0)*cos(the2)*cos(phi3)*cos(phi0) + 0.120779207929492*Z3*sin(the1)*sin(the2)*cos(the3)*cos(phi1)*cos(phi2) + 0.0453604561321193*Q0*Q3*Z1*sin(the3)*sin(the0)*cos(the1)*sin(phi3)*sin(phi0) - 0.120779207929492*Q1*Q2*Z0*sin(the1)*sin(the2)*cos(the0)*sin(phi1)*sin(phi2) - 0.174855520523933*Q1*Q2*Z3*sin(the1)*sin(the2)*cos(the3)*sin(phi1)*sin(phi2)) + F3*sin(tau3)*(1 - cos(tau0))*(-0.222425691975333*sin(the1)*sin(the2)*cos(phi1)*cos(phi2) + 0.120779207929492*Z0*sin(the1)*sin(the2)*cos(the0)*cos(phi1)*cos(phi2) + 0.174855520523933*Z3*sin(the1)*sin(the2)*cos(the3)*cos(phi1)*cos(phi2) + 0.0453604561321193*Q0*Q3*Z2*sin(the3)*sin(the0)*cos(the2)*sin(phi3)*sin(phi0)) + F3*sin(tau3)*(1 - cos(tau1))*(-0.173455876425147*Q1*Q2*sin(the1)*sin(the2)*sin(phi1)*sin(phi2) + 0.0453604561321193*Q0*Q3*Z2*sin(the3)*sin(the0)*cos(the2)*sin(phi3)*sin(phi0) - 0.168722640414494*Q1*Q2*Z0*sin(the1)*sin(the2)*cos(the0)*sin(phi1)*sin(phi2) - 0.120779207929492*Q1*Q2*Z3*sin(the1)*sin(the2)*cos(the3)*sin(phi1)*sin(phi2)) + F3*sin(tau3)*(1 - cos(tau2))*(-0.222425691975333*sin(the1)*sin(the2)*cos(phi1)*cos(phi2) - 0.173455876425147*Q1*Q2*sin(the1)*sin(the2)*sin(phi1)*sin(phi2) + 0.120779207929492*Z0*sin(the1)*sin(the2)*cos(the0)*cos(phi1)*cos(phi2) - 0.0453604561321193*Z1*sin(the3)*sin(the0)*cos(the1)*cos(phi3)*cos(phi0) + 0.174855520523933*Z3*sin(the1)*sin(the2)*cos(the3)*cos(phi1)*cos(phi2) + 0.0453604561321193*Q0*Q3*Z2*sin(the3)*sin(the0)*cos(the2)*sin(phi3)*sin(phi0) - 0.168722640414494*Q1*Q2*Z0*sin(the1)*sin(the2)*cos(the0)*sin(phi1)*sin(phi2) - 0.120779207929492*Q1*Q2*Z3*sin(the1)*sin(the2)*cos(the3)*sin(phi1)*sin(phi2)) + 0.120779207929492*Z1*Z0*cos(the1)*cos(the0) + 0.168722640414494*Z2*Z0*cos(the0)*cos(the2) + 0.166139664061611*Z2*Z1*cos(the1)*cos(the2) + 0.166139664061611*Z3*Z0*cos(the0)*cos(the3) + 0.174855520523933*Z3*Z1*cos(the1)*cos(the3) + 0.120779207929492*Z3*Z2*cos(the3)*cos(the2) + (1 - cos(tau2))*(1 - cos(tau0))*(1 - cos(tau3))*(0.222425691975333*Z1*cos(the1) - 0.120779207929492*Z1*Z0*cos(the1)*cos(the0) - 0.174855520523933*Z3*Z1*cos(the1)*cos(the3) - 0.0453604561321193*Q0*Q3*Q1*Q2*sin(the1)*sin(the2)*sin(the3)*sin(the0)*sin(phi3)*sin(phi1)*sin(phi0)*sin(phi2)) + (1 - cos(tau2))*(1 - cos(tau1))*(1 - cos(tau3))*(-0.173455876425147*Z2*cos(the2) - 0.168722640414494*Z2*Z0*cos(the0)*cos(the2) - 0.120779207929492*Z3*Z2*cos(the3)*cos(the2) - 0.0453604561321193*Q0*Q3*Q1*Q2*sin(the1)*sin(the2)*sin(the3)*sin(the0)*sin(phi3)*sin(phi1)*sin(phi0)*sin(phi2)) + F1*F0*sin(tau1)*sin(tau0)*(0.166139664061611*Q1*Q2*sin(the1)*sin(the2)*sin(phi1)*sin(phi2) + 0.0453604561321193*Q0*Q3*Z2*Z1*sin(the3)*sin(the0)*cos(the1)*cos(the2)*sin(phi3)*sin(phi0)) + F2*F0*sin(tau2)*sin(tau0)*(-0.222425691975333*sin(the2)*cos(phi2) + 0.120779207929492*Z0*sin(the2)*cos(the0)*cos(phi2) + 0.174855520523933*Z3*sin(the2)*cos(the3)*cos(phi2) + 0.0453604561321193*Q0*Q3*Z2*sin(the1)*sin(the3)*sin(the0)*cos(the2)*sin(phi3)*sin(phi0)*cos(phi1)) + F2*F1*sin(tau2)*sin(tau1)*(-0.166139664061611*Z2*sin(the1)*cos(the2)*cos(phi1) + 0.0453604561321193*Q3*Q2*Z1*sin(the2)*sin(the3)*sin(the0)*cos(the1)*sin(phi3)*cos(phi0)*sin(phi2)) + F2*sin(tau2)*(1 - cos(tau0))*(1 - cos(tau3))*(-0.222425691975333*Q1*Q2*sin(the1)*sin(the2)*sin(phi1)*sin(phi2) - 0.0453604561321193*Q0*Q3*Z1*sin(the3)*sin(the0)*cos(the1)*sin(phi3)*sin(phi0) + 0.120779207929492*Q1*Q2*Z0*sin(the1)*sin(the2)*cos(the0)*sin(phi1)*sin(phi2) + 0.174855520523933*Q1*Q2*Z3*sin(the1)*sin(the2)*cos(the3)*sin(phi1)*sin(phi2)) + F2*sin(tau2)*(1 - cos(tau1))*(1 - cos(tau3))*(-0.173455876425147*sin(the1)*sin(the2)*cos(phi1)*cos(phi2) - 0.168722640414494*Z0*sin(the1)*sin(the2)*cos(the0)*cos(phi1)*cos(phi2) - 0.120779207929492*Z3*sin(the1)*sin(the2)*cos(the3)*cos(phi1)*cos(phi2) - 0.0453604561321193*Q0*Q3*Z1*sin(the3)*sin(the0)*cos(the1)*sin(phi3)*sin(phi0)) + F3*F0*sin(tau3)*sin(tau0)*(-0.166139664061611*Z1*sin(the2)*cos(the1)*cos(phi2) + 0.0453604561321193*Q0*Q1*Z2*sin(the1)*sin(the3)*sin(the0)*cos(the2)*sin(phi1)*sin(phi0)*cos(phi3)) + F3*F1*sin(tau3)*sin(tau1)*(0.173455876425147*sin(the1)*cos(phi1) + 0.168722640414494*Z0*sin(the1)*cos(the0)*cos(phi1) + 0.120779207929492*Z3*sin(the1)*cos(the3)*cos(phi1) + 0.0453604561321193*Q0*Q3*Z1*sin(the2)*sin(the3)*sin(the0)*cos(the1)*sin(phi3)*sin(phi0)*cos(phi2)) + F3*F2*sin(tau3)*sin(tau2)*(-0.173455876425147*Z1*cos(the1) + 0.222425691975333*Z2*cos(the2) - 0.168722640414494*Z1*Z0*cos(the1)*cos(the0) - 0.120779207929492*Z2*Z0*cos(the0)*cos(the2) - 0.120779207929492*Z3*Z1*cos(the1)*cos(the3) - 0.174855520523933*Z3*Z2*cos(the3)*cos(the2) + 0.0453604561321193*Q0*Q3*sin(the1)*sin(the2)*sin(the3)*sin(the0)*sin(phi3)*sin(phi0)*cos(phi1)*cos(phi2) + 0.0453604561321193*Q1*Q2*sin(the1)*sin(the2)*sin(the3)*sin(the0)*sin(phi1)*cos(phi3)*cos(phi0)*sin(phi2)) + F3*sin(tau3)*(1 - cos(tau2))*(1 - cos(tau0))*(0.222425691975333*sin(the1)*sin(the2)*cos(phi1)*cos(phi2) - 0.120779207929492*Z0*sin(the1)*sin(the2)*cos(the0)*cos(phi1)*cos(phi2) - 0.174855520523933*Z3*sin(the1)*sin(the2)*cos(the3)*cos(phi1)*cos(phi2) - 0.0453604561321193*Q0*Q3*Z2*sin(the3)*sin(the0)*cos(the2)*sin(phi3)*sin(phi0)) + F3*sin(tau3)*(1 - cos(tau2))*(1 - cos(tau1))*(0.173455876425147*Q1*Q2*sin(the1)*sin(the2)*sin(phi1)*sin(phi2) - 0.0453604561321193*Q0*Q3*Z2*sin(the3)*sin(the0)*cos(the2)*sin(phi3)*sin(phi0) + 0.168722640414494*Q1*Q2*Z0*sin(the1)*sin(the2)*cos(the0)*sin(phi1)*sin(phi2) + 0.120779207929492*Q1*Q2*Z3*sin(the1)*sin(the2)*cos(the3)*sin(phi1)*sin(phi2)) - 0.166139664061611*F0*sin(tau0)*sin(the1)*cos(phi1)*(1 - cos(tau1))*(1 - cos(tau3)) - 0.166139664061611*F1*sin(tau1)*sin(the2)*cos(phi2)*(1 - cos(tau2))*(1 - cos(tau0)) + F3*F2*sin(tau3)*sin(tau2)*(1 - cos(tau0))*(-0.222425691975333*Z2*cos(the2) + 0.120779207929492*Z2*Z0*cos(the0)*cos(the2) + 0.174855520523933*Z3*Z2*cos(the3)*cos(the2) - 0.0453604561321193*Q0*Q3*sin(the1)*sin(the2)*sin(the3)*sin(the0)*sin(phi3)*sin(phi0)*cos(phi1)*cos(phi2)) + F3*F2*sin(tau3)*sin(tau2)*(1 - cos(tau1))*(0.173455876425147*Z1*cos(the1) + 0.168722640414494*Z1*Z0*cos(the1)*cos(the0) + 0.120779207929492*Z3*Z1*cos(the1)*cos(the3) - 0.0453604561321193*Q0*Q3*sin(the1)*sin(the2)*sin(the3)*sin(the0)*sin(phi3)*sin(phi0)*cos(phi1)*cos(phi2)) - 0.166139664061611*F2*F1*F0*Z1*sin(tau2)*sin(tau1)*sin(tau0)*cos(the1) - 0.166139664061611*F3*F1*F0*Z2*sin(tau3)*sin(tau1)*sin(tau0)*cos(the2) + 0.0453604561321193*sin(the1)*sin(the2)*sin(the3)*sin(the0)*cos(phi3)*cos(phi0)*cos(phi1)*cos(phi2) + 0.166139664061611*F2*F1*F0*Z1*sin(tau2)*sin(tau1)*sin(tau0)*cos(the1)*(1 - cos(tau3)) + 0.166139664061611*F2*F1*Z2*sin(tau2)*sin(tau1)*sin(the1)*cos(the2)*cos(phi1)*(1 - cos(tau0)) + 0.166139664061611*F3*F0*Z1*sin(tau3)*sin(tau0)*sin(the2)*cos(the1)*cos(phi2)*(1 - cos(tau1)) + 0.166139664061611*F3*F1*F0*Z2*sin(tau3)*sin(tau1)*sin(tau0)*cos(the2)*(1 - cos(tau2)) + 0.0453604561321193*Q0*Q1*sin(the1)*sin(the2)*sin(the3)*sin(the0)*sin(phi1)*sin(phi0)*cos(phi3)*cos(phi2) + 0.0453604561321193*Q3*Q2*sin(the1)*sin(the2)*sin(the3)*sin(the0)*sin(phi3)*cos(phi0)*sin(phi2)*cos(phi1) - 0.166139664061611*Q1*Q2*F1*F0*sin(tau1)*sin(tau0)*sin(the1)*sin(the2)*sin(phi1)*sin(phi2)*(1 - cos(tau2)) - 0.166139664061611*Q1*Q2*F1*F0*sin(tau1)*sin(tau0)*sin(the1)*sin(the2)*sin(phi1)*sin(phi2)*(1 - cos(tau3)) + 0.166139664061611*F3*F2*F1*F0*sin(tau3)*sin(tau2)*sin(tau1)*sin(tau0)*sin(the1)*sin(the2)*cos(phi1)*cos(phi2) + 0.0453604561321193*Q0*Q3*F0*sin(tau0)*sin(the2)*sin(the3)*sin(the0)*sin(phi3)*sin(phi0)*cos(phi2)*(1 - cos(tau2))*(1 - cos(tau1)) + 0.0453604561321193*Q0*Q3*F1*sin(tau1)*sin(the1)*sin(the3)*sin(the0)*sin(phi3)*sin(phi0)*cos(phi1)*(1 - cos(tau0))*(1 - cos(tau3)) - 0.0453604561321193*Q0*Q3*F2*Z1*sin(tau2)*sin(the3)*sin(the0)*cos(the1)*sin(phi3)*sin(phi0)*(1 - cos(tau1))*(1 - cos(tau0)) - 0.0453604561321193*Q0*Q3*F3*Z2*sin(tau3)*sin(the3)*sin(the0)*cos(the2)*sin(phi3)*sin(phi0)*(1 - cos(tau1))*(1 - cos(tau0)) + 0.0453604561321193*Q0*Q3*Q1*Q2*sin(the1)*sin(the2)*sin(the3)*sin(the0)*sin(phi3)*sin(phi1)*sin(phi0)*sin(phi2) + 0.166139664061611*Q1*Q2*F1*F0*sin(tau1)*sin(tau0)*sin(the1)*sin(the2)*sin(phi1)*sin(phi2)*(1 - cos(tau2))*(1 - cos(tau3)) + 0.0453604561321193*Q0*Q3*F2*Z1*sin(tau2)*sin(the3)*sin(the0)*cos(the1)*sin(phi3)*sin(phi0)*(1 - cos(tau1))*(1 - cos(tau0))*(1 - cos(tau3)) + 0.0453604561321193*Q0*Q3*F3*Z2*sin(tau3)*sin(the3)*sin(the0)*cos(the2)*sin(phi3)*sin(phi0)*(1 - cos(tau2))*(1 - cos(tau1))*(1 - cos(tau0)) - 0.0453604561321193*Q0*Q3*F2*F0*Z2*sin(tau2)*sin(tau0)*sin(the1)*sin(the3)*sin(the0)*cos(the2)*sin(phi3)*sin(phi0)*cos(phi1)*(1 - cos(tau1)) - 0.0453604561321193*Q0*Q3*F3*F1*Z1*sin(tau3)*sin(tau1)*sin(the2)*sin(the3)*sin(the0)*cos(the1)*sin(phi3)*sin(phi0)*cos(phi2)*(1 - cos(tau0)) - 0.0453604561321193*Q0*Q3*Q1*Q2*sin(the1)*sin(the2)*sin(the3)*sin(the0)*sin(phi3)*sin(phi1)*sin(phi0)*sin(phi2)*(1 - cos(tau1))*(1 - cos(tau0))*(1 - cos(tau3)) - 0.0453604561321193*Q0*Q3*Q1*Q2*sin(the1)*sin(the2)*sin(the3)*sin(the0)*sin(phi3)*sin(phi1)*sin(phi0)*sin(phi2)*(1 - cos(tau2))*(1 - cos(tau1))*(1 - cos(tau0)) + 0.0453604561321193*Q0*Q3*F3*F2*sin(tau3)*sin(tau2)*sin(the1)*sin(the2)*sin(the3)*sin(the0)*sin(phi3)*sin(phi0)*cos(phi1)*cos(phi2)*(1 - cos(tau1))*(1 - cos(tau0)) + 0.0453604561321193*Q0*Q3*Q1*Q2*sin(the1)*sin(the2)*sin(the3)*sin(the0)*sin(phi3)*sin(phi1)*sin(phi0)*sin(phi2)*(1 - cos(tau2))*(1 - cos(tau1))*(1 - cos(tau0))*(1 - cos(tau3))\n"
          ]
        },
        {
          "output_type": "error",
          "ename": "TypeError",
          "evalue": "expected input vartype to be one of: Vartype.SPIN, 'SPIN', {-1, 1}, Vartype.BINARY, 'BINARY', or {0, 1}; received {(F2, F3): 2000.0, ('F3*F2', F3): 2000.0, ('F3*F2', F2): 2000.0, ('auxF3,F2', F3): 4000.0, ('auxF3,F2', F2): 4000.0, ('auxF3,F2', 'F3*F2'): 4000.0, (Z1, F3): -4.535179070861307e-18, (Z1, 'F3*F2'): 2000.0, ('Z1*F3*F2', 'F3*F2'): 2000.0, ('Z1*F3*F2', Z1): 2000.0, ('auxZ1,F3*F2', 'F3*F2'): 4000.0, ('auxZ1,F3*F2', Z1): 4000.0, ('auxZ1,F3*F2', 'Z1*F3*F2'): 4000.0, (Z2, F2): -2.7769962663451836e-34, (Z2, 'F3*F2'): 2000.0, (Z2, Z1): 4.0076655258636196e-24, ('Z2*F3*F2', 'F3*F2'): 2000.0, ('Z2*F3*F2', Z2): 2000.0, ('auxZ2,F3*F2', 'F3*F2'): 4000.0, ('auxZ2,F3*F2', Z2): 4000.0, ('auxZ2,F3*F2', 'Z2*F3*F2'): 4000.0, (F1, Z1): 2000.6938235057005, ('Z1*F1', Z1): 2000.0, ('Z1*F1', F1): 2000.0, ('auxZ1,F1', Z1): 4000.0, ('auxZ1,F1', F1): 4000.0, ('auxZ1,F1', 'Z1*F1'): 4000.0, (Z0, Z1): 2.958237407888099e-17, (Z0, 'Z1*F3*F2'): -6.103981476569903e-56, (Z0, Z2): 2.4921395617809655e-40, (Z0, 'Z2*F3*F2'): -2.7166618503134963e-65, (Z0, 'Z1*F1'): 4.1325128305459765e-17, (Z3, Z1): 4.282725070457585e-17, (Z3, 'Z1*F3*F2'): -4.369502787464167e-56, (Z3, Z2): 1.7839848949889847e-40, (Z3, 'Z2*F3*F2'): -3.932989212856783e-65, (Z3, 'Z1*F1'): 2.9582374078880847e-17, (Z3, Z0): 2.4916958646455615e-33, (F3, F3): -5000.0, (F2, F2): -5000.0, ('F3*F2', 'F3*F2'): -15000.0, ('auxF3,F2', 'auxF3,F2'): -8000.0, (Z1, Z1): -10000.7917631368, ('Z1*F3*F2', 'Z1*F3*F2'): -5000.0, ('auxZ1,F3*F2', 'auxZ1,F3*F2'): -8000.0, (Z2, Z2): -5000.0, ('Z2*F3*F2', 'Z2*F3*F2'): -5000.0, ('auxZ2,F3*F2', 'auxZ2,F3*F2'): -8000.0, (F1, F1): -5000.014632424727, ('Z1*F1', 'Z1*F1'): -5000.0, ('auxZ1,F1', 'auxZ1,F1'): -8000.0, (Z0, Z0): -1.4211532806434888e-17, (Z3, Z3): -6.344410356430101e-17}.",
          "traceback": [
            "\u001b[0;31m---------------------------------------------------------------------------\u001b[0m",
            "\u001b[0;31mTypeError\u001b[0m                                 Traceback (most recent call last)",
            "\u001b[0;32m<ipython-input-6-58fae7cf2dbf>\u001b[0m in \u001b[0;36m<module>\u001b[0;34m()\u001b[0m\n\u001b[1;32m     18\u001b[0m \u001b[0;34m\u001b[0m\u001b[0m\n\u001b[1;32m     19\u001b[0m \u001b[0;31m#run QCC method\u001b[0m\u001b[0;34m\u001b[0m\u001b[0;34m\u001b[0m\u001b[0;34m\u001b[0m\u001b[0m\n\u001b[0;32m---> 20\u001b[0;31m \u001b[0mmin_energy\u001b[0m\u001b[0;34m,\u001b[0m \u001b[0mvariables\u001b[0m\u001b[0;34m,\u001b[0m \u001b[0mmin_energies\u001b[0m\u001b[0;34m,\u001b[0m \u001b[0miter_times\u001b[0m \u001b[0;34m=\u001b[0m \u001b[0mQCC\u001b[0m\u001b[0;34m(\u001b[0m\u001b[0mproblem\u001b[0m\u001b[0;34m.\u001b[0m\u001b[0mof_qubit_op\u001b[0m\u001b[0;34m,\u001b[0m \u001b[0mentanglers\u001b[0m\u001b[0;34m,\u001b[0m \u001b[0mangle_folds\u001b[0m\u001b[0;34m,\u001b[0m \u001b[0mamplitude_folds\u001b[0m\u001b[0;34m,\u001b[0m \u001b[0msampler\u001b[0m\u001b[0;34m,\u001b[0m \u001b[0mnum_cycles\u001b[0m\u001b[0;34m=\u001b[0m\u001b[0;36m10\u001b[0m\u001b[0;34m,\u001b[0m \u001b[0mnum_samples\u001b[0m\u001b[0;34m=\u001b[0m\u001b[0;36m1000\u001b[0m\u001b[0;34m,\u001b[0m \u001b[0mstrength\u001b[0m\u001b[0;34m=\u001b[0m\u001b[0;36m1e3\u001b[0m\u001b[0;34m,\u001b[0m \u001b[0mverbose\u001b[0m\u001b[0;34m=\u001b[0m\u001b[0;32mTrue\u001b[0m\u001b[0;34m)\u001b[0m\u001b[0;34m\u001b[0m\u001b[0;34m\u001b[0m\u001b[0m\n\u001b[0m\u001b[1;32m     21\u001b[0m \u001b[0;34m\u001b[0m\u001b[0m\n\u001b[1;32m     22\u001b[0m \u001b[0mexact_energy\u001b[0m \u001b[0;34m=\u001b[0m \u001b[0mproblem\u001b[0m\u001b[0;34m.\u001b[0m\u001b[0mexact_energy\u001b[0m\u001b[0;34m\u001b[0m\u001b[0;34m\u001b[0m\u001b[0m\n",
            "\u001b[0;32m/root/QOSF-2021-Cohort-4-Hydra/QCC_method.py\u001b[0m in \u001b[0;36mQCC\u001b[0;34m(qubit_H, entanglers, angle_folds, amplitude_folds, sampler, num_cycles, num_samples, strength, verbose)\u001b[0m\n\u001b[1;32m    209\u001b[0m     \u001b[0;31m#minimize QCC expression\u001b[0m\u001b[0;34m\u001b[0m\u001b[0;34m\u001b[0m\u001b[0;34m\u001b[0m\u001b[0m\n\u001b[1;32m    210\u001b[0m     QCC_energy, cont_dict, disc_dict, min_energies, iter_times = minimize_expr(expr, angle_folds, amplitude_folds, sampler,\n\u001b[0;32m--> 211\u001b[0;31m         max_cycles=num_cycles, num_samples=num_samples, strength=strength, verbose=verbose)\n\u001b[0m\u001b[1;32m    212\u001b[0m \u001b[0;34m\u001b[0m\u001b[0m\n\u001b[1;32m    213\u001b[0m \u001b[0;34m\u001b[0m\u001b[0m\n",
            "\u001b[0;32m/root/QOSF-2021-Cohort-4-Hydra/QCC_method.py\u001b[0m in \u001b[0;36mminimize_expr\u001b[0;34m(expr, angle_folds, amplitude_folds, sampler, max_cycles, num_samples, strength, verbose)\u001b[0m\n\u001b[1;32m     89\u001b[0m         \u001b[0;31m#run sampler\u001b[0m\u001b[0;34m\u001b[0m\u001b[0;34m\u001b[0m\u001b[0;34m\u001b[0m\u001b[0m\n\u001b[1;32m     90\u001b[0m         \u001b[0;31m# response = sampler.sample_qubo(qubo,num_reads=num_samples)\u001b[0m\u001b[0;34m\u001b[0m\u001b[0;34m\u001b[0m\u001b[0;34m\u001b[0m\u001b[0m\n\u001b[0;32m---> 91\u001b[0;31m         \u001b[0mresponse\u001b[0m \u001b[0;34m=\u001b[0m \u001b[0msampler\u001b[0m\u001b[0;34m.\u001b[0m\u001b[0msample\u001b[0m\u001b[0;34m(\u001b[0m\u001b[0mqubo\u001b[0m\u001b[0;34m)\u001b[0m\u001b[0;34m\u001b[0m\u001b[0;34m\u001b[0m\u001b[0m\n\u001b[0m\u001b[1;32m     92\u001b[0m         \u001b[0mprint\u001b[0m\u001b[0;34m(\u001b[0m\u001b[0mresponse\u001b[0m\u001b[0;34m)\u001b[0m\u001b[0;34m\u001b[0m\u001b[0;34m\u001b[0m\u001b[0m\n\u001b[1;32m     93\u001b[0m         \u001b[0msolutions\u001b[0m \u001b[0;34m=\u001b[0m \u001b[0mpd\u001b[0m\u001b[0;34m.\u001b[0m\u001b[0mDataFrame\u001b[0m\u001b[0;34m(\u001b[0m\u001b[0mresponse\u001b[0m\u001b[0;34m.\u001b[0m\u001b[0mdata\u001b[0m\u001b[0;34m(\u001b[0m\u001b[0;34m)\u001b[0m\u001b[0;34m)\u001b[0m\u001b[0;34m\u001b[0m\u001b[0;34m\u001b[0m\u001b[0m\n",
            "\u001b[0;32m/usr/local/lib/python3.7/dist-packages/dwave/system/samplers/leap_hybrid_sampler.py\u001b[0m in \u001b[0;36msample\u001b[0;34m(self, bqm, time_limit, **kwargs)\u001b[0m\n\u001b[1;32m    223\u001b[0m         \"\"\"\n\u001b[1;32m    224\u001b[0m         \u001b[0;32mif\u001b[0m \u001b[0;32mnot\u001b[0m \u001b[0misinstance\u001b[0m\u001b[0;34m(\u001b[0m\u001b[0mbqm\u001b[0m\u001b[0;34m,\u001b[0m \u001b[0mBQM\u001b[0m\u001b[0;34m)\u001b[0m\u001b[0;34m:\u001b[0m\u001b[0;34m\u001b[0m\u001b[0;34m\u001b[0m\u001b[0m\n\u001b[0;32m--> 225\u001b[0;31m             \u001b[0mbqm\u001b[0m \u001b[0;34m=\u001b[0m \u001b[0mBQM\u001b[0m\u001b[0;34m(\u001b[0m\u001b[0mbqm\u001b[0m\u001b[0;34m)\u001b[0m\u001b[0;34m\u001b[0m\u001b[0;34m\u001b[0m\u001b[0m\n\u001b[0m\u001b[1;32m    226\u001b[0m \u001b[0;34m\u001b[0m\u001b[0m\n\u001b[1;32m    227\u001b[0m         \u001b[0mnum_vars\u001b[0m \u001b[0;34m=\u001b[0m \u001b[0mbqm\u001b[0m\u001b[0;34m.\u001b[0m\u001b[0mnum_variables\u001b[0m\u001b[0;34m\u001b[0m\u001b[0;34m\u001b[0m\u001b[0m\n",
            "\u001b[0;32m/usr/local/lib/python3.7/dist-packages/dimod/binary/binary_quadratic_model.py\u001b[0m in \u001b[0;36m__init__\u001b[0;34m(self, offset, vartype, dtype, *args)\u001b[0m\n\u001b[1;32m    167\u001b[0m                 \u001b[0mself\u001b[0m\u001b[0;34m.\u001b[0m\u001b[0m_init_bqm\u001b[0m\u001b[0;34m(\u001b[0m\u001b[0margs\u001b[0m\u001b[0;34m[\u001b[0m\u001b[0;36m0\u001b[0m\u001b[0;34m]\u001b[0m\u001b[0;34m,\u001b[0m \u001b[0mvartype\u001b[0m\u001b[0;34m=\u001b[0m\u001b[0margs\u001b[0m\u001b[0;34m[\u001b[0m\u001b[0;36m0\u001b[0m\u001b[0;34m]\u001b[0m\u001b[0;34m.\u001b[0m\u001b[0mvartype\u001b[0m\u001b[0;34m,\u001b[0m \u001b[0mdtype\u001b[0m\u001b[0;34m=\u001b[0m\u001b[0mdtype\u001b[0m\u001b[0;34m)\u001b[0m\u001b[0;34m\u001b[0m\u001b[0;34m\u001b[0m\u001b[0m\n\u001b[1;32m    168\u001b[0m             \u001b[0;32melse\u001b[0m\u001b[0;34m:\u001b[0m\u001b[0;34m\u001b[0m\u001b[0;34m\u001b[0m\u001b[0m\n\u001b[0;32m--> 169\u001b[0;31m                 \u001b[0mself\u001b[0m\u001b[0;34m.\u001b[0m\u001b[0m_init_empty\u001b[0m\u001b[0;34m(\u001b[0m\u001b[0mvartype\u001b[0m\u001b[0;34m=\u001b[0m\u001b[0margs\u001b[0m\u001b[0;34m[\u001b[0m\u001b[0;36m0\u001b[0m\u001b[0;34m]\u001b[0m\u001b[0;34m,\u001b[0m \u001b[0mdtype\u001b[0m\u001b[0;34m=\u001b[0m\u001b[0mdtype\u001b[0m\u001b[0;34m)\u001b[0m\u001b[0;34m\u001b[0m\u001b[0;34m\u001b[0m\u001b[0m\n\u001b[0m\u001b[1;32m    170\u001b[0m         \u001b[0;32melif\u001b[0m \u001b[0mlen\u001b[0m\u001b[0;34m(\u001b[0m\u001b[0margs\u001b[0m\u001b[0;34m)\u001b[0m \u001b[0;34m==\u001b[0m \u001b[0;36m2\u001b[0m\u001b[0;34m:\u001b[0m\u001b[0;34m\u001b[0m\u001b[0;34m\u001b[0m\u001b[0m\n\u001b[1;32m    171\u001b[0m             \u001b[0;31m# BQM(bqm, vartype), BQM(n, vartype) or BQM(M, vartype)\u001b[0m\u001b[0;34m\u001b[0m\u001b[0;34m\u001b[0m\u001b[0;34m\u001b[0m\u001b[0m\n",
            "\u001b[0;32m/usr/local/lib/python3.7/dist-packages/dimod/binary/binary_quadratic_model.py\u001b[0m in \u001b[0;36m_init_empty\u001b[0;34m(self, vartype, dtype)\u001b[0m\n\u001b[1;32m    262\u001b[0m     \u001b[0;32mdef\u001b[0m \u001b[0m_init_empty\u001b[0m\u001b[0;34m(\u001b[0m\u001b[0mself\u001b[0m\u001b[0;34m,\u001b[0m \u001b[0mvartype\u001b[0m\u001b[0;34m,\u001b[0m \u001b[0mdtype\u001b[0m\u001b[0;34m)\u001b[0m\u001b[0;34m:\u001b[0m\u001b[0;34m\u001b[0m\u001b[0;34m\u001b[0m\u001b[0m\n\u001b[1;32m    263\u001b[0m         \u001b[0mdtype\u001b[0m \u001b[0;34m=\u001b[0m \u001b[0mself\u001b[0m\u001b[0;34m.\u001b[0m\u001b[0mDEFAULT_DTYPE\u001b[0m \u001b[0;32mif\u001b[0m \u001b[0mdtype\u001b[0m \u001b[0;32mis\u001b[0m \u001b[0;32mNone\u001b[0m \u001b[0;32melse\u001b[0m \u001b[0mdtype\u001b[0m\u001b[0;34m\u001b[0m\u001b[0;34m\u001b[0m\u001b[0m\n\u001b[0;32m--> 264\u001b[0;31m         \u001b[0mself\u001b[0m\u001b[0;34m.\u001b[0m\u001b[0mdata\u001b[0m \u001b[0;34m=\u001b[0m \u001b[0mtype\u001b[0m\u001b[0;34m(\u001b[0m\u001b[0mself\u001b[0m\u001b[0;34m)\u001b[0m\u001b[0;34m.\u001b[0m\u001b[0m_DATA_CLASSES\u001b[0m\u001b[0;34m[\u001b[0m\u001b[0mnp\u001b[0m\u001b[0;34m.\u001b[0m\u001b[0mdtype\u001b[0m\u001b[0;34m(\u001b[0m\u001b[0mdtype\u001b[0m\u001b[0;34m)\u001b[0m\u001b[0;34m]\u001b[0m\u001b[0;34m(\u001b[0m\u001b[0mvartype\u001b[0m\u001b[0;34m)\u001b[0m\u001b[0;34m\u001b[0m\u001b[0;34m\u001b[0m\u001b[0m\n\u001b[0m\u001b[1;32m    265\u001b[0m \u001b[0;34m\u001b[0m\u001b[0m\n\u001b[1;32m    266\u001b[0m     \u001b[0;32mdef\u001b[0m \u001b[0m__init_subclass__\u001b[0m\u001b[0;34m(\u001b[0m\u001b[0mcls\u001b[0m\u001b[0;34m,\u001b[0m \u001b[0mdefault_dtype\u001b[0m\u001b[0;34m=\u001b[0m\u001b[0mnp\u001b[0m\u001b[0;34m.\u001b[0m\u001b[0mfloat64\u001b[0m\u001b[0;34m,\u001b[0m \u001b[0;34m**\u001b[0m\u001b[0mkwargs\u001b[0m\u001b[0;34m)\u001b[0m\u001b[0;34m:\u001b[0m\u001b[0;34m\u001b[0m\u001b[0;34m\u001b[0m\u001b[0m\n",
            "\u001b[0;32m/usr/local/lib/python3.7/dist-packages/dimod/binary/cybqm/cybqm_template.pyx.pxi\u001b[0m in \u001b[0;36mdimod.binary.cybqm.cybqm_float64.cyBQM_template.__init__\u001b[0;34m()\u001b[0m\n",
            "\u001b[0;32m/usr/local/lib/python3.7/dist-packages/dimod/binary/cybqm/cybqm_template.pyx.pxi\u001b[0m in \u001b[0;36mdimod.binary.cybqm.cybqm_float64.cyBQM_template.change_vartype\u001b[0;34m()\u001b[0m\n",
            "\u001b[0;32m/usr/local/lib/python3.7/dist-packages/dimod/vartypes.py\u001b[0m in \u001b[0;36mas_vartype\u001b[0;34m(vartype, extended)\u001b[0m\n\u001b[1;32m    169\u001b[0m             \u001b[0mvartype\u001b[0m \u001b[0;34m=\u001b[0m \u001b[0mVartype\u001b[0m\u001b[0;34m(\u001b[0m\u001b[0mfrozenset\u001b[0m\u001b[0;34m(\u001b[0m\u001b[0mvartype\u001b[0m\u001b[0;34m)\u001b[0m\u001b[0;34m)\u001b[0m\u001b[0;34m\u001b[0m\u001b[0;34m\u001b[0m\u001b[0m\n\u001b[1;32m    170\u001b[0m         \u001b[0;32mexcept\u001b[0m \u001b[0mValueError\u001b[0m\u001b[0;34m:\u001b[0m\u001b[0;34m\u001b[0m\u001b[0;34m\u001b[0m\u001b[0m\n\u001b[0;32m--> 171\u001b[0;31m             \u001b[0;32mraise\u001b[0m \u001b[0m_vartype_miss\u001b[0m\u001b[0;34m(\u001b[0m\u001b[0mvartype\u001b[0m\u001b[0;34m,\u001b[0m \u001b[0mextended\u001b[0m\u001b[0;34m)\u001b[0m \u001b[0;32mfrom\u001b[0m \u001b[0;32mNone\u001b[0m\u001b[0;34m\u001b[0m\u001b[0;34m\u001b[0m\u001b[0m\n\u001b[0m\u001b[1;32m    172\u001b[0m     \u001b[0;32melse\u001b[0m\u001b[0;34m:\u001b[0m\u001b[0;34m\u001b[0m\u001b[0;34m\u001b[0m\u001b[0m\n\u001b[1;32m    173\u001b[0m         \u001b[0;32mraise\u001b[0m \u001b[0m_vartype_miss\u001b[0m\u001b[0;34m(\u001b[0m\u001b[0mvartype\u001b[0m\u001b[0;34m,\u001b[0m \u001b[0mextended\u001b[0m\u001b[0;34m)\u001b[0m\u001b[0;34m\u001b[0m\u001b[0;34m\u001b[0m\u001b[0m\n",
            "\u001b[0;31mTypeError\u001b[0m: expected input vartype to be one of: Vartype.SPIN, 'SPIN', {-1, 1}, Vartype.BINARY, 'BINARY', or {0, 1}; received {(F2, F3): 2000.0, ('F3*F2', F3): 2000.0, ('F3*F2', F2): 2000.0, ('auxF3,F2', F3): 4000.0, ('auxF3,F2', F2): 4000.0, ('auxF3,F2', 'F3*F2'): 4000.0, (Z1, F3): -4.535179070861307e-18, (Z1, 'F3*F2'): 2000.0, ('Z1*F3*F2', 'F3*F2'): 2000.0, ('Z1*F3*F2', Z1): 2000.0, ('auxZ1,F3*F2', 'F3*F2'): 4000.0, ('auxZ1,F3*F2', Z1): 4000.0, ('auxZ1,F3*F2', 'Z1*F3*F2'): 4000.0, (Z2, F2): -2.7769962663451836e-34, (Z2, 'F3*F2'): 2000.0, (Z2, Z1): 4.0076655258636196e-24, ('Z2*F3*F2', 'F3*F2'): 2000.0, ('Z2*F3*F2', Z2): 2000.0, ('auxZ2,F3*F2', 'F3*F2'): 4000.0, ('auxZ2,F3*F2', Z2): 4000.0, ('auxZ2,F3*F2', 'Z2*F3*F2'): 4000.0, (F1, Z1): 2000.6938235057005, ('Z1*F1', Z1): 2000.0, ('Z1*F1', F1): 2000.0, ('auxZ1,F1', Z1): 4000.0, ('auxZ1,F1', F1): 4000.0, ('auxZ1,F1', 'Z1*F1'): 4000.0, (Z0, Z1): 2.958237407888099e-17, (Z0, 'Z1*F3*F2'): -6.103981476569903e-56, (Z0, Z2): 2.4921395617809655e-40, (Z0, 'Z2*F3*F2'): -2.7166618503134963e-65, (Z0, 'Z1*F1'): 4.1325128305459765e-17, (Z3, Z1): 4.282725070457585e-17, (Z3, 'Z1*F3*F2'): -4.369502787464167e-56, (Z3, Z2): 1.7839848949889847e-40, (Z3, 'Z2*F3*F2'): -3.932989212856783e-65, (Z3, 'Z1*F1'): 2.9582374078880847e-17, (Z3, Z0): 2.4916958646455615e-33, (F3, F3): -5000.0, (F2, F2): -5000.0, ('F3*F2', 'F3*F2'): -15000.0, ('auxF3,F2', 'auxF3,F2'): -8000.0, (Z1, Z1): -10000.7917631368, ('Z1*F3*F2', 'Z1*F3*F2'): -5000.0, ('auxZ1,F3*F2', 'auxZ1,F3*F2'): -8000.0, (Z2, Z2): -5000.0, ('Z2*F3*F2', 'Z2*F3*F2'): -5000.0, ('auxZ2,F3*F2', 'auxZ2,F3*F2'): -8000.0, (F1, F1): -5000.014632424727, ('Z1*F1', 'Z1*F1'): -5000.0, ('auxZ1,F1', 'auxZ1,F1'): -8000.0, (Z0, Z0): -1.4211532806434888e-17, (Z3, Z3): -6.344410356430101e-17}."
          ]
        }
      ]
    },
    {
      "cell_type": "code",
      "source": [
        "### XBK method ###\n",
        "method = 'XBK'\n",
        "start_time = time.time()\n",
        "#set r value\n",
        "r = 4\n",
        "\n",
        "#construct qubit Hamiltonians and C terms for XBK method\n",
        "qubit_Hs, qubit_Cs = [],[]\n",
        "m = count_qubits(problem.of_qubit_op)\n",
        "for p in range(int(math.ceil(r/2+1))):\n",
        "    qubit_Hs += [XBK_transform(problem.of_qubit_op, r, p)]\n",
        "    qubit_Cs += [construct_C(m, r, p)]\n",
        "\n",
        "param_dict = {\n",
        "    'mapping': problem.qubit_converter.mapper.__class__.__name__,\n",
        "    'r': r}\n",
        "\n",
        "#run XBK method\n",
        "min_energy, ground_state, min_energies, iter_times = XBK(qubit_Hs, qubit_Cs, r, sampler, starting_lam=0, num_samples=1000, strength=1e3, verbose=True)\n",
        "\n",
        "exact_energy = problem.exact_energy\n",
        "min_energy = np.real(min_energy)\n",
        "optimal_state = ground_state\n",
        "percent_accuracy = 100-np.abs(100*(min_energy-exact_energy)/exact_energy)\n",
        "nominal_accuracy = min_energy-exact_energy\n",
        "\n",
        "result_dict = {\n",
        "    'molecule': mol_dict,\n",
        "    'solution_type': method,\n",
        "    'backend': str(sampler),\n",
        "    'setup' : param_dict,\n",
        "    'exact energy': problem.exact_energy,\n",
        "    'result energy (Ha)': min_energy,\n",
        "    'error (mHa)': nominal_accuracy,\n",
        "    'error (%)': percent_accuracy,\n",
        "    'final parameters': 'N/A',\n",
        "    '# of evaluations': len(min_energies),\n",
        "    'runtime': sum(iter_times),\n",
        "    '# of qubits': m,\n",
        "    'min energies': min_energies}\n",
        "\n",
        "minEnergyResults(result_dict, method)"
      ],
      "metadata": {
        "colab": {
          "base_uri": "https://localhost:8080/",
          "height": 1000
        },
        "id": "zlpbOexsLE4U",
        "outputId": "4bbe375a-0a23-4aab-ad4a-1eab1ae491f5"
      },
      "execution_count": null,
      "outputs": [
        {
          "output_type": "error",
          "ename": "KeyboardInterrupt",
          "evalue": "",
          "traceback": [
            "\u001b[0;31m---------------------------------------------------------------------------\u001b[0m",
            "\u001b[0;31mKeyboardInterrupt\u001b[0m                         Traceback (most recent call last)",
            "\u001b[0;32m<ipython-input-33-4e0c6cad6e6f>\u001b[0m in \u001b[0;36m<module>\u001b[0;34m()\u001b[0m\n\u001b[1;32m      9\u001b[0m \u001b[0mm\u001b[0m \u001b[0;34m=\u001b[0m \u001b[0mcount_qubits\u001b[0m\u001b[0;34m(\u001b[0m\u001b[0mproblem\u001b[0m\u001b[0;34m.\u001b[0m\u001b[0mof_qubit_op\u001b[0m\u001b[0;34m)\u001b[0m\u001b[0;34m\u001b[0m\u001b[0;34m\u001b[0m\u001b[0m\n\u001b[1;32m     10\u001b[0m \u001b[0;32mfor\u001b[0m \u001b[0mp\u001b[0m \u001b[0;32min\u001b[0m \u001b[0mrange\u001b[0m\u001b[0;34m(\u001b[0m\u001b[0mint\u001b[0m\u001b[0;34m(\u001b[0m\u001b[0mmath\u001b[0m\u001b[0;34m.\u001b[0m\u001b[0mceil\u001b[0m\u001b[0;34m(\u001b[0m\u001b[0mr\u001b[0m\u001b[0;34m/\u001b[0m\u001b[0;36m2\u001b[0m\u001b[0;34m+\u001b[0m\u001b[0;36m1\u001b[0m\u001b[0;34m)\u001b[0m\u001b[0;34m)\u001b[0m\u001b[0;34m)\u001b[0m\u001b[0;34m:\u001b[0m\u001b[0;34m\u001b[0m\u001b[0;34m\u001b[0m\u001b[0m\n\u001b[0;32m---> 11\u001b[0;31m     \u001b[0mqubit_Hs\u001b[0m \u001b[0;34m+=\u001b[0m \u001b[0;34m[\u001b[0m\u001b[0mXBK_transform\u001b[0m\u001b[0;34m(\u001b[0m\u001b[0mproblem\u001b[0m\u001b[0;34m.\u001b[0m\u001b[0mof_qubit_op\u001b[0m\u001b[0;34m,\u001b[0m \u001b[0mr\u001b[0m\u001b[0;34m,\u001b[0m \u001b[0mp\u001b[0m\u001b[0;34m)\u001b[0m\u001b[0;34m]\u001b[0m\u001b[0;34m\u001b[0m\u001b[0;34m\u001b[0m\u001b[0m\n\u001b[0m\u001b[1;32m     12\u001b[0m     \u001b[0mqubit_Cs\u001b[0m \u001b[0;34m+=\u001b[0m \u001b[0;34m[\u001b[0m\u001b[0mconstruct_C\u001b[0m\u001b[0;34m(\u001b[0m\u001b[0mm\u001b[0m\u001b[0;34m,\u001b[0m \u001b[0mr\u001b[0m\u001b[0;34m,\u001b[0m \u001b[0mp\u001b[0m\u001b[0;34m)\u001b[0m\u001b[0;34m]\u001b[0m\u001b[0;34m\u001b[0m\u001b[0;34m\u001b[0m\u001b[0m\n\u001b[1;32m     13\u001b[0m \u001b[0;34m\u001b[0m\u001b[0m\n",
            "\u001b[0;32m/root/QOSF-2021-Cohort-4-Hydra/XBK_method.py\u001b[0m in \u001b[0;36mXBK_transform\u001b[0;34m(op, r, p)\u001b[0m\n\u001b[1;32m     60\u001b[0m                             \u001b[0;32mcontinue\u001b[0m\u001b[0;34m\u001b[0m\u001b[0;34m\u001b[0m\u001b[0m\n\u001b[1;32m     61\u001b[0m                         \u001b[0;32melse\u001b[0m\u001b[0;34m:\u001b[0m\u001b[0;34m\u001b[0m\u001b[0;34m\u001b[0m\u001b[0m\n\u001b[0;32m---> 62\u001b[0;31m                             \u001b[0msub_term\u001b[0m \u001b[0;34m*=\u001b[0m \u001b[0mQubitOperator\u001b[0m\u001b[0;34m(\u001b[0m\u001b[0;34m''\u001b[0m\u001b[0;34m,\u001b[0m \u001b[0;36m1\u001b[0m\u001b[0;34m/\u001b[0m\u001b[0;36m2\u001b[0m\u001b[0;34m)\u001b[0m \u001b[0;34m+\u001b[0m \u001b[0mQubitOperator\u001b[0m\u001b[0;34m(\u001b[0m\u001b[0;34m'Z'\u001b[0m\u001b[0;34m+\u001b[0m\u001b[0mstr\u001b[0m\u001b[0;34m(\u001b[0m\u001b[0mi\u001b[0m\u001b[0;34m+\u001b[0m\u001b[0mn\u001b[0m\u001b[0;34m*\u001b[0m\u001b[0mj\u001b[0m\u001b[0;34m)\u001b[0m\u001b[0;34m+\u001b[0m\u001b[0;34m' Z'\u001b[0m\u001b[0;34m+\u001b[0m\u001b[0mstr\u001b[0m\u001b[0;34m(\u001b[0m\u001b[0mi\u001b[0m\u001b[0;34m+\u001b[0m\u001b[0mn\u001b[0m\u001b[0;34m*\u001b[0m\u001b[0mk\u001b[0m\u001b[0;34m)\u001b[0m\u001b[0;34m,\u001b[0m \u001b[0;36m1\u001b[0m\u001b[0;34m/\u001b[0m\u001b[0;36m2\u001b[0m\u001b[0;34m)\u001b[0m\u001b[0;34m\u001b[0m\u001b[0;34m\u001b[0m\u001b[0m\n\u001b[0m\u001b[1;32m     63\u001b[0m \u001b[0;34m\u001b[0m\u001b[0m\n\u001b[1;32m     64\u001b[0m                 \u001b[0mterm\u001b[0m \u001b[0;34m+=\u001b[0m \u001b[0msign\u001b[0m\u001b[0;34m*\u001b[0m\u001b[0msub_term\u001b[0m\u001b[0;34m\u001b[0m\u001b[0;34m\u001b[0m\u001b[0m\n",
            "\u001b[0;32m/usr/local/lib/python3.7/dist-packages/openfermion/ops/operators/symbolic_operator.py\u001b[0m in \u001b[0;36m__imul__\u001b[0;34m(self, multiplier)\u001b[0m\n\u001b[1;32m    377\u001b[0m \u001b[0;34m\u001b[0m\u001b[0m\n\u001b[1;32m    378\u001b[0m                     new_coefficient, new_term = self._simplify(\n\u001b[0;32m--> 379\u001b[0;31m                         new_term, coefficient=new_coefficient)\n\u001b[0m\u001b[1;32m    380\u001b[0m \u001b[0;34m\u001b[0m\u001b[0m\n\u001b[1;32m    381\u001b[0m                     \u001b[0;31m# Update result dict.\u001b[0m\u001b[0;34m\u001b[0m\u001b[0;34m\u001b[0m\u001b[0;34m\u001b[0m\u001b[0m\n",
            "\u001b[0;32m/usr/local/lib/python3.7/dist-packages/openfermion/ops/operators/qubit_operator.py\u001b[0m in \u001b[0;36m_simplify\u001b[0;34m(self, term, coefficient)\u001b[0m\n\u001b[1;32m    138\u001b[0m                 \u001b[0;32mif\u001b[0m \u001b[0mleft_action\u001b[0m \u001b[0;34m!=\u001b[0m \u001b[0;34m'I'\u001b[0m\u001b[0;34m:\u001b[0m\u001b[0;34m\u001b[0m\u001b[0;34m\u001b[0m\u001b[0m\n\u001b[1;32m    139\u001b[0m                     \u001b[0mnew_term\u001b[0m\u001b[0;34m.\u001b[0m\u001b[0mappend\u001b[0m\u001b[0;34m(\u001b[0m\u001b[0mleft_factor\u001b[0m\u001b[0;34m)\u001b[0m\u001b[0;34m\u001b[0m\u001b[0;34m\u001b[0m\u001b[0m\n\u001b[0;32m--> 140\u001b[0;31m                 \u001b[0mleft_factor\u001b[0m \u001b[0;34m=\u001b[0m \u001b[0mright_factor\u001b[0m\u001b[0;34m\u001b[0m\u001b[0;34m\u001b[0m\u001b[0m\n\u001b[0m\u001b[1;32m    141\u001b[0m \u001b[0;34m\u001b[0m\u001b[0m\n\u001b[1;32m    142\u001b[0m         \u001b[0;31m# Save result of final iteration.\u001b[0m\u001b[0;34m\u001b[0m\u001b[0;34m\u001b[0m\u001b[0;34m\u001b[0m\u001b[0m\n",
            "\u001b[0;31mKeyboardInterrupt\u001b[0m: "
          ]
        }
      ]
    },
    {
      "cell_type": "code",
      "execution_count": null,
      "metadata": {
        "id": "SOs7NXXTOiiJ",
        "outputId": "35a5d297-0ca7-466b-ef7b-84a44385f101"
      },
      "outputs": [
        {
          "output_type": "execute_result",
          "data": {
            "text/plain": [
              "{'# of evaluations': 3,\n",
              " '# of qubits': 4,\n",
              " 'backend': '<dwave.system.samplers.leap_hybrid_sampler.LeapHybridSampler object at 0x7f06cca9ac50>',\n",
              " 'error (%)': 95.2986994609757,\n",
              " 'error (mHa)': 0.08753928569029146,\n",
              " 'exact energy': -1.8620227522926915,\n",
              " 'final parameters': 'N/A',\n",
              " 'min energies': [-1.7744834666024, -1.69371250410331, -1.63308714975331],\n",
              " 'molecule': {'basis': 'sto6g', 'molecule name': 'H2'},\n",
              " 'result energy (Ha)': -1.7744834666024,\n",
              " 'runtime': 21.705110788345337,\n",
              " 'setup': {'mapping': 'JordanWignerMapper', 'r': 4},\n",
              " 'solution_type': 'XBK'}"
            ]
          },
          "metadata": {},
          "execution_count": 25
        }
      ],
      "source": [
        "result_dict"
      ]
    },
    {
      "cell_type": "code",
      "execution_count": null,
      "metadata": {
        "id": "wMedlHnFOiiK",
        "outputId": "80f232d4-913f-4efa-f30f-103d03ea2f89"
      },
      "outputs": [
        {
          "output_type": "error",
          "ename": "ValueError",
          "evalue": "Mixing dicts with non-Series may lead to ambiguous ordering.",
          "traceback": [
            "\u001b[0;31m---------------------------------------------------------------------------\u001b[0m",
            "\u001b[0;31mValueError\u001b[0m                                Traceback (most recent call last)",
            "\u001b[0;32m<ipython-input-29-7f05b71131ee>\u001b[0m in \u001b[0;36m<module>\u001b[0;34m()\u001b[0m\n\u001b[0;32m----> 1\u001b[0;31m \u001b[0mresult_df\u001b[0m \u001b[0;34m=\u001b[0m \u001b[0mpd\u001b[0m\u001b[0;34m.\u001b[0m\u001b[0mDataFrame\u001b[0m\u001b[0;34m.\u001b[0m\u001b[0mfrom_dict\u001b[0m\u001b[0;34m(\u001b[0m\u001b[0mresult_dict\u001b[0m\u001b[0;34m)\u001b[0m\u001b[0;34m\u001b[0m\u001b[0;34m\u001b[0m\u001b[0m\n\u001b[0m",
            "\u001b[0;32m/usr/local/lib/python3.7/dist-packages/pandas/core/frame.py\u001b[0m in \u001b[0;36mfrom_dict\u001b[0;34m(cls, data, orient, dtype, columns)\u001b[0m\n\u001b[1;32m   1307\u001b[0m             \u001b[0;32mraise\u001b[0m \u001b[0mValueError\u001b[0m\u001b[0;34m(\u001b[0m\u001b[0;34m\"only recognize index or columns for orient\"\u001b[0m\u001b[0;34m)\u001b[0m\u001b[0;34m\u001b[0m\u001b[0;34m\u001b[0m\u001b[0m\n\u001b[1;32m   1308\u001b[0m \u001b[0;34m\u001b[0m\u001b[0m\n\u001b[0;32m-> 1309\u001b[0;31m         \u001b[0;32mreturn\u001b[0m \u001b[0mcls\u001b[0m\u001b[0;34m(\u001b[0m\u001b[0mdata\u001b[0m\u001b[0;34m,\u001b[0m \u001b[0mindex\u001b[0m\u001b[0;34m=\u001b[0m\u001b[0mindex\u001b[0m\u001b[0;34m,\u001b[0m \u001b[0mcolumns\u001b[0m\u001b[0;34m=\u001b[0m\u001b[0mcolumns\u001b[0m\u001b[0;34m,\u001b[0m \u001b[0mdtype\u001b[0m\u001b[0;34m=\u001b[0m\u001b[0mdtype\u001b[0m\u001b[0;34m)\u001b[0m\u001b[0;34m\u001b[0m\u001b[0;34m\u001b[0m\u001b[0m\n\u001b[0m\u001b[1;32m   1310\u001b[0m \u001b[0;34m\u001b[0m\u001b[0m\n\u001b[1;32m   1311\u001b[0m     def to_numpy(\n",
            "\u001b[0;32m/usr/local/lib/python3.7/dist-packages/pandas/core/frame.py\u001b[0m in \u001b[0;36m__init__\u001b[0;34m(self, data, index, columns, dtype, copy)\u001b[0m\n\u001b[1;32m    466\u001b[0m \u001b[0;34m\u001b[0m\u001b[0m\n\u001b[1;32m    467\u001b[0m         \u001b[0;32melif\u001b[0m \u001b[0misinstance\u001b[0m\u001b[0;34m(\u001b[0m\u001b[0mdata\u001b[0m\u001b[0;34m,\u001b[0m \u001b[0mdict\u001b[0m\u001b[0;34m)\u001b[0m\u001b[0;34m:\u001b[0m\u001b[0;34m\u001b[0m\u001b[0;34m\u001b[0m\u001b[0m\n\u001b[0;32m--> 468\u001b[0;31m             \u001b[0mmgr\u001b[0m \u001b[0;34m=\u001b[0m \u001b[0minit_dict\u001b[0m\u001b[0;34m(\u001b[0m\u001b[0mdata\u001b[0m\u001b[0;34m,\u001b[0m \u001b[0mindex\u001b[0m\u001b[0;34m,\u001b[0m \u001b[0mcolumns\u001b[0m\u001b[0;34m,\u001b[0m \u001b[0mdtype\u001b[0m\u001b[0;34m=\u001b[0m\u001b[0mdtype\u001b[0m\u001b[0;34m)\u001b[0m\u001b[0;34m\u001b[0m\u001b[0;34m\u001b[0m\u001b[0m\n\u001b[0m\u001b[1;32m    469\u001b[0m         \u001b[0;32melif\u001b[0m \u001b[0misinstance\u001b[0m\u001b[0;34m(\u001b[0m\u001b[0mdata\u001b[0m\u001b[0;34m,\u001b[0m \u001b[0mma\u001b[0m\u001b[0;34m.\u001b[0m\u001b[0mMaskedArray\u001b[0m\u001b[0;34m)\u001b[0m\u001b[0;34m:\u001b[0m\u001b[0;34m\u001b[0m\u001b[0;34m\u001b[0m\u001b[0m\n\u001b[1;32m    470\u001b[0m             \u001b[0;32mimport\u001b[0m \u001b[0mnumpy\u001b[0m\u001b[0;34m.\u001b[0m\u001b[0mma\u001b[0m\u001b[0;34m.\u001b[0m\u001b[0mmrecords\u001b[0m \u001b[0;32mas\u001b[0m \u001b[0mmrecords\u001b[0m\u001b[0;34m\u001b[0m\u001b[0;34m\u001b[0m\u001b[0m\n",
            "\u001b[0;32m/usr/local/lib/python3.7/dist-packages/pandas/core/internals/construction.py\u001b[0m in \u001b[0;36minit_dict\u001b[0;34m(data, index, columns, dtype)\u001b[0m\n\u001b[1;32m    281\u001b[0m             \u001b[0marr\u001b[0m \u001b[0;32mif\u001b[0m \u001b[0;32mnot\u001b[0m \u001b[0mis_datetime64tz_dtype\u001b[0m\u001b[0;34m(\u001b[0m\u001b[0marr\u001b[0m\u001b[0;34m)\u001b[0m \u001b[0;32melse\u001b[0m \u001b[0marr\u001b[0m\u001b[0;34m.\u001b[0m\u001b[0mcopy\u001b[0m\u001b[0;34m(\u001b[0m\u001b[0;34m)\u001b[0m \u001b[0;32mfor\u001b[0m \u001b[0marr\u001b[0m \u001b[0;32min\u001b[0m \u001b[0marrays\u001b[0m\u001b[0;34m\u001b[0m\u001b[0;34m\u001b[0m\u001b[0m\n\u001b[1;32m    282\u001b[0m         ]\n\u001b[0;32m--> 283\u001b[0;31m     \u001b[0;32mreturn\u001b[0m \u001b[0marrays_to_mgr\u001b[0m\u001b[0;34m(\u001b[0m\u001b[0marrays\u001b[0m\u001b[0;34m,\u001b[0m \u001b[0mdata_names\u001b[0m\u001b[0;34m,\u001b[0m \u001b[0mindex\u001b[0m\u001b[0;34m,\u001b[0m \u001b[0mcolumns\u001b[0m\u001b[0;34m,\u001b[0m \u001b[0mdtype\u001b[0m\u001b[0;34m=\u001b[0m\u001b[0mdtype\u001b[0m\u001b[0;34m)\u001b[0m\u001b[0;34m\u001b[0m\u001b[0;34m\u001b[0m\u001b[0m\n\u001b[0m\u001b[1;32m    284\u001b[0m \u001b[0;34m\u001b[0m\u001b[0m\n\u001b[1;32m    285\u001b[0m \u001b[0;34m\u001b[0m\u001b[0m\n",
            "\u001b[0;32m/usr/local/lib/python3.7/dist-packages/pandas/core/internals/construction.py\u001b[0m in \u001b[0;36marrays_to_mgr\u001b[0;34m(arrays, arr_names, index, columns, dtype, verify_integrity)\u001b[0m\n\u001b[1;32m     76\u001b[0m         \u001b[0;31m# figure out the index, if necessary\u001b[0m\u001b[0;34m\u001b[0m\u001b[0;34m\u001b[0m\u001b[0;34m\u001b[0m\u001b[0m\n\u001b[1;32m     77\u001b[0m         \u001b[0;32mif\u001b[0m \u001b[0mindex\u001b[0m \u001b[0;32mis\u001b[0m \u001b[0;32mNone\u001b[0m\u001b[0;34m:\u001b[0m\u001b[0;34m\u001b[0m\u001b[0;34m\u001b[0m\u001b[0m\n\u001b[0;32m---> 78\u001b[0;31m             \u001b[0mindex\u001b[0m \u001b[0;34m=\u001b[0m \u001b[0mextract_index\u001b[0m\u001b[0;34m(\u001b[0m\u001b[0marrays\u001b[0m\u001b[0;34m)\u001b[0m\u001b[0;34m\u001b[0m\u001b[0;34m\u001b[0m\u001b[0m\n\u001b[0m\u001b[1;32m     79\u001b[0m         \u001b[0;32melse\u001b[0m\u001b[0;34m:\u001b[0m\u001b[0;34m\u001b[0m\u001b[0;34m\u001b[0m\u001b[0m\n\u001b[1;32m     80\u001b[0m             \u001b[0mindex\u001b[0m \u001b[0;34m=\u001b[0m \u001b[0mensure_index\u001b[0m\u001b[0;34m(\u001b[0m\u001b[0mindex\u001b[0m\u001b[0;34m)\u001b[0m\u001b[0;34m\u001b[0m\u001b[0;34m\u001b[0m\u001b[0m\n",
            "\u001b[0;32m/usr/local/lib/python3.7/dist-packages/pandas/core/internals/construction.py\u001b[0m in \u001b[0;36mextract_index\u001b[0;34m(data)\u001b[0m\n\u001b[1;32m    399\u001b[0m             \u001b[0;32mif\u001b[0m \u001b[0mhave_dicts\u001b[0m\u001b[0;34m:\u001b[0m\u001b[0;34m\u001b[0m\u001b[0;34m\u001b[0m\u001b[0m\n\u001b[1;32m    400\u001b[0m                 raise ValueError(\n\u001b[0;32m--> 401\u001b[0;31m                     \u001b[0;34m\"Mixing dicts with non-Series may lead to ambiguous ordering.\"\u001b[0m\u001b[0;34m\u001b[0m\u001b[0;34m\u001b[0m\u001b[0m\n\u001b[0m\u001b[1;32m    402\u001b[0m                 )\n\u001b[1;32m    403\u001b[0m \u001b[0;34m\u001b[0m\u001b[0m\n",
            "\u001b[0;31mValueError\u001b[0m: Mixing dicts with non-Series may lead to ambiguous ordering."
          ]
        }
      ],
      "source": [
        "result_df = pd.DataFrame.from_dict(result_dict)"
      ]
    },
    {
      "cell_type": "code",
      "execution_count": null,
      "metadata": {
        "id": "8R81YW-NOiiK",
        "outputId": "f29d87a2-4010-469e-c4f2-8a53dca383db"
      },
      "outputs": [
        {
          "output_type": "stream",
          "name": "stdout",
          "text": [
            "<neal.sampler.SimulatedAnnealingSampler object at 0x7f91767c0f90>\n"
          ]
        },
        {
          "output_type": "error",
          "ename": "NameError",
          "evalue": "name 'backend' is not defined",
          "traceback": [
            "\u001b[0;31m---------------------------------------------------------------------------\u001b[0m",
            "\u001b[0;31mNameError\u001b[0m                                 Traceback (most recent call last)",
            "\u001b[0;32m<ipython-input-27-2a45225f6a40>\u001b[0m in \u001b[0;36m<module>\u001b[0;34m()\u001b[0m\n\u001b[1;32m      1\u001b[0m \u001b[0mprint\u001b[0m\u001b[0;34m(\u001b[0m\u001b[0mstr\u001b[0m\u001b[0;34m(\u001b[0m\u001b[0msampler\u001b[0m\u001b[0;34m)\u001b[0m\u001b[0;34m)\u001b[0m\u001b[0;34m\u001b[0m\u001b[0;34m\u001b[0m\u001b[0m\n\u001b[0;32m----> 2\u001b[0;31m \u001b[0mprint\u001b[0m\u001b[0;34m(\u001b[0m\u001b[0mstr\u001b[0m\u001b[0;34m(\u001b[0m\u001b[0mbackend\u001b[0m\u001b[0;34m)\u001b[0m\u001b[0;34m)\u001b[0m\u001b[0;34m\u001b[0m\u001b[0;34m\u001b[0m\u001b[0m\n\u001b[0m",
            "\u001b[0;31mNameError\u001b[0m: name 'backend' is not defined"
          ]
        }
      ],
      "source": [
        "print(str(sampler))\n",
        "print(str(backend))"
      ]
    },
    {
      "cell_type": "code",
      "execution_count": null,
      "metadata": {
        "id": "91xo2PsDOiiL"
      },
      "outputs": [],
      "source": [
        "import json\n",
        "with open('experiments/results.json', 'r') as file:\n",
        "    results = json.load(file)\n",
        "with open('experiments/results.json','w') as file:\n",
        "        json.dump({\"y\":2}, file, sort_keys=True, indent=4)"
      ]
    },
    {
      "cell_type": "code",
      "execution_count": null,
      "metadata": {
        "id": "JsrOWLNjOiiL"
      },
      "outputs": [],
      "source": [
        "with open('results.json', 'r') as file:\n",
        "    results = json.load(file)\n",
        "\n",
        "results.update(result_dict)\n",
        "\n",
        "with open('/content/drive/MyDrive/Woof/' + output_filename + \".json\",'w') as file:\n",
        "    json.dump(results, file, sort_keys=True, indent=4)"
      ]
    },
    {
      "cell_type": "code",
      "source": [
        "mol_dict = {mol_name: mol_name,'basis': basis, 'q_fermionic_op' : str(q_fermionic_op.to_list())}\n",
        "\n",
        "import json\n",
        "with open(mol_name + '.json','w') as file:\n",
        "      json.dump(mol_dict, file, sort_keys=True, indent=4)\n",
        "        \n",
        "qcc_op_list = list(str(qubit_op_to_expr(qubit_H)).split('+'))\n",
        "print(*qcc_op_list, sep = \"\\n\")   \n",
        "\n",
        "properties = driver.run()\n",
        "electronic_energy = properties.get_property(ElectronicEnergy)\n",
        "particle_number = properties.get_property(ParticleNumber)\n",
        "num_electron = sum(particle_number.num_particles)\n",
        "num_MO = num_electron\n",
        "num_SO = particle_number.num_spin_orbitals\n",
        "\n",
        "#Properties\n",
        "from qiskit_nature.properties import Property, GroupedProperty\n",
        "from qiskit_nature.properties.second_quantization.electronic import (\n",
        "    ElectronicEnergy,\n",
        "    ElectronicDipoleMoment,\n",
        "    ParticleNumber,\n",
        "    AngularMomentum,\n",
        "    Magnetization,\n",
        ")\n",
        "from qiskit_nature.properties.second_quantization.electronic.integrals import (\n",
        "    ElectronicIntegrals,\n",
        "    OneBodyElectronicIntegrals,\n",
        "    TwoBodyElectronicIntegrals,\n",
        "    IntegralProperty,\n",
        ")\n",
        "from qiskit_nature.properties.second_quantization.electronic.bases import ElectronicBasis"
      ],
      "metadata": {
        "id": "YsxK3Sa6LGyP"
      },
      "execution_count": null,
      "outputs": []
    }
  ]
}