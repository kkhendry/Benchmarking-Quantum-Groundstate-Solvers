{
  "nbformat": 4,
  "nbformat_minor": 0,
  "metadata": {
    "colab": {
      "name": "ColabMain.ipynb",
      "provenance": [],
      "include_colab_link": true
    },
    "kernelspec": {
      "name": "python3712jvsc74a57bd04cd7ab41f5fca4b9b44701077e38c5ffd31fe66a6cab21e0214b68d958d0e462",
      "display_name": "Python 3.7.12 64-bit"
    },
    "language_info": {
      "name": "python",
      "version": "3.7.12"
    },
    "metadata": {
      "interpreter": {
        "hash": "4cd7ab41f5fca4b9b44701077e38c5ffd31fe66a6cab21e0214b68d958d0e462"
      }
    }
  },
  "cells": [
    {
      "cell_type": "markdown",
      "metadata": {
        "id": "view-in-github",
        "colab_type": "text"
      },
      "source": [
        "<a href=\"https://colab.research.google.com/github/kkhendry/Benchmarking-Quantum-Groundstate-Solvers/blob/master/main/BenchmarkingTool.ipynb\" target=\"_parent\"><img src=\"https://colab.research.google.com/assets/colab-badge.svg\" alt=\"Open In Colab\"/></a>"
      ]
    },
    {
      "source": [
        "To work using VSCode Editor, run cell 1 and 2 below.\n",
        "Input your own ngrok authentication token in cell 1 and access the VSCode ngrok tunnel by clicking the link in cell 2."
      ],
      "cell_type": "markdown",
      "metadata": {
        "id": "i8X6L1QUOihz"
      }
    },
    {
      "cell_type": "code",
      "execution_count": null,
      "metadata": {
        "id": "kHFOoWIm_oZk"
      },
      "outputs": [],
      "source": [
        "#@title Cell 1\n",
        "#%%capture uncomment in google colab to hide output\n",
        "!pip install colabcode\n",
        "!wget -q -c -nc https://bin.equinox.io/c/4VmDzA7iaHb/ngrok-stable-linux-amd64.zip\n",
        "!unzip -qq -n ngrok-stable-linux-amd64.zip\n",
        "!./ngrok authtoken 20U3834NIEtDeUcn98AGuj8rL7B_3trunaPVasZKZijiuZUCH #add your own authtoken here. Log in/sign up for an ngrok account at https://ngrok.com/.\n",
        "from colabcode import ColabCode\n"
      ]
    },
    {
      "cell_type": "code",
      "execution_count": null,
      "metadata": {
        "id": "AXXDz0MSOih5"
      },
      "outputs": [],
      "source": [
        "#@title Cell 2\n",
        "ColabCode(port=10000)"
      ]
    },
    {
      "source": [
        "To work from google colab, run cell 3. This option is great for running to notebook, but limited for editing helper and utility files and functions."
      ],
      "cell_type": "markdown",
      "metadata": {
        "id": "qOvUexzcOih6"
      }
    },
    {
      "cell_type": "code",
      "execution_count": null,
      "metadata": {
        "id": "lD9ulLtzOih7"
      },
      "outputs": [],
      "source": [
        "#@title Cell 3\n",
        "#%%capture uncomment in google colab to hide output\n",
        "!git clone https://github.com/kkhendry/QOSF-2021-Cohort-4-Hydra.git\n",
        "import sys\n",
        "sys.path.insert(0, '/content/QOSF-2021-Cohort-4-Hydra/')\n",
        "%cd QOSF-2021-Cohort-4-Hydra"
      ]
    },
    {
      "source": [
        "Run cell 4 and 5 below to set up all the requirements to run the rest of the notebook. When dwave setup prompts you for an authentication token in cell 5, please use your own. You can sign up for a dwave leap account with limited usage at https://cloud.dwavesys.com/leap/login/?next=/leap/."
      ],
      "cell_type": "markdown",
      "metadata": {
        "id": "1diWWUfROih8"
      }
    },
    {
      "cell_type": "code",
      "source": [
        "#@title Cell 4\n",
        "#%%capture uncomment in google colab to hide output. if using vscode, simply copy and paste the code below in the terminal. For git config add your own email address and user name associated with your github account.\n",
        "!git config --global user.email karan.khendry@gmail.com\n",
        "!git config --global user.name hydraken\n",
        "!pip install -r setup"
      ],
      "metadata": {
        "id": "EOJidPMAJRKq",
        "tags": [
          "outputPrepend"
        ]
      },
      "execution_count": 1,
      "outputs": [
        {
          "output_type": "stream",
          "name": "stdout",
          "text": [
            "ers~=2.0 in /usr/local/lib/python3.7/dist-packages (from cirq-core>=0.12.0->openfermion->-r setup (line 3)) (2.4.0)\n",
            "Requirement already satisfied: tqdm in /usr/local/lib/python3.7/dist-packages (from cirq-core>=0.12.0->openfermion->-r setup (line 3)) (4.62.3)\n",
            "Requirement already satisfied: typing-extensions in /usr/local/lib/python3.7/dist-packages (from cirq-core>=0.12.0->openfermion->-r setup (line 3)) (3.10.0.2)\n",
            "Requirement already satisfied: pandas in /usr/local/lib/python3.7/dist-packages (from cirq-core>=0.12.0->openfermion->-r setup (line 3)) (1.1.5)\n",
            "Requirement already satisfied: matplotlib~=3.0 in /usr/local/lib/python3.7/dist-packages (from cirq-core>=0.12.0->openfermion->-r setup (line 3)) (3.2.2)\n",
            "Requirement already satisfied: google-api-core[grpc]<2.0.0dev,>=1.14.0 in /usr/local/lib/python3.7/dist-packages (from cirq-google>=0.12.0->openfermion->-r setup (line 3)) (1.26.3)\n",
            "Requirement already satisfied: protobuf>=3.13.0 in /usr/local/lib/python3.7/dist-packages (from cirq-google>=0.12.0->openfermion->-r setup (line 3)) (3.17.3)\n",
            "Requirement already satisfied: packaging>=14.3 in /usr/local/lib/python3.7/dist-packages (from google-api-core[grpc]<2.0.0dev,>=1.14.0->cirq-google>=0.12.0->openfermion->-r setup (line 3)) (21.3)\n",
            "Requirement already satisfied: pytz in /usr/local/lib/python3.7/dist-packages (from google-api-core[grpc]<2.0.0dev,>=1.14.0->cirq-google>=0.12.0->openfermion->-r setup (line 3)) (2018.9)\n",
            "Requirement already satisfied: setuptools>=40.3.0 in /usr/local/lib/python3.7/dist-packages (from google-api-core[grpc]<2.0.0dev,>=1.14.0->cirq-google>=0.12.0->openfermion->-r setup (line 3)) (57.4.0)\n",
            "Requirement already satisfied: google-auth<2.0dev,>=1.21.1 in /usr/local/lib/python3.7/dist-packages (from google-api-core[grpc]<2.0.0dev,>=1.14.0->cirq-google>=0.12.0->openfermion->-r setup (line 3)) (1.35.0)\n",
            "Requirement already satisfied: six>=1.13.0 in /usr/local/lib/python3.7/dist-packages (from google-api-core[grpc]<2.0.0dev,>=1.14.0->cirq-google>=0.12.0->openfermion->-r setup (line 3)) (1.15.0)\n",
            "Requirement already satisfied: googleapis-common-protos<2.0dev,>=1.6.0 in /usr/local/lib/python3.7/dist-packages (from google-api-core[grpc]<2.0.0dev,>=1.14.0->cirq-google>=0.12.0->openfermion->-r setup (line 3)) (1.54.0)\n",
            "Requirement already satisfied: grpcio<2.0dev,>=1.29.0 in /usr/local/lib/python3.7/dist-packages (from google-api-core[grpc]<2.0.0dev,>=1.14.0->cirq-google>=0.12.0->openfermion->-r setup (line 3)) (1.43.0)\n",
            "Requirement already satisfied: pyasn1-modules>=0.2.1 in /usr/local/lib/python3.7/dist-packages (from google-auth<2.0dev,>=1.21.1->google-api-core[grpc]<2.0.0dev,>=1.14.0->cirq-google>=0.12.0->openfermion->-r setup (line 3)) (0.2.8)\n",
            "Requirement already satisfied: rsa<5,>=3.1.4 in /usr/local/lib/python3.7/dist-packages (from google-auth<2.0dev,>=1.21.1->google-api-core[grpc]<2.0.0dev,>=1.14.0->cirq-google>=0.12.0->openfermion->-r setup (line 3)) (4.8)\n",
            "Requirement already satisfied: cachetools<5.0,>=2.0.0 in /usr/local/lib/python3.7/dist-packages (from google-auth<2.0dev,>=1.21.1->google-api-core[grpc]<2.0.0dev,>=1.14.0->cirq-google>=0.12.0->openfermion->-r setup (line 3)) (4.2.4)\n",
            "Requirement already satisfied: kiwisolver>=1.0.1 in /usr/local/lib/python3.7/dist-packages (from matplotlib~=3.0->cirq-core>=0.12.0->openfermion->-r setup (line 3)) (1.3.2)\n",
            "Requirement already satisfied: cycler>=0.10 in /usr/local/lib/python3.7/dist-packages (from matplotlib~=3.0->cirq-core>=0.12.0->openfermion->-r setup (line 3)) (0.11.0)\n",
            "Requirement already satisfied: python-dateutil>=2.1 in /usr/local/lib/python3.7/dist-packages (from matplotlib~=3.0->cirq-core>=0.12.0->openfermion->-r setup (line 3)) (2.8.2)\n",
            "Requirement already satisfied: pyasn1<0.5.0,>=0.4.6 in /usr/local/lib/python3.7/dist-packages (from pyasn1-modules>=0.2.1->google-auth<2.0dev,>=1.21.1->google-api-core[grpc]<2.0.0dev,>=1.14.0->cirq-google>=0.12.0->openfermion->-r setup (line 3)) (0.4.8)\n",
            "Requirement already satisfied: certifi>=2017.4.17 in /usr/local/lib/python3.7/dist-packages (from requests>=2.18->openfermion->-r setup (line 3)) (2021.10.8)\n",
            "Requirement already satisfied: chardet<4,>=3.0.2 in /usr/local/lib/python3.7/dist-packages (from requests>=2.18->openfermion->-r setup (line 3)) (3.0.4)\n",
            "Requirement already satisfied: idna<3,>=2.5 in /usr/local/lib/python3.7/dist-packages (from requests>=2.18->openfermion->-r setup (line 3)) (2.10)\n",
            "Requirement already satisfied: urllib3!=1.25.0,!=1.25.1,<1.26,>=1.21.1 in /usr/local/lib/python3.7/dist-packages (from requests>=2.18->openfermion->-r setup (line 3)) (1.24.3)\n",
            "Requirement already satisfied: pytest in /usr/local/lib/python3.7/dist-packages (from openfermionpyscf->-r setup (line 4)) (3.6.4)\n",
            "Collecting qiskit-terra==0.19.1\n",
            "  Downloading qiskit_terra-0.19.1-cp37-cp37m-manylinux2010_x86_64.whl (6.4 MB)\n",
            "\u001b[K     |████████████████████████████████| 6.4 MB 31.4 MB/s \n",
            "\u001b[?25hCollecting qiskit-aer==0.10.2\n",
            "  Downloading qiskit_aer-0.10.2-cp37-cp37m-manylinux_2_12_x86_64.manylinux2010_x86_64.whl (18.0 MB)\n",
            "\u001b[K     |████████████████████████████████| 18.0 MB 377 kB/s \n",
            "\u001b[?25hCollecting qiskit-ibmq-provider==0.18.3\n",
            "  Downloading qiskit_ibmq_provider-0.18.3-py3-none-any.whl (238 kB)\n",
            "\u001b[K     |████████████████████████████████| 238 kB 77.3 MB/s \n",
            "\u001b[?25hCollecting qiskit-ignis==0.7.0\n",
            "  Downloading qiskit_ignis-0.7.0-py3-none-any.whl (200 kB)\n",
            "\u001b[K     |████████████████████████████████| 200 kB 65.3 MB/s \n",
            "\u001b[?25hCollecting requests-ntlm>=1.1.0\n",
            "  Downloading requests_ntlm-1.1.0-py2.py3-none-any.whl (5.7 kB)\n",
            "Requirement already satisfied: websocket-client>=1.0.1 in /usr/local/lib/python3.7/dist-packages (from qiskit-ibmq-provider==0.18.3->qiskit->-r setup (line 7)) (1.2.3)\n",
            "Collecting retworkx>=0.8.0\n",
            "  Downloading retworkx-0.10.2-cp37-cp37m-manylinux_2_5_x86_64.manylinux1_x86_64.manylinux_2_12_x86_64.manylinux2010_x86_64.whl (1.4 MB)\n",
            "\u001b[K     |████████████████████████████████| 1.4 MB 54.6 MB/s \n",
            "\u001b[?25hRequirement already satisfied: dill>=0.3 in /usr/local/lib/python3.7/dist-packages (from qiskit-terra==0.19.1->qiskit->-r setup (line 7)) (0.3.4)\n",
            "Collecting scipy!=1.5.0,!=1.5.1\n",
            "  Downloading scipy-1.7.3-cp37-cp37m-manylinux_2_12_x86_64.manylinux2010_x86_64.whl (38.1 MB)\n",
            "\u001b[K     |████████████████████████████████| 38.1 MB 1.2 MB/s \n",
            "\u001b[?25hCollecting python-constraint>=1.4\n",
            "  Downloading python-constraint-1.4.0.tar.bz2 (18 kB)\n",
            "Collecting stevedore>=3.0.0\n",
            "  Downloading stevedore-3.5.0-py3-none-any.whl (49 kB)\n",
            "\u001b[K     |████████████████████████████████| 49 kB 6.6 MB/s \n",
            "\u001b[?25hRequirement already satisfied: psutil>=5 in /usr/local/lib/python3.7/dist-packages (from qiskit-terra==0.19.1->qiskit->-r setup (line 7)) (5.4.8)\n",
            "Collecting ply>=3.10\n",
            "  Downloading ply-3.11-py2.py3-none-any.whl (49 kB)\n",
            "\u001b[K     |████████████████████████████████| 49 kB 7.3 MB/s \n",
            "\u001b[?25hCollecting tweedledum<2.0,>=1.1\n",
            "  Downloading tweedledum-1.1.1-cp37-cp37m-manylinux_2_12_x86_64.manylinux2010_x86_64.whl (943 kB)\n",
            "\u001b[K     |████████████████████████████████| 943 kB 50.2 MB/s \n",
            "\u001b[?25hCollecting ntlm-auth>=1.0.2\n",
            "  Downloading ntlm_auth-1.5.0-py2.py3-none-any.whl (29 kB)\n",
            "Collecting cryptography>=1.3\n",
            "  Downloading cryptography-36.0.1-cp36-abi3-manylinux_2_24_x86_64.whl (3.6 MB)\n",
            "\u001b[K     |████████████████████████████████| 3.6 MB 36.0 MB/s \n",
            "\u001b[?25hRequirement already satisfied: cffi>=1.12 in /usr/local/lib/python3.7/dist-packages (from cryptography>=1.3->requests-ntlm>=1.1.0->qiskit-ibmq-provider==0.18.3->qiskit->-r setup (line 7)) (1.15.0)\n",
            "Requirement already satisfied: pycparser in /usr/local/lib/python3.7/dist-packages (from cffi>=1.12->cryptography>=1.3->requests-ntlm>=1.1.0->qiskit-ibmq-provider==0.18.3->qiskit->-r setup (line 7)) (2.21)\n",
            "Collecting pbr!=2.1.0,>=2.0.0\n",
            "  Downloading pbr-5.8.0-py2.py3-none-any.whl (112 kB)\n",
            "\u001b[K     |████████████████████████████████| 112 kB 84.2 MB/s \n",
            "\u001b[?25hRequirement already satisfied: importlib-metadata>=1.7.0 in /usr/local/lib/python3.7/dist-packages (from stevedore>=3.0.0->qiskit-terra==0.19.1->qiskit->-r setup (line 7)) (4.10.0)\n",
            "Requirement already satisfied: zipp>=0.5 in /usr/local/lib/python3.7/dist-packages (from importlib-metadata>=1.7.0->stevedore>=3.0.0->qiskit-terra==0.19.1->qiskit->-r setup (line 7)) (3.7.0)\n",
            "Requirement already satisfied: mpmath>=0.19 in /usr/local/lib/python3.7/dist-packages (from sympy->openfermion->-r setup (line 3)) (1.2.1)\n",
            "Collecting dwave-tabu==0.4.3\n",
            "  Downloading dwave_tabu-0.4.3-cp37-cp37m-manylinux_2_17_x86_64.manylinux2014_x86_64.whl (696 kB)\n",
            "\u001b[K     |████████████████████████████████| 696 kB 70.3 MB/s \n",
            "\u001b[?25hCollecting penaltymodel==0.16.6\n",
            "  Downloading penaltymodel-0.16.6-py3-none-any.whl (13 kB)\n",
            "Collecting dwave-hybrid==0.6.5\n",
            "  Downloading dwave_hybrid-0.6.5-py3-none-any.whl (69 kB)\n",
            "\u001b[K     |████████████████████████████████| 69 kB 7.1 MB/s \n",
            "\u001b[?25hCollecting dwave-qbsolv==0.3.4\n",
            "  Downloading dwave_qbsolv-0.3.4-cp37-cp37m-manylinux_2_17_x86_64.manylinux2014_x86_64.whl (271 kB)\n",
            "\u001b[K     |████████████████████████████████| 271 kB 91.2 MB/s \n",
            "\u001b[?25hCollecting pyqubo==1.0.13\n",
            "  Downloading pyqubo-1.0.13-cp37-cp37m-manylinux_2_5_x86_64.manylinux1_x86_64.whl (887 kB)\n",
            "\u001b[K     |████████████████████████████████| 887 kB 65.5 MB/s \n",
            "\u001b[?25hCollecting penaltymodel-mip==0.2.6\n",
            "  Downloading penaltymodel_mip-0.2.6-py3-none-any.whl (7.8 kB)\n",
            "Collecting dwave-networkx==0.8.10\n",
            "  Downloading dwave_networkx-0.8.10-py3-none-any.whl (88 kB)\n",
            "\u001b[K     |████████████████████████████████| 88 kB 8.3 MB/s \n",
            "\u001b[?25hCollecting dwave-system==1.11.0\n",
            "  Downloading dwave_system-1.11.0-py3-none-any.whl (88 kB)\n",
            "\u001b[K     |████████████████████████████████| 88 kB 9.4 MB/s \n",
            "\u001b[?25hCollecting dwave-neal==0.5.9\n",
            "  Downloading dwave_neal-0.5.9-cp37-cp37m-manylinux_2_5_x86_64.manylinux1_x86_64.manylinux_2_12_x86_64.manylinux2010_x86_64.whl (497 kB)\n",
            "\u001b[K     |████████████████████████████████| 497 kB 88.9 MB/s \n",
            "\u001b[?25hCollecting dwave-preprocessing==0.3.2\n",
            "  Downloading dwave_preprocessing-0.3.2-cp37-cp37m-manylinux_2_12_x86_64.manylinux2010_x86_64.whl (935 kB)\n",
            "\u001b[K     |████████████████████████████████| 935 kB 56.5 MB/s \n",
            "\u001b[?25hCollecting penaltymodel-lp==0.1.6\n",
            "  Downloading penaltymodel_lp-0.1.6-py3-none-any.whl (7.3 kB)\n",
            "Collecting penaltymodel-cache==0.4.5\n",
            "  Downloading penaltymodel_cache-0.4.5-py3-none-any.whl (12 kB)\n",
            "Collecting dwave-cloud-client==0.9.3\n",
            "  Downloading dwave_cloud_client-0.9.3-py3-none-any.whl (107 kB)\n",
            "\u001b[K     |████████████████████████████████| 107 kB 65.1 MB/s \n",
            "\u001b[?25hCollecting dwavebinarycsp==0.1.4\n",
            "  Downloading dwavebinarycsp-0.1.4-py3-none-any.whl (35 kB)\n",
            "Collecting dwave-inspector==0.2.9\n",
            "  Downloading dwave_inspector-0.2.9-py3-none-any.whl (26 kB)\n",
            "Collecting minorminer==0.2.7\n",
            "  Downloading minorminer-0.2.7-cp37-cp37m-manylinux_2_12_x86_64.manylinux2010_x86_64.whl (5.0 MB)\n",
            "\u001b[K     |████████████████████████████████| 5.0 MB 57.6 MB/s \n",
            "\u001b[?25hCollecting dwave-greedy==0.2.2\n",
            "  Downloading dwave_greedy-0.2.2-cp37-cp37m-manylinux_2_17_x86_64.manylinux2014_x86_64.whl (655 kB)\n",
            "\u001b[K     |████████████████████████████████| 655 kB 37.9 MB/s \n",
            "\u001b[?25hCollecting pydantic>=1.7.3\n",
            "  Downloading pydantic-1.9.0-cp37-cp37m-manylinux_2_17_x86_64.manylinux2014_x86_64.whl (10.9 MB)\n",
            "\u001b[K     |████████████████████████████████| 10.9 MB 45.1 MB/s \n",
            "\u001b[?25hRequirement already satisfied: click>=7.0 in /usr/local/lib/python3.7/dist-packages (from dwave-cloud-client==0.9.3->dwave-ocean-sdk->-r setup (line 8)) (7.1.2)\n",
            "Collecting homebase>=1.0\n",
            "  Downloading homebase-1.0.1-py2.py3-none-any.whl (11 kB)\n",
            "Collecting diskcache>=5.2.1\n",
            "  Downloading diskcache-5.4.0-py3-none-any.whl (44 kB)\n",
            "\u001b[K     |████████████████████████████████| 44 kB 3.3 MB/s \n",
            "\u001b[?25hCollecting plucky>=0.4.3\n",
            "  Downloading plucky-0.4.3-py2.py3-none-any.whl (10 kB)\n",
            "Requirement already satisfied: Flask>=1.1.1 in /usr/local/lib/python3.7/dist-packages (from dwave-inspector==0.2.9->dwave-ocean-sdk->-r setup (line 8)) (1.1.4)\n",
            "Requirement already satisfied: importlib-resources>=3.2.0 in /usr/local/lib/python3.7/dist-packages (from dwave-inspector==0.2.9->dwave-ocean-sdk->-r setup (line 8)) (5.4.0)\n",
            "Requirement already satisfied: decorator<5.0.0,>=4.1.0 in /usr/local/lib/python3.7/dist-packages (from dwave-networkx==0.8.10->dwave-ocean-sdk->-r setup (line 8)) (4.4.2)\n",
            "Collecting rectangle-packer>=2.0.1\n",
            "  Downloading rectangle_packer-2.0.1-cp37-cp37m-manylinux2010_x86_64.whl (246 kB)\n",
            "\u001b[K     |████████████████████████████████| 246 kB 42.3 MB/s \n",
            "\u001b[?25hCollecting fasteners\n",
            "  Downloading fasteners-0.16.3-py2.py3-none-any.whl (28 kB)\n",
            "Collecting ortools<10.0.0,>=6.6.4659\n",
            "  Downloading ortools-9.2.9972-cp37-cp37m-manylinux_2_17_x86_64.manylinux2014_x86_64.whl (14.6 MB)\n",
            "\u001b[K     |████████████████████████████████| 14.6 MB 34.7 MB/s \n",
            "\u001b[?25hCollecting Deprecated>=1.2.12\n",
            "  Downloading Deprecated-1.2.13-py2.py3-none-any.whl (9.6 kB)\n",
            "Requirement already satisfied: wrapt<2,>=1.10 in /usr/local/lib/python3.7/dist-packages (from Deprecated>=1.2.12->pyqubo==1.0.13->dwave-ocean-sdk->-r setup (line 8)) (1.13.3)\n",
            "Requirement already satisfied: Jinja2<3.0,>=2.10.1 in /usr/local/lib/python3.7/dist-packages (from Flask>=1.1.1->dwave-inspector==0.2.9->dwave-ocean-sdk->-r setup (line 8)) (2.11.3)\n",
            "Requirement already satisfied: Werkzeug<2.0,>=0.15 in /usr/local/lib/python3.7/dist-packages (from Flask>=1.1.1->dwave-inspector==0.2.9->dwave-ocean-sdk->-r setup (line 8)) (1.0.1)\n",
            "Requirement already satisfied: itsdangerous<2.0,>=0.24 in /usr/local/lib/python3.7/dist-packages (from Flask>=1.1.1->dwave-inspector==0.2.9->dwave-ocean-sdk->-r setup (line 8)) (1.1.0)\n",
            "Requirement already satisfied: MarkupSafe>=0.23 in /usr/local/lib/python3.7/dist-packages (from Jinja2<3.0,>=2.10.1->Flask>=1.1.1->dwave-inspector==0.2.9->dwave-ocean-sdk->-r setup (line 8)) (2.0.1)\n",
            "Collecting protobuf>=3.13.0\n",
            "  Downloading protobuf-3.19.3-cp37-cp37m-manylinux_2_17_x86_64.manylinux2014_x86_64.whl (1.1 MB)\n",
            "\u001b[K     |████████████████████████████████| 1.1 MB 46.8 MB/s \n",
            "\u001b[?25hCollecting absl-py>=0.13\n",
            "  Downloading absl_py-1.0.0-py3-none-any.whl (126 kB)\n",
            "\u001b[K     |████████████████████████████████| 126 kB 96.3 MB/s \n",
            "\u001b[?25hRequirement already satisfied: PySocks!=1.5.7,>=1.5.6 in /usr/local/lib/python3.7/dist-packages (from requests>=2.18->openfermion->-r setup (line 3)) (1.7.1)\n",
            "Collecting ordered-set\n",
            "  Downloading ordered-set-4.0.2.tar.gz (10 kB)\n",
            "Requirement already satisfied: attrs>=17.4.0 in /usr/local/lib/python3.7/dist-packages (from pytest->openfermionpyscf->-r setup (line 4)) (21.4.0)\n",
            "Requirement already satisfied: pluggy<0.8,>=0.5 in /usr/local/lib/python3.7/dist-packages (from pytest->openfermionpyscf->-r setup (line 4)) (0.7.1)\n",
            "Requirement already satisfied: atomicwrites>=1.0 in /usr/local/lib/python3.7/dist-packages (from pytest->openfermionpyscf->-r setup (line 4)) (1.4.0)\n",
            "Requirement already satisfied: py>=1.5.0 in /usr/local/lib/python3.7/dist-packages (from pytest->openfermionpyscf->-r setup (line 4)) (1.11.0)\n",
            "Requirement already satisfied: more-itertools>=4.0.0 in /usr/local/lib/python3.7/dist-packages (from pytest->openfermionpyscf->-r setup (line 4)) (8.12.0)\n",
            "Requirement already satisfied: scikit-learn>=0.20.0 in /usr/local/lib/python3.7/dist-packages (from qiskit-nature[pyscf]->-r setup (line 6)) (1.0.2)\n",
            "Requirement already satisfied: threadpoolctl>=2.0.0 in /usr/local/lib/python3.7/dist-packages (from scikit-learn>=0.20.0->qiskit-nature[pyscf]->-r setup (line 6)) (3.0.0)\n",
            "Requirement already satisfied: joblib>=0.11 in /usr/local/lib/python3.7/dist-packages (from scikit-learn>=0.20.0->qiskit-nature[pyscf]->-r setup (line 6)) (1.1.0)\n",
            "Building wheels for collected packages: qiskit, python-constraint, pylatex, ordered-set, pubchempy\n",
            "  Building wheel for qiskit (setup.py) ... \u001b[?25l\u001b[?25hdone\n",
            "  Created wheel for qiskit: filename=qiskit-0.34.1-py3-none-any.whl size=11771 sha256=13a711614a0c68e868f73b8145fc3083c5765b29ac4cd662792cbd8501b6e1b2\n",
            "  Stored in directory: /root/.cache/pip/wheels/79/b1/3f/8cdfd5543a84705e4bd16e081f2362b9b3bfd9898d2e2d4150\n",
            "  Building wheel for python-constraint (setup.py) ... \u001b[?25l\u001b[?25hdone\n",
            "  Created wheel for python-constraint: filename=python_constraint-1.4.0-py2.py3-none-any.whl size=24081 sha256=fda9523842880b2c65533d371be5682c4e9d02846c1912e5544d3a4d25d518fe\n",
            "  Stored in directory: /root/.cache/pip/wheels/07/27/db/1222c80eb1e431f3d2199c12569cb1cac60f562a451fe30479\n",
            "  Building wheel for pylatex (setup.py) ... \u001b[?25l\u001b[?25hdone\n",
            "  Created wheel for pylatex: filename=PyLaTeX-1.4.1-py3-none-any.whl size=42816 sha256=2f8c91610ed77b1bccef1d70d8a99eb122cadab4a87d2308034b4a3fbf7fa4f8\n",
            "  Stored in directory: /root/.cache/pip/wheels/4c/62/73/7688c83647b2103ef0c1b783730c8dc50fbbc3667eea6b1cb8\n",
            "  Building wheel for ordered-set (setup.py) ... \u001b[?25l\u001b[?25hdone\n",
            "  Created wheel for ordered-set: filename=ordered_set-4.0.2-py2.py3-none-any.whl size=8219 sha256=ebde3de1f7e8d5614fa466478b788f3e8ec02b9a79c260ad4989ff7824825786\n",
            "  Stored in directory: /root/.cache/pip/wheels/73/2b/f6/26e9f84153c25050fe7c09e88f8e32a6be3c7034a38c418319\n",
            "  Building wheel for pubchempy (setup.py) ... \u001b[?25l\u001b[?25hdone\n",
            "  Created wheel for pubchempy: filename=PubChemPy-1.0.4-py3-none-any.whl size=13834 sha256=18d5a766043157bc070e2380e73fd484b868076b6c46e11a738ea9e30966ddc5\n",
            "  Stored in directory: /root/.cache/pip/wheels/7c/3d/8c/8192697412e9899dc55bbbb08bbc1197bef333caaa2a71c448\n",
            "Successfully built qiskit python-constraint pylatex ordered-set pubchempy\n",
            "Installing collected packages: pyparsing, protobuf, dimod, scipy, rectangle-packer, pydantic, plucky, pbr, homebase, fasteners, dwave-networkx, duet, diskcache, tweedledum, symengine, stevedore, retworkx, python-constraint, ply, penaltymodel, ntlm-auth, minorminer, dwave-tabu, dwave-preprocessing, dwave-cloud-client, cryptography, cirq-core, absl-py, requests-ntlm, qiskit-terra, pubchempy, penaltymodel-lp, penaltymodel-cache, ortools, dwave-system, dwave-neal, dwave-greedy, deprecation, Deprecated, cirq-google, qiskit-nature, qiskit-ignis, qiskit-ibmq-provider, qiskit-aer, pyscf, pyqubo, penaltymodel-mip, ordered-set, openfermion, dwavebinarycsp, dwave-qbsolv, dwave-inspector, dwave-hybrid, qiskit, pylatex, openfermionpyscf, dwave-ocean-sdk\n",
            "  Attempting uninstall: pyparsing\n",
            "    Found existing installation: pyparsing 3.0.6\n",
            "    Uninstalling pyparsing-3.0.6:\n",
            "      Successfully uninstalled pyparsing-3.0.6\n",
            "  Attempting uninstall: protobuf\n",
            "    Found existing installation: protobuf 3.17.3\n",
            "    Uninstalling protobuf-3.17.3:\n",
            "      Successfully uninstalled protobuf-3.17.3\n",
            "  Attempting uninstall: scipy\n",
            "    Found existing installation: scipy 1.4.1\n",
            "    Uninstalling scipy-1.4.1:\n",
            "      Successfully uninstalled scipy-1.4.1\n",
            "  Attempting uninstall: absl-py\n",
            "    Found existing installation: absl-py 0.12.0\n",
            "    Uninstalling absl-py-0.12.0:\n",
            "      Successfully uninstalled absl-py-0.12.0\n",
            "\u001b[31mERROR: pip's dependency resolver does not currently take into account all the packages that are installed. This behaviour is the source of the following dependency conflicts.\n",
            "tensorflow-metadata 1.5.0 requires absl-py<0.13,>=0.9, but you have absl-py 1.0.0 which is incompatible.\n",
            "albumentations 0.1.12 requires imgaug<0.2.7,>=0.2.5, but you have imgaug 0.2.9 which is incompatible.\u001b[0m\n",
            "Successfully installed Deprecated-1.2.13 absl-py-1.0.0 cirq-core-0.13.1 cirq-google-0.13.1 cryptography-36.0.1 deprecation-2.1.0 dimod-0.10.10 diskcache-5.4.0 duet-0.2.3 dwave-cloud-client-0.9.3 dwave-greedy-0.2.2 dwave-hybrid-0.6.5 dwave-inspector-0.2.9 dwave-neal-0.5.9 dwave-networkx-0.8.10 dwave-ocean-sdk-4.3.0 dwave-preprocessing-0.3.2 dwave-qbsolv-0.3.4 dwave-system-1.11.0 dwave-tabu-0.4.3 dwavebinarycsp-0.1.4 fasteners-0.16.3 homebase-1.0.1 minorminer-0.2.7 ntlm-auth-1.5.0 openfermion-1.3.0 openfermionpyscf-0.5 ordered-set-4.0.2 ortools-9.2.9972 pbr-5.8.0 penaltymodel-0.16.6 penaltymodel-cache-0.4.5 penaltymodel-lp-0.1.6 penaltymodel-mip-0.2.6 plucky-0.4.3 ply-3.11 protobuf-3.19.3 pubchempy-1.0.4 pydantic-1.9.0 pylatex-1.4.1 pyparsing-2.4.7 pyqubo-1.0.13 pyscf-2.0.1 python-constraint-1.4.0 qiskit-0.34.1 qiskit-aer-0.10.2 qiskit-ibmq-provider-0.18.3 qiskit-ignis-0.7.0 qiskit-nature-0.3.0 qiskit-terra-0.19.1 rectangle-packer-2.0.1 requests-ntlm-1.1.0 retworkx-0.10.2 scipy-1.7.3 stevedore-3.5.0 symengine-0.8.1 tweedledum-1.1.1\n"
          ]
        },
        {
          "output_type": "display_data",
          "data": {
            "application/vnd.colab-display-data+json": {
              "pip_warning": {
                "packages": [
                  "google",
                  "pyparsing"
                ]
              }
            }
          },
          "metadata": {}
        }
      ]
    },
    {
      "cell_type": "code",
      "execution_count": null,
      "metadata": {
        "id": "F6UL2F6LOih9"
      },
      "outputs": [],
      "source": [
        "#@title Cell 5\n",
        "#%%capture uncomment in google colab to hide output. if using vscode, simply copy and past the code below in the terminal.\n",
        "#API Token: DEV-4f5f3a7d07f2dc98dccd35b17cdbaf20b5b7e8cf #use your own dwave Leap API Token\n",
        "!dwave setup"
      ]
    },
    {
      "source": [
        "Install all required modules in cell 6 below."
      ],
      "cell_type": "markdown",
      "metadata": {
        "id": "RPssXZpxOih-"
      }
    },
    {
      "cell_type": "code",
      "source": [
        "#@title Cell 6\n",
        "#General\n",
        "import numpy as np\n",
        "import json\n",
        "import scipy\n",
        "import scipy.linalg\n",
        "import math\n",
        "import time\n",
        "import matplotlib.pyplot as plt\n",
        "from IPython.display import display, clear_output\n",
        "\n",
        "#Molecule Drivers\n",
        "import pyscf\n",
        "from pyscf import gto, scf, mcscf\n",
        "\n",
        "##QISKIT\n",
        "#Molecule, Fermioninc Operator, Problem Definition\n",
        "from qiskit_nature.drivers import Molecule\n",
        "from qiskit_nature.operators.second_quantization import FermionicOp\n",
        "from qiskit_nature.drivers.second_quantization.pyscfd import PySCFDriver\n",
        "from qiskit_nature.drivers.second_quantization import ElectronicStructureDriverType, ElectronicStructureMoleculeDriver\n",
        "from qiskit_nature.problems.second_quantization import ElectronicStructureProblem\n",
        "\n",
        "#Qubit Operator\n",
        "from qiskit_nature.mappers.second_quantization import JordanWignerMapper, ParityMapper, BravyiKitaevMapper\n",
        "from qiskit_nature.converters.second_quantization import QubitConverter\n",
        "\n",
        "#Circuits, Simulators, Algorithms, Solvers and VQE\n",
        "from qiskit_nature.circuit.library import HartreeFock\n",
        "from qiskit.circuit.library import EfficientSU2, TwoLocal, NLocal, PauliTwoDesign\n",
        "from qiskit_nature.circuit.library import UCCSD, PUCCD, SUCCD\n",
        "from qiskit.algorithms import NumPyMinimumEigensolver\n",
        "from qiskit_nature.algorithms import GroundStateEigensolver\n",
        "from qiskit.providers.aer import StatevectorSimulator, QasmSimulator\n",
        "from qiskit.algorithms.optimizers import COBYLA, L_BFGS_B, SPSA, SLSQP\n",
        "from qiskit.algorithms import VQE\n",
        "from qiskit_nature.algorithms import VQEUCCFactory, GroundStateEigensolver\n",
        "\n",
        "##OPENFERMION\n",
        "from packages.openfermionpyscf import run_pyscf\n",
        "from openfermion.transforms import binary_code_transform, bravyi_kitaev_code, get_fermion_operator\n",
        "from openfermion.ops import FermionOperator, QubitOperator\n",
        "from openfermion.utils import count_qubits\n",
        "from openfermion.chem import MolecularData\n",
        "from openfermion.transforms import get_fermion_operator, jordan_wigner\n",
        "from openfermion.linalg import get_ground_state, get_sparse_operator\n",
        "import numpy\n",
        "import scipy\n",
        "import scipy.linalg\n",
        "\n",
        "##UTILITIES\n",
        "from helper_functions import *\n",
        "from XBK_method import *\n",
        "from QCC_method import *"
      ],
      "metadata": {
        "id": "W6yrBKabAP5H"
      },
      "execution_count": 1,
      "outputs": []
    },
    {
      "source": [
        "Set up the molecule and electronic structure rpoblem to work with in cell 7 below. Some molecule have been set up below, uncomment the relevant sections to run experiements with those or create an equivalent code block with a molecule of your choice."
      ],
      "cell_type": "markdown",
      "metadata": {
        "id": "oB0SlSA8OiiA"
      }
    },
    {
      "cell_type": "code",
      "source": [
        "#@title Cell 6\n",
        "\n",
        "#H2\n",
        "geometry = [['H', [  0.0,    0.0,    0.0]],\n",
        "            ['H', [  0.0,    0.0,   0.739]]]\n",
        "molecule = Molecule(geometry=geometry, charge=0, multiplicity=1)\n",
        "molecule_name = 'H2'\n",
        "basis = 'sto6g'\n",
        "\n",
        "# H3\n",
        "# geometry = [['H', [0.0, 0.0, 0.0]], ['H', [1.1, 0.0, 0.0]], ['H', [0.55, 0.9526279441628825, 0]]]\n",
        "# molecule = Molecule(geometry=geometry, charge=1, multiplicity=1)\n",
        "# molecule_name = 'H3'\n",
        "# basis = 'sto3g'\n",
        "\n",
        "# #LiH\n",
        "# geometry = [['Li', [0.0, 0.0, 0.0]], ['H', [0.0, 0.0, 1.5474]]]\n",
        "# molecule = Molecule(geometry=geometry, charge=0, multiplicity=1)\n",
        "# molecule_name = 'LiH'\n",
        "# basis = 'sto3g'\n",
        "\n",
        "# # H20\n",
        "# geometry = [['O', [0.0, 0.0, 0.0]], ['H', [0.0, 0.0, 1.0]], ['H', [0.0, 1.0, 0.0]]]\n",
        "# molecule = Molecule(geometry=geometry, charge=0, multiplicity=1)\n",
        "# molecule_name = 'H20'\n",
        "# basis = 'sto3g'\n",
        "\n",
        "# #HCONH2\n",
        "# geometry = [[\"O\",  [1.1280, 0.2091, 0.0000]],\n",
        "#             [\"N\", [-1.1878, 0.1791, 0.0000]],\n",
        "#             [\"C\", [0.0598, -0.3882, 0.0000]],\n",
        "#             [\"H\", [-1.3085, 1.1864, 0.0001]],\n",
        "#             [\"H\", [-2.0305, -0.3861, -0.0001]],\n",
        "#             [\"H\", [-0.0014, -1.4883, -0.0001]],\n",
        "#             ['C', [-0.1805, 1.3955, 0.000]]]\n",
        "# molecule = Molecule(geometry=geometry, charge=0, multiplicity=1)\n",
        "# molecule_name = 'HCONH2'\n",
        "# basis = 'sto3g'\n",
        "\n",
        "class Problem: \n",
        "    def __init__(self, molecule, molecule_name, basis, geometry):\n",
        "        self.molecule = molecule\n",
        "        self.molecule_name = molecule_name\n",
        "        self.basis = basis\n",
        "        self.geometry = str(geometry).replace(\" \", \"\")\n",
        "\n",
        "    def problemOperators(self, exact_solution = True):\n",
        "        driver = ElectronicStructureMoleculeDriver(molecule=self.molecule, basis=self.basis, driver_type=ElectronicStructureDriverType.PYSCF)\n",
        "\n",
        "        self.es_problem = ElectronicStructureProblem(driver)\n",
        "        self.second_q_op = self.es_problem.second_q_ops()\n",
        "        self.q_fermionic_op = self.second_q_op[0]\n",
        "        # register_length = q_fermionic_op.register_length\n",
        "        self.of_fermionic_op = qiskit2of_fermionicOp(self.q_fermionic_op)\n",
        "\n",
        "        self.qubit_converter = QubitConverter(JordanWignerMapper())\n",
        "        self.q_qubit_op = self.qubit_converter.convert(self.q_fermionic_op)\n",
        "        self.of_qubit_op = jordan_wigner(self.of_fermionic_op)\n",
        "        # m = count_qubits(qubit_H)\n",
        "        # print(qubit_H)\n",
        "\n",
        "        if exact_solution:\n",
        "            numpy_solver = NumPyMinimumEigensolver()\n",
        "            numpy_ground_state_solver = GroundStateEigensolver(self.qubit_converter, numpy_solver)\n",
        "            numpy_results = numpy_ground_state_solver.solve(self.es_problem)\n",
        "            self.exact_energy = numpy_results.computed_energies[0]\n",
        "            print(f\"Exact electronic energy: {self.exact_energy:.6f} Hartree\\n\")\n",
        "            # print(numpy_results)\n",
        "\n",
        "def callback(eval_count, parameters, mean, std):  \n",
        "    # Overwrites the same line when printing\n",
        "    display(\"Evaluation: {}, Energy: {}, Std: {}\".format(eval_count, mean, std))\n",
        "    clear_output(wait=True)\n",
        "    counts.append(eval_count)\n",
        "    values.append(mean)\n",
        "    params.append(parameters)\n",
        "    deviation.append(std)\n",
        "\n",
        "def minEnergyResults(problem, result_dict, method, backend):\n",
        "    key = problem.molecule_name+\"_\"+problem.geometry+\"_\"+basis+\"_\"+method+\"_\"+backend\n",
        "    fig, ax1 = plt.subplots(1, 1)\n",
        "    fig.set_figwidth(12)\n",
        "    fig.set_figheight(9)\n",
        "    color = 'tab:blue'\n",
        "    ax1.set_xlabel('Iterations')\n",
        "    ax1.set_ylabel('Energy')\n",
        "    ax1.plot(range(len(result_dict[key]['min energies'])), result_dict[key]['min energies'])\n",
        "    ax1.axhline(result_dict[key]['exact energy'], linestyle='--')\n",
        "\n",
        "    # ax2 = ax1.twinx() \n",
        "    # color = 'tab:orange'\n",
        "    # ax2.set_ylabel('Time', color=color)\n",
        "    # ax2.bar(range(len(min_energies)), iter_times, color=color, alpha = 0.2, width = 0.2)\n",
        "\n",
        "    if method == 'VQE':\n",
        "        fig_title = f\"\\\n",
        "        {result_dict[key]['setup']['mapping']}-\\\n",
        "        {result_dict[key]['setup']['ansatz']}-\\\n",
        "        {result_dict[key]['setup']['optimizer']}\"\n",
        "        plt.title(method+\" Convergence Plot\\n\"+fig_title)\n",
        "    elif method == 'QCC':\n",
        "        fig_title = f\"\\\n",
        "        {result_dict[key]['setup']['mapping']}-\\\n",
        "        {result_dict[key]['setup']['angle_folds']}-\\\n",
        "        {result_dict[key]['setup']['amplitude_folds']}\"\n",
        "        plt.title(method+\" Convergence Plot\\n\"+fig_title)\n",
        "    elif method == 'XBK':\n",
        "        fig_title = f\"\\\n",
        "        {result_dict[key]['setup']['mapping']}-\\\n",
        "        {result_dict[key]['setup']['r']}\"\n",
        "        plt.title(method+\" Convergence Plot\\n\"+fig_title)\n",
        "\n",
        "    newline = '\\n'\n",
        "    fig.text(0.65, 0.75, f\"\\\n",
        "        Minimum Energy: {result_dict[key]['result energy (Ha)']:.3f}{newline}\\\n",
        "        Runtime: {result_dict[key]['runtime']:.3f}{newline}\\\n",
        "        Number of Iterations: {result_dict[key]['# of evaluations']}\")\n",
        "\n",
        "    if os.path.exists('experiments/results.json'):\n",
        "        with open('experiments/results.json', 'r') as file:\n",
        "            results = json.loads(file.read())\n",
        "            results.update(result_dict)\n",
        "    else:\n",
        "        with open('experiments/results.json', 'w') as outfile:  \n",
        "            json.dump({}, outfile)\n",
        "        results = result_dict\n",
        "\n",
        "    with open('experiments/results.json','w') as outfile:\n",
        "        json.dump(results, outfile, sort_keys=True, indent=4)\n",
        "\n",
        "problem = Problem(molecule, molecule_name, basis, geometry)\n",
        "problem.problemOperators()\n"
      ],
      "metadata": {
        "id": "ilDGLnKXA-hJ",
        "outputId": "97a1dfc2-6dea-454a-8ce3-d38c29ff97d6"
      },
      "execution_count": 2,
      "outputs": [
        {
          "output_type": "stream",
          "name": "stdout",
          "text": [
            "Exact electronic energy: -1.862023 Hartree\n\n"
          ]
        }
      ]
    },
    {
      "source": [
        "Set up the IBM Quantum Device backend in cell 7 below. DO not run cell 7 if you would like to use a simulator. Please use your own IBM Quantum authentication API token. You can login/sign up for an IBM Quantum account at https://quantum-computing.ibm.com/"
      ],
      "cell_type": "markdown",
      "metadata": {
        "id": "qvoYC8roOiiC"
      }
    },
    {
      "source": [
        "Run cell 8 below to set up the quantum annealer simulator or device. Uncomment as applicable."
      ],
      "cell_type": "markdown",
      "metadata": {
        "id": "_ZvI2cGDOiiD"
      }
    },
    {
      "cell_type": "code",
      "source": [
        "#@title Cell 8\n",
        "from neal import SimulatedAnnealingSampler\n",
        "sampler = SimulatedAnnealingSampler() #uses simulated annealing, see D-Wave's ocean sdk for more options\n",
        "\n",
        "# from dwave.system import LeapHybridSampler\n",
        "# sampler = LeapHybridSampler()"
      ],
      "metadata": {
        "id": "Jg0NxVjPKYJr"
      },
      "execution_count": 2,
      "outputs": []
    },
    {
      "source": [
        "Run cell 9 to get the classical solution for the exact electronic energy, this may not be feasible for large molecules. (Isn't that the point?)"
      ],
      "cell_type": "markdown",
      "metadata": {
        "id": "c-5vB_tiOiiD"
      }
    },
    {
      "cell_type": "code",
      "source": [
        "method = \"VQE\"\n",
        "init_state = HartreeFock(problem.es_problem.num_spin_orbitals, problem.es_problem.num_particles, problem.qubit_converter)\n",
        "\n",
        "## Backend\n",
        "# from qiskit import IBMQ\n",
        "# IBMQ.save_account('f10a5be117c16a6472c748a25874a94883f6021cf9bfe6f406e015522235a968d8eb0a5812f47160385c72355172371278d3c36e75e23fc7f4d73f1523fcbdf8')\n",
        "# provider = IBMQ.load_account()\n",
        "# # provider = IBMQ.get_provider(project='qiskit-runtime')  # Change this to your provider.\n",
        "# backend = provider.get_backend('ibmq_qasm_simulator')\n",
        "backend = QasmSimulator()\n",
        "\n",
        "## Ansatz\n",
        "from qiskit.circuit.library import TwoLocal\n",
        "from qiskit_nature.circuit.library import UCCSD, PUCCD, SUCCD\n",
        "\n",
        "ansatz_type = \"UCCSD\"\n",
        "if ansatz_type == \"TwoLocal\":\n",
        "    rotation_blocks = ['ry', 'rz']\n",
        "    entanglement_blocks = 'cx'\n",
        "    entanglement = 'full'\n",
        "    repetitions = 3\n",
        "    skip_final_rotation_layer = True\n",
        "    ansatz = TwoLocal(problem.q_qubit_op.num_qubits, rotation_blocks, entanglement_blocks, reps=repetitions, \n",
        "                      entanglement=entanglement, skip_final_rotation_layer=skip_final_rotation_layer)\n",
        "    ansatz.compose(init_state, front=True, inplace=True)\n",
        "elif ansatz_type == \"UCCSD\":\n",
        "    ansatz = UCCSD(problem.qubit_converter,problem.es_problem.num_particles,problem.es_problem.num_spin_orbitals,initial_state = init_state)\n",
        "elif ansatz_type == \"PUCCD\":\n",
        "    ansatz = PUCCD(problem.qubit_converter,problem.es_problem.num_particles,problem.es_problem.num_spin_orbitals,initial_state = init_state)\n",
        "elif ansatz_type == \"SUCCD\":\n",
        "    ansatz = SUCCD(problem.qubit_converter,problem.es_problem.num_particles,problem.es_problem.num_spin_orbitals,initial_state = init_state)\n",
        "\n",
        "## Optimizer\n",
        "from qiskit.algorithms.optimizers import COBYLA, L_BFGS_B, SPSA, SLSQP\n",
        "\n",
        "optimizer_type = 'COBYLA'\n",
        "if optimizer_type == 'COBYLA':\n",
        "    optimizer = COBYLA(maxiter=500)\n",
        "elif optimizer_type == 'L_BFGS_B':\n",
        "    optimizer = L_BFGS_B(maxfun=500)\n",
        "elif optimizer_type == 'SPSA':\n",
        "    optimizer = SPSA(maxiter=500)\n",
        "elif optimizer_type == 'SLSQP':\n",
        "    optimizer = SLSQP(maxiter=500)\n",
        "\n",
        "#how about freeze core, Z2symmetry reduction and removed orbitals?\n",
        "if ansatz_type == \"TwoLocal\":\n",
        "    param_dict = {\n",
        "        'optimizer': optimizer.__class__.__name__,\n",
        "        'mapping': problem.qubit_converter.mapper.__class__.__name__,\n",
        "        'ansatz': ansatz.__class__.__name__,\n",
        "        'rotation blocks': rotation_blocks,\n",
        "        'entanglement_blocks': entanglement_blocks,\n",
        "        'entanglement': entanglement,\n",
        "        'repetitions': repetitions,\n",
        "        'skip_final_rotation_layer': skip_final_rotation_layer}\n",
        "else:\n",
        "    param_dict = {\n",
        "        'optimizer': optimizer.__class__.__name__,\n",
        "        'mapping': problem.qubit_converter.mapper.__class__.__name__,\n",
        "        'ansatz': ansatz.__class__.__name__,\n",
        "        'rotation blocks': None,\n",
        "        'entanglement_blocks': None,\n",
        "        'entanglement': None,\n",
        "        'repetitions': None,\n",
        "        'skip_final_rotation_layer': None}\n",
        "\n",
        "np.random.seed(5)  # fix seed for reproducibility\n",
        "initial_point = np.random.random(ansatz.num_parameters)\n",
        "\n",
        "iter_times = []\n",
        "counts = []\n",
        "values = []\n",
        "params = []\n",
        "deviation = []\n",
        "\n",
        "algorithm = VQE(ansatz,\n",
        "                optimizer=optimizer,\n",
        "                quantum_instance=backend,\n",
        "                callback=callback,\n",
        "                initial_point=initial_point)\n",
        "\n",
        "result = algorithm.compute_minimum_eigenvalue(problem.q_qubit_op)\n",
        "exact_energy = problem.exact_energy\n",
        "min_energy = np.real(result.eigenvalue)\n",
        "optimal_state = result.eigenstate\n",
        "optimal_point = result.optimal_point\n",
        "percent_accuracy = 100-np.abs(100*(min_energy-exact_energy)/exact_energy)\n",
        "nominal_accuracy = min_energy-exact_energy\n",
        "min_energies = values\n",
        "key = problem.molecule_name+\"_\"+problem.geometry+\"_\"+basis+\"_\"+method+\"_\"+backend\n",
        "\n",
        "result_dict = {\n",
        "    key:\n",
        "        {\n",
        "        'molecule': problem.molecule_name,\n",
        "        'geometry': problem.geometry,\n",
        "        'basis': problem.basis,\n",
        "        'method': method,\n",
        "        'backend': str(backend),\n",
        "        'setup' : param_dict,\n",
        "        'exact energy': problem.exact_energy,\n",
        "        'result energy (Ha)': min_energy,\n",
        "        'error (mHa)': nominal_accuracy,\n",
        "        'error (%)': percent_accuracy,\n",
        "        'final parameters': list(optimal_point),\n",
        "        '# of evaluations': len(min_energies),\n",
        "        'runtime': result.optimizer_time,\n",
        "        '# of qubits': int(problem.q_qubit_op.num_qubits),\n",
        "        'min energies': list(min_energies)\n",
        "        }\n",
        "}\n",
        "\n",
        "results = minEnergyResults(problem, result_dict, method, backend)\n",
        "print(results)"
      ],
      "metadata": {
        "colab": {
          "base_uri": "https://localhost:8080/",
          "height": 434
        },
        "id": "P9jmkGYxKoJP",
        "outputId": "6831d7b1-221c-4a39-ab45-f74b6f3ff234"
      },
      "execution_count": 49,
      "outputs": [
        {
          "output_type": "stream",
          "name": "stdout",
          "text": [
            "None\n"
          ]
        },
        {
          "output_type": "display_data",
          "data": {
            "text/plain": "<Figure size 864x648 with 1 Axes>",
            "image/svg+xml": "<?xml version=\"1.0\" encoding=\"utf-8\" standalone=\"no\"?>\n<!DOCTYPE svg PUBLIC \"-//W3C//DTD SVG 1.1//EN\"\n  \"http://www.w3.org/Graphics/SVG/1.1/DTD/svg11.dtd\">\n<!-- Created with matplotlib (https://matplotlib.org/) -->\n<svg height=\"562.55175pt\" version=\"1.1\" viewBox=\"0 0 728.960938 562.55175\" width=\"728.960938pt\" xmlns=\"http://www.w3.org/2000/svg\" xmlns:xlink=\"http://www.w3.org/1999/xlink\">\n <defs>\n  <style type=\"text/css\">\n*{stroke-linecap:butt;stroke-linejoin:round;}\n  </style>\n </defs>\n <g id=\"figure_1\">\n  <g id=\"patch_1\">\n   <path d=\"M 0 562.55175 \nL 728.960938 562.55175 \nL 728.960938 0 \nL 0 0 \nz\n\" style=\"fill:none;\"/>\n  </g>\n  <g id=\"axes_1\">\n   <g id=\"patch_2\">\n    <path d=\"M 52.160938 524.9955 \nL 721.760938 524.9955 \nL 721.760938 35.7555 \nL 52.160938 35.7555 \nz\n\" style=\"fill:#ffffff;\"/>\n   </g>\n   <g id=\"matplotlib.axis_1\">\n    <g id=\"xtick_1\">\n     <g id=\"line2d_1\">\n      <defs>\n       <path d=\"M 0 0 \nL 0 3.5 \n\" id=\"m0e09718c2f\" style=\"stroke:#000000;stroke-width:0.8;\"/>\n      </defs>\n      <g>\n       <use style=\"stroke:#000000;stroke-width:0.8;\" x=\"82.597301\" xlink:href=\"#m0e09718c2f\" y=\"524.9955\"/>\n      </g>\n     </g>\n     <g id=\"text_1\">\n      <!-- 0 -->\n      <defs>\n       <path d=\"M 31.78125 66.40625 \nQ 24.171875 66.40625 20.328125 58.90625 \nQ 16.5 51.421875 16.5 36.375 \nQ 16.5 21.390625 20.328125 13.890625 \nQ 24.171875 6.390625 31.78125 6.390625 \nQ 39.453125 6.390625 43.28125 13.890625 \nQ 47.125 21.390625 47.125 36.375 \nQ 47.125 51.421875 43.28125 58.90625 \nQ 39.453125 66.40625 31.78125 66.40625 \nz\nM 31.78125 74.21875 \nQ 44.046875 74.21875 50.515625 64.515625 \nQ 56.984375 54.828125 56.984375 36.375 \nQ 56.984375 17.96875 50.515625 8.265625 \nQ 44.046875 -1.421875 31.78125 -1.421875 \nQ 19.53125 -1.421875 13.0625 8.265625 \nQ 6.59375 17.96875 6.59375 36.375 \nQ 6.59375 54.828125 13.0625 64.515625 \nQ 19.53125 74.21875 31.78125 74.21875 \nz\n\" id=\"DejaVuSans-48\"/>\n      </defs>\n      <g transform=\"translate(79.416051 539.593938)scale(0.1 -0.1)\">\n       <use xlink:href=\"#DejaVuSans-48\"/>\n      </g>\n     </g>\n    </g>\n    <g id=\"xtick_2\">\n     <g id=\"line2d_2\">\n      <g>\n       <use style=\"stroke:#000000;stroke-width:0.8;\" x=\"231.067368\" xlink:href=\"#m0e09718c2f\" y=\"524.9955\"/>\n      </g>\n     </g>\n     <g id=\"text_2\">\n      <!-- 10 -->\n      <defs>\n       <path d=\"M 12.40625 8.296875 \nL 28.515625 8.296875 \nL 28.515625 63.921875 \nL 10.984375 60.40625 \nL 10.984375 69.390625 \nL 28.421875 72.90625 \nL 38.28125 72.90625 \nL 38.28125 8.296875 \nL 54.390625 8.296875 \nL 54.390625 0 \nL 12.40625 0 \nz\n\" id=\"DejaVuSans-49\"/>\n      </defs>\n      <g transform=\"translate(224.704868 539.593938)scale(0.1 -0.1)\">\n       <use xlink:href=\"#DejaVuSans-49\"/>\n       <use x=\"63.623047\" xlink:href=\"#DejaVuSans-48\"/>\n      </g>\n     </g>\n    </g>\n    <g id=\"xtick_3\">\n     <g id=\"line2d_3\">\n      <g>\n       <use style=\"stroke:#000000;stroke-width:0.8;\" x=\"379.537434\" xlink:href=\"#m0e09718c2f\" y=\"524.9955\"/>\n      </g>\n     </g>\n     <g id=\"text_3\">\n      <!-- 20 -->\n      <defs>\n       <path d=\"M 19.1875 8.296875 \nL 53.609375 8.296875 \nL 53.609375 0 \nL 7.328125 0 \nL 7.328125 8.296875 \nQ 12.9375 14.109375 22.625 23.890625 \nQ 32.328125 33.6875 34.8125 36.53125 \nQ 39.546875 41.84375 41.421875 45.53125 \nQ 43.3125 49.21875 43.3125 52.78125 \nQ 43.3125 58.59375 39.234375 62.25 \nQ 35.15625 65.921875 28.609375 65.921875 \nQ 23.96875 65.921875 18.8125 64.3125 \nQ 13.671875 62.703125 7.8125 59.421875 \nL 7.8125 69.390625 \nQ 13.765625 71.78125 18.9375 73 \nQ 24.125 74.21875 28.421875 74.21875 \nQ 39.75 74.21875 46.484375 68.546875 \nQ 53.21875 62.890625 53.21875 53.421875 \nQ 53.21875 48.921875 51.53125 44.890625 \nQ 49.859375 40.875 45.40625 35.40625 \nQ 44.1875 33.984375 37.640625 27.21875 \nQ 31.109375 20.453125 19.1875 8.296875 \nz\n\" id=\"DejaVuSans-50\"/>\n      </defs>\n      <g transform=\"translate(373.174934 539.593938)scale(0.1 -0.1)\">\n       <use xlink:href=\"#DejaVuSans-50\"/>\n       <use x=\"63.623047\" xlink:href=\"#DejaVuSans-48\"/>\n      </g>\n     </g>\n    </g>\n    <g id=\"xtick_4\">\n     <g id=\"line2d_4\">\n      <g>\n       <use style=\"stroke:#000000;stroke-width:0.8;\" x=\"528.007501\" xlink:href=\"#m0e09718c2f\" y=\"524.9955\"/>\n      </g>\n     </g>\n     <g id=\"text_4\">\n      <!-- 30 -->\n      <defs>\n       <path d=\"M 40.578125 39.3125 \nQ 47.65625 37.796875 51.625 33 \nQ 55.609375 28.21875 55.609375 21.1875 \nQ 55.609375 10.40625 48.1875 4.484375 \nQ 40.765625 -1.421875 27.09375 -1.421875 \nQ 22.515625 -1.421875 17.65625 -0.515625 \nQ 12.796875 0.390625 7.625 2.203125 \nL 7.625 11.71875 \nQ 11.71875 9.328125 16.59375 8.109375 \nQ 21.484375 6.890625 26.8125 6.890625 \nQ 36.078125 6.890625 40.9375 10.546875 \nQ 45.796875 14.203125 45.796875 21.1875 \nQ 45.796875 27.640625 41.28125 31.265625 \nQ 36.765625 34.90625 28.71875 34.90625 \nL 20.21875 34.90625 \nL 20.21875 43.015625 \nL 29.109375 43.015625 \nQ 36.375 43.015625 40.234375 45.921875 \nQ 44.09375 48.828125 44.09375 54.296875 \nQ 44.09375 59.90625 40.109375 62.90625 \nQ 36.140625 65.921875 28.71875 65.921875 \nQ 24.65625 65.921875 20.015625 65.03125 \nQ 15.375 64.15625 9.8125 62.3125 \nL 9.8125 71.09375 \nQ 15.4375 72.65625 20.34375 73.4375 \nQ 25.25 74.21875 29.59375 74.21875 \nQ 40.828125 74.21875 47.359375 69.109375 \nQ 53.90625 64.015625 53.90625 55.328125 \nQ 53.90625 49.265625 50.4375 45.09375 \nQ 46.96875 40.921875 40.578125 39.3125 \nz\n\" id=\"DejaVuSans-51\"/>\n      </defs>\n      <g transform=\"translate(521.645001 539.593938)scale(0.1 -0.1)\">\n       <use xlink:href=\"#DejaVuSans-51\"/>\n       <use x=\"63.623047\" xlink:href=\"#DejaVuSans-48\"/>\n      </g>\n     </g>\n    </g>\n    <g id=\"xtick_5\">\n     <g id=\"line2d_5\">\n      <g>\n       <use style=\"stroke:#000000;stroke-width:0.8;\" x=\"676.477567\" xlink:href=\"#m0e09718c2f\" y=\"524.9955\"/>\n      </g>\n     </g>\n     <g id=\"text_5\">\n      <!-- 40 -->\n      <defs>\n       <path d=\"M 37.796875 64.3125 \nL 12.890625 25.390625 \nL 37.796875 25.390625 \nz\nM 35.203125 72.90625 \nL 47.609375 72.90625 \nL 47.609375 25.390625 \nL 58.015625 25.390625 \nL 58.015625 17.1875 \nL 47.609375 17.1875 \nL 47.609375 0 \nL 37.796875 0 \nL 37.796875 17.1875 \nL 4.890625 17.1875 \nL 4.890625 26.703125 \nz\n\" id=\"DejaVuSans-52\"/>\n      </defs>\n      <g transform=\"translate(670.115067 539.593938)scale(0.1 -0.1)\">\n       <use xlink:href=\"#DejaVuSans-52\"/>\n       <use x=\"63.623047\" xlink:href=\"#DejaVuSans-48\"/>\n      </g>\n     </g>\n    </g>\n    <g id=\"text_6\">\n     <!-- Iterations -->\n     <defs>\n      <path d=\"M 9.8125 72.90625 \nL 19.671875 72.90625 \nL 19.671875 0 \nL 9.8125 0 \nz\n\" id=\"DejaVuSans-73\"/>\n      <path d=\"M 18.3125 70.21875 \nL 18.3125 54.6875 \nL 36.8125 54.6875 \nL 36.8125 47.703125 \nL 18.3125 47.703125 \nL 18.3125 18.015625 \nQ 18.3125 11.328125 20.140625 9.421875 \nQ 21.96875 7.515625 27.59375 7.515625 \nL 36.8125 7.515625 \nL 36.8125 0 \nL 27.59375 0 \nQ 17.1875 0 13.234375 3.875 \nQ 9.28125 7.765625 9.28125 18.015625 \nL 9.28125 47.703125 \nL 2.6875 47.703125 \nL 2.6875 54.6875 \nL 9.28125 54.6875 \nL 9.28125 70.21875 \nz\n\" id=\"DejaVuSans-116\"/>\n      <path d=\"M 56.203125 29.59375 \nL 56.203125 25.203125 \nL 14.890625 25.203125 \nQ 15.484375 15.921875 20.484375 11.0625 \nQ 25.484375 6.203125 34.421875 6.203125 \nQ 39.59375 6.203125 44.453125 7.46875 \nQ 49.3125 8.734375 54.109375 11.28125 \nL 54.109375 2.78125 \nQ 49.265625 0.734375 44.1875 -0.34375 \nQ 39.109375 -1.421875 33.890625 -1.421875 \nQ 20.796875 -1.421875 13.15625 6.1875 \nQ 5.515625 13.8125 5.515625 26.8125 \nQ 5.515625 40.234375 12.765625 48.109375 \nQ 20.015625 56 32.328125 56 \nQ 43.359375 56 49.78125 48.890625 \nQ 56.203125 41.796875 56.203125 29.59375 \nz\nM 47.21875 32.234375 \nQ 47.125 39.59375 43.09375 43.984375 \nQ 39.0625 48.390625 32.421875 48.390625 \nQ 24.90625 48.390625 20.390625 44.140625 \nQ 15.875 39.890625 15.1875 32.171875 \nz\n\" id=\"DejaVuSans-101\"/>\n      <path d=\"M 41.109375 46.296875 \nQ 39.59375 47.171875 37.8125 47.578125 \nQ 36.03125 48 33.890625 48 \nQ 26.265625 48 22.1875 43.046875 \nQ 18.109375 38.09375 18.109375 28.8125 \nL 18.109375 0 \nL 9.078125 0 \nL 9.078125 54.6875 \nL 18.109375 54.6875 \nL 18.109375 46.1875 \nQ 20.953125 51.171875 25.484375 53.578125 \nQ 30.03125 56 36.53125 56 \nQ 37.453125 56 38.578125 55.875 \nQ 39.703125 55.765625 41.0625 55.515625 \nz\n\" id=\"DejaVuSans-114\"/>\n      <path d=\"M 34.28125 27.484375 \nQ 23.390625 27.484375 19.1875 25 \nQ 14.984375 22.515625 14.984375 16.5 \nQ 14.984375 11.71875 18.140625 8.90625 \nQ 21.296875 6.109375 26.703125 6.109375 \nQ 34.1875 6.109375 38.703125 11.40625 \nQ 43.21875 16.703125 43.21875 25.484375 \nL 43.21875 27.484375 \nz\nM 52.203125 31.203125 \nL 52.203125 0 \nL 43.21875 0 \nL 43.21875 8.296875 \nQ 40.140625 3.328125 35.546875 0.953125 \nQ 30.953125 -1.421875 24.3125 -1.421875 \nQ 15.921875 -1.421875 10.953125 3.296875 \nQ 6 8.015625 6 15.921875 \nQ 6 25.140625 12.171875 29.828125 \nQ 18.359375 34.515625 30.609375 34.515625 \nL 43.21875 34.515625 \nL 43.21875 35.40625 \nQ 43.21875 41.609375 39.140625 45 \nQ 35.0625 48.390625 27.6875 48.390625 \nQ 23 48.390625 18.546875 47.265625 \nQ 14.109375 46.140625 10.015625 43.890625 \nL 10.015625 52.203125 \nQ 14.9375 54.109375 19.578125 55.046875 \nQ 24.21875 56 28.609375 56 \nQ 40.484375 56 46.34375 49.84375 \nQ 52.203125 43.703125 52.203125 31.203125 \nz\n\" id=\"DejaVuSans-97\"/>\n      <path d=\"M 9.421875 54.6875 \nL 18.40625 54.6875 \nL 18.40625 0 \nL 9.421875 0 \nz\nM 9.421875 75.984375 \nL 18.40625 75.984375 \nL 18.40625 64.59375 \nL 9.421875 64.59375 \nz\n\" id=\"DejaVuSans-105\"/>\n      <path d=\"M 30.609375 48.390625 \nQ 23.390625 48.390625 19.1875 42.75 \nQ 14.984375 37.109375 14.984375 27.296875 \nQ 14.984375 17.484375 19.15625 11.84375 \nQ 23.34375 6.203125 30.609375 6.203125 \nQ 37.796875 6.203125 41.984375 11.859375 \nQ 46.1875 17.53125 46.1875 27.296875 \nQ 46.1875 37.015625 41.984375 42.703125 \nQ 37.796875 48.390625 30.609375 48.390625 \nz\nM 30.609375 56 \nQ 42.328125 56 49.015625 48.375 \nQ 55.71875 40.765625 55.71875 27.296875 \nQ 55.71875 13.875 49.015625 6.21875 \nQ 42.328125 -1.421875 30.609375 -1.421875 \nQ 18.84375 -1.421875 12.171875 6.21875 \nQ 5.515625 13.875 5.515625 27.296875 \nQ 5.515625 40.765625 12.171875 48.375 \nQ 18.84375 56 30.609375 56 \nz\n\" id=\"DejaVuSans-111\"/>\n      <path d=\"M 54.890625 33.015625 \nL 54.890625 0 \nL 45.90625 0 \nL 45.90625 32.71875 \nQ 45.90625 40.484375 42.875 44.328125 \nQ 39.84375 48.1875 33.796875 48.1875 \nQ 26.515625 48.1875 22.3125 43.546875 \nQ 18.109375 38.921875 18.109375 30.90625 \nL 18.109375 0 \nL 9.078125 0 \nL 9.078125 54.6875 \nL 18.109375 54.6875 \nL 18.109375 46.1875 \nQ 21.34375 51.125 25.703125 53.5625 \nQ 30.078125 56 35.796875 56 \nQ 45.21875 56 50.046875 50.171875 \nQ 54.890625 44.34375 54.890625 33.015625 \nz\n\" id=\"DejaVuSans-110\"/>\n      <path d=\"M 44.28125 53.078125 \nL 44.28125 44.578125 \nQ 40.484375 46.53125 36.375 47.5 \nQ 32.28125 48.484375 27.875 48.484375 \nQ 21.1875 48.484375 17.84375 46.4375 \nQ 14.5 44.390625 14.5 40.28125 \nQ 14.5 37.15625 16.890625 35.375 \nQ 19.28125 33.59375 26.515625 31.984375 \nL 29.59375 31.296875 \nQ 39.15625 29.25 43.1875 25.515625 \nQ 47.21875 21.78125 47.21875 15.09375 \nQ 47.21875 7.46875 41.1875 3.015625 \nQ 35.15625 -1.421875 24.609375 -1.421875 \nQ 20.21875 -1.421875 15.453125 -0.5625 \nQ 10.6875 0.296875 5.421875 2 \nL 5.421875 11.28125 \nQ 10.40625 8.6875 15.234375 7.390625 \nQ 20.0625 6.109375 24.8125 6.109375 \nQ 31.15625 6.109375 34.5625 8.28125 \nQ 37.984375 10.453125 37.984375 14.40625 \nQ 37.984375 18.0625 35.515625 20.015625 \nQ 33.0625 21.96875 24.703125 23.78125 \nL 21.578125 24.515625 \nQ 13.234375 26.265625 9.515625 29.90625 \nQ 5.8125 33.546875 5.8125 39.890625 \nQ 5.8125 47.609375 11.28125 51.796875 \nQ 16.75 56 26.8125 56 \nQ 31.78125 56 36.171875 55.265625 \nQ 40.578125 54.546875 44.28125 53.078125 \nz\n\" id=\"DejaVuSans-115\"/>\n     </defs>\n     <g transform=\"translate(363.147656 553.272063)scale(0.1 -0.1)\">\n      <use xlink:href=\"#DejaVuSans-73\"/>\n      <use x=\"29.492188\" xlink:href=\"#DejaVuSans-116\"/>\n      <use x=\"68.701172\" xlink:href=\"#DejaVuSans-101\"/>\n      <use x=\"130.224609\" xlink:href=\"#DejaVuSans-114\"/>\n      <use x=\"171.337891\" xlink:href=\"#DejaVuSans-97\"/>\n      <use x=\"232.617188\" xlink:href=\"#DejaVuSans-116\"/>\n      <use x=\"271.826172\" xlink:href=\"#DejaVuSans-105\"/>\n      <use x=\"299.609375\" xlink:href=\"#DejaVuSans-111\"/>\n      <use x=\"360.791016\" xlink:href=\"#DejaVuSans-110\"/>\n      <use x=\"424.169922\" xlink:href=\"#DejaVuSans-115\"/>\n     </g>\n    </g>\n   </g>\n   <g id=\"matplotlib.axis_2\">\n    <g id=\"ytick_1\">\n     <g id=\"line2d_6\">\n      <defs>\n       <path d=\"M 0 0 \nL -3.5 0 \n\" id=\"m3eb7848fc1\" style=\"stroke:#000000;stroke-width:0.8;\"/>\n      </defs>\n      <g>\n       <use style=\"stroke:#000000;stroke-width:0.8;\" x=\"52.160938\" xlink:href=\"#m3eb7848fc1\" y=\"478.33429\"/>\n      </g>\n     </g>\n     <g id=\"text_7\">\n      <!-- −1.8 -->\n      <defs>\n       <path d=\"M 10.59375 35.5 \nL 73.1875 35.5 \nL 73.1875 27.203125 \nL 10.59375 27.203125 \nz\n\" id=\"DejaVuSans-8722\"/>\n       <path d=\"M 10.6875 12.40625 \nL 21 12.40625 \nL 21 0 \nL 10.6875 0 \nz\n\" id=\"DejaVuSans-46\"/>\n       <path d=\"M 31.78125 34.625 \nQ 24.75 34.625 20.71875 30.859375 \nQ 16.703125 27.09375 16.703125 20.515625 \nQ 16.703125 13.921875 20.71875 10.15625 \nQ 24.75 6.390625 31.78125 6.390625 \nQ 38.8125 6.390625 42.859375 10.171875 \nQ 46.921875 13.96875 46.921875 20.515625 \nQ 46.921875 27.09375 42.890625 30.859375 \nQ 38.875 34.625 31.78125 34.625 \nz\nM 21.921875 38.8125 \nQ 15.578125 40.375 12.03125 44.71875 \nQ 8.5 49.078125 8.5 55.328125 \nQ 8.5 64.0625 14.71875 69.140625 \nQ 20.953125 74.21875 31.78125 74.21875 \nQ 42.671875 74.21875 48.875 69.140625 \nQ 55.078125 64.0625 55.078125 55.328125 \nQ 55.078125 49.078125 51.53125 44.71875 \nQ 48 40.375 41.703125 38.8125 \nQ 48.828125 37.15625 52.796875 32.3125 \nQ 56.78125 27.484375 56.78125 20.515625 \nQ 56.78125 9.90625 50.3125 4.234375 \nQ 43.84375 -1.421875 31.78125 -1.421875 \nQ 19.734375 -1.421875 13.25 4.234375 \nQ 6.78125 9.90625 6.78125 20.515625 \nQ 6.78125 27.484375 10.78125 32.3125 \nQ 14.796875 37.15625 21.921875 38.8125 \nz\nM 18.3125 54.390625 \nQ 18.3125 48.734375 21.84375 45.5625 \nQ 25.390625 42.390625 31.78125 42.390625 \nQ 38.140625 42.390625 41.71875 45.5625 \nQ 45.3125 48.734375 45.3125 54.390625 \nQ 45.3125 60.0625 41.71875 63.234375 \nQ 38.140625 66.40625 31.78125 66.40625 \nQ 25.390625 66.40625 21.84375 63.234375 \nQ 18.3125 60.0625 18.3125 54.390625 \nz\n\" id=\"DejaVuSans-56\"/>\n      </defs>\n      <g transform=\"translate(20.878125 482.133509)scale(0.1 -0.1)\">\n       <use xlink:href=\"#DejaVuSans-8722\"/>\n       <use x=\"83.789062\" xlink:href=\"#DejaVuSans-49\"/>\n       <use x=\"147.412109\" xlink:href=\"#DejaVuSans-46\"/>\n       <use x=\"179.199219\" xlink:href=\"#DejaVuSans-56\"/>\n      </g>\n     </g>\n    </g>\n    <g id=\"ytick_2\">\n     <g id=\"line2d_7\">\n      <g>\n       <use style=\"stroke:#000000;stroke-width:0.8;\" x=\"52.160938\" xlink:href=\"#m3eb7848fc1\" y=\"403.657341\"/>\n      </g>\n     </g>\n     <g id=\"text_8\">\n      <!-- −1.6 -->\n      <defs>\n       <path d=\"M 33.015625 40.375 \nQ 26.375 40.375 22.484375 35.828125 \nQ 18.609375 31.296875 18.609375 23.390625 \nQ 18.609375 15.53125 22.484375 10.953125 \nQ 26.375 6.390625 33.015625 6.390625 \nQ 39.65625 6.390625 43.53125 10.953125 \nQ 47.40625 15.53125 47.40625 23.390625 \nQ 47.40625 31.296875 43.53125 35.828125 \nQ 39.65625 40.375 33.015625 40.375 \nz\nM 52.59375 71.296875 \nL 52.59375 62.3125 \nQ 48.875 64.0625 45.09375 64.984375 \nQ 41.3125 65.921875 37.59375 65.921875 \nQ 27.828125 65.921875 22.671875 59.328125 \nQ 17.53125 52.734375 16.796875 39.40625 \nQ 19.671875 43.65625 24.015625 45.921875 \nQ 28.375 48.1875 33.59375 48.1875 \nQ 44.578125 48.1875 50.953125 41.515625 \nQ 57.328125 34.859375 57.328125 23.390625 \nQ 57.328125 12.15625 50.6875 5.359375 \nQ 44.046875 -1.421875 33.015625 -1.421875 \nQ 20.359375 -1.421875 13.671875 8.265625 \nQ 6.984375 17.96875 6.984375 36.375 \nQ 6.984375 53.65625 15.1875 63.9375 \nQ 23.390625 74.21875 37.203125 74.21875 \nQ 40.921875 74.21875 44.703125 73.484375 \nQ 48.484375 72.75 52.59375 71.296875 \nz\n\" id=\"DejaVuSans-54\"/>\n      </defs>\n      <g transform=\"translate(20.878125 407.45656)scale(0.1 -0.1)\">\n       <use xlink:href=\"#DejaVuSans-8722\"/>\n       <use x=\"83.789062\" xlink:href=\"#DejaVuSans-49\"/>\n       <use x=\"147.412109\" xlink:href=\"#DejaVuSans-46\"/>\n       <use x=\"179.199219\" xlink:href=\"#DejaVuSans-54\"/>\n      </g>\n     </g>\n    </g>\n    <g id=\"ytick_3\">\n     <g id=\"line2d_8\">\n      <g>\n       <use style=\"stroke:#000000;stroke-width:0.8;\" x=\"52.160938\" xlink:href=\"#m3eb7848fc1\" y=\"328.980393\"/>\n      </g>\n     </g>\n     <g id=\"text_9\">\n      <!-- −1.4 -->\n      <g transform=\"translate(20.878125 332.779611)scale(0.1 -0.1)\">\n       <use xlink:href=\"#DejaVuSans-8722\"/>\n       <use x=\"83.789062\" xlink:href=\"#DejaVuSans-49\"/>\n       <use x=\"147.412109\" xlink:href=\"#DejaVuSans-46\"/>\n       <use x=\"179.199219\" xlink:href=\"#DejaVuSans-52\"/>\n      </g>\n     </g>\n    </g>\n    <g id=\"ytick_4\">\n     <g id=\"line2d_9\">\n      <g>\n       <use style=\"stroke:#000000;stroke-width:0.8;\" x=\"52.160938\" xlink:href=\"#m3eb7848fc1\" y=\"254.303444\"/>\n      </g>\n     </g>\n     <g id=\"text_10\">\n      <!-- −1.2 -->\n      <g transform=\"translate(20.878125 258.102663)scale(0.1 -0.1)\">\n       <use xlink:href=\"#DejaVuSans-8722\"/>\n       <use x=\"83.789062\" xlink:href=\"#DejaVuSans-49\"/>\n       <use x=\"147.412109\" xlink:href=\"#DejaVuSans-46\"/>\n       <use x=\"179.199219\" xlink:href=\"#DejaVuSans-50\"/>\n      </g>\n     </g>\n    </g>\n    <g id=\"ytick_5\">\n     <g id=\"line2d_10\">\n      <g>\n       <use style=\"stroke:#000000;stroke-width:0.8;\" x=\"52.160938\" xlink:href=\"#m3eb7848fc1\" y=\"179.626495\"/>\n      </g>\n     </g>\n     <g id=\"text_11\">\n      <!-- −1.0 -->\n      <g transform=\"translate(20.878125 183.425714)scale(0.1 -0.1)\">\n       <use xlink:href=\"#DejaVuSans-8722\"/>\n       <use x=\"83.789062\" xlink:href=\"#DejaVuSans-49\"/>\n       <use x=\"147.412109\" xlink:href=\"#DejaVuSans-46\"/>\n       <use x=\"179.199219\" xlink:href=\"#DejaVuSans-48\"/>\n      </g>\n     </g>\n    </g>\n    <g id=\"ytick_6\">\n     <g id=\"line2d_11\">\n      <g>\n       <use style=\"stroke:#000000;stroke-width:0.8;\" x=\"52.160938\" xlink:href=\"#m3eb7848fc1\" y=\"104.949547\"/>\n      </g>\n     </g>\n     <g id=\"text_12\">\n      <!-- −0.8 -->\n      <g transform=\"translate(20.878125 108.748765)scale(0.1 -0.1)\">\n       <use xlink:href=\"#DejaVuSans-8722\"/>\n       <use x=\"83.789062\" xlink:href=\"#DejaVuSans-48\"/>\n       <use x=\"147.412109\" xlink:href=\"#DejaVuSans-46\"/>\n       <use x=\"179.199219\" xlink:href=\"#DejaVuSans-56\"/>\n      </g>\n     </g>\n    </g>\n    <g id=\"text_13\">\n     <!-- Energy -->\n     <defs>\n      <path d=\"M 9.8125 72.90625 \nL 55.90625 72.90625 \nL 55.90625 64.59375 \nL 19.671875 64.59375 \nL 19.671875 43.015625 \nL 54.390625 43.015625 \nL 54.390625 34.71875 \nL 19.671875 34.71875 \nL 19.671875 8.296875 \nL 56.78125 8.296875 \nL 56.78125 0 \nL 9.8125 0 \nz\n\" id=\"DejaVuSans-69\"/>\n      <path d=\"M 45.40625 27.984375 \nQ 45.40625 37.75 41.375 43.109375 \nQ 37.359375 48.484375 30.078125 48.484375 \nQ 22.859375 48.484375 18.828125 43.109375 \nQ 14.796875 37.75 14.796875 27.984375 \nQ 14.796875 18.265625 18.828125 12.890625 \nQ 22.859375 7.515625 30.078125 7.515625 \nQ 37.359375 7.515625 41.375 12.890625 \nQ 45.40625 18.265625 45.40625 27.984375 \nz\nM 54.390625 6.78125 \nQ 54.390625 -7.171875 48.1875 -13.984375 \nQ 42 -20.796875 29.203125 -20.796875 \nQ 24.46875 -20.796875 20.265625 -20.09375 \nQ 16.0625 -19.390625 12.109375 -17.921875 \nL 12.109375 -9.1875 \nQ 16.0625 -11.328125 19.921875 -12.34375 \nQ 23.78125 -13.375 27.78125 -13.375 \nQ 36.625 -13.375 41.015625 -8.765625 \nQ 45.40625 -4.15625 45.40625 5.171875 \nL 45.40625 9.625 \nQ 42.625 4.78125 38.28125 2.390625 \nQ 33.9375 0 27.875 0 \nQ 17.828125 0 11.671875 7.65625 \nQ 5.515625 15.328125 5.515625 27.984375 \nQ 5.515625 40.671875 11.671875 48.328125 \nQ 17.828125 56 27.875 56 \nQ 33.9375 56 38.28125 53.609375 \nQ 42.625 51.21875 45.40625 46.390625 \nL 45.40625 54.6875 \nL 54.390625 54.6875 \nz\n\" id=\"DejaVuSans-103\"/>\n      <path d=\"M 32.171875 -5.078125 \nQ 28.375 -14.84375 24.75 -17.8125 \nQ 21.140625 -20.796875 15.09375 -20.796875 \nL 7.90625 -20.796875 \nL 7.90625 -13.28125 \nL 13.1875 -13.28125 \nQ 16.890625 -13.28125 18.9375 -11.515625 \nQ 21 -9.765625 23.484375 -3.21875 \nL 25.09375 0.875 \nL 2.984375 54.6875 \nL 12.5 54.6875 \nL 29.59375 11.921875 \nL 46.6875 54.6875 \nL 56.203125 54.6875 \nz\n\" id=\"DejaVuSans-121\"/>\n     </defs>\n     <g transform=\"translate(14.798438 297.88175)rotate(-90)scale(0.1 -0.1)\">\n      <use xlink:href=\"#DejaVuSans-69\"/>\n      <use x=\"63.183594\" xlink:href=\"#DejaVuSans-110\"/>\n      <use x=\"126.5625\" xlink:href=\"#DejaVuSans-101\"/>\n      <use x=\"188.085938\" xlink:href=\"#DejaVuSans-114\"/>\n      <use x=\"227.449219\" xlink:href=\"#DejaVuSans-103\"/>\n      <use x=\"290.925781\" xlink:href=\"#DejaVuSans-121\"/>\n     </g>\n    </g>\n   </g>\n   <g id=\"line2d_12\">\n    <path clip-path=\"url(#pc7c722ed19)\" d=\"M 82.597301 312.43875 \nL 97.444308 57.993682 \nL 112.291314 219.812911 \nL 127.138321 179.532044 \nL 141.985328 401.845566 \nL 156.832334 71.90857 \nL 171.679341 272.346523 \nL 186.526348 317.561836 \nL 201.373354 417.146289 \nL 216.220361 411.400986 \nL 231.067368 445.554584 \nL 245.914374 471.588237 \nL 260.761381 502.757318 \nL 275.608388 487.924572 \nL 290.455394 497.980611 \nL 305.302401 485.05157 \nL 320.149408 495.549525 \nL 334.996414 493.317211 \nL 349.843421 501.768418 \nL 364.690428 500.484545 \nL 379.537434 502.72048 \nL 394.384441 499.562963 \nL 409.231447 499.322854 \nL 424.078454 495.355459 \nL 438.925461 495.542784 \nL 453.772467 495.786409 \nL 468.619474 493.48054 \nL 483.466481 496.21943 \nL 498.313487 500.128958 \nL 513.160494 498.926137 \nL 528.007501 495.508688 \nL 542.854507 490.115099 \nL 557.701514 493.990356 \nL 572.548521 489.323388 \nL 587.395527 491.61457 \nL 602.242534 499.684647 \nL 617.089541 498.052442 \nL 631.936547 493.991787 \nL 646.783554 497.111812 \nL 661.630561 493.166877 \nL 676.477567 500.393718 \nL 691.324574 500.3303 \n\" style=\"fill:none;stroke:#1f77b4;stroke-linecap:square;stroke-width:1.5;\"/>\n   </g>\n   <g id=\"line2d_13\">\n    <path clip-path=\"url(#pc7c722ed19)\" d=\"M 52.160938 501.492639 \nL 721.760938 501.492639 \n\" style=\"fill:none;stroke:#1f77b4;stroke-dasharray:5.55,2.4;stroke-dashoffset:0;stroke-width:1.5;\"/>\n   </g>\n   <g id=\"patch_3\">\n    <path d=\"M 52.160938 524.9955 \nL 52.160938 35.7555 \n\" style=\"fill:none;stroke:#000000;stroke-linecap:square;stroke-linejoin:miter;stroke-width:0.8;\"/>\n   </g>\n   <g id=\"patch_4\">\n    <path d=\"M 721.760938 524.9955 \nL 721.760938 35.7555 \n\" style=\"fill:none;stroke:#000000;stroke-linecap:square;stroke-linejoin:miter;stroke-width:0.8;\"/>\n   </g>\n   <g id=\"patch_5\">\n    <path d=\"M 52.160938 524.9955 \nL 721.760938 524.9955 \n\" style=\"fill:none;stroke:#000000;stroke-linecap:square;stroke-linejoin:miter;stroke-width:0.8;\"/>\n   </g>\n   <g id=\"patch_6\">\n    <path d=\"M 52.160938 35.7555 \nL 721.760938 35.7555 \n\" style=\"fill:none;stroke:#000000;stroke-linecap:square;stroke-linejoin:miter;stroke-width:0.8;\"/>\n   </g>\n   <g id=\"text_14\">\n    <!-- VQE Convergence Plot -->\n    <defs>\n     <path d=\"M 28.609375 0 \nL 0.78125 72.90625 \nL 11.078125 72.90625 \nL 34.1875 11.53125 \nL 57.328125 72.90625 \nL 67.578125 72.90625 \nL 39.796875 0 \nz\n\" id=\"DejaVuSans-86\"/>\n     <path d=\"M 39.40625 66.21875 \nQ 28.65625 66.21875 22.328125 58.203125 \nQ 16.015625 50.203125 16.015625 36.375 \nQ 16.015625 22.609375 22.328125 14.59375 \nQ 28.65625 6.59375 39.40625 6.59375 \nQ 50.140625 6.59375 56.421875 14.59375 \nQ 62.703125 22.609375 62.703125 36.375 \nQ 62.703125 50.203125 56.421875 58.203125 \nQ 50.140625 66.21875 39.40625 66.21875 \nz\nM 53.21875 1.3125 \nL 66.21875 -12.890625 \nL 54.296875 -12.890625 \nL 43.5 -1.21875 \nQ 41.890625 -1.3125 41.03125 -1.359375 \nQ 40.1875 -1.421875 39.40625 -1.421875 \nQ 24.03125 -1.421875 14.8125 8.859375 \nQ 5.609375 19.140625 5.609375 36.375 \nQ 5.609375 53.65625 14.8125 63.9375 \nQ 24.03125 74.21875 39.40625 74.21875 \nQ 54.734375 74.21875 63.90625 63.9375 \nQ 73.09375 53.65625 73.09375 36.375 \nQ 73.09375 23.6875 67.984375 14.640625 \nQ 62.890625 5.609375 53.21875 1.3125 \nz\n\" id=\"DejaVuSans-81\"/>\n     <path id=\"DejaVuSans-32\"/>\n     <path d=\"M 64.40625 67.28125 \nL 64.40625 56.890625 \nQ 59.421875 61.53125 53.78125 63.8125 \nQ 48.140625 66.109375 41.796875 66.109375 \nQ 29.296875 66.109375 22.65625 58.46875 \nQ 16.015625 50.828125 16.015625 36.375 \nQ 16.015625 21.96875 22.65625 14.328125 \nQ 29.296875 6.6875 41.796875 6.6875 \nQ 48.140625 6.6875 53.78125 8.984375 \nQ 59.421875 11.28125 64.40625 15.921875 \nL 64.40625 5.609375 \nQ 59.234375 2.09375 53.4375 0.328125 \nQ 47.65625 -1.421875 41.21875 -1.421875 \nQ 24.65625 -1.421875 15.125 8.703125 \nQ 5.609375 18.84375 5.609375 36.375 \nQ 5.609375 53.953125 15.125 64.078125 \nQ 24.65625 74.21875 41.21875 74.21875 \nQ 47.75 74.21875 53.53125 72.484375 \nQ 59.328125 70.75 64.40625 67.28125 \nz\n\" id=\"DejaVuSans-67\"/>\n     <path d=\"M 2.984375 54.6875 \nL 12.5 54.6875 \nL 29.59375 8.796875 \nL 46.6875 54.6875 \nL 56.203125 54.6875 \nL 35.6875 0 \nL 23.484375 0 \nz\n\" id=\"DejaVuSans-118\"/>\n     <path d=\"M 48.78125 52.59375 \nL 48.78125 44.1875 \nQ 44.96875 46.296875 41.140625 47.34375 \nQ 37.3125 48.390625 33.40625 48.390625 \nQ 24.65625 48.390625 19.8125 42.84375 \nQ 14.984375 37.3125 14.984375 27.296875 \nQ 14.984375 17.28125 19.8125 11.734375 \nQ 24.65625 6.203125 33.40625 6.203125 \nQ 37.3125 6.203125 41.140625 7.25 \nQ 44.96875 8.296875 48.78125 10.40625 \nL 48.78125 2.09375 \nQ 45.015625 0.34375 40.984375 -0.53125 \nQ 36.96875 -1.421875 32.421875 -1.421875 \nQ 20.0625 -1.421875 12.78125 6.34375 \nQ 5.515625 14.109375 5.515625 27.296875 \nQ 5.515625 40.671875 12.859375 48.328125 \nQ 20.21875 56 33.015625 56 \nQ 37.15625 56 41.109375 55.140625 \nQ 45.0625 54.296875 48.78125 52.59375 \nz\n\" id=\"DejaVuSans-99\"/>\n     <path d=\"M 19.671875 64.796875 \nL 19.671875 37.40625 \nL 32.078125 37.40625 \nQ 38.96875 37.40625 42.71875 40.96875 \nQ 46.484375 44.53125 46.484375 51.125 \nQ 46.484375 57.671875 42.71875 61.234375 \nQ 38.96875 64.796875 32.078125 64.796875 \nz\nM 9.8125 72.90625 \nL 32.078125 72.90625 \nQ 44.34375 72.90625 50.609375 67.359375 \nQ 56.890625 61.8125 56.890625 51.125 \nQ 56.890625 40.328125 50.609375 34.8125 \nQ 44.34375 29.296875 32.078125 29.296875 \nL 19.671875 29.296875 \nL 19.671875 0 \nL 9.8125 0 \nz\n\" id=\"DejaVuSans-80\"/>\n     <path d=\"M 9.421875 75.984375 \nL 18.40625 75.984375 \nL 18.40625 0 \nL 9.421875 0 \nz\n\" id=\"DejaVuSans-108\"/>\n    </defs>\n    <g transform=\"translate(319.657812 16.318125)scale(0.12 -0.12)\">\n     <use xlink:href=\"#DejaVuSans-86\"/>\n     <use x=\"68.408203\" xlink:href=\"#DejaVuSans-81\"/>\n     <use x=\"147.119141\" xlink:href=\"#DejaVuSans-69\"/>\n     <use x=\"210.302734\" xlink:href=\"#DejaVuSans-32\"/>\n     <use x=\"242.089844\" xlink:href=\"#DejaVuSans-67\"/>\n     <use x=\"311.914062\" xlink:href=\"#DejaVuSans-111\"/>\n     <use x=\"373.095703\" xlink:href=\"#DejaVuSans-110\"/>\n     <use x=\"436.474609\" xlink:href=\"#DejaVuSans-118\"/>\n     <use x=\"495.654297\" xlink:href=\"#DejaVuSans-101\"/>\n     <use x=\"557.177734\" xlink:href=\"#DejaVuSans-114\"/>\n     <use x=\"596.541016\" xlink:href=\"#DejaVuSans-103\"/>\n     <use x=\"660.017578\" xlink:href=\"#DejaVuSans-101\"/>\n     <use x=\"721.541016\" xlink:href=\"#DejaVuSans-110\"/>\n     <use x=\"784.919922\" xlink:href=\"#DejaVuSans-99\"/>\n     <use x=\"839.900391\" xlink:href=\"#DejaVuSans-101\"/>\n     <use x=\"901.423828\" xlink:href=\"#DejaVuSans-32\"/>\n     <use x=\"933.210938\" xlink:href=\"#DejaVuSans-80\"/>\n     <use x=\"993.513672\" xlink:href=\"#DejaVuSans-108\"/>\n     <use x=\"1021.296875\" xlink:href=\"#DejaVuSans-111\"/>\n     <use x=\"1082.478516\" xlink:href=\"#DejaVuSans-116\"/>\n    </g>\n    <!--         JordanWignerMapper-        UCCSD-        COBYLA -->\n    <defs>\n     <path d=\"M 9.8125 72.90625 \nL 19.671875 72.90625 \nL 19.671875 5.078125 \nQ 19.671875 -8.109375 14.671875 -14.0625 \nQ 9.671875 -20.015625 -1.421875 -20.015625 \nL -5.171875 -20.015625 \nL -5.171875 -11.71875 \nL -2.09375 -11.71875 \nQ 4.4375 -11.71875 7.125 -8.046875 \nQ 9.8125 -4.390625 9.8125 5.078125 \nz\n\" id=\"DejaVuSans-74\"/>\n     <path d=\"M 45.40625 46.390625 \nL 45.40625 75.984375 \nL 54.390625 75.984375 \nL 54.390625 0 \nL 45.40625 0 \nL 45.40625 8.203125 \nQ 42.578125 3.328125 38.25 0.953125 \nQ 33.9375 -1.421875 27.875 -1.421875 \nQ 17.96875 -1.421875 11.734375 6.484375 \nQ 5.515625 14.40625 5.515625 27.296875 \nQ 5.515625 40.1875 11.734375 48.09375 \nQ 17.96875 56 27.875 56 \nQ 33.9375 56 38.25 53.625 \nQ 42.578125 51.265625 45.40625 46.390625 \nz\nM 14.796875 27.296875 \nQ 14.796875 17.390625 18.875 11.75 \nQ 22.953125 6.109375 30.078125 6.109375 \nQ 37.203125 6.109375 41.296875 11.75 \nQ 45.40625 17.390625 45.40625 27.296875 \nQ 45.40625 37.203125 41.296875 42.84375 \nQ 37.203125 48.484375 30.078125 48.484375 \nQ 22.953125 48.484375 18.875 42.84375 \nQ 14.796875 37.203125 14.796875 27.296875 \nz\n\" id=\"DejaVuSans-100\"/>\n     <path d=\"M 3.328125 72.90625 \nL 13.28125 72.90625 \nL 28.609375 11.28125 \nL 43.890625 72.90625 \nL 54.984375 72.90625 \nL 70.3125 11.28125 \nL 85.59375 72.90625 \nL 95.609375 72.90625 \nL 77.296875 0 \nL 64.890625 0 \nL 49.515625 63.28125 \nL 33.984375 0 \nL 21.578125 0 \nz\n\" id=\"DejaVuSans-87\"/>\n     <path d=\"M 9.8125 72.90625 \nL 24.515625 72.90625 \nL 43.109375 23.296875 \nL 61.8125 72.90625 \nL 76.515625 72.90625 \nL 76.515625 0 \nL 66.890625 0 \nL 66.890625 64.015625 \nL 48.09375 14.015625 \nL 38.1875 14.015625 \nL 19.390625 64.015625 \nL 19.390625 0 \nL 9.8125 0 \nz\n\" id=\"DejaVuSans-77\"/>\n     <path d=\"M 18.109375 8.203125 \nL 18.109375 -20.796875 \nL 9.078125 -20.796875 \nL 9.078125 54.6875 \nL 18.109375 54.6875 \nL 18.109375 46.390625 \nQ 20.953125 51.265625 25.265625 53.625 \nQ 29.59375 56 35.59375 56 \nQ 45.5625 56 51.78125 48.09375 \nQ 58.015625 40.1875 58.015625 27.296875 \nQ 58.015625 14.40625 51.78125 6.484375 \nQ 45.5625 -1.421875 35.59375 -1.421875 \nQ 29.59375 -1.421875 25.265625 0.953125 \nQ 20.953125 3.328125 18.109375 8.203125 \nz\nM 48.6875 27.296875 \nQ 48.6875 37.203125 44.609375 42.84375 \nQ 40.53125 48.484375 33.40625 48.484375 \nQ 26.265625 48.484375 22.1875 42.84375 \nQ 18.109375 37.203125 18.109375 27.296875 \nQ 18.109375 17.390625 22.1875 11.75 \nQ 26.265625 6.109375 33.40625 6.109375 \nQ 40.53125 6.109375 44.609375 11.75 \nQ 48.6875 17.390625 48.6875 27.296875 \nz\n\" id=\"DejaVuSans-112\"/>\n     <path d=\"M 4.890625 31.390625 \nL 31.203125 31.390625 \nL 31.203125 23.390625 \nL 4.890625 23.390625 \nz\n\" id=\"DejaVuSans-45\"/>\n     <path d=\"M 8.6875 72.90625 \nL 18.609375 72.90625 \nL 18.609375 28.609375 \nQ 18.609375 16.890625 22.84375 11.734375 \nQ 27.09375 6.59375 36.625 6.59375 \nQ 46.09375 6.59375 50.34375 11.734375 \nQ 54.59375 16.890625 54.59375 28.609375 \nL 54.59375 72.90625 \nL 64.5 72.90625 \nL 64.5 27.390625 \nQ 64.5 13.140625 57.4375 5.859375 \nQ 50.390625 -1.421875 36.625 -1.421875 \nQ 22.796875 -1.421875 15.734375 5.859375 \nQ 8.6875 13.140625 8.6875 27.390625 \nz\n\" id=\"DejaVuSans-85\"/>\n     <path d=\"M 53.515625 70.515625 \nL 53.515625 60.890625 \nQ 47.90625 63.578125 42.921875 64.890625 \nQ 37.9375 66.21875 33.296875 66.21875 \nQ 25.25 66.21875 20.875 63.09375 \nQ 16.5 59.96875 16.5 54.203125 \nQ 16.5 49.359375 19.40625 46.890625 \nQ 22.3125 44.4375 30.421875 42.921875 \nL 36.375 41.703125 \nQ 47.40625 39.59375 52.65625 34.296875 \nQ 57.90625 29 57.90625 20.125 \nQ 57.90625 9.515625 50.796875 4.046875 \nQ 43.703125 -1.421875 29.984375 -1.421875 \nQ 24.8125 -1.421875 18.96875 -0.25 \nQ 13.140625 0.921875 6.890625 3.21875 \nL 6.890625 13.375 \nQ 12.890625 10.015625 18.65625 8.296875 \nQ 24.421875 6.59375 29.984375 6.59375 \nQ 38.421875 6.59375 43.015625 9.90625 \nQ 47.609375 13.234375 47.609375 19.390625 \nQ 47.609375 24.75 44.3125 27.78125 \nQ 41.015625 30.8125 33.5 32.328125 \nL 27.484375 33.5 \nQ 16.453125 35.6875 11.515625 40.375 \nQ 6.59375 45.0625 6.59375 53.421875 \nQ 6.59375 63.09375 13.40625 68.65625 \nQ 20.21875 74.21875 32.171875 74.21875 \nQ 37.3125 74.21875 42.625 73.28125 \nQ 47.953125 72.359375 53.515625 70.515625 \nz\n\" id=\"DejaVuSans-83\"/>\n     <path d=\"M 19.671875 64.796875 \nL 19.671875 8.109375 \nL 31.59375 8.109375 \nQ 46.6875 8.109375 53.6875 14.9375 \nQ 60.6875 21.78125 60.6875 36.53125 \nQ 60.6875 51.171875 53.6875 57.984375 \nQ 46.6875 64.796875 31.59375 64.796875 \nz\nM 9.8125 72.90625 \nL 30.078125 72.90625 \nQ 51.265625 72.90625 61.171875 64.09375 \nQ 71.09375 55.28125 71.09375 36.53125 \nQ 71.09375 17.671875 61.125 8.828125 \nQ 51.171875 0 30.078125 0 \nL 9.8125 0 \nz\n\" id=\"DejaVuSans-68\"/>\n     <path d=\"M 39.40625 66.21875 \nQ 28.65625 66.21875 22.328125 58.203125 \nQ 16.015625 50.203125 16.015625 36.375 \nQ 16.015625 22.609375 22.328125 14.59375 \nQ 28.65625 6.59375 39.40625 6.59375 \nQ 50.140625 6.59375 56.421875 14.59375 \nQ 62.703125 22.609375 62.703125 36.375 \nQ 62.703125 50.203125 56.421875 58.203125 \nQ 50.140625 66.21875 39.40625 66.21875 \nz\nM 39.40625 74.21875 \nQ 54.734375 74.21875 63.90625 63.9375 \nQ 73.09375 53.65625 73.09375 36.375 \nQ 73.09375 19.140625 63.90625 8.859375 \nQ 54.734375 -1.421875 39.40625 -1.421875 \nQ 24.03125 -1.421875 14.8125 8.828125 \nQ 5.609375 19.09375 5.609375 36.375 \nQ 5.609375 53.65625 14.8125 63.9375 \nQ 24.03125 74.21875 39.40625 74.21875 \nz\n\" id=\"DejaVuSans-79\"/>\n     <path d=\"M 19.671875 34.8125 \nL 19.671875 8.109375 \nL 35.5 8.109375 \nQ 43.453125 8.109375 47.28125 11.40625 \nQ 51.125 14.703125 51.125 21.484375 \nQ 51.125 28.328125 47.28125 31.5625 \nQ 43.453125 34.8125 35.5 34.8125 \nz\nM 19.671875 64.796875 \nL 19.671875 42.828125 \nL 34.28125 42.828125 \nQ 41.5 42.828125 45.03125 45.53125 \nQ 48.578125 48.25 48.578125 53.8125 \nQ 48.578125 59.328125 45.03125 62.0625 \nQ 41.5 64.796875 34.28125 64.796875 \nz\nM 9.8125 72.90625 \nL 35.015625 72.90625 \nQ 46.296875 72.90625 52.390625 68.21875 \nQ 58.5 63.53125 58.5 54.890625 \nQ 58.5 48.1875 55.375 44.234375 \nQ 52.25 40.28125 46.1875 39.3125 \nQ 53.46875 37.75 57.5 32.78125 \nQ 61.53125 27.828125 61.53125 20.40625 \nQ 61.53125 10.640625 54.890625 5.3125 \nQ 48.25 0 35.984375 0 \nL 9.8125 0 \nz\n\" id=\"DejaVuSans-66\"/>\n     <path d=\"M -0.203125 72.90625 \nL 10.40625 72.90625 \nL 30.609375 42.921875 \nL 50.6875 72.90625 \nL 61.28125 72.90625 \nL 35.5 34.71875 \nL 35.5 0 \nL 25.59375 0 \nL 25.59375 34.71875 \nz\n\" id=\"DejaVuSans-89\"/>\n     <path d=\"M 9.8125 72.90625 \nL 19.671875 72.90625 \nL 19.671875 8.296875 \nL 55.171875 8.296875 \nL 55.171875 0 \nL 9.8125 0 \nz\n\" id=\"DejaVuSans-76\"/>\n     <path d=\"M 34.1875 63.1875 \nL 20.796875 26.90625 \nL 47.609375 26.90625 \nz\nM 28.609375 72.90625 \nL 39.796875 72.90625 \nL 67.578125 0 \nL 57.328125 0 \nL 50.6875 18.703125 \nL 17.828125 18.703125 \nL 11.1875 0 \nL 0.78125 0 \nz\n\" id=\"DejaVuSans-65\"/>\n    </defs>\n    <g transform=\"translate(229.146875 29.7555)scale(0.12 -0.12)\">\n     <use xlink:href=\"#DejaVuSans-32\"/>\n     <use x=\"31.787109\" xlink:href=\"#DejaVuSans-32\"/>\n     <use x=\"63.574219\" xlink:href=\"#DejaVuSans-32\"/>\n     <use x=\"95.361328\" xlink:href=\"#DejaVuSans-32\"/>\n     <use x=\"127.148438\" xlink:href=\"#DejaVuSans-32\"/>\n     <use x=\"158.935547\" xlink:href=\"#DejaVuSans-32\"/>\n     <use x=\"190.722656\" xlink:href=\"#DejaVuSans-32\"/>\n     <use x=\"222.509766\" xlink:href=\"#DejaVuSans-32\"/>\n     <use x=\"254.296875\" xlink:href=\"#DejaVuSans-74\"/>\n     <use x=\"283.789062\" xlink:href=\"#DejaVuSans-111\"/>\n     <use x=\"344.970703\" xlink:href=\"#DejaVuSans-114\"/>\n     <use x=\"384.333984\" xlink:href=\"#DejaVuSans-100\"/>\n     <use x=\"447.810547\" xlink:href=\"#DejaVuSans-97\"/>\n     <use x=\"509.089844\" xlink:href=\"#DejaVuSans-110\"/>\n     <use x=\"572.46875\" xlink:href=\"#DejaVuSans-87\"/>\n     <use x=\"669.095703\" xlink:href=\"#DejaVuSans-105\"/>\n     <use x=\"696.878906\" xlink:href=\"#DejaVuSans-103\"/>\n     <use x=\"760.355469\" xlink:href=\"#DejaVuSans-110\"/>\n     <use x=\"823.734375\" xlink:href=\"#DejaVuSans-101\"/>\n     <use x=\"885.257812\" xlink:href=\"#DejaVuSans-114\"/>\n     <use x=\"926.371094\" xlink:href=\"#DejaVuSans-77\"/>\n     <use x=\"1012.650391\" xlink:href=\"#DejaVuSans-97\"/>\n     <use x=\"1073.929688\" xlink:href=\"#DejaVuSans-112\"/>\n     <use x=\"1137.40625\" xlink:href=\"#DejaVuSans-112\"/>\n     <use x=\"1200.882812\" xlink:href=\"#DejaVuSans-101\"/>\n     <use x=\"1262.40625\" xlink:href=\"#DejaVuSans-114\"/>\n     <use x=\"1297.144531\" xlink:href=\"#DejaVuSans-45\"/>\n     <use x=\"1333.228516\" xlink:href=\"#DejaVuSans-32\"/>\n     <use x=\"1365.015625\" xlink:href=\"#DejaVuSans-32\"/>\n     <use x=\"1396.802734\" xlink:href=\"#DejaVuSans-32\"/>\n     <use x=\"1428.589844\" xlink:href=\"#DejaVuSans-32\"/>\n     <use x=\"1460.376953\" xlink:href=\"#DejaVuSans-32\"/>\n     <use x=\"1492.164062\" xlink:href=\"#DejaVuSans-32\"/>\n     <use x=\"1523.951172\" xlink:href=\"#DejaVuSans-32\"/>\n     <use x=\"1555.738281\" xlink:href=\"#DejaVuSans-32\"/>\n     <use x=\"1587.525391\" xlink:href=\"#DejaVuSans-85\"/>\n     <use x=\"1660.71875\" xlink:href=\"#DejaVuSans-67\"/>\n     <use x=\"1730.542969\" xlink:href=\"#DejaVuSans-67\"/>\n     <use x=\"1800.367188\" xlink:href=\"#DejaVuSans-83\"/>\n     <use x=\"1863.84375\" xlink:href=\"#DejaVuSans-68\"/>\n     <use x=\"1940.845703\" xlink:href=\"#DejaVuSans-45\"/>\n     <use x=\"1976.929688\" xlink:href=\"#DejaVuSans-32\"/>\n     <use x=\"2008.716797\" xlink:href=\"#DejaVuSans-32\"/>\n     <use x=\"2040.503906\" xlink:href=\"#DejaVuSans-32\"/>\n     <use x=\"2072.291016\" xlink:href=\"#DejaVuSans-32\"/>\n     <use x=\"2104.078125\" xlink:href=\"#DejaVuSans-32\"/>\n     <use x=\"2135.865234\" xlink:href=\"#DejaVuSans-32\"/>\n     <use x=\"2167.652344\" xlink:href=\"#DejaVuSans-32\"/>\n     <use x=\"2199.439453\" xlink:href=\"#DejaVuSans-32\"/>\n     <use x=\"2231.226562\" xlink:href=\"#DejaVuSans-67\"/>\n     <use x=\"2301.050781\" xlink:href=\"#DejaVuSans-79\"/>\n     <use x=\"2379.761719\" xlink:href=\"#DejaVuSans-66\"/>\n     <use x=\"2442.865234\" xlink:href=\"#DejaVuSans-89\"/>\n     <use x=\"2503.949219\" xlink:href=\"#DejaVuSans-76\"/>\n     <use x=\"2561.912109\" xlink:href=\"#DejaVuSans-65\"/>\n    </g>\n   </g>\n  </g>\n  <g id=\"text_15\">\n   <!--         Minimum Energy: -1.859 -->\n   <defs>\n    <path d=\"M 52 44.1875 \nQ 55.375 50.25 60.0625 53.125 \nQ 64.75 56 71.09375 56 \nQ 79.640625 56 84.28125 50.015625 \nQ 88.921875 44.046875 88.921875 33.015625 \nL 88.921875 0 \nL 79.890625 0 \nL 79.890625 32.71875 \nQ 79.890625 40.578125 77.09375 44.375 \nQ 74.3125 48.1875 68.609375 48.1875 \nQ 61.625 48.1875 57.5625 43.546875 \nQ 53.515625 38.921875 53.515625 30.90625 \nL 53.515625 0 \nL 44.484375 0 \nL 44.484375 32.71875 \nQ 44.484375 40.625 41.703125 44.40625 \nQ 38.921875 48.1875 33.109375 48.1875 \nQ 26.21875 48.1875 22.15625 43.53125 \nQ 18.109375 38.875 18.109375 30.90625 \nL 18.109375 0 \nL 9.078125 0 \nL 9.078125 54.6875 \nL 18.109375 54.6875 \nL 18.109375 46.1875 \nQ 21.1875 51.21875 25.484375 53.609375 \nQ 29.78125 56 35.6875 56 \nQ 41.65625 56 45.828125 52.96875 \nQ 50 49.953125 52 44.1875 \nz\n\" id=\"DejaVuSans-109\"/>\n    <path d=\"M 8.5 21.578125 \nL 8.5 54.6875 \nL 17.484375 54.6875 \nL 17.484375 21.921875 \nQ 17.484375 14.15625 20.5 10.265625 \nQ 23.53125 6.390625 29.59375 6.390625 \nQ 36.859375 6.390625 41.078125 11.03125 \nQ 45.3125 15.671875 45.3125 23.6875 \nL 45.3125 54.6875 \nL 54.296875 54.6875 \nL 54.296875 0 \nL 45.3125 0 \nL 45.3125 8.40625 \nQ 42.046875 3.421875 37.71875 1 \nQ 33.40625 -1.421875 27.6875 -1.421875 \nQ 18.265625 -1.421875 13.375 4.4375 \nQ 8.5 10.296875 8.5 21.578125 \nz\nM 31.109375 56 \nz\n\" id=\"DejaVuSans-117\"/>\n    <path d=\"M 11.71875 12.40625 \nL 22.015625 12.40625 \nL 22.015625 0 \nL 11.71875 0 \nz\nM 11.71875 51.703125 \nL 22.015625 51.703125 \nL 22.015625 39.3125 \nL 11.71875 39.3125 \nz\n\" id=\"DejaVuSans-58\"/>\n    <path d=\"M 10.796875 72.90625 \nL 49.515625 72.90625 \nL 49.515625 64.59375 \nL 19.828125 64.59375 \nL 19.828125 46.734375 \nQ 21.96875 47.46875 24.109375 47.828125 \nQ 26.265625 48.1875 28.421875 48.1875 \nQ 40.625 48.1875 47.75 41.5 \nQ 54.890625 34.8125 54.890625 23.390625 \nQ 54.890625 11.625 47.5625 5.09375 \nQ 40.234375 -1.421875 26.90625 -1.421875 \nQ 22.3125 -1.421875 17.546875 -0.640625 \nQ 12.796875 0.140625 7.71875 1.703125 \nL 7.71875 11.625 \nQ 12.109375 9.234375 16.796875 8.0625 \nQ 21.484375 6.890625 26.703125 6.890625 \nQ 35.15625 6.890625 40.078125 11.328125 \nQ 45.015625 15.765625 45.015625 23.390625 \nQ 45.015625 31 40.078125 35.4375 \nQ 35.15625 39.890625 26.703125 39.890625 \nQ 22.75 39.890625 18.8125 39.015625 \nQ 14.890625 38.140625 10.796875 36.28125 \nz\n\" id=\"DejaVuSans-53\"/>\n    <path d=\"M 10.984375 1.515625 \nL 10.984375 10.5 \nQ 14.703125 8.734375 18.5 7.8125 \nQ 22.3125 6.890625 25.984375 6.890625 \nQ 35.75 6.890625 40.890625 13.453125 \nQ 46.046875 20.015625 46.78125 33.40625 \nQ 43.953125 29.203125 39.59375 26.953125 \nQ 35.25 24.703125 29.984375 24.703125 \nQ 19.046875 24.703125 12.671875 31.3125 \nQ 6.296875 37.9375 6.296875 49.421875 \nQ 6.296875 60.640625 12.9375 67.421875 \nQ 19.578125 74.21875 30.609375 74.21875 \nQ 43.265625 74.21875 49.921875 64.515625 \nQ 56.59375 54.828125 56.59375 36.375 \nQ 56.59375 19.140625 48.40625 8.859375 \nQ 40.234375 -1.421875 26.421875 -1.421875 \nQ 22.703125 -1.421875 18.890625 -0.6875 \nQ 15.09375 0.046875 10.984375 1.515625 \nz\nM 30.609375 32.421875 \nQ 37.25 32.421875 41.125 36.953125 \nQ 45.015625 41.5 45.015625 49.421875 \nQ 45.015625 57.28125 41.125 61.84375 \nQ 37.25 66.40625 30.609375 66.40625 \nQ 23.96875 66.40625 20.09375 61.84375 \nQ 16.21875 57.28125 16.21875 49.421875 \nQ 16.21875 41.5 20.09375 36.953125 \nQ 23.96875 32.421875 30.609375 32.421875 \nz\n\" id=\"DejaVuSans-57\"/>\n   </defs>\n   <g transform=\"translate(505.760938 97.599875)scale(0.1 -0.1)\">\n    <use xlink:href=\"#DejaVuSans-32\"/>\n    <use x=\"31.787109\" xlink:href=\"#DejaVuSans-32\"/>\n    <use x=\"63.574219\" xlink:href=\"#DejaVuSans-32\"/>\n    <use x=\"95.361328\" xlink:href=\"#DejaVuSans-32\"/>\n    <use x=\"127.148438\" xlink:href=\"#DejaVuSans-32\"/>\n    <use x=\"158.935547\" xlink:href=\"#DejaVuSans-32\"/>\n    <use x=\"190.722656\" xlink:href=\"#DejaVuSans-32\"/>\n    <use x=\"222.509766\" xlink:href=\"#DejaVuSans-32\"/>\n    <use x=\"254.296875\" xlink:href=\"#DejaVuSans-77\"/>\n    <use x=\"340.576172\" xlink:href=\"#DejaVuSans-105\"/>\n    <use x=\"368.359375\" xlink:href=\"#DejaVuSans-110\"/>\n    <use x=\"431.738281\" xlink:href=\"#DejaVuSans-105\"/>\n    <use x=\"459.521484\" xlink:href=\"#DejaVuSans-109\"/>\n    <use x=\"556.933594\" xlink:href=\"#DejaVuSans-117\"/>\n    <use x=\"620.3125\" xlink:href=\"#DejaVuSans-109\"/>\n    <use x=\"717.724609\" xlink:href=\"#DejaVuSans-32\"/>\n    <use x=\"749.511719\" xlink:href=\"#DejaVuSans-69\"/>\n    <use x=\"812.695312\" xlink:href=\"#DejaVuSans-110\"/>\n    <use x=\"876.074219\" xlink:href=\"#DejaVuSans-101\"/>\n    <use x=\"937.597656\" xlink:href=\"#DejaVuSans-114\"/>\n    <use x=\"976.960938\" xlink:href=\"#DejaVuSans-103\"/>\n    <use x=\"1040.4375\" xlink:href=\"#DejaVuSans-121\"/>\n    <use x=\"1092.367188\" xlink:href=\"#DejaVuSans-58\"/>\n    <use x=\"1126.058594\" xlink:href=\"#DejaVuSans-32\"/>\n    <use x=\"1157.845703\" xlink:href=\"#DejaVuSans-45\"/>\n    <use x=\"1193.929688\" xlink:href=\"#DejaVuSans-49\"/>\n    <use x=\"1257.552734\" xlink:href=\"#DejaVuSans-46\"/>\n    <use x=\"1289.339844\" xlink:href=\"#DejaVuSans-56\"/>\n    <use x=\"1352.962891\" xlink:href=\"#DejaVuSans-53\"/>\n    <use x=\"1416.585938\" xlink:href=\"#DejaVuSans-57\"/>\n   </g>\n   <!--         Runtime: 4.697 -->\n   <defs>\n    <path d=\"M 44.390625 34.1875 \nQ 47.5625 33.109375 50.5625 29.59375 \nQ 53.5625 26.078125 56.59375 19.921875 \nL 66.609375 0 \nL 56 0 \nL 46.6875 18.703125 \nQ 43.0625 26.03125 39.671875 28.421875 \nQ 36.28125 30.8125 30.421875 30.8125 \nL 19.671875 30.8125 \nL 19.671875 0 \nL 9.8125 0 \nL 9.8125 72.90625 \nL 32.078125 72.90625 \nQ 44.578125 72.90625 50.734375 67.671875 \nQ 56.890625 62.453125 56.890625 51.90625 \nQ 56.890625 45.015625 53.6875 40.46875 \nQ 50.484375 35.9375 44.390625 34.1875 \nz\nM 19.671875 64.796875 \nL 19.671875 38.921875 \nL 32.078125 38.921875 \nQ 39.203125 38.921875 42.84375 42.21875 \nQ 46.484375 45.515625 46.484375 51.90625 \nQ 46.484375 58.296875 42.84375 61.546875 \nQ 39.203125 64.796875 32.078125 64.796875 \nz\n\" id=\"DejaVuSans-82\"/>\n    <path d=\"M 8.203125 72.90625 \nL 55.078125 72.90625 \nL 55.078125 68.703125 \nL 28.609375 0 \nL 18.3125 0 \nL 43.21875 64.59375 \nL 8.203125 64.59375 \nz\n\" id=\"DejaVuSans-55\"/>\n   </defs>\n   <g transform=\"translate(505.760938 108.797688)scale(0.1 -0.1)\">\n    <use xlink:href=\"#DejaVuSans-32\"/>\n    <use x=\"31.787109\" xlink:href=\"#DejaVuSans-32\"/>\n    <use x=\"63.574219\" xlink:href=\"#DejaVuSans-32\"/>\n    <use x=\"95.361328\" xlink:href=\"#DejaVuSans-32\"/>\n    <use x=\"127.148438\" xlink:href=\"#DejaVuSans-32\"/>\n    <use x=\"158.935547\" xlink:href=\"#DejaVuSans-32\"/>\n    <use x=\"190.722656\" xlink:href=\"#DejaVuSans-32\"/>\n    <use x=\"222.509766\" xlink:href=\"#DejaVuSans-32\"/>\n    <use x=\"254.296875\" xlink:href=\"#DejaVuSans-82\"/>\n    <use x=\"319.279297\" xlink:href=\"#DejaVuSans-117\"/>\n    <use x=\"382.658203\" xlink:href=\"#DejaVuSans-110\"/>\n    <use x=\"446.037109\" xlink:href=\"#DejaVuSans-116\"/>\n    <use x=\"485.246094\" xlink:href=\"#DejaVuSans-105\"/>\n    <use x=\"513.029297\" xlink:href=\"#DejaVuSans-109\"/>\n    <use x=\"610.441406\" xlink:href=\"#DejaVuSans-101\"/>\n    <use x=\"671.964844\" xlink:href=\"#DejaVuSans-58\"/>\n    <use x=\"705.65625\" xlink:href=\"#DejaVuSans-32\"/>\n    <use x=\"737.443359\" xlink:href=\"#DejaVuSans-52\"/>\n    <use x=\"801.066406\" xlink:href=\"#DejaVuSans-46\"/>\n    <use x=\"832.853516\" xlink:href=\"#DejaVuSans-54\"/>\n    <use x=\"896.476562\" xlink:href=\"#DejaVuSans-57\"/>\n    <use x=\"960.099609\" xlink:href=\"#DejaVuSans-55\"/>\n   </g>\n   <!--         Number of Iterations: 42 -->\n   <defs>\n    <path d=\"M 9.8125 72.90625 \nL 23.09375 72.90625 \nL 55.421875 11.921875 \nL 55.421875 72.90625 \nL 64.984375 72.90625 \nL 64.984375 0 \nL 51.703125 0 \nL 19.390625 60.984375 \nL 19.390625 0 \nL 9.8125 0 \nz\n\" id=\"DejaVuSans-78\"/>\n    <path d=\"M 48.6875 27.296875 \nQ 48.6875 37.203125 44.609375 42.84375 \nQ 40.53125 48.484375 33.40625 48.484375 \nQ 26.265625 48.484375 22.1875 42.84375 \nQ 18.109375 37.203125 18.109375 27.296875 \nQ 18.109375 17.390625 22.1875 11.75 \nQ 26.265625 6.109375 33.40625 6.109375 \nQ 40.53125 6.109375 44.609375 11.75 \nQ 48.6875 17.390625 48.6875 27.296875 \nz\nM 18.109375 46.390625 \nQ 20.953125 51.265625 25.265625 53.625 \nQ 29.59375 56 35.59375 56 \nQ 45.5625 56 51.78125 48.09375 \nQ 58.015625 40.1875 58.015625 27.296875 \nQ 58.015625 14.40625 51.78125 6.484375 \nQ 45.5625 -1.421875 35.59375 -1.421875 \nQ 29.59375 -1.421875 25.265625 0.953125 \nQ 20.953125 3.328125 18.109375 8.203125 \nL 18.109375 0 \nL 9.078125 0 \nL 9.078125 75.984375 \nL 18.109375 75.984375 \nz\n\" id=\"DejaVuSans-98\"/>\n    <path d=\"M 37.109375 75.984375 \nL 37.109375 68.5 \nL 28.515625 68.5 \nQ 23.6875 68.5 21.796875 66.546875 \nQ 19.921875 64.59375 19.921875 59.515625 \nL 19.921875 54.6875 \nL 34.71875 54.6875 \nL 34.71875 47.703125 \nL 19.921875 47.703125 \nL 19.921875 0 \nL 10.890625 0 \nL 10.890625 47.703125 \nL 2.296875 47.703125 \nL 2.296875 54.6875 \nL 10.890625 54.6875 \nL 10.890625 58.5 \nQ 10.890625 67.625 15.140625 71.796875 \nQ 19.390625 75.984375 28.609375 75.984375 \nz\n\" id=\"DejaVuSans-102\"/>\n   </defs>\n   <g transform=\"translate(505.760938 119.9955)scale(0.1 -0.1)\">\n    <use xlink:href=\"#DejaVuSans-32\"/>\n    <use x=\"31.787109\" xlink:href=\"#DejaVuSans-32\"/>\n    <use x=\"63.574219\" xlink:href=\"#DejaVuSans-32\"/>\n    <use x=\"95.361328\" xlink:href=\"#DejaVuSans-32\"/>\n    <use x=\"127.148438\" xlink:href=\"#DejaVuSans-32\"/>\n    <use x=\"158.935547\" xlink:href=\"#DejaVuSans-32\"/>\n    <use x=\"190.722656\" xlink:href=\"#DejaVuSans-32\"/>\n    <use x=\"222.509766\" xlink:href=\"#DejaVuSans-32\"/>\n    <use x=\"254.296875\" xlink:href=\"#DejaVuSans-78\"/>\n    <use x=\"329.101562\" xlink:href=\"#DejaVuSans-117\"/>\n    <use x=\"392.480469\" xlink:href=\"#DejaVuSans-109\"/>\n    <use x=\"489.892578\" xlink:href=\"#DejaVuSans-98\"/>\n    <use x=\"553.369141\" xlink:href=\"#DejaVuSans-101\"/>\n    <use x=\"614.892578\" xlink:href=\"#DejaVuSans-114\"/>\n    <use x=\"656.005859\" xlink:href=\"#DejaVuSans-32\"/>\n    <use x=\"687.792969\" xlink:href=\"#DejaVuSans-111\"/>\n    <use x=\"748.974609\" xlink:href=\"#DejaVuSans-102\"/>\n    <use x=\"784.179688\" xlink:href=\"#DejaVuSans-32\"/>\n    <use x=\"815.966797\" xlink:href=\"#DejaVuSans-73\"/>\n    <use x=\"845.458984\" xlink:href=\"#DejaVuSans-116\"/>\n    <use x=\"884.667969\" xlink:href=\"#DejaVuSans-101\"/>\n    <use x=\"946.191406\" xlink:href=\"#DejaVuSans-114\"/>\n    <use x=\"987.304688\" xlink:href=\"#DejaVuSans-97\"/>\n    <use x=\"1048.583984\" xlink:href=\"#DejaVuSans-116\"/>\n    <use x=\"1087.792969\" xlink:href=\"#DejaVuSans-105\"/>\n    <use x=\"1115.576172\" xlink:href=\"#DejaVuSans-111\"/>\n    <use x=\"1176.757812\" xlink:href=\"#DejaVuSans-110\"/>\n    <use x=\"1240.136719\" xlink:href=\"#DejaVuSans-115\"/>\n    <use x=\"1292.236328\" xlink:href=\"#DejaVuSans-58\"/>\n    <use x=\"1325.927734\" xlink:href=\"#DejaVuSans-32\"/>\n    <use x=\"1357.714844\" xlink:href=\"#DejaVuSans-52\"/>\n    <use x=\"1421.337891\" xlink:href=\"#DejaVuSans-50\"/>\n   </g>\n  </g>\n </g>\n <defs>\n  <clipPath id=\"pc7c722ed19\">\n   <rect height=\"489.24\" width=\"669.6\" x=\"52.160938\" y=\"35.7555\"/>\n  </clipPath>\n </defs>\n</svg>\n",
            "image/png": "[encoded data removed]"
          },
          "metadata": {
            "needs_background": "light"
          }
        }
      ]
    },
    {
      "cell_type": "code",
      "source": [
        "### QCC method ###\n",
        "#set number of Bloch angle and entangler amplitude foldings\n",
        "method = 'QCC'\n",
        "start_time = time.time()\n",
        "\n",
        "angle_folds = 4\n",
        "amplitude_folds = 1\n",
        "m = count_qubits(problem.of_qubit_op)\n",
        "#create dictionary of QubitOperator entanglers\n",
        "entanglers = {'IYZI': QubitOperator('Y1 Z2'), 'IZYI': QubitOperator('Z1 Y2'),\n",
        "              'IXYI': QubitOperator('X1 Y2'), 'IYXI': QubitOperator('Y1 X2')}\n",
        "\n",
        "param_dict = {\n",
        "    'mapping': problem.qubit_converter.mapper.__class__.__name__,\n",
        "    'angle_folds': angle_folds,\n",
        "    'amplitude_folds': amplitude_folds,\n",
        "    'entanglers': entanglers}\n",
        "\n",
        "#run QCC method\n",
        "min_energy, variables, min_energies, iter_times = QCC(problem.of_qubit_op, entanglers, angle_folds, amplitude_folds, sampler, num_cycles=10, num_samples=1000, strength=1e3, verbose=True)\n",
        "\n",
        "exact_energy = problem.exact_energy\n",
        "min_energy = np.real(min_energy)\n",
        "optimal_point = variables\n",
        "percent_accuracy = 100-np.abs(100*(min_energy-exact_energy)/exact_energy)\n",
        "nominal_accuracy = min_energy-exact_energy\n",
        "key = problem.molecule_name+\"_\"+problem.geometry+\"_\"+basis+\"_\"+method+\"_\"+backend\n",
        "\n",
        "result_dict = {\n",
        "    key:\n",
        "        {\n",
        "        'molecule': problem.molecule_name,\n",
        "        'geometry': problem.geometry,\n",
        "        'basis': problem.basis,\n",
        "        'method': method,\n",
        "        'backend': str(sampler),\n",
        "        'setup' : param_dict,\n",
        "        'exact energy': exact_energy,\n",
        "        'result energy (Ha)': min_energy,\n",
        "        'error (mHa)': nominal_accuracy,\n",
        "        'error (%)': percent_accuracy,\n",
        "        'final parameters': list(optimal_point),\n",
        "        '# of evaluations': len(min_energies),\n",
        "        'runtime': sum(iter_times),\n",
        "        '# of qubits': m,\n",
        "        'min energies': list(min_energies)\n",
        "        }\n",
        "\n",
        "}\n",
        "\n",
        "minEnergyResults(problem, result_dict, method, backend)"
      ],
      "metadata": {
        "colab": {
          "base_uri": "https://localhost:8080/",
          "height": 1000
        },
        "id": "1poweDd1Kqj8",
        "outputId": "8e787868-5d9e-4c9d-c438-8d77c2b0176d",
        "tags": []
      },
      "execution_count": 9,
      "outputs": [
        {
          "output_type": "stream",
          "name": "stdout",
          "text": [
            "Cycle: 1 Energy: -1.5070099502224972\nCycle: 2 Energy: -1.8414989936649944\nCycle: 3 Energy: -1.8414989936649944\nCycle: 4 Energy: -1.8414989936649944\nCycle: 5 Energy: -1.8414989936649944\nCycle: 6 Energy: -1.8414989936649944\nCycle: 7 Energy: -1.8414989936649944\nCycle: 8 Energy: -1.8414989936649944\nCycle: 9 Energy: -1.8414989936649944\nCycle: 10 Energy: -1.8414989936649944\n"
          ]
        },
        {
          "output_type": "error",
          "ename": "JSONDecodeError",
          "evalue": "Expecting property name enclosed in double quotes: line 12 column 21 (char 434)",
          "traceback": [
            "\u001b[0;31m---------------------------------------------------------------------------\u001b[0m",
            "\u001b[0;31mJSONDecodeError\u001b[0m                           Traceback (most recent call last)",
            "\u001b[0;32m<ipython-input-9-62102de3c6d2>\u001b[0m in \u001b[0;36m<module>\u001b[0;34m()\u001b[0m\n\u001b[1;32m     45\u001b[0m }\n\u001b[1;32m     46\u001b[0m \u001b[0;34m\u001b[0m\u001b[0m\n\u001b[0;32m---> 47\u001b[0;31m \u001b[0mminEnergyResults\u001b[0m\u001b[0;34m(\u001b[0m\u001b[0mresult_dict\u001b[0m\u001b[0;34m,\u001b[0m \u001b[0mmethod\u001b[0m\u001b[0;34m)\u001b[0m\u001b[0;34m\u001b[0m\u001b[0;34m\u001b[0m\u001b[0m\n\u001b[0m",
            "\u001b[0;32m<ipython-input-4-d38c045125fe>\u001b[0m in \u001b[0;36mminEnergyResults\u001b[0;34m(result_dict, method)\u001b[0m\n\u001b[1;32m    106\u001b[0m     \u001b[0;32mif\u001b[0m \u001b[0mos\u001b[0m\u001b[0;34m.\u001b[0m\u001b[0mpath\u001b[0m\u001b[0;34m.\u001b[0m\u001b[0mexists\u001b[0m\u001b[0;34m(\u001b[0m\u001b[0;34m'experiments/results.json'\u001b[0m\u001b[0;34m)\u001b[0m\u001b[0;34m:\u001b[0m\u001b[0;34m\u001b[0m\u001b[0;34m\u001b[0m\u001b[0m\n\u001b[1;32m    107\u001b[0m         \u001b[0;32mwith\u001b[0m \u001b[0mopen\u001b[0m\u001b[0;34m(\u001b[0m\u001b[0;34m'experiments/results.json'\u001b[0m\u001b[0;34m,\u001b[0m \u001b[0;34m'r'\u001b[0m\u001b[0;34m)\u001b[0m \u001b[0;32mas\u001b[0m \u001b[0mfile\u001b[0m\u001b[0;34m:\u001b[0m\u001b[0;34m\u001b[0m\u001b[0;34m\u001b[0m\u001b[0m\n\u001b[0;32m--> 108\u001b[0;31m             \u001b[0mresults\u001b[0m \u001b[0;34m=\u001b[0m \u001b[0mjson\u001b[0m\u001b[0;34m.\u001b[0m\u001b[0mloads\u001b[0m\u001b[0;34m(\u001b[0m\u001b[0mfile\u001b[0m\u001b[0;34m.\u001b[0m\u001b[0mread\u001b[0m\u001b[0;34m(\u001b[0m\u001b[0;34m)\u001b[0m\u001b[0;34m)\u001b[0m\u001b[0;34m\u001b[0m\u001b[0;34m\u001b[0m\u001b[0m\n\u001b[0m\u001b[1;32m    109\u001b[0m             \u001b[0mresults\u001b[0m\u001b[0;34m.\u001b[0m\u001b[0mupdate\u001b[0m\u001b[0;34m(\u001b[0m\u001b[0mresult_dict\u001b[0m\u001b[0;34m)\u001b[0m\u001b[0;34m\u001b[0m\u001b[0;34m\u001b[0m\u001b[0m\n\u001b[1;32m    110\u001b[0m     \u001b[0;32melse\u001b[0m\u001b[0;34m:\u001b[0m\u001b[0;34m\u001b[0m\u001b[0;34m\u001b[0m\u001b[0m\n",
            "\u001b[0;32m/usr/lib/python3.7/json/__init__.py\u001b[0m in \u001b[0;36mloads\u001b[0;34m(s, encoding, cls, object_hook, parse_float, parse_int, parse_constant, object_pairs_hook, **kw)\u001b[0m\n\u001b[1;32m    346\u001b[0m             \u001b[0mparse_int\u001b[0m \u001b[0;32mis\u001b[0m \u001b[0;32mNone\u001b[0m \u001b[0;32mand\u001b[0m \u001b[0mparse_float\u001b[0m \u001b[0;32mis\u001b[0m \u001b[0;32mNone\u001b[0m \u001b[0;32mand\u001b[0m\u001b[0;34m\u001b[0m\u001b[0;34m\u001b[0m\u001b[0m\n\u001b[1;32m    347\u001b[0m             parse_constant is None and object_pairs_hook is None and not kw):\n\u001b[0;32m--> 348\u001b[0;31m         \u001b[0;32mreturn\u001b[0m \u001b[0m_default_decoder\u001b[0m\u001b[0;34m.\u001b[0m\u001b[0mdecode\u001b[0m\u001b[0;34m(\u001b[0m\u001b[0ms\u001b[0m\u001b[0;34m)\u001b[0m\u001b[0;34m\u001b[0m\u001b[0;34m\u001b[0m\u001b[0m\n\u001b[0m\u001b[1;32m    349\u001b[0m     \u001b[0;32mif\u001b[0m \u001b[0mcls\u001b[0m \u001b[0;32mis\u001b[0m \u001b[0;32mNone\u001b[0m\u001b[0;34m:\u001b[0m\u001b[0;34m\u001b[0m\u001b[0;34m\u001b[0m\u001b[0m\n\u001b[1;32m    350\u001b[0m         \u001b[0mcls\u001b[0m \u001b[0;34m=\u001b[0m \u001b[0mJSONDecoder\u001b[0m\u001b[0;34m\u001b[0m\u001b[0;34m\u001b[0m\u001b[0m\n",
            "\u001b[0;32m/usr/lib/python3.7/json/decoder.py\u001b[0m in \u001b[0;36mdecode\u001b[0;34m(self, s, _w)\u001b[0m\n\u001b[1;32m    335\u001b[0m \u001b[0;34m\u001b[0m\u001b[0m\n\u001b[1;32m    336\u001b[0m         \"\"\"\n\u001b[0;32m--> 337\u001b[0;31m         \u001b[0mobj\u001b[0m\u001b[0;34m,\u001b[0m \u001b[0mend\u001b[0m \u001b[0;34m=\u001b[0m \u001b[0mself\u001b[0m\u001b[0;34m.\u001b[0m\u001b[0mraw_decode\u001b[0m\u001b[0;34m(\u001b[0m\u001b[0ms\u001b[0m\u001b[0;34m,\u001b[0m \u001b[0midx\u001b[0m\u001b[0;34m=\u001b[0m\u001b[0m_w\u001b[0m\u001b[0;34m(\u001b[0m\u001b[0ms\u001b[0m\u001b[0;34m,\u001b[0m \u001b[0;36m0\u001b[0m\u001b[0;34m)\u001b[0m\u001b[0;34m.\u001b[0m\u001b[0mend\u001b[0m\u001b[0;34m(\u001b[0m\u001b[0;34m)\u001b[0m\u001b[0;34m)\u001b[0m\u001b[0;34m\u001b[0m\u001b[0;34m\u001b[0m\u001b[0m\n\u001b[0m\u001b[1;32m    338\u001b[0m         \u001b[0mend\u001b[0m \u001b[0;34m=\u001b[0m \u001b[0m_w\u001b[0m\u001b[0;34m(\u001b[0m\u001b[0ms\u001b[0m\u001b[0;34m,\u001b[0m \u001b[0mend\u001b[0m\u001b[0;34m)\u001b[0m\u001b[0;34m.\u001b[0m\u001b[0mend\u001b[0m\u001b[0;34m(\u001b[0m\u001b[0;34m)\u001b[0m\u001b[0;34m\u001b[0m\u001b[0;34m\u001b[0m\u001b[0m\n\u001b[1;32m    339\u001b[0m         \u001b[0;32mif\u001b[0m \u001b[0mend\u001b[0m \u001b[0;34m!=\u001b[0m \u001b[0mlen\u001b[0m\u001b[0;34m(\u001b[0m\u001b[0ms\u001b[0m\u001b[0;34m)\u001b[0m\u001b[0;34m:\u001b[0m\u001b[0;34m\u001b[0m\u001b[0;34m\u001b[0m\u001b[0m\n",
            "\u001b[0;32m/usr/lib/python3.7/json/decoder.py\u001b[0m in \u001b[0;36mraw_decode\u001b[0;34m(self, s, idx)\u001b[0m\n\u001b[1;32m    351\u001b[0m         \"\"\"\n\u001b[1;32m    352\u001b[0m         \u001b[0;32mtry\u001b[0m\u001b[0;34m:\u001b[0m\u001b[0;34m\u001b[0m\u001b[0;34m\u001b[0m\u001b[0m\n\u001b[0;32m--> 353\u001b[0;31m             \u001b[0mobj\u001b[0m\u001b[0;34m,\u001b[0m \u001b[0mend\u001b[0m \u001b[0;34m=\u001b[0m \u001b[0mself\u001b[0m\u001b[0;34m.\u001b[0m\u001b[0mscan_once\u001b[0m\u001b[0;34m(\u001b[0m\u001b[0ms\u001b[0m\u001b[0;34m,\u001b[0m \u001b[0midx\u001b[0m\u001b[0;34m)\u001b[0m\u001b[0;34m\u001b[0m\u001b[0;34m\u001b[0m\u001b[0m\n\u001b[0m\u001b[1;32m    354\u001b[0m         \u001b[0;32mexcept\u001b[0m \u001b[0mStopIteration\u001b[0m \u001b[0;32mas\u001b[0m \u001b[0merr\u001b[0m\u001b[0;34m:\u001b[0m\u001b[0;34m\u001b[0m\u001b[0;34m\u001b[0m\u001b[0m\n\u001b[1;32m    355\u001b[0m             \u001b[0;32mraise\u001b[0m \u001b[0mJSONDecodeError\u001b[0m\u001b[0;34m(\u001b[0m\u001b[0;34m\"Expecting value\"\u001b[0m\u001b[0;34m,\u001b[0m \u001b[0ms\u001b[0m\u001b[0;34m,\u001b[0m \u001b[0merr\u001b[0m\u001b[0;34m.\u001b[0m\u001b[0mvalue\u001b[0m\u001b[0;34m)\u001b[0m \u001b[0;32mfrom\u001b[0m \u001b[0;32mNone\u001b[0m\u001b[0;34m\u001b[0m\u001b[0;34m\u001b[0m\u001b[0m\n",
            "\u001b[0;31mJSONDecodeError\u001b[0m: Expecting property name enclosed in double quotes: line 12 column 21 (char 434)"
          ]
        }
      ]
    },
    {
      "cell_type": "code",
      "source": [
        "### XBK method ###\n",
        "method = 'XBK'\n",
        "start_time = time.time()\n",
        "#set r value\n",
        "r = 4\n",
        "\n",
        "#construct qubit Hamiltonians and C terms for XBK method\n",
        "qubit_Hs, qubit_Cs = [],[]\n",
        "m = count_qubits(problem.of_qubit_op)\n",
        "for p in range(int(math.ceil(r/2+1))):\n",
        "    qubit_Hs += [XBK_transform(problem.of_qubit_op, r, p)]\n",
        "    qubit_Cs += [construct_C(m, r, p)]\n",
        "\n",
        "param_dict = {\n",
        "    'mapping': problem.qubit_converter.mapper.__class__.__name__,\n",
        "    'r': r}\n",
        "\n",
        "#run XBK method\n",
        "min_energy, ground_state, min_energies, iter_times = XBK(qubit_Hs, qubit_Cs, r, sampler, starting_lam=0, num_samples=1000, strength=1e3, verbose=True)\n",
        "\n",
        "exact_energy = problem.exact_energy\n",
        "min_energy = np.real(min_energy)\n",
        "optimal_state = ground_state\n",
        "percent_accuracy = 100-np.abs(100*(min_energy-exact_energy)/exact_energy)\n",
        "nominal_accuracy = min_energy-exact_energy\n",
        "key = problem.molecule_name+\"_\"+problem.geometry+\"_\"+basis+\"_\"+method+\"_\"+backend\n",
        "\n",
        "result_dict = {\n",
        "    key:\n",
        "        {\n",
        "        'molecule': problem.molecule_name,\n",
        "        'geometry': problem.geometry,\n",
        "        'basis': problem.basis,\n",
        "        'method': method,\n",
        "        'backend': str(sampler),\n",
        "        'setup' : param_dict,\n",
        "        'exact energy': problem.exact_energy,\n",
        "        'result energy (Ha)': min_energy,\n",
        "        'error (mHa)': nominal_accuracy,\n",
        "        'error (%)': percent_accuracy,\n",
        "        'final parameters': 'N/A',\n",
        "        '# of evaluations': len(min_energies),\n",
        "        'runtime': sum(iter_times),\n",
        "        '# of qubits': m,\n",
        "        'min energies': min_energies\n",
        "        }\n",
        "}\n",
        "\n",
        "minEnergyResults(problem, result_dict, method, backend)"
      ],
      "metadata": {
        "colab": {
          "base_uri": "https://localhost:8080/",
          "height": 1000
        },
        "id": "zlpbOexsLE4U",
        "outputId": "4bbe375a-0a23-4aab-ad4a-1eab1ae491f5"
      },
      "execution_count": null,
      "outputs": [
        {
          "output_type": "error",
          "ename": "KeyboardInterrupt",
          "evalue": "",
          "traceback": [
            "\u001b[0;31m---------------------------------------------------------------------------\u001b[0m",
            "\u001b[0;31mKeyboardInterrupt\u001b[0m                         Traceback (most recent call last)",
            "\u001b[0;32m<ipython-input-33-4e0c6cad6e6f>\u001b[0m in \u001b[0;36m<module>\u001b[0;34m()\u001b[0m\n\u001b[1;32m      9\u001b[0m \u001b[0mm\u001b[0m \u001b[0;34m=\u001b[0m \u001b[0mcount_qubits\u001b[0m\u001b[0;34m(\u001b[0m\u001b[0mproblem\u001b[0m\u001b[0;34m.\u001b[0m\u001b[0mof_qubit_op\u001b[0m\u001b[0;34m)\u001b[0m\u001b[0;34m\u001b[0m\u001b[0;34m\u001b[0m\u001b[0m\n\u001b[1;32m     10\u001b[0m \u001b[0;32mfor\u001b[0m \u001b[0mp\u001b[0m \u001b[0;32min\u001b[0m \u001b[0mrange\u001b[0m\u001b[0;34m(\u001b[0m\u001b[0mint\u001b[0m\u001b[0;34m(\u001b[0m\u001b[0mmath\u001b[0m\u001b[0;34m.\u001b[0m\u001b[0mceil\u001b[0m\u001b[0;34m(\u001b[0m\u001b[0mr\u001b[0m\u001b[0;34m/\u001b[0m\u001b[0;36m2\u001b[0m\u001b[0;34m+\u001b[0m\u001b[0;36m1\u001b[0m\u001b[0;34m)\u001b[0m\u001b[0;34m)\u001b[0m\u001b[0;34m)\u001b[0m\u001b[0;34m:\u001b[0m\u001b[0;34m\u001b[0m\u001b[0;34m\u001b[0m\u001b[0m\n\u001b[0;32m---> 11\u001b[0;31m     \u001b[0mqubit_Hs\u001b[0m \u001b[0;34m+=\u001b[0m \u001b[0;34m[\u001b[0m\u001b[0mXBK_transform\u001b[0m\u001b[0;34m(\u001b[0m\u001b[0mproblem\u001b[0m\u001b[0;34m.\u001b[0m\u001b[0mof_qubit_op\u001b[0m\u001b[0;34m,\u001b[0m \u001b[0mr\u001b[0m\u001b[0;34m,\u001b[0m \u001b[0mp\u001b[0m\u001b[0;34m)\u001b[0m\u001b[0;34m]\u001b[0m\u001b[0;34m\u001b[0m\u001b[0;34m\u001b[0m\u001b[0m\n\u001b[0m\u001b[1;32m     12\u001b[0m     \u001b[0mqubit_Cs\u001b[0m \u001b[0;34m+=\u001b[0m \u001b[0;34m[\u001b[0m\u001b[0mconstruct_C\u001b[0m\u001b[0;34m(\u001b[0m\u001b[0mm\u001b[0m\u001b[0;34m,\u001b[0m \u001b[0mr\u001b[0m\u001b[0;34m,\u001b[0m \u001b[0mp\u001b[0m\u001b[0;34m)\u001b[0m\u001b[0;34m]\u001b[0m\u001b[0;34m\u001b[0m\u001b[0;34m\u001b[0m\u001b[0m\n\u001b[1;32m     13\u001b[0m \u001b[0;34m\u001b[0m\u001b[0m\n",
            "\u001b[0;32m/root/QOSF-2021-Cohort-4-Hydra/XBK_method.py\u001b[0m in \u001b[0;36mXBK_transform\u001b[0;34m(op, r, p)\u001b[0m\n\u001b[1;32m     60\u001b[0m                             \u001b[0;32mcontinue\u001b[0m\u001b[0;34m\u001b[0m\u001b[0;34m\u001b[0m\u001b[0m\n\u001b[1;32m     61\u001b[0m                         \u001b[0;32melse\u001b[0m\u001b[0;34m:\u001b[0m\u001b[0;34m\u001b[0m\u001b[0;34m\u001b[0m\u001b[0m\n\u001b[0;32m---> 62\u001b[0;31m                             \u001b[0msub_term\u001b[0m \u001b[0;34m*=\u001b[0m \u001b[0mQubitOperator\u001b[0m\u001b[0;34m(\u001b[0m\u001b[0;34m''\u001b[0m\u001b[0;34m,\u001b[0m \u001b[0;36m1\u001b[0m\u001b[0;34m/\u001b[0m\u001b[0;36m2\u001b[0m\u001b[0;34m)\u001b[0m \u001b[0;34m+\u001b[0m \u001b[0mQubitOperator\u001b[0m\u001b[0;34m(\u001b[0m\u001b[0;34m'Z'\u001b[0m\u001b[0;34m+\u001b[0m\u001b[0mstr\u001b[0m\u001b[0;34m(\u001b[0m\u001b[0mi\u001b[0m\u001b[0;34m+\u001b[0m\u001b[0mn\u001b[0m\u001b[0;34m*\u001b[0m\u001b[0mj\u001b[0m\u001b[0;34m)\u001b[0m\u001b[0;34m+\u001b[0m\u001b[0;34m' Z'\u001b[0m\u001b[0;34m+\u001b[0m\u001b[0mstr\u001b[0m\u001b[0;34m(\u001b[0m\u001b[0mi\u001b[0m\u001b[0;34m+\u001b[0m\u001b[0mn\u001b[0m\u001b[0;34m*\u001b[0m\u001b[0mk\u001b[0m\u001b[0;34m)\u001b[0m\u001b[0;34m,\u001b[0m \u001b[0;36m1\u001b[0m\u001b[0;34m/\u001b[0m\u001b[0;36m2\u001b[0m\u001b[0;34m)\u001b[0m\u001b[0;34m\u001b[0m\u001b[0;34m\u001b[0m\u001b[0m\n\u001b[0m\u001b[1;32m     63\u001b[0m \u001b[0;34m\u001b[0m\u001b[0m\n\u001b[1;32m     64\u001b[0m                 \u001b[0mterm\u001b[0m \u001b[0;34m+=\u001b[0m \u001b[0msign\u001b[0m\u001b[0;34m*\u001b[0m\u001b[0msub_term\u001b[0m\u001b[0;34m\u001b[0m\u001b[0;34m\u001b[0m\u001b[0m\n",
            "\u001b[0;32m/usr/local/lib/python3.7/dist-packages/openfermion/ops/operators/symbolic_operator.py\u001b[0m in \u001b[0;36m__imul__\u001b[0;34m(self, multiplier)\u001b[0m\n\u001b[1;32m    377\u001b[0m \u001b[0;34m\u001b[0m\u001b[0m\n\u001b[1;32m    378\u001b[0m                     new_coefficient, new_term = self._simplify(\n\u001b[0;32m--> 379\u001b[0;31m                         new_term, coefficient=new_coefficient)\n\u001b[0m\u001b[1;32m    380\u001b[0m \u001b[0;34m\u001b[0m\u001b[0m\n\u001b[1;32m    381\u001b[0m                     \u001b[0;31m# Update result dict.\u001b[0m\u001b[0;34m\u001b[0m\u001b[0;34m\u001b[0m\u001b[0;34m\u001b[0m\u001b[0m\n",
            "\u001b[0;32m/usr/local/lib/python3.7/dist-packages/openfermion/ops/operators/qubit_operator.py\u001b[0m in \u001b[0;36m_simplify\u001b[0;34m(self, term, coefficient)\u001b[0m\n\u001b[1;32m    138\u001b[0m                 \u001b[0;32mif\u001b[0m \u001b[0mleft_action\u001b[0m \u001b[0;34m!=\u001b[0m \u001b[0;34m'I'\u001b[0m\u001b[0;34m:\u001b[0m\u001b[0;34m\u001b[0m\u001b[0;34m\u001b[0m\u001b[0m\n\u001b[1;32m    139\u001b[0m                     \u001b[0mnew_term\u001b[0m\u001b[0;34m.\u001b[0m\u001b[0mappend\u001b[0m\u001b[0;34m(\u001b[0m\u001b[0mleft_factor\u001b[0m\u001b[0;34m)\u001b[0m\u001b[0;34m\u001b[0m\u001b[0;34m\u001b[0m\u001b[0m\n\u001b[0;32m--> 140\u001b[0;31m                 \u001b[0mleft_factor\u001b[0m \u001b[0;34m=\u001b[0m \u001b[0mright_factor\u001b[0m\u001b[0;34m\u001b[0m\u001b[0;34m\u001b[0m\u001b[0m\n\u001b[0m\u001b[1;32m    141\u001b[0m \u001b[0;34m\u001b[0m\u001b[0m\n\u001b[1;32m    142\u001b[0m         \u001b[0;31m# Save result of final iteration.\u001b[0m\u001b[0;34m\u001b[0m\u001b[0;34m\u001b[0m\u001b[0;34m\u001b[0m\u001b[0m\n",
            "\u001b[0;31mKeyboardInterrupt\u001b[0m: "
          ]
        }
      ]
    },
    {
      "cell_type": "code",
      "execution_count": null,
      "metadata": {
        "id": "SOs7NXXTOiiJ",
        "outputId": "35a5d297-0ca7-466b-ef7b-84a44385f101"
      },
      "outputs": [
        {
          "output_type": "execute_result",
          "data": {
            "text/plain": [
              "{'# of evaluations': 3,\n",
              " '# of qubits': 4,\n",
              " 'backend': '<dwave.system.samplers.leap_hybrid_sampler.LeapHybridSampler object at 0x7f06cca9ac50>',\n",
              " 'error (%)': 95.2986994609757,\n",
              " 'error (mHa)': 0.08753928569029146,\n",
              " 'exact energy': -1.8620227522926915,\n",
              " 'final parameters': 'N/A',\n",
              " 'min energies': [-1.7744834666024, -1.69371250410331, -1.63308714975331],\n",
              " 'molecule': {'basis': 'sto6g', 'molecule name': 'H2'},\n",
              " 'result energy (Ha)': -1.7744834666024,\n",
              " 'runtime': 21.705110788345337,\n",
              " 'setup': {'mapping': 'JordanWignerMapper', 'r': 4},\n",
              " 'solution_type': 'XBK'}"
            ]
          },
          "metadata": {},
          "execution_count": 25
        }
      ],
      "source": [
        "result_dict"
      ]
    },
    {
      "cell_type": "code",
      "execution_count": null,
      "metadata": {
        "id": "wMedlHnFOiiK",
        "outputId": "80f232d4-913f-4efa-f30f-103d03ea2f89"
      },
      "outputs": [
        {
          "output_type": "error",
          "ename": "ValueError",
          "evalue": "Mixing dicts with non-Series may lead to ambiguous ordering.",
          "traceback": [
            "\u001b[0;31m---------------------------------------------------------------------------\u001b[0m",
            "\u001b[0;31mValueError\u001b[0m                                Traceback (most recent call last)",
            "\u001b[0;32m<ipython-input-29-7f05b71131ee>\u001b[0m in \u001b[0;36m<module>\u001b[0;34m()\u001b[0m\n\u001b[0;32m----> 1\u001b[0;31m \u001b[0mresult_df\u001b[0m \u001b[0;34m=\u001b[0m \u001b[0mpd\u001b[0m\u001b[0;34m.\u001b[0m\u001b[0mDataFrame\u001b[0m\u001b[0;34m.\u001b[0m\u001b[0mfrom_dict\u001b[0m\u001b[0;34m(\u001b[0m\u001b[0mresult_dict\u001b[0m\u001b[0;34m)\u001b[0m\u001b[0;34m\u001b[0m\u001b[0;34m\u001b[0m\u001b[0m\n\u001b[0m",
            "\u001b[0;32m/usr/local/lib/python3.7/dist-packages/pandas/core/frame.py\u001b[0m in \u001b[0;36mfrom_dict\u001b[0;34m(cls, data, orient, dtype, columns)\u001b[0m\n\u001b[1;32m   1307\u001b[0m             \u001b[0;32mraise\u001b[0m \u001b[0mValueError\u001b[0m\u001b[0;34m(\u001b[0m\u001b[0;34m\"only recognize index or columns for orient\"\u001b[0m\u001b[0;34m)\u001b[0m\u001b[0;34m\u001b[0m\u001b[0;34m\u001b[0m\u001b[0m\n\u001b[1;32m   1308\u001b[0m \u001b[0;34m\u001b[0m\u001b[0m\n\u001b[0;32m-> 1309\u001b[0;31m         \u001b[0;32mreturn\u001b[0m \u001b[0mcls\u001b[0m\u001b[0;34m(\u001b[0m\u001b[0mdata\u001b[0m\u001b[0;34m,\u001b[0m \u001b[0mindex\u001b[0m\u001b[0;34m=\u001b[0m\u001b[0mindex\u001b[0m\u001b[0;34m,\u001b[0m \u001b[0mcolumns\u001b[0m\u001b[0;34m=\u001b[0m\u001b[0mcolumns\u001b[0m\u001b[0;34m,\u001b[0m \u001b[0mdtype\u001b[0m\u001b[0;34m=\u001b[0m\u001b[0mdtype\u001b[0m\u001b[0;34m)\u001b[0m\u001b[0;34m\u001b[0m\u001b[0;34m\u001b[0m\u001b[0m\n\u001b[0m\u001b[1;32m   1310\u001b[0m \u001b[0;34m\u001b[0m\u001b[0m\n\u001b[1;32m   1311\u001b[0m     def to_numpy(\n",
            "\u001b[0;32m/usr/local/lib/python3.7/dist-packages/pandas/core/frame.py\u001b[0m in \u001b[0;36m__init__\u001b[0;34m(self, data, index, columns, dtype, copy)\u001b[0m\n\u001b[1;32m    466\u001b[0m \u001b[0;34m\u001b[0m\u001b[0m\n\u001b[1;32m    467\u001b[0m         \u001b[0;32melif\u001b[0m \u001b[0misinstance\u001b[0m\u001b[0;34m(\u001b[0m\u001b[0mdata\u001b[0m\u001b[0;34m,\u001b[0m \u001b[0mdict\u001b[0m\u001b[0;34m)\u001b[0m\u001b[0;34m:\u001b[0m\u001b[0;34m\u001b[0m\u001b[0;34m\u001b[0m\u001b[0m\n\u001b[0;32m--> 468\u001b[0;31m             \u001b[0mmgr\u001b[0m \u001b[0;34m=\u001b[0m \u001b[0minit_dict\u001b[0m\u001b[0;34m(\u001b[0m\u001b[0mdata\u001b[0m\u001b[0;34m,\u001b[0m \u001b[0mindex\u001b[0m\u001b[0;34m,\u001b[0m \u001b[0mcolumns\u001b[0m\u001b[0;34m,\u001b[0m \u001b[0mdtype\u001b[0m\u001b[0;34m=\u001b[0m\u001b[0mdtype\u001b[0m\u001b[0;34m)\u001b[0m\u001b[0;34m\u001b[0m\u001b[0;34m\u001b[0m\u001b[0m\n\u001b[0m\u001b[1;32m    469\u001b[0m         \u001b[0;32melif\u001b[0m \u001b[0misinstance\u001b[0m\u001b[0;34m(\u001b[0m\u001b[0mdata\u001b[0m\u001b[0;34m,\u001b[0m \u001b[0mma\u001b[0m\u001b[0;34m.\u001b[0m\u001b[0mMaskedArray\u001b[0m\u001b[0;34m)\u001b[0m\u001b[0;34m:\u001b[0m\u001b[0;34m\u001b[0m\u001b[0;34m\u001b[0m\u001b[0m\n\u001b[1;32m    470\u001b[0m             \u001b[0;32mimport\u001b[0m \u001b[0mnumpy\u001b[0m\u001b[0;34m.\u001b[0m\u001b[0mma\u001b[0m\u001b[0;34m.\u001b[0m\u001b[0mmrecords\u001b[0m \u001b[0;32mas\u001b[0m \u001b[0mmrecords\u001b[0m\u001b[0;34m\u001b[0m\u001b[0;34m\u001b[0m\u001b[0m\n",
            "\u001b[0;32m/usr/local/lib/python3.7/dist-packages/pandas/core/internals/construction.py\u001b[0m in \u001b[0;36minit_dict\u001b[0;34m(data, index, columns, dtype)\u001b[0m\n\u001b[1;32m    281\u001b[0m             \u001b[0marr\u001b[0m \u001b[0;32mif\u001b[0m \u001b[0;32mnot\u001b[0m \u001b[0mis_datetime64tz_dtype\u001b[0m\u001b[0;34m(\u001b[0m\u001b[0marr\u001b[0m\u001b[0;34m)\u001b[0m \u001b[0;32melse\u001b[0m \u001b[0marr\u001b[0m\u001b[0;34m.\u001b[0m\u001b[0mcopy\u001b[0m\u001b[0;34m(\u001b[0m\u001b[0;34m)\u001b[0m \u001b[0;32mfor\u001b[0m \u001b[0marr\u001b[0m \u001b[0;32min\u001b[0m \u001b[0marrays\u001b[0m\u001b[0;34m\u001b[0m\u001b[0;34m\u001b[0m\u001b[0m\n\u001b[1;32m    282\u001b[0m         ]\n\u001b[0;32m--> 283\u001b[0;31m     \u001b[0;32mreturn\u001b[0m \u001b[0marrays_to_mgr\u001b[0m\u001b[0;34m(\u001b[0m\u001b[0marrays\u001b[0m\u001b[0;34m,\u001b[0m \u001b[0mdata_names\u001b[0m\u001b[0;34m,\u001b[0m \u001b[0mindex\u001b[0m\u001b[0;34m,\u001b[0m \u001b[0mcolumns\u001b[0m\u001b[0;34m,\u001b[0m \u001b[0mdtype\u001b[0m\u001b[0;34m=\u001b[0m\u001b[0mdtype\u001b[0m\u001b[0;34m)\u001b[0m\u001b[0;34m\u001b[0m\u001b[0;34m\u001b[0m\u001b[0m\n\u001b[0m\u001b[1;32m    284\u001b[0m \u001b[0;34m\u001b[0m\u001b[0m\n\u001b[1;32m    285\u001b[0m \u001b[0;34m\u001b[0m\u001b[0m\n",
            "\u001b[0;32m/usr/local/lib/python3.7/dist-packages/pandas/core/internals/construction.py\u001b[0m in \u001b[0;36marrays_to_mgr\u001b[0;34m(arrays, arr_names, index, columns, dtype, verify_integrity)\u001b[0m\n\u001b[1;32m     76\u001b[0m         \u001b[0;31m# figure out the index, if necessary\u001b[0m\u001b[0;34m\u001b[0m\u001b[0;34m\u001b[0m\u001b[0;34m\u001b[0m\u001b[0m\n\u001b[1;32m     77\u001b[0m         \u001b[0;32mif\u001b[0m \u001b[0mindex\u001b[0m \u001b[0;32mis\u001b[0m \u001b[0;32mNone\u001b[0m\u001b[0;34m:\u001b[0m\u001b[0;34m\u001b[0m\u001b[0;34m\u001b[0m\u001b[0m\n\u001b[0;32m---> 78\u001b[0;31m             \u001b[0mindex\u001b[0m \u001b[0;34m=\u001b[0m \u001b[0mextract_index\u001b[0m\u001b[0;34m(\u001b[0m\u001b[0marrays\u001b[0m\u001b[0;34m)\u001b[0m\u001b[0;34m\u001b[0m\u001b[0;34m\u001b[0m\u001b[0m\n\u001b[0m\u001b[1;32m     79\u001b[0m         \u001b[0;32melse\u001b[0m\u001b[0;34m:\u001b[0m\u001b[0;34m\u001b[0m\u001b[0;34m\u001b[0m\u001b[0m\n\u001b[1;32m     80\u001b[0m             \u001b[0mindex\u001b[0m \u001b[0;34m=\u001b[0m \u001b[0mensure_index\u001b[0m\u001b[0;34m(\u001b[0m\u001b[0mindex\u001b[0m\u001b[0;34m)\u001b[0m\u001b[0;34m\u001b[0m\u001b[0;34m\u001b[0m\u001b[0m\n",
            "\u001b[0;32m/usr/local/lib/python3.7/dist-packages/pandas/core/internals/construction.py\u001b[0m in \u001b[0;36mextract_index\u001b[0;34m(data)\u001b[0m\n\u001b[1;32m    399\u001b[0m             \u001b[0;32mif\u001b[0m \u001b[0mhave_dicts\u001b[0m\u001b[0;34m:\u001b[0m\u001b[0;34m\u001b[0m\u001b[0;34m\u001b[0m\u001b[0m\n\u001b[1;32m    400\u001b[0m                 raise ValueError(\n\u001b[0;32m--> 401\u001b[0;31m                     \u001b[0;34m\"Mixing dicts with non-Series may lead to ambiguous ordering.\"\u001b[0m\u001b[0;34m\u001b[0m\u001b[0;34m\u001b[0m\u001b[0m\n\u001b[0m\u001b[1;32m    402\u001b[0m                 )\n\u001b[1;32m    403\u001b[0m \u001b[0;34m\u001b[0m\u001b[0m\n",
            "\u001b[0;31mValueError\u001b[0m: Mixing dicts with non-Series may lead to ambiguous ordering."
          ]
        }
      ],
      "source": [
        "result_df = pd.DataFrame.from_dict(result_dict)"
      ]
    },
    {
      "cell_type": "code",
      "execution_count": null,
      "metadata": {
        "id": "8R81YW-NOiiK",
        "outputId": "f29d87a2-4010-469e-c4f2-8a53dca383db"
      },
      "outputs": [
        {
          "output_type": "stream",
          "name": "stdout",
          "text": [
            "<neal.sampler.SimulatedAnnealingSampler object at 0x7f91767c0f90>\n"
          ]
        },
        {
          "output_type": "error",
          "ename": "NameError",
          "evalue": "name 'backend' is not defined",
          "traceback": [
            "\u001b[0;31m---------------------------------------------------------------------------\u001b[0m",
            "\u001b[0;31mNameError\u001b[0m                                 Traceback (most recent call last)",
            "\u001b[0;32m<ipython-input-27-2a45225f6a40>\u001b[0m in \u001b[0;36m<module>\u001b[0;34m()\u001b[0m\n\u001b[1;32m      1\u001b[0m \u001b[0mprint\u001b[0m\u001b[0;34m(\u001b[0m\u001b[0mstr\u001b[0m\u001b[0;34m(\u001b[0m\u001b[0msampler\u001b[0m\u001b[0;34m)\u001b[0m\u001b[0;34m)\u001b[0m\u001b[0;34m\u001b[0m\u001b[0;34m\u001b[0m\u001b[0m\n\u001b[0;32m----> 2\u001b[0;31m \u001b[0mprint\u001b[0m\u001b[0;34m(\u001b[0m\u001b[0mstr\u001b[0m\u001b[0;34m(\u001b[0m\u001b[0mbackend\u001b[0m\u001b[0;34m)\u001b[0m\u001b[0;34m)\u001b[0m\u001b[0;34m\u001b[0m\u001b[0;34m\u001b[0m\u001b[0m\n\u001b[0m",
            "\u001b[0;31mNameError\u001b[0m: name 'backend' is not defined"
          ]
        }
      ],
      "source": [
        "print(str(sampler))\n",
        "print(str(backend))"
      ]
    },
    {
      "cell_type": "code",
      "execution_count": null,
      "metadata": {
        "id": "91xo2PsDOiiL"
      },
      "outputs": [],
      "source": [
        "import json\n",
        "with open('experiments/results.json', 'r') as file:\n",
        "    results = json.load(file)\n",
        "with open('experiments/results.json','w') as file:\n",
        "        json.dump({\"y\":2}, file, sort_keys=True, indent=4)"
      ]
    },
    {
      "cell_type": "code",
      "execution_count": null,
      "metadata": {
        "id": "JsrOWLNjOiiL"
      },
      "outputs": [],
      "source": [
        "with open('results.json', 'r') as file:\n",
        "    results = json.load(file)\n",
        "\n",
        "results.update(result_dict)\n",
        "\n",
        "with open('/content/drive/MyDrive/Woof/' + output_filename + \".json\",'w') as file:\n",
        "    json.dump(results, file, sort_keys=True, indent=4)"
      ]
    },
    {
      "cell_type": "code",
      "source": [
        "mol_dict = {mol_name: mol_name,'basis': basis, 'q_fermionic_op' : str(q_fermionic_op.to_list())}\n",
        "\n",
        "import json\n",
        "with open(mol_name + '.json','w') as file:\n",
        "      json.dump(mol_dict, file, sort_keys=True, indent=4)\n",
        "        \n",
        "qcc_op_list = list(str(qubit_op_to_expr(qubit_H)).split('+'))\n",
        "print(*qcc_op_list, sep = \"\\n\")   \n",
        "\n",
        "properties = driver.run()\n",
        "electronic_energy = properties.get_property(ElectronicEnergy)\n",
        "particle_number = properties.get_property(ParticleNumber)\n",
        "num_electron = sum(particle_number.num_particles)\n",
        "num_MO = num_electron\n",
        "num_SO = particle_number.num_spin_orbitals\n",
        "\n",
        "#Properties\n",
        "from qiskit_nature.properties import Property, GroupedProperty\n",
        "from qiskit_nature.properties.second_quantization.electronic import (\n",
        "    ElectronicEnergy,\n",
        "    ElectronicDipoleMoment,\n",
        "    ParticleNumber,\n",
        "    AngularMomentum,\n",
        "    Magnetization,\n",
        ")\n",
        "from qiskit_nature.properties.second_quantization.electronic.integrals import (\n",
        "    ElectronicIntegrals,\n",
        "    OneBodyElectronicIntegrals,\n",
        "    TwoBodyElectronicIntegrals,\n",
        "    IntegralProperty,\n",
        ")\n",
        "from qiskit_nature.properties.second_quantization.electronic.bases import ElectronicBasis"
      ],
      "metadata": {
        "id": "YsxK3Sa6LGyP"
      },
      "execution_count": null,
      "outputs": []
    }
  ]
}