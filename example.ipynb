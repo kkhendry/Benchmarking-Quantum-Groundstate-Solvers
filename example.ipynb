{
 "cells": [
  {
   "cell_type": "code",
   "execution_count": 31,
   "metadata": {},
   "outputs": [],
   "source": [
    "# !pip install dimod\n",
    "import math\n",
    "\n",
    "from openfermionpyscf import run_pyscf\n",
    "from openfermion.transforms import binary_code_transform, bravyi_kitaev_code, get_fermion_operator\n",
    "# from openfermion.hamiltonians import MolecularData\n",
    "from openfermion.ops import FermionOperator, QubitOperator\n",
    "from openfermion.utils import count_qubits\n",
    "from pyscf import gto, scf, mcscf\n",
    "\n",
    "from helper_functions import *\n",
    "from XBK_method import *\n",
    "from QCC_method import *\n",
    "\n",
    "from openfermion.chem import MolecularData\n",
    "from openfermion.transforms import get_fermion_operator, jordan_wigner\n",
    "from openfermion.linalg import get_ground_state, get_sparse_operator\n",
    "import numpy\n",
    "import scipy\n",
    "import scipy.linalg"
   ]
  },
  {
   "cell_type": "code",
   "execution_count": 23,
   "metadata": {},
   "outputs": [],
   "source": [
    "#create molecule\n",
    "name = 'H3'\n",
    "charge = 1\n",
    "multiplicity = 1\n",
    "basis = 'sto-6g'\n",
    "\n",
    "bond_length = 1.1\n",
    "geometry = get_molGeometry(name, bond_length)\n",
    "    \n",
    "molecule = MolecularData(\n",
    "    geometry=geometry,\n",
    "    basis=basis,\n",
    "    multiplicity=multiplicity,\n",
    "    charge=charge\n",
    ")"
   ]
  },
  {
   "cell_type": "code",
   "execution_count": 24,
   "metadata": {},
   "outputs": [
    {
     "output_type": "stream",
     "name": "stdout",
     "text": [
      "-1.2400693045269726\n"
     ]
    }
   ],
   "source": [
    "#run RHF calculations\n",
    "driver = run_pyscf(molecule, run_scf=True)\n",
    "hf_energy = float(molecule.hf_energy)\n",
    "hf_data = molecule._pyscf_data['scf']\n",
    "\n",
    "# print(molecule.canonical_orbitals)\n",
    "print(hf_energy)"
   ]
  },
  {
   "cell_type": "code",
   "execution_count": 25,
   "metadata": {},
   "outputs": [
    {
     "output_type": "stream",
     "name": "stdout",
     "text": [
      "-1.2722647705358243\n"
     ]
    }
   ],
   "source": [
    "#define active space\n",
    "n_active_electrons = 2\n",
    "n_active_orbitals = 3\n",
    "occupied_indices, active_indices = get_active_space(molecule, n_active_electrons, n_active_orbitals)\n",
    "\n",
    "#run CASCI calculations\n",
    "casci_data = hf_data.CASCI(n_active_orbitals, n_active_electrons).run(verbose=False)\n",
    "casci_energy = float(casci_data.e_tot)\n",
    "\n",
    "print(casci_energy)"
   ]
  },
  {
   "cell_type": "code",
   "execution_count": 26,
   "metadata": {},
   "outputs": [
    {
     "output_type": "stream",
     "name": "stdout",
     "text": [
      "21.443210575236364 [] +\n-21.623075395384372 [0^ 0] +\n5.0 [0^ 0 0^ 0] +\n5.0 [0^ 0 1^ 1] +\n5.0 [0^ 0 2^ 2] +\n5.0 [0^ 0 3^ 3] +\n5.0 [0^ 0 4^ 4] +\n5.0 [0^ 0 5^ 5] +\n0.2814354555027043 [0^ 0^ 0 0] +\n0.07258994740907986 [0^ 0^ 2 2] +\n0.07258994740907997 [0^ 0^ 4 4] +\n0.2814354555027043 [0^ 1^ 1 0] +\n0.07258994740907986 [0^ 1^ 3 2] +\n0.07258994740907997 [0^ 1^ 5 4] +\n0.07258994740907986 [0^ 2^ 0 2] +\n0.27480121211888686 [0^ 2^ 2 0] +\n0.0401746698698935 [0^ 2^ 2 2] +\n-0.029525617108668308 [0^ 2^ 2 4] +\n-0.029525617108668314 [0^ 2^ 4 2] +\n-0.040174669869893515 [0^ 2^ 4 4] +\n0.07258994740907986 [0^ 3^ 1 2] +\n0.27480121211888686 [0^ 3^ 3 0] +\n0.0401746698698935 [0^ 3^ 3 2] +\n-0.029525617108668308 [0^ 3^ 3 4] +\n-0.029525617108668314 [0^ 3^ 5 2] +\n-0.040174669869893515 [0^ 3^ 5 4] +\n0.07258994740907997 [0^ 4^ 0 4] +\n-0.029525617108668314 [0^ 4^ 2 2] +\n-0.040174669869893515 [0^ 4^ 2 4] +\n0.27480121211888714 [0^ 4^ 4 0] +\n-0.04017466986989355 [0^ 4^ 4 2] +\n0.02952561710866843 [0^ 4^ 4 4] +\n0.07258994740907997 [0^ 5^ 1 4] +\n-0.029525617108668314 [0^ 5^ 3 2] +\n-0.040174669869893515 [0^ 5^ 3 4] +\n0.27480121211888714 [0^ 5^ 5 0] +\n-0.04017466986989355 [0^ 5^ 5 2] +\n0.02952561710866843 [0^ 5^ 5 4] +\n0.2814354555027043 [1^ 0^ 0 1] +\n0.07258994740907986 [1^ 0^ 2 3] +\n0.07258994740907997 [1^ 0^ 4 5] +\n-21.623075395384372 [1^ 1] +\n5.0 [1^ 1 0^ 0] +\n5.0 [1^ 1 1^ 1] +\n5.0 [1^ 1 2^ 2] +\n5.0 [1^ 1 3^ 3] +\n5.0 [1^ 1 4^ 4] +\n5.0 [1^ 1 5^ 5] +\n0.2814354555027043 [1^ 1^ 1 1] +\n0.07258994740907986 [1^ 1^ 3 3] +\n0.07258994740907997 [1^ 1^ 5 5] +\n0.07258994740907986 [1^ 2^ 0 3] +\n0.27480121211888686 [1^ 2^ 2 1] +\n0.0401746698698935 [1^ 2^ 2 3] +\n-0.029525617108668308 [1^ 2^ 2 5] +\n-0.029525617108668314 [1^ 2^ 4 3] +\n-0.040174669869893515 [1^ 2^ 4 5] +\n0.07258994740907986 [1^ 3^ 1 3] +\n0.27480121211888686 [1^ 3^ 3 1] +\n0.0401746698698935 [1^ 3^ 3 3] +\n-0.029525617108668308 [1^ 3^ 3 5] +\n-0.029525617108668314 [1^ 3^ 5 3] +\n-0.040174669869893515 [1^ 3^ 5 5] +\n0.07258994740907997 [1^ 4^ 0 5] +\n-0.029525617108668314 [1^ 4^ 2 3] +\n-0.040174669869893515 [1^ 4^ 2 5] +\n0.27480121211888714 [1^ 4^ 4 1] +\n-0.04017466986989355 [1^ 4^ 4 3] +\n0.02952561710866843 [1^ 4^ 4 5] +\n0.07258994740907997 [1^ 5^ 1 5] +\n-0.029525617108668314 [1^ 5^ 3 3] +\n-0.040174669869893515 [1^ 5^ 3 5] +\n0.27480121211888714 [1^ 5^ 5 1] +\n-0.04017466986989355 [1^ 5^ 5 3] +\n0.02952561710866843 [1^ 5^ 5 5] +\n0.2748012121188873 [2^ 0^ 0 2] +\n0.07258994740907986 [2^ 0^ 2 0] +\n0.04017466986989361 [2^ 0^ 2 2] +\n-0.02952561710866844 [2^ 0^ 2 4] +\n-0.02952561710866838 [2^ 0^ 4 2] +\n-0.04017466986989368 [2^ 0^ 4 4] +\n0.2748012121188873 [2^ 1^ 1 2] +\n0.07258994740907986 [2^ 1^ 3 0] +\n0.04017466986989361 [2^ 1^ 3 2] +\n-0.02952561710866844 [2^ 1^ 3 4] +\n-0.02952561710866838 [2^ 1^ 5 2] +\n-0.04017466986989368 [2^ 1^ 5 4] +\n-21.061278062380566 [2^ 2] +\n5.0 [2^ 2 0^ 0] +\n5.0 [2^ 2 1^ 1] +\n5.0 [2^ 2 2^ 2] +\n5.0 [2^ 2 3^ 3] +\n5.0 [2^ 2 4^ 4] +\n5.0 [2^ 2 5^ 5] +\n0.07258994740907986 [2^ 2^ 0 0] +\n0.04017466986989361 [2^ 2^ 0 2] +\n-0.02952561710866844 [2^ 2^ 0 4] +\n0.0401746698698935 [2^ 2^ 2 0] +\n0.3188768141862017 [2^ 2^ 2 2] +\n-0.029525617108668314 [2^ 2^ 4 0] +\n0.03932724296935466 [2^ 2^ 4 4] +\n0.07258994740907986 [2^ 3^ 1 0] +\n0.04017466986989361 [2^ 3^ 1 2] +\n-0.02952561710866844 [2^ 3^ 1 4] +\n0.0401746698698935 [2^ 3^ 3 0] +\n0.3188768141862017 [2^ 3^ 3 2] +\n-0.029525617108668314 [2^ 3^ 5 0] +\n0.03932724296935466 [2^ 3^ 5 4] +\n-0.02952561710866838 [2^ 4^ 0 2] +\n-0.04017466986989368 [2^ 4^ 0 4] +\n-0.029525617108668314 [2^ 4^ 2 0] +\n0.03932724296935466 [2^ 4^ 2 4] +\n-0.04017466986989355 [2^ 4^ 4 0] +\n0.24022232824749212 [2^ 4^ 4 2] +\n-0.02952561710866838 [2^ 5^ 1 2] +\n-0.04017466986989368 [2^ 5^ 1 4] +\n-0.029525617108668314 [2^ 5^ 3 0] +\n0.03932724296935466 [2^ 5^ 3 4] +\n-0.04017466986989355 [2^ 5^ 5 0] +\n0.24022232824749212 [2^ 5^ 5 2] +\n0.2748012121188873 [3^ 0^ 0 3] +\n0.07258994740907986 [3^ 0^ 2 1] +\n0.04017466986989361 [3^ 0^ 2 3] +\n-0.02952561710866844 [3^ 0^ 2 5] +\n-0.02952561710866838 [3^ 0^ 4 3] +\n-0.04017466986989368 [3^ 0^ 4 5] +\n0.2748012121188873 [3^ 1^ 1 3] +\n0.07258994740907986 [3^ 1^ 3 1] +\n0.04017466986989361 [3^ 1^ 3 3] +\n-0.02952561710866844 [3^ 1^ 3 5] +\n-0.02952561710866838 [3^ 1^ 5 3] +\n-0.04017466986989368 [3^ 1^ 5 5] +\n0.07258994740907986 [3^ 2^ 0 1] +\n0.04017466986989361 [3^ 2^ 0 3] +\n-0.02952561710866844 [3^ 2^ 0 5] +\n0.0401746698698935 [3^ 2^ 2 1] +\n0.3188768141862017 [3^ 2^ 2 3] +\n-0.029525617108668314 [3^ 2^ 4 1] +\n0.03932724296935466 [3^ 2^ 4 5] +\n-21.061278062380566 [3^ 3] +\n5.0 [3^ 3 0^ 0] +\n5.0 [3^ 3 1^ 1] +\n5.0 [3^ 3 2^ 2] +\n5.0 [3^ 3 3^ 3] +\n5.0 [3^ 3 4^ 4] +\n5.0 [3^ 3 5^ 5] +\n0.07258994740907986 [3^ 3^ 1 1] +\n0.04017466986989361 [3^ 3^ 1 3] +\n-0.02952561710866844 [3^ 3^ 1 5] +\n0.0401746698698935 [3^ 3^ 3 1] +\n0.3188768141862017 [3^ 3^ 3 3] +\n-0.029525617108668314 [3^ 3^ 5 1] +\n0.03932724296935466 [3^ 3^ 5 5] +\n-0.02952561710866838 [3^ 4^ 0 3] +\n-0.04017466986989368 [3^ 4^ 0 5] +\n-0.029525617108668314 [3^ 4^ 2 1] +\n0.03932724296935466 [3^ 4^ 2 5] +\n-0.04017466986989355 [3^ 4^ 4 1] +\n0.24022232824749212 [3^ 4^ 4 3] +\n-0.02952561710866838 [3^ 5^ 1 3] +\n-0.04017466986989368 [3^ 5^ 1 5] +\n-0.029525617108668314 [3^ 5^ 3 1] +\n0.03932724296935466 [3^ 5^ 3 5] +\n-0.04017466986989355 [3^ 5^ 5 1] +\n0.24022232824749212 [3^ 5^ 5 3] +\n0.27480121211888753 [4^ 0^ 0 4] +\n-0.02952561710866844 [4^ 0^ 2 2] +\n-0.04017466986989369 [4^ 0^ 2 4] +\n0.07258994740907997 [4^ 0^ 4 0] +\n-0.04017466986989368 [4^ 0^ 4 2] +\n0.029525617108668425 [4^ 0^ 4 4] +\n0.27480121211888753 [4^ 1^ 1 4] +\n-0.02952561710866844 [4^ 1^ 3 2] +\n-0.04017466986989369 [4^ 1^ 3 4] +\n0.07258994740907997 [4^ 1^ 5 0] +\n-0.04017466986989368 [4^ 1^ 5 2] +\n0.029525617108668425 [4^ 1^ 5 4] +\n-0.02952561710866844 [4^ 2^ 0 2] +\n-0.04017466986989369 [4^ 2^ 0 4] +\n-0.029525617108668308 [4^ 2^ 2 0] +\n0.24022232824749218 [4^ 2^ 2 4] +\n-0.040174669869893515 [4^ 2^ 4 0] +\n0.03932724296935466 [4^ 2^ 4 2] +\n-0.02952561710866844 [4^ 3^ 1 2] +\n-0.04017466986989369 [4^ 3^ 1 4] +\n-0.029525617108668308 [4^ 3^ 3 0] +\n0.24022232824749218 [4^ 3^ 3 4] +\n-0.040174669869893515 [4^ 3^ 5 0] +\n0.03932724296935466 [4^ 3^ 5 2] +\n-21.061278062380566 [4^ 4] +\n5.0 [4^ 4 0^ 0] +\n5.0 [4^ 4 1^ 1] +\n5.0 [4^ 4 2^ 2] +\n5.0 [4^ 4 3^ 3] +\n5.0 [4^ 4 4^ 4] +\n5.0 [4^ 4 5^ 5] +\n0.07258994740907997 [4^ 4^ 0 0] +\n-0.04017466986989368 [4^ 4^ 0 2] +\n0.029525617108668425 [4^ 4^ 0 4] +\n-0.040174669869893515 [4^ 4^ 2 0] +\n0.03932724296935466 [4^ 4^ 2 2] +\n0.02952561710866843 [4^ 4^ 4 0] +\n0.31887681418620206 [4^ 4^ 4 4] +\n0.07258994740907997 [4^ 5^ 1 0] +\n-0.04017466986989368 [4^ 5^ 1 2] +\n0.029525617108668425 [4^ 5^ 1 4] +\n-0.040174669869893515 [4^ 5^ 3 0] +\n0.03932724296935466 [4^ 5^ 3 2] +\n0.02952561710866843 [4^ 5^ 5 0] +\n0.31887681418620206 [4^ 5^ 5 4] +\n0.27480121211888753 [5^ 0^ 0 5] +\n-0.02952561710866844 [5^ 0^ 2 3] +\n-0.04017466986989369 [5^ 0^ 2 5] +\n0.07258994740907997 [5^ 0^ 4 1] +\n-0.04017466986989368 [5^ 0^ 4 3] +\n0.029525617108668425 [5^ 0^ 4 5] +\n0.27480121211888753 [5^ 1^ 1 5] +\n-0.02952561710866844 [5^ 1^ 3 3] +\n-0.04017466986989369 [5^ 1^ 3 5] +\n0.07258994740907997 [5^ 1^ 5 1] +\n-0.04017466986989368 [5^ 1^ 5 3] +\n0.029525617108668425 [5^ 1^ 5 5] +\n-0.02952561710866844 [5^ 2^ 0 3] +\n-0.04017466986989369 [5^ 2^ 0 5] +\n-0.029525617108668308 [5^ 2^ 2 1] +\n0.24022232824749218 [5^ 2^ 2 5] +\n-0.040174669869893515 [5^ 2^ 4 1] +\n0.03932724296935466 [5^ 2^ 4 3] +\n-0.02952561710866844 [5^ 3^ 1 3] +\n-0.04017466986989369 [5^ 3^ 1 5] +\n-0.029525617108668308 [5^ 3^ 3 1] +\n0.24022232824749218 [5^ 3^ 3 5] +\n-0.040174669869893515 [5^ 3^ 5 1] +\n0.03932724296935466 [5^ 3^ 5 3] +\n0.07258994740907997 [5^ 4^ 0 1] +\n-0.04017466986989368 [5^ 4^ 0 3] +\n0.029525617108668425 [5^ 4^ 0 5] +\n-0.040174669869893515 [5^ 4^ 2 1] +\n0.03932724296935466 [5^ 4^ 2 3] +\n0.02952561710866843 [5^ 4^ 4 1] +\n0.31887681418620206 [5^ 4^ 4 5] +\n-21.061278062380566 [5^ 5] +\n5.0 [5^ 5 0^ 0] +\n5.0 [5^ 5 1^ 1] +\n5.0 [5^ 5 2^ 2] +\n5.0 [5^ 5 3^ 3] +\n5.0 [5^ 5 4^ 4] +\n5.0 [5^ 5 5^ 5] +\n0.07258994740907997 [5^ 5^ 1 1] +\n-0.04017466986989368 [5^ 5^ 1 3] +\n0.029525617108668425 [5^ 5^ 1 5] +\n-0.040174669869893515 [5^ 5^ 3 1] +\n0.03932724296935466 [5^ 5^ 3 3] +\n0.02952561710866843 [5^ 5^ 5 1] +\n0.31887681418620206 [5^ 5^ 5 5]\n"
     ]
    }
   ],
   "source": [
    "#convert to fermionic Hamiltonian\n",
    "molecular_H = molecule.get_molecular_hamiltonian(occupied_indices=occupied_indices, active_indices=active_indices)\n",
    "if molecular_H[()] == None:\n",
    "    molecular_H[()] = 0\n",
    "fermionic_H = get_fermion_operator(molecular_H)\n",
    "# print(fermionic_H)\n",
    "#add penalty term to ensure correct number of electrons in ground state\n",
    "weight = 5\n",
    "penalty_term = FermionOperator('', n_active_electrons)\n",
    "\n",
    "for i in range(molecular_H.n_qubits):\n",
    "    penalty_term += FermionOperator(str(i)+'^ '+str(i), -1)\n",
    "fermionic_H += weight*penalty_term**2\n",
    "\n",
    "print(fermionic_H)"
   ]
  },
  {
   "cell_type": "code",
   "execution_count": 27,
   "metadata": {
    "scrolled": true
   },
   "outputs": [
    {
     "output_type": "stream",
     "name": "stdout",
     "text": [
      "-1.2722647705358483 \n\n12.052315964211402 [] +\n-0.020087334934946778 [X0] +\n0.0200873349349468 [X0 X1 X2] +\n-0.014762808554334188 [X0 X1 Z2 X3] +\n0.020087334934946778 [X0 X1 Z2 Z3] +\n-0.014762808554334188 [X0 X1 X3] +\n0.020087334934946778 [X0 X1 Z3] +\n0.0200873349349468 [X0 Y1 Y2] +\n0.014762808554334214 [X0 Z1 X2 X3] +\n-0.0200873349349468 [X0 Z1 X2 Z3] +\n0.02008733493494681 [X0 Z1 Z2] +\n-0.014762808554334213 [X0 Z1 X3] +\n0.02008733493494681 [X0 Z1 Z3] +\n0.014762808554334214 [X0 X2 X3] +\n-0.0200873349349468 [X0 X2 Z3] +\n0.014762808554334171 [X0 Z2 X3] +\n-0.020087334934946778 [X0 Z2 Z3] +\n-0.014762808554334188 [Y0 X1 X2 Y3] +\n-0.014762808554334188 [Y0 X1 Y2 X3] +\n0.0200873349349468 [Y0 X1 Y2 Z3] +\n0.014762808554334188 [Y0 Y1 X2 X3] +\n-0.0200873349349468 [Y0 Y1 X2 Z3] +\n-0.014762808554334188 [Y0 Y1 Y2 Y3] +\n-0.014762808554334188 [Y0 Y1 Z2 X3] +\n0.02008733493494681 [Y0 Y1 Z2 Z3] +\n-0.014762808554334188 [Y0 Y1 X3] +\n0.02008733493494681 [Y0 Y1 Z3] +\n0.014762808554334171 [Y0 Z1 Y2 X3] +\n-0.0200873349349468 [Y0 Z1 Y2 Z3] +\n-0.014762808554334171 [Y0 Z1 Z2 Y3] +\n0.014762808554334171 [Y0 Y2 X3] +\n-0.0200873349349468 [Y0 Y2 Z3] +\n0.014762808554334213 [Y0 Y3] +\n2.640717727751352 [Z0] +\n0.03629497370453993 [Z0 X1] +\n0.01966362148467733 [Z0 X1 X2 Z3] +\n0.03629497370453993 [Z0 X1 Z2] +\n0.03629497370453993 [Z0 X1 Z2 Z3] +\n0.03629497370453993 [Z0 X1 Z3] +\n0.01966362148467733 [Z0 Y1 Y2 Z3] +\n-2.637400606059444 [Z0 Z1] +\n0.03629497370453998 [Z0 Z1 X2] +\n7.406640049526931 [Z0 Z1 Z2] +\n2.6201111641237462 [Z0 Z1 Z2 Z3] +\n-7.688969953434884 [Z0 Z1 Z3] +\n0.03629497370453998 [Z0 X2] +\n-2.6374006060594435 [Z0 Z2] +\n-2.6374006060594435 [Z0 Z2 Z3] +\n2.6594384070931008 [Z0 Z3] +\n0.01966362148467733 [X1 X2 Z3] +\n0.01966362148467733 [Y1 Y2 Z3] +\n-7.688969953434884 [Z1] +\n0.03629497370453998 [Z1 X2 Z3] +\n7.406640049526931 [Z1 Z2] +\n2.6201111641237462 [Z1 Z2 Z3] +\n-2.637400606059444 [Z1 Z3] +\n0.03629497370453998 [X2 Z3] +\n-7.688969953434883 [Z2] +\n-7.688969953434883 [Z2 Z3] +\n2.659438407093101 [Z3]\n"
     ]
    }
   ],
   "source": [
    "#convert to Pauli operator Hamiltonian\n",
    "binary_code = bravyi_kitaev_code(molecular_H.n_qubits)\n",
    "qubit_H = binary_code_transform(fermionic_H, binary_code)\n",
    "qubit_H.compress()\n",
    "\n",
    "#apply symmetry reductions and calculate minimum eigenvalue (should be equal to CASCI energy)\n",
    "sectors = taper_qubits(qubit_H)\n",
    "qubit_H, min_eigenvalue = sector_with_ground(sectors)\n",
    "m = count_qubits(qubit_H)\n",
    "\n",
    "print(min_eigenvalue, '\\n')\n",
    "print(qubit_H)"
   ]
  },
  {
   "cell_type": "code",
   "execution_count": 28,
   "metadata": {},
   "outputs": [],
   "source": [
    "#set sampler to perform the annealing\n",
    "# !pip install dwave-ocean-sdk\n",
    "from neal import SimulatedAnnealingSampler\n",
    "sampler = SimulatedAnnealingSampler() #uses simulated annealing, see D-Wave's ocean sdk for more options"
   ]
  },
  {
   "cell_type": "code",
   "execution_count": 29,
   "metadata": {},
   "outputs": [
    {
     "output_type": "stream",
     "name": "stdout",
     "text": [
      "-1.1852164199634\n[1, 1, 1, 1, 1, 1, 1, 1, 0, 1, 1, 1, 1, 1, 1, 1]\n"
     ]
    }
   ],
   "source": [
    "### XBK method ###\n",
    "\n",
    "#set r value\n",
    "r = 4\n",
    "\n",
    "#construct qubit Hamiltonians and C terms for XBK method\n",
    "qubit_Hs, qubit_Cs = [],[]\n",
    "for p in range(int(math.ceil(r/2+1))):\n",
    "    qubit_Hs += [XBK_transform(qubit_H, r, p)]\n",
    "    qubit_Cs += [construct_C(m, r, p)]\n",
    "\n",
    "#run XBK method\n",
    "XBK_energy, ground_state = XBK(qubit_Hs, qubit_Cs, r, sampler, starting_lam=0, num_samples=1000, strength=1e3, verbose=False)\n",
    "\n",
    "print(XBK_energy)\n",
    "print(ground_state) #ground state in rm-qubit space"
   ]
  },
  {
   "cell_type": "code",
   "execution_count": 30,
   "metadata": {},
   "outputs": [
    {
     "output_type": "error",
     "ename": "NameError",
     "evalue": "name 'expr_to_dict' is not defined",
     "traceback": [
      "\u001b[0;31m---------------------------------------------------------------------------\u001b[0m",
      "\u001b[0;31mNameError\u001b[0m                                 Traceback (most recent call last)",
      "\u001b[0;32m<ipython-input-30-98e2254d523c>\u001b[0m in \u001b[0;36m<module>\u001b[0;34m()\u001b[0m\n\u001b[1;32m     10\u001b[0m \u001b[0;34m\u001b[0m\u001b[0m\n\u001b[1;32m     11\u001b[0m \u001b[0;31m#run QCC method\u001b[0m\u001b[0;34m\u001b[0m\u001b[0;34m\u001b[0m\u001b[0;34m\u001b[0m\u001b[0m\n\u001b[0;32m---> 12\u001b[0;31m \u001b[0mQCC_energy\u001b[0m\u001b[0;34m,\u001b[0m \u001b[0mvariables\u001b[0m \u001b[0;34m=\u001b[0m \u001b[0mQCC\u001b[0m\u001b[0;34m(\u001b[0m\u001b[0mqubit_H\u001b[0m\u001b[0;34m,\u001b[0m \u001b[0mentanglers\u001b[0m\u001b[0;34m,\u001b[0m \u001b[0mangle_folds\u001b[0m\u001b[0;34m,\u001b[0m \u001b[0mamplitude_folds\u001b[0m\u001b[0;34m,\u001b[0m \u001b[0msampler\u001b[0m\u001b[0;34m,\u001b[0m \u001b[0mnum_cycles\u001b[0m\u001b[0;34m=\u001b[0m\u001b[0;36m10\u001b[0m\u001b[0;34m,\u001b[0m \u001b[0mnum_samples\u001b[0m\u001b[0;34m=\u001b[0m\u001b[0;36m1000\u001b[0m\u001b[0;34m,\u001b[0m \u001b[0mstrength\u001b[0m\u001b[0;34m=\u001b[0m\u001b[0;36m1e3\u001b[0m\u001b[0;34m)\u001b[0m\u001b[0;34m\u001b[0m\u001b[0;34m\u001b[0m\u001b[0m\n\u001b[0m\u001b[1;32m     13\u001b[0m \u001b[0;34m\u001b[0m\u001b[0m\n\u001b[1;32m     14\u001b[0m \u001b[0mprint\u001b[0m\u001b[0;34m(\u001b[0m\u001b[0mQCC_energy\u001b[0m\u001b[0;34m)\u001b[0m\u001b[0;34m\u001b[0m\u001b[0;34m\u001b[0m\u001b[0m\n",
      "\u001b[0;32m/root/QOSF-2021-Cohort-4-Hydra/QCC_method.py\u001b[0m in \u001b[0;36mQCC\u001b[0;34m(qubit_H, entanglers, angle_folds, amplitude_folds, sampler, num_cycles, num_samples, strength, verbose)\u001b[0m\n\u001b[1;32m    200\u001b[0m     \u001b[0;31m#minimize QCC expression\u001b[0m\u001b[0;34m\u001b[0m\u001b[0;34m\u001b[0m\u001b[0;34m\u001b[0m\u001b[0m\n\u001b[1;32m    201\u001b[0m     QCC_energy, cont_dict, disc_dict = minimize_expr(expr, angle_folds, amplitude_folds, sampler,\n\u001b[0;32m--> 202\u001b[0;31m         max_cycles=num_cycles, num_samples=num_samples, strength=strength, verbose=verbose)\n\u001b[0m\u001b[1;32m    203\u001b[0m \u001b[0;34m\u001b[0m\u001b[0m\n\u001b[1;32m    204\u001b[0m \u001b[0;34m\u001b[0m\u001b[0m\n",
      "\u001b[0;32m/root/QOSF-2021-Cohort-4-Hydra/QCC_method.py\u001b[0m in \u001b[0;36mminimize_expr\u001b[0;34m(expr, angle_folds, amplitude_folds, sampler, max_cycles, num_samples, strength, verbose)\u001b[0m\n\u001b[1;32m     79\u001b[0m \u001b[0;34m\u001b[0m\u001b[0m\n\u001b[1;32m     80\u001b[0m         \u001b[0mdisc_expr\u001b[0m \u001b[0;34m=\u001b[0m \u001b[0mse\u001b[0m\u001b[0;34m.\u001b[0m\u001b[0mexpand\u001b[0m\u001b[0;34m(\u001b[0m\u001b[0mdisc_expr\u001b[0m\u001b[0;34m)\u001b[0m\u001b[0;34m\u001b[0m\u001b[0;34m\u001b[0m\u001b[0m\n\u001b[0;32m---> 81\u001b[0;31m         \u001b[0mbqm\u001b[0m \u001b[0;34m=\u001b[0m \u001b[0mdimod\u001b[0m\u001b[0;34m.\u001b[0m\u001b[0mhigherorder\u001b[0m\u001b[0;34m.\u001b[0m\u001b[0mutils\u001b[0m\u001b[0;34m.\u001b[0m\u001b[0mmake_quadratic\u001b[0m\u001b[0;34m(\u001b[0m\u001b[0mexpr_to_dict\u001b[0m\u001b[0;34m(\u001b[0m\u001b[0mdisc_expr\u001b[0m\u001b[0;34m)\u001b[0m\u001b[0;34m,\u001b[0m \u001b[0mstrength\u001b[0m\u001b[0;34m,\u001b[0m \u001b[0mdimod\u001b[0m\u001b[0;34m.\u001b[0m\u001b[0mSPIN\u001b[0m\u001b[0;34m)\u001b[0m\u001b[0;34m\u001b[0m\u001b[0;34m\u001b[0m\u001b[0m\n\u001b[0m\u001b[1;32m     82\u001b[0m         \u001b[0mqubo\u001b[0m\u001b[0;34m,\u001b[0m \u001b[0mconstant\u001b[0m \u001b[0;34m=\u001b[0m \u001b[0mbqm\u001b[0m\u001b[0;34m.\u001b[0m\u001b[0mto_qubo\u001b[0m\u001b[0;34m(\u001b[0m\u001b[0;34m)\u001b[0m\u001b[0;34m\u001b[0m\u001b[0;34m\u001b[0m\u001b[0m\n\u001b[1;32m     83\u001b[0m \u001b[0;34m\u001b[0m\u001b[0m\n",
      "\u001b[0;31mNameError\u001b[0m: name 'expr_to_dict' is not defined"
     ]
    }
   ],
   "source": [
    "### QCC method ###\n",
    "\n",
    "#set number of Bloch angle and entangler amplitude foldings\n",
    "angle_folds = 2\n",
    "amplitude_folds = 1\n",
    "\n",
    "#create dictionary of QubitOperator entanglers\n",
    "entanglers = {'IYZI': QubitOperator('Y1 Z2'), 'IZYI': QubitOperator('Z1 Y2'),\n",
    "              'IXYI': QubitOperator('X1 Y2'), 'IYXI': QubitOperator('Y1 X2')}\n",
    "\n",
    "#run QCC method\n",
    "QCC_energy, variables = QCC(qubit_H, entanglers, angle_folds, amplitude_folds, sampler, num_cycles=10, num_samples=1000, strength=1e3)\n",
    "    \n",
    "print(QCC_energy)\n",
    "print(variables)"
   ]
  },
  {
   "cell_type": "code",
   "execution_count": null,
   "metadata": {},
   "outputs": [],
   "source": []
  }
 ],
 "metadata": {
  "kernelspec": {
   "name": "python3712jvsc74a57bd04cd7ab41f5fca4b9b44701077e38c5ffd31fe66a6cab21e0214b68d958d0e462",
   "display_name": "Python 3.7.12 64-bit"
  },
  "language_info": {
   "codemirror_mode": {
    "name": "ipython",
    "version": 3
   },
   "file_extension": ".py",
   "mimetype": "text/x-python",
   "name": "python",
   "nbconvert_exporter": "python",
   "pygments_lexer": "ipython3",
   "version": "3.7.12"
  },
  "metadata": {
   "interpreter": {
    "hash": "4cd7ab41f5fca4b9b44701077e38c5ffd31fe66a6cab21e0214b68d958d0e462"
   }
  }
 },
 "nbformat": 4,
 "nbformat_minor": 4
}