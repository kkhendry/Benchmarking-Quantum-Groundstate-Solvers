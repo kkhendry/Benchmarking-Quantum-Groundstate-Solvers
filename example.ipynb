{
 "cells": [
  {
   "cell_type": "code",
   "execution_count": 4,
   "metadata": {},
   "outputs": [],
   "source": [
    "# !pip install dimod\n",
    "# !pip install pyscf\n",
    "# !pip install openfermion\n",
    "# !pip install symengine\n",
    "import math\n",
    "\n",
    "from openfermionpyscf import run_pyscf\n",
    "from openfermion.transforms import binary_code_transform, bravyi_kitaev_code, get_fermion_operator\n",
    "# from openfermion.hamiltonians import MolecularData\n",
    "from openfermion.ops import FermionOperator, QubitOperator\n",
    "from openfermion.utils import count_qubits\n",
    "from pyscf import gto, scf, mcscf\n",
    "\n",
    "from helper_functions import *\n",
    "from XBK_method import *\n",
    "from QCC_method import *\n",
    "\n",
    "from openfermion.chem import MolecularData\n",
    "from openfermion.transforms import get_fermion_operator, jordan_wigner\n",
    "from openfermion.linalg import get_ground_state, get_sparse_operator\n",
    "import numpy\n",
    "import scipy\n",
    "import scipy.linalg"
   ]
  },
  {
   "cell_type": "code",
   "execution_count": 19,
   "metadata": {},
   "outputs": [],
   "source": [
    "#create molecule\n",
    "name = 'H3'\n",
    "charge = 1\n",
    "multiplicity = 1\n",
    "basis = 'sto-6g'\n",
    "\n",
    "bond_length = 1.1\n",
    "geometry = get_molGeometry(name, bond_length)\n",
    "    \n",
    "molecule = MolecularData(\n",
    "    geometry=geometry,\n",
    "    basis=basis,\n",
    "    multiplicity=multiplicity,\n",
    "    charge=charge\n",
    ")"
   ]
  },
  {
   "cell_type": "code",
   "execution_count": 20,
   "metadata": {},
   "outputs": [
    {
     "output_type": "stream",
     "name": "stdout",
     "text": [
      "-1.2400693045269722\n"
     ]
    }
   ],
   "source": [
    "#run RHF calculations\n",
    "driver = run_pyscf(molecule, run_scf=True)\n",
    "hf_energy = float(molecule.hf_energy)\n",
    "hf_data = molecule._pyscf_data['scf']\n",
    "\n",
    "# print(molecule.canonical_orbitals)\n",
    "print(hf_energy)"
   ]
  },
  {
   "cell_type": "code",
   "execution_count": 21,
   "metadata": {},
   "outputs": [
    {
     "output_type": "stream",
     "name": "stdout",
     "text": [
      "-1.2722647705358239\n"
     ]
    }
   ],
   "source": [
    "#define active space\n",
    "n_active_electrons = 2\n",
    "n_active_orbitals = 3\n",
    "occupied_indices, active_indices = get_active_space(molecule, n_active_electrons, n_active_orbitals)\n",
    "\n",
    "#run CASCI calculations\n",
    "casci_data = hf_data.CASCI(n_active_orbitals, n_active_electrons).run(verbose=False)\n",
    "casci_energy = float(casci_data.e_tot)\n",
    "\n",
    "print(casci_energy)"
   ]
  },
  {
   "cell_type": "code",
   "execution_count": 22,
   "metadata": {},
   "outputs": [
    {
     "output_type": "stream",
     "name": "stdout",
     "text": [
      "21.443210575236364 [] +\n-21.623075395384372 [0^ 0] +\n5.0 [0^ 0 0^ 0] +\n5.0 [0^ 0 1^ 1] +\n5.0 [0^ 0 2^ 2] +\n5.0 [0^ 0 3^ 3] +\n5.0 [0^ 0 4^ 4] +\n5.0 [0^ 0 5^ 5] +\n0.28143545550270405 [0^ 0^ 0 0] +\n0.07258994740907981 [0^ 0^ 2 2] +\n0.07258994740907987 [0^ 0^ 4 4] +\n0.28143545550270405 [0^ 1^ 1 0] +\n0.07258994740907981 [0^ 1^ 3 2] +\n0.07258994740907987 [0^ 1^ 5 4] +\n0.07258994740907981 [0^ 2^ 0 2] +\n0.27480121211888675 [0^ 2^ 2 0] +\n0.04853533511404069 [0^ 2^ 2 2] +\n-0.011405586796407748 [0^ 2^ 2 4] +\n-0.011405586796407779 [0^ 2^ 4 2] +\n-0.048535335114040595 [0^ 2^ 4 4] +\n0.07258994740907981 [0^ 3^ 1 2] +\n0.27480121211888675 [0^ 3^ 3 0] +\n0.04853533511404069 [0^ 3^ 3 2] +\n-0.011405586796407748 [0^ 3^ 3 4] +\n-0.011405586796407779 [0^ 3^ 5 2] +\n-0.048535335114040595 [0^ 3^ 5 4] +\n0.07258994740907987 [0^ 4^ 0 4] +\n-0.011405586796407779 [0^ 4^ 2 2] +\n-0.048535335114040595 [0^ 4^ 2 4] +\n0.27480121211888686 [0^ 4^ 4 0] +\n-0.048535335114040595 [0^ 4^ 4 2] +\n0.011405586796407944 [0^ 4^ 4 4] +\n0.07258994740907987 [0^ 5^ 1 4] +\n-0.011405586796407779 [0^ 5^ 3 2] +\n-0.048535335114040595 [0^ 5^ 3 4] +\n0.27480121211888686 [0^ 5^ 5 0] +\n-0.048535335114040595 [0^ 5^ 5 2] +\n0.011405586796407944 [0^ 5^ 5 4] +\n0.28143545550270405 [1^ 0^ 0 1] +\n0.07258994740907981 [1^ 0^ 2 3] +\n0.07258994740907987 [1^ 0^ 4 5] +\n-21.623075395384372 [1^ 1] +\n5.0 [1^ 1 0^ 0] +\n5.0 [1^ 1 1^ 1] +\n5.0 [1^ 1 2^ 2] +\n5.0 [1^ 1 3^ 3] +\n5.0 [1^ 1 4^ 4] +\n5.0 [1^ 1 5^ 5] +\n0.28143545550270405 [1^ 1^ 1 1] +\n0.07258994740907981 [1^ 1^ 3 3] +\n0.07258994740907987 [1^ 1^ 5 5] +\n0.07258994740907981 [1^ 2^ 0 3] +\n0.27480121211888675 [1^ 2^ 2 1] +\n0.04853533511404069 [1^ 2^ 2 3] +\n-0.011405586796407748 [1^ 2^ 2 5] +\n-0.011405586796407779 [1^ 2^ 4 3] +\n-0.048535335114040595 [1^ 2^ 4 5] +\n0.07258994740907981 [1^ 3^ 1 3] +\n0.27480121211888675 [1^ 3^ 3 1] +\n0.04853533511404069 [1^ 3^ 3 3] +\n-0.011405586796407748 [1^ 3^ 3 5] +\n-0.011405586796407779 [1^ 3^ 5 3] +\n-0.048535335114040595 [1^ 3^ 5 5] +\n0.07258994740907987 [1^ 4^ 0 5] +\n-0.011405586796407779 [1^ 4^ 2 3] +\n-0.048535335114040595 [1^ 4^ 2 5] +\n0.27480121211888686 [1^ 4^ 4 1] +\n-0.048535335114040595 [1^ 4^ 4 3] +\n0.011405586796407944 [1^ 4^ 4 5] +\n0.07258994740907987 [1^ 5^ 1 5] +\n-0.011405586796407779 [1^ 5^ 3 3] +\n-0.048535335114040595 [1^ 5^ 3 5] +\n0.27480121211888686 [1^ 5^ 5 1] +\n-0.048535335114040595 [1^ 5^ 5 3] +\n0.011405586796407944 [1^ 5^ 5 5] +\n0.2748012121188871 [2^ 0^ 0 2] +\n0.07258994740907981 [2^ 0^ 2 0] +\n0.04853533511404079 [2^ 0^ 2 2] +\n-0.011405586796407848 [2^ 0^ 2 4] +\n-0.011405586796407746 [2^ 0^ 4 2] +\n-0.048535335114040776 [2^ 0^ 4 4] +\n0.2748012121188871 [2^ 1^ 1 2] +\n0.07258994740907981 [2^ 1^ 3 0] +\n0.04853533511404079 [2^ 1^ 3 2] +\n-0.011405586796407848 [2^ 1^ 3 4] +\n-0.011405586796407746 [2^ 1^ 5 2] +\n-0.048535335114040776 [2^ 1^ 5 4] +\n-21.061278062380566 [2^ 2] +\n5.0 [2^ 2 0^ 0] +\n5.0 [2^ 2 1^ 1] +\n5.0 [2^ 2 2^ 2] +\n5.0 [2^ 2 3^ 3] +\n5.0 [2^ 2 4^ 4] +\n5.0 [2^ 2 5^ 5] +\n0.07258994740907981 [2^ 2^ 0 0] +\n0.04853533511404079 [2^ 2^ 0 2] +\n-0.011405586796407848 [2^ 2^ 0 4] +\n0.04853533511404069 [2^ 2^ 2 0] +\n0.3188768141862016 [2^ 2^ 2 2] +\n-0.011405586796407779 [2^ 2^ 4 0] +\n0.03932724296935462 [2^ 2^ 4 4] +\n0.07258994740907981 [2^ 3^ 1 0] +\n0.04853533511404079 [2^ 3^ 1 2] +\n-0.011405586796407848 [2^ 3^ 1 4] +\n0.04853533511404069 [2^ 3^ 3 0] +\n0.3188768141862016 [2^ 3^ 3 2] +\n-0.011405586796407779 [2^ 3^ 5 0] +\n0.03932724296935462 [2^ 3^ 5 4] +\n-0.011405586796407746 [2^ 4^ 0 2] +\n-0.048535335114040776 [2^ 4^ 0 4] +\n-0.011405586796407779 [2^ 4^ 2 0] +\n0.03932724296935462 [2^ 4^ 2 4] +\n-0.048535335114040595 [2^ 4^ 4 0] +\n0.24022232824749196 [2^ 4^ 4 2] +\n-0.011405586796407746 [2^ 5^ 1 2] +\n-0.048535335114040776 [2^ 5^ 1 4] +\n-0.011405586796407779 [2^ 5^ 3 0] +\n0.03932724296935462 [2^ 5^ 3 4] +\n-0.048535335114040595 [2^ 5^ 5 0] +\n0.24022232824749196 [2^ 5^ 5 2] +\n0.2748012121188871 [3^ 0^ 0 3] +\n0.07258994740907981 [3^ 0^ 2 1] +\n0.04853533511404079 [3^ 0^ 2 3] +\n-0.011405586796407848 [3^ 0^ 2 5] +\n-0.011405586796407746 [3^ 0^ 4 3] +\n-0.048535335114040776 [3^ 0^ 4 5] +\n0.2748012121188871 [3^ 1^ 1 3] +\n0.07258994740907981 [3^ 1^ 3 1] +\n0.04853533511404079 [3^ 1^ 3 3] +\n-0.011405586796407848 [3^ 1^ 3 5] +\n-0.011405586796407746 [3^ 1^ 5 3] +\n-0.048535335114040776 [3^ 1^ 5 5] +\n0.07258994740907981 [3^ 2^ 0 1] +\n0.04853533511404079 [3^ 2^ 0 3] +\n-0.011405586796407848 [3^ 2^ 0 5] +\n0.04853533511404069 [3^ 2^ 2 1] +\n0.3188768141862016 [3^ 2^ 2 3] +\n-0.011405586796407779 [3^ 2^ 4 1] +\n0.03932724296935462 [3^ 2^ 4 5] +\n-21.061278062380566 [3^ 3] +\n5.0 [3^ 3 0^ 0] +\n5.0 [3^ 3 1^ 1] +\n5.0 [3^ 3 2^ 2] +\n5.0 [3^ 3 3^ 3] +\n5.0 [3^ 3 4^ 4] +\n5.0 [3^ 3 5^ 5] +\n0.07258994740907981 [3^ 3^ 1 1] +\n0.04853533511404079 [3^ 3^ 1 3] +\n-0.011405586796407848 [3^ 3^ 1 5] +\n0.04853533511404069 [3^ 3^ 3 1] +\n0.3188768141862016 [3^ 3^ 3 3] +\n-0.011405586796407779 [3^ 3^ 5 1] +\n0.03932724296935462 [3^ 3^ 5 5] +\n-0.011405586796407746 [3^ 4^ 0 3] +\n-0.048535335114040776 [3^ 4^ 0 5] +\n-0.011405586796407779 [3^ 4^ 2 1] +\n0.03932724296935462 [3^ 4^ 2 5] +\n-0.048535335114040595 [3^ 4^ 4 1] +\n0.24022232824749196 [3^ 4^ 4 3] +\n-0.011405586796407746 [3^ 5^ 1 3] +\n-0.048535335114040776 [3^ 5^ 1 5] +\n-0.011405586796407779 [3^ 5^ 3 1] +\n0.03932724296935462 [3^ 5^ 3 5] +\n-0.048535335114040595 [3^ 5^ 5 1] +\n0.24022232824749196 [3^ 5^ 5 3] +\n0.2748012121188873 [4^ 0^ 0 4] +\n-0.011405586796407848 [4^ 0^ 2 2] +\n-0.048535335114040755 [4^ 0^ 2 4] +\n0.07258994740907987 [4^ 0^ 4 0] +\n-0.048535335114040776 [4^ 0^ 4 2] +\n0.011405586796407912 [4^ 0^ 4 4] +\n0.2748012121188873 [4^ 1^ 1 4] +\n-0.011405586796407848 [4^ 1^ 3 2] +\n-0.048535335114040755 [4^ 1^ 3 4] +\n0.07258994740907987 [4^ 1^ 5 0] +\n-0.048535335114040776 [4^ 1^ 5 2] +\n0.011405586796407912 [4^ 1^ 5 4] +\n-0.011405586796407848 [4^ 2^ 0 2] +\n-0.048535335114040755 [4^ 2^ 0 4] +\n-0.011405586796407748 [4^ 2^ 2 0] +\n0.24022232824749185 [4^ 2^ 2 4] +\n-0.048535335114040595 [4^ 2^ 4 0] +\n0.03932724296935462 [4^ 2^ 4 2] +\n-0.011405586796407848 [4^ 3^ 1 2] +\n-0.048535335114040755 [4^ 3^ 1 4] +\n-0.011405586796407748 [4^ 3^ 3 0] +\n0.24022232824749185 [4^ 3^ 3 4] +\n-0.048535335114040595 [4^ 3^ 5 0] +\n0.03932724296935462 [4^ 3^ 5 2] +\n-21.061278062380566 [4^ 4] +\n5.0 [4^ 4 0^ 0] +\n5.0 [4^ 4 1^ 1] +\n5.0 [4^ 4 2^ 2] +\n5.0 [4^ 4 3^ 3] +\n5.0 [4^ 4 4^ 4] +\n5.0 [4^ 4 5^ 5] +\n0.07258994740907987 [4^ 4^ 0 0] +\n-0.048535335114040776 [4^ 4^ 0 2] +\n0.011405586796407912 [4^ 4^ 0 4] +\n-0.048535335114040595 [4^ 4^ 2 0] +\n0.03932724296935462 [4^ 4^ 2 2] +\n0.011405586796407944 [4^ 4^ 4 0] +\n0.31887681418620173 [4^ 4^ 4 4] +\n0.07258994740907987 [4^ 5^ 1 0] +\n-0.048535335114040776 [4^ 5^ 1 2] +\n0.011405586796407912 [4^ 5^ 1 4] +\n-0.048535335114040595 [4^ 5^ 3 0] +\n0.03932724296935462 [4^ 5^ 3 2] +\n0.011405586796407944 [4^ 5^ 5 0] +\n0.31887681418620173 [4^ 5^ 5 4] +\n0.2748012121188873 [5^ 0^ 0 5] +\n-0.011405586796407848 [5^ 0^ 2 3] +\n-0.048535335114040755 [5^ 0^ 2 5] +\n0.07258994740907987 [5^ 0^ 4 1] +\n-0.048535335114040776 [5^ 0^ 4 3] +\n0.011405586796407912 [5^ 0^ 4 5] +\n0.2748012121188873 [5^ 1^ 1 5] +\n-0.011405586796407848 [5^ 1^ 3 3] +\n-0.048535335114040755 [5^ 1^ 3 5] +\n0.07258994740907987 [5^ 1^ 5 1] +\n-0.048535335114040776 [5^ 1^ 5 3] +\n0.011405586796407912 [5^ 1^ 5 5] +\n-0.011405586796407848 [5^ 2^ 0 3] +\n-0.048535335114040755 [5^ 2^ 0 5] +\n-0.011405586796407748 [5^ 2^ 2 1] +\n0.24022232824749185 [5^ 2^ 2 5] +\n-0.048535335114040595 [5^ 2^ 4 1] +\n0.03932724296935462 [5^ 2^ 4 3] +\n-0.011405586796407848 [5^ 3^ 1 3] +\n-0.048535335114040755 [5^ 3^ 1 5] +\n-0.011405586796407748 [5^ 3^ 3 1] +\n0.24022232824749185 [5^ 3^ 3 5] +\n-0.048535335114040595 [5^ 3^ 5 1] +\n0.03932724296935462 [5^ 3^ 5 3] +\n0.07258994740907987 [5^ 4^ 0 1] +\n-0.048535335114040776 [5^ 4^ 0 3] +\n0.011405586796407912 [5^ 4^ 0 5] +\n-0.048535335114040595 [5^ 4^ 2 1] +\n0.03932724296935462 [5^ 4^ 2 3] +\n0.011405586796407944 [5^ 4^ 4 1] +\n0.31887681418620173 [5^ 4^ 4 5] +\n-21.061278062380566 [5^ 5] +\n5.0 [5^ 5 0^ 0] +\n5.0 [5^ 5 1^ 1] +\n5.0 [5^ 5 2^ 2] +\n5.0 [5^ 5 3^ 3] +\n5.0 [5^ 5 4^ 4] +\n5.0 [5^ 5 5^ 5] +\n0.07258994740907987 [5^ 5^ 1 1] +\n-0.048535335114040776 [5^ 5^ 1 3] +\n0.011405586796407912 [5^ 5^ 1 5] +\n-0.048535335114040595 [5^ 5^ 3 1] +\n0.03932724296935462 [5^ 5^ 3 3] +\n0.011405586796407944 [5^ 5^ 5 1] +\n0.31887681418620173 [5^ 5^ 5 5]\n"
     ]
    }
   ],
   "source": [
    "#convert to fermionic Hamiltonian\n",
    "molecular_H = molecule.get_molecular_hamiltonian(occupied_indices=occupied_indices, active_indices=active_indices)\n",
    "if molecular_H[()] == None:\n",
    "    molecular_H[()] = 0\n",
    "fermionic_H = get_fermion_operator(molecular_H)\n",
    "# print(fermionic_H)\n",
    "#add penalty term to ensure correct number of electrons in ground state\n",
    "weight = 5\n",
    "penalty_term = FermionOperator('', n_active_electrons)\n",
    "\n",
    "for i in range(molecular_H.n_qubits):\n",
    "    penalty_term += FermionOperator(str(i)+'^ '+str(i), -1)\n",
    "fermionic_H += weight*penalty_term**2\n",
    "\n",
    "print(fermionic_H)"
   ]
  },
  {
   "cell_type": "code",
   "execution_count": 23,
   "metadata": {
    "scrolled": true
   },
   "outputs": [
    {
     "output_type": "stream",
     "name": "stdout",
     "text": [
      "-1.27226477053585 \n\n12.052315964211402 [] +\n-0.024267667557020367 [X0] +\n0.024267667557020346 [X0 X1 X2] +\n-0.005702793398203908 [X0 X1 Z2 X3] +\n0.02426766755702037 [X0 X1 Z2 Z3] +\n-0.005702793398203908 [X0 X1 X3] +\n0.02426766755702037 [X0 X1 Z3] +\n0.024267667557020346 [X0 Y1 Y2] +\n0.005702793398203964 [X0 Z1 X2 X3] +\n-0.024267667557020346 [X0 Z1 X2 Z3] +\n0.02426766755702034 [X0 Z1 Z2] +\n-0.005702793398203964 [X0 Z1 X3] +\n0.02426766755702034 [X0 Z1 Z3] +\n0.005702793398203964 [X0 X2 X3] +\n-0.024267667557020346 [X0 X2 Z3] +\n0.005702793398203874 [X0 Z2 X3] +\n-0.024267667557020367 [X0 Z2 Z3] +\n-0.005702793398203908 [Y0 X1 X2 Y3] +\n-0.005702793398203908 [Y0 X1 Y2 X3] +\n0.024267667557020346 [Y0 X1 Y2 Z3] +\n0.005702793398203908 [Y0 Y1 X2 X3] +\n-0.024267667557020346 [Y0 Y1 X2 Z3] +\n-0.005702793398203908 [Y0 Y1 Y2 Y3] +\n-0.005702793398203908 [Y0 Y1 Z2 X3] +\n0.02426766755702034 [Y0 Y1 Z2 Z3] +\n-0.005702793398203908 [Y0 Y1 X3] +\n0.02426766755702034 [Y0 Y1 Z3] +\n0.005702793398203874 [Y0 Z1 Y2 X3] +\n-0.024267667557020346 [Y0 Z1 Y2 Z3] +\n-0.005702793398203874 [Y0 Z1 Z2 Y3] +\n0.005702793398203874 [Y0 Y2 X3] +\n-0.024267667557020346 [Y0 Y2 Z3] +\n0.005702793398203964 [Y0 Y3] +\n2.640717727751352 [Z0] +\n0.03629497370453991 [Z0 X1] +\n0.019663621484677315 [Z0 X1 X2 Z3] +\n0.03629497370453991 [Z0 X1 Z2] +\n0.03629497370453991 [Z0 X1 Z2 Z3] +\n0.03629497370453991 [Z0 X1 Z3] +\n0.019663621484677315 [Z0 Y1 Y2 Z3] +\n-2.6374006060594435 [Z0 Z1] +\n0.036294973704539935 [Z0 Z1 X2] +\n7.406640049526931 [Z0 Z1 Z2] +\n2.6201111641237462 [Z0 Z1 Z2 Z3] +\n-7.688969953434883 [Z0 Z1 Z3] +\n0.036294973704539935 [Z0 X2] +\n-2.6374006060594435 [Z0 Z2] +\n-2.6374006060594435 [Z0 Z2 Z3] +\n2.6594384070931008 [Z0 Z3] +\n0.019663621484677315 [X1 X2 Z3] +\n0.019663621484677315 [Y1 Y2 Z3] +\n-7.688969953434883 [Z1] +\n0.036294973704539935 [Z1 X2 Z3] +\n7.406640049526931 [Z1 Z2] +\n2.6201111641237462 [Z1 Z2 Z3] +\n-2.6374006060594435 [Z1 Z3] +\n0.036294973704539935 [X2 Z3] +\n-7.688969953434883 [Z2] +\n-7.688969953434883 [Z2 Z3] +\n2.6594384070931008 [Z3]\n"
     ]
    }
   ],
   "source": [
    "#convert to Pauli operator Hamiltonian\n",
    "binary_code = bravyi_kitaev_code(molecular_H.n_qubits)\n",
    "qubit_H = binary_code_transform(fermionic_H, binary_code)\n",
    "qubit_H.compress()\n",
    "\n",
    "#apply symmetry reductions and calculate minimum eigenvalue (should be equal to CASCI energy)\n",
    "sectors = taper_qubits(qubit_H)\n",
    "qubit_H, min_eigenvalue = sector_with_ground(sectors)\n",
    "m = count_qubits(qubit_H)\n",
    "\n",
    "print(min_eigenvalue, '\\n')\n",
    "print(qubit_H)"
   ]
  },
  {
   "cell_type": "code",
   "execution_count": 26,
   "metadata": {},
   "outputs": [],
   "source": [
    "#set sampler to perform the annealing\n",
    "# !pip install dwave-ocean-sdk\n",
    "from neal import SimulatedAnnealingSampler\n",
    "sampler = SimulatedAnnealingSampler() #uses simulated annealing, see D-Wave's ocean sdk for more options"
   ]
  },
  {
   "cell_type": "code",
   "execution_count": 27,
   "metadata": {},
   "outputs": [
    {
     "output_type": "stream",
     "name": "stdout",
     "text": [
      "-1.24006930443866\n[1, 0, 0, 1, 1, 0, 0, 1, 1, 1, 1, 1, 1, 1, 1, 1]\n"
     ]
    }
   ],
   "source": [
    "### XBK method ###\n",
    "\n",
    "#set r value\n",
    "r = 4\n",
    "\n",
    "#construct qubit Hamiltonians and C terms for XBK method\n",
    "qubit_Hs, qubit_Cs = [],[]\n",
    "for p in range(int(math.ceil(r/2+1))):\n",
    "    qubit_Hs += [XBK_transform(qubit_H, r, p)]\n",
    "    qubit_Cs += [construct_C(m, r, p)]\n",
    "\n",
    "#run XBK method\n",
    "XBK_energy, ground_state = XBK(qubit_Hs, qubit_Cs, r, sampler, starting_lam=0, num_samples=1000, strength=1e3, verbose=False)\n",
    "\n",
    "print(XBK_energy)\n",
    "print(ground_state) #ground state in rm-qubit space"
   ]
  },
  {
   "cell_type": "code",
   "execution_count": 28,
   "metadata": {},
   "outputs": [
    {
     "output_type": "stream",
     "name": "stdout",
     "text": [
      "-0.8367203530506231\n{phi0: 5.623308632608373, phi1: 6.283185307179586, phi2: 3.141592653589793, phi3: 2.8431514821105015, the0: 3.141592653589793, the1: 1.2581817802130424, the2: 1.2394726282922657, the3: 1.7007244472453488e-08, tau0: 3.2418058608575913, tau1: 3.1416272184587113, tau2: 4.396053380596374, tau3: 5.986532147902271}\n"
     ]
    }
   ],
   "source": [
    "### QCC method ###\n",
    "\n",
    "#set number of Bloch angle and entangler amplitude foldings\n",
    "angle_folds = 2\n",
    "amplitude_folds = 1\n",
    "\n",
    "#create dictionary of QubitOperator entanglers\n",
    "entanglers = {'IYZI': QubitOperator('Y1 Z2'), 'IZYI': QubitOperator('Z1 Y2'),\n",
    "              'IXYI': QubitOperator('X1 Y2'), 'IYXI': QubitOperator('Y1 X2')}\n",
    "\n",
    "#run QCC method\n",
    "QCC_energy, variables = QCC(qubit_H, entanglers, angle_folds, amplitude_folds, sampler, num_cycles=10, num_samples=1000, strength=1e3)\n",
    "    \n",
    "print(QCC_energy)\n",
    "print(variables)"
   ]
  },
  {
   "source": [
    "EXPERIMENTS"
   ],
   "cell_type": "markdown",
   "metadata": {}
  },
  {
   "cell_type": "code",
   "execution_count": 70,
   "metadata": {},
   "outputs": [
    {
     "output_type": "stream",
     "name": "stdout",
     "text": [
      "converged SCF energy = -99.9593211672818\n"
     ]
    }
   ],
   "source": [
    "import pyscf\n",
    "mol = pyscf.M(\n",
    "    atom = 'H 0 0 0; F 0 0 1.1',  # in Angstrom\n",
    "    basis = '6-31g',\n",
    "    symmetry = True,\n",
    ")\n",
    "# print(mol.atom)\n",
    "myhf = mol.RHF().run()\n",
    "# print(myhf.get_occ())\n",
    "#\n",
    "# create an FCI solver based on the SCF object\n",
    "#\n",
    "# cisolver = pyscf.fci.FCI(myhf)\n",
    "# print('E(FCI) = %.12f' % cisolver.kernel()[0])"
   ]
  },
  {
   "cell_type": "code",
   "execution_count": 73,
   "metadata": {},
   "outputs": [
    {
     "output_type": "stream",
     "name": "stdout",
     "text": [
      "converged SCF energy = -99.9873974403488\n",
      "MO integrals (ij|kl) with 4-fold symmetry i>=j, k>=l have shape (190, 190)\n",
      "converged SCF energy = -99.9873974403488\n",
      "[ 5.35675278 -0.52831321  1.25358247 -0.09750893  0.09618362  1.02774801\n",
      "  0.          0.          0.          1.22238529  0.          0.\n",
      "  0.          0.          1.22238529  0.11576072 -0.17902118  0.27038076\n",
      "  0.          0.          0.496825    0.04357091 -0.06704457  0.23163625\n",
      "  0.          0.          0.20430308  0.52078992  0.          0.\n",
      "  0.          0.46777722  0.          0.          0.          0.83934381\n",
      "  0.          0.          0.          0.          0.46777722  0.\n",
      "  0.          0.          0.83934381  0.18301991 -0.17064103 -0.40562827\n",
      "  0.          0.         -0.1299511  -0.14695615  0.          0.\n",
      "  0.90763646  0.          0.          0.         -0.35247869  0.\n",
      "  0.          0.         -0.31506522  0.          0.          0.70668745\n",
      "  0.          0.          0.          0.         -0.35247869  0.\n",
      "  0.          0.         -0.31506522  0.          0.          0.70668745\n",
      " -0.31704039  0.33216483 -0.19437474  0.          0.         -0.27220883\n",
      " -0.22811254  0.          0.          0.15027717  0.          0.\n",
      "  0.93178216  0.31844935 -0.31830573 -0.13888881  0.          0.\n",
      "  0.04131837 -0.10382427  0.          0.          0.20083162  0.\n",
      "  0.         -0.16000675  0.80881595  0.          0.          0.\n",
      "  0.          0.          0.          0.          0.          0.\n",
      "  0.          0.          0.          0.          0.          1.08941351\n",
      "  0.          0.          0.          0.          0.          0.\n",
      "  0.          0.          0.          0.          0.          0.\n",
      "  0.          0.          0.          1.08941351  0.          0.\n",
      "  0.          0.01069407  0.          0.          0.          0.0783204\n",
      "  0.          0.          0.08092069  0.          0.          0.\n",
      "  0.          0.          1.0732011   0.          0.          0.\n",
      "  0.          0.01069407  0.          0.          0.          0.0783204\n",
      "  0.          0.          0.08092069  0.          0.          0.\n",
      "  0.          0.          1.0732011   0.0453614  -0.03465669 -0.0364902\n",
      "  0.          0.          0.01126146  0.02547057  0.          0.\n",
      "  0.12526237  0.          0.         -0.08589973 -0.13355257  0.\n",
      "  0.          0.          0.          1.03406506]\n"
     ]
    }
   ],
   "source": [
    "from pyscf import gto, scf, ao2mo\n",
    "\n",
    "'''\n",
    "A simple example to call integral transformation for given orbitals\n",
    "'''\n",
    "\n",
    "mol = gto.Mole()\n",
    "mol.build(\n",
    "    atom = 'H 0 0 0; F 0 0 1.1',  # in Angstrom\n",
    "    basis = 'ccpvdz',\n",
    "    symmetry = True,\n",
    ")\n",
    "\n",
    "myhf = scf.RHF(mol)\n",
    "myhf.kernel()\n",
    "\n",
    "orb = myhf.mo_coeff\n",
    "eri_4fold = ao2mo.kernel(mol, orb)\n",
    "print('MO integrals (ij|kl) with 4-fold symmetry i>=j, k>=l have shape %s' %\n",
    "      str(eri_4fold.shape))\n",
    "\n",
    "\n",
    "#\n",
    "# Starting from PySCF-1.7, the MO integrals can be computed with the code\n",
    "# below.\n",
    "#\n",
    "import pyscf\n",
    "mol = pyscf.M(\n",
    "    atom = 'H 0 0 0; F 0 0 1.1',  # in Angstrom\n",
    "    basis = 'ccpvdz',\n",
    "    symmetry = True,\n",
    ")\n",
    "orb = mol.RHF().run().mo_coeff\n",
    "eri_4fold = mol.ao2mo(orb)\n",
    "print(eri_4fold[0])"
   ]
  },
  {
   "cell_type": "code",
   "execution_count": null,
   "metadata": {},
   "outputs": [],
   "source": []
  }
 ],
 "metadata": {
  "kernelspec": {
   "name": "python3712jvsc74a57bd04cd7ab41f5fca4b9b44701077e38c5ffd31fe66a6cab21e0214b68d958d0e462",
   "display_name": "Python 3.7.12 64-bit"
  },
  "language_info": {
   "codemirror_mode": {
    "name": "ipython",
    "version": 3
   },
   "file_extension": ".py",
   "mimetype": "text/x-python",
   "name": "python",
   "nbconvert_exporter": "python",
   "pygments_lexer": "ipython3",
   "version": "3.7.12"
  },
  "metadata": {
   "interpreter": {
    "hash": "4cd7ab41f5fca4b9b44701077e38c5ffd31fe66a6cab21e0214b68d958d0e462"
   }
  }
 },
 "nbformat": 4,
 "nbformat_minor": 4
}