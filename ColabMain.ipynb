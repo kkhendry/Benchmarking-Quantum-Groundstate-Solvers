{
  "nbformat": 4,
  "nbformat_minor": 0,
  "metadata": {
    "colab": {
      "name": "ColabMain",
      "provenance": [],
      "authorship_tag": "ABX9TyMycIH7ENoq6n6dL86KRlZT",
      "include_colab_link": true
    },
    "kernelspec": {
      "name": "python3",
      "display_name": "Python 3"
    },
    "language_info": {
      "name": "python"
    }
  },
  "cells": [
    {
      "cell_type": "markdown",
      "metadata": {
        "id": "view-in-github",
        "colab_type": "text"
      },
      "source": [
        "<a href=\"https://colab.research.google.com/github/kkhendry/QOSF-2021-Cohort-4-Hydra/blob/master/ColabMain.ipynb\" target=\"_parent\"><img src=\"https://colab.research.google.com/assets/colab-badge.svg\" alt=\"Open In Colab\"/></a>"
      ]
    },
    {
      "cell_type": "code",
      "execution_count": 7,
      "metadata": {
        "id": "kHFOoWIm_oZk"
      },
      "outputs": [],
      "source": [
        "%%capture\n",
        "!git clone https://github.com/kkhendry/QOSF-2021-Cohort-4-Hydra.git\n",
        "import sys\n",
        "sys.path.append('/QOSF-2021-Cohort-4-Hydra/')\n",
        "!pip install -r QOSF-2021-Cohort-4-Hydra/setup"
      ]
    },
    {
      "cell_type": "code",
      "source": [
        "!dwave setup"
      ],
      "metadata": {
        "colab": {
          "base_uri": "https://localhost:8080/"
        },
        "id": "0irwc3h1BeKZ",
        "outputId": "f5d85ff9-2ff1-485e-99b9-fa78f6ec28cf"
      },
      "execution_count": 9,
      "outputs": [
        {
          "output_type": "stream",
          "name": "stdout",
          "text": [
            "Optionally install non-open-source packages and configure your environment.\n",
            "\n",
            "Do you want to select non-open-source packages to install (y/n)? [y]: y\n",
            "\n",
            "D-Wave Drivers installed and up to date.\n",
            "\n",
            "D-Wave Problem Inspector installed and up to date.\n",
            "\n",
            "Creating the D-Wave configuration file.\n",
            "Using the simplified configuration flow.\n",
            "Try 'dwave config create --full' for more options.\n",
            "\n",
            "Creating new configuration file: /root/.config/dwave/dwave.conf\n",
            "Profile [defaults]: defaults\n",
            "Updating existing profile: defaults\n",
            "Authentication token [skip]: DEV-4f5f3a7d07f2dc98dccd35b17cdbaf20b5b7e8cf\n",
            "Configuration saved.\n"
          ]
        }
      ]
    },
    {
      "cell_type": "code",
      "source": [
        "from google.colab import drive\n",
        "drive.mount('/content/QOSF-2021-Cohort-4-Hydra')\n",
        "\n",
        "#General\n",
        "import numpy as np\n",
        "import scipy\n",
        "import scipy.linalg\n",
        "import math\n",
        "import time\n",
        "\n",
        "#Molecule Drivers\n",
        "import pyscf\n",
        "from pyscf import gto, scf, mcscf\n",
        "\n",
        "##QISKIT\n",
        "#Molecule, Fermioninc Operator, Problem Definition\n",
        "from qiskit_nature.drivers import Molecule\n",
        "from qiskit_nature.operators.second_quantization import FermionicOp\n",
        "from qiskit_nature.drivers.second_quantization.pyscfd import PySCFDriver\n",
        "from qiskit_nature.drivers.second_quantization import ElectronicStructureDriverType, ElectronicStructureMoleculeDriver\n",
        "from qiskit_nature.problems.second_quantization import ElectronicStructureProblem\n",
        "\n",
        "#Properties\n",
        "from qiskit_nature.properties import Property, GroupedProperty\n",
        "from qiskit_nature.properties.second_quantization.electronic import (\n",
        "    ElectronicEnergy,\n",
        "    ElectronicDipoleMoment,\n",
        "    ParticleNumber,\n",
        "    AngularMomentum,\n",
        "    Magnetization,\n",
        ")\n",
        "from qiskit_nature.properties.second_quantization.electronic.integrals import (\n",
        "    ElectronicIntegrals,\n",
        "    OneBodyElectronicIntegrals,\n",
        "    TwoBodyElectronicIntegrals,\n",
        "    IntegralProperty,\n",
        ")\n",
        "from qiskit_nature.properties.second_quantization.electronic.bases import ElectronicBasis\n",
        "\n",
        "#Qubit Operator\n",
        "from qiskit_nature.mappers.second_quantization import JordanWignerMapper, ParityMapper, BravyiKitaevMapper\n",
        "from qiskit_nature.converters.second_quantization import QubitConverter\n",
        "\n",
        "#Circuits, Simulators, Algorithms, Solvers and VQE\n",
        "from qiskit_nature.circuit.library import HartreeFock\n",
        "from qiskit.circuit.library import EfficientSU2, TwoLocal, NLocal, PauliTwoDesign\n",
        "from qiskit_nature.circuit.library import UCCSD, PUCCD, SUCCD\n",
        "from qiskit.algorithms import NumPyMinimumEigensolver\n",
        "from qiskit_nature.algorithms import GroundStateEigensolver\n",
        "from qiskit.providers.aer import StatevectorSimulator, QasmSimulator\n",
        "from qiskit.algorithms.optimizers import COBYLA, L_BFGS_B, SPSA, SLSQP\n",
        "from qiskit.algorithms import VQE\n",
        "from qiskit_nature.algorithms import VQEUCCFactory, GroundStateEigensolver\n",
        "\n",
        "##OPENFERMION\n",
        "from openfermionpyscf import run_pyscf\n",
        "from openfermion.transforms import binary_code_transform, bravyi_kitaev_code, get_fermion_operator\n",
        "from openfermion.ops import FermionOperator, QubitOperator\n",
        "from openfermion.utils import count_qubits\n",
        "from openfermion.chem import MolecularData\n",
        "from openfermion.transforms import get_fermion_operator, jordan_wigner\n",
        "from openfermion.linalg import get_ground_state, get_sparse_operator\n",
        "import numpy\n",
        "import scipy\n",
        "import scipy.linalg\n",
        "\n",
        "##DWAVE\n",
        "from neal import SimulatedAnnealingSampler\n",
        "sampler = SimulatedAnnealingSampler()\n",
        "\n",
        "##UTILITIES\n",
        "from helper_functions import *\n",
        "from XBK_method import *\n",
        "from QCC_method import *"
      ],
      "metadata": {
        "colab": {
          "base_uri": "https://localhost:8080/",
          "height": 381
        },
        "id": "W6yrBKabAP5H",
        "outputId": "c71a543d-f689-468a-ba58-b005b48bec35"
      },
      "execution_count": 11,
      "outputs": [
        {
          "output_type": "error",
          "ename": "ValueError",
          "evalue": "ignored",
          "traceback": [
            "\u001b[0;31m---------------------------------------------------------------------------\u001b[0m",
            "\u001b[0;31mValueError\u001b[0m                                Traceback (most recent call last)",
            "\u001b[0;32m<ipython-input-11-6dbc2ad07882>\u001b[0m in \u001b[0;36m<module>\u001b[0;34m()\u001b[0m\n\u001b[1;32m      1\u001b[0m \u001b[0;32mfrom\u001b[0m \u001b[0mgoogle\u001b[0m\u001b[0;34m.\u001b[0m\u001b[0mcolab\u001b[0m \u001b[0;32mimport\u001b[0m \u001b[0mdrive\u001b[0m\u001b[0;34m\u001b[0m\u001b[0;34m\u001b[0m\u001b[0m\n\u001b[0;32m----> 2\u001b[0;31m \u001b[0mdrive\u001b[0m\u001b[0;34m.\u001b[0m\u001b[0mmount\u001b[0m\u001b[0;34m(\u001b[0m\u001b[0;34m'/content/QOSF-2021-Cohort-4-Hydra'\u001b[0m\u001b[0;34m)\u001b[0m\u001b[0;34m\u001b[0m\u001b[0;34m\u001b[0m\u001b[0m\n\u001b[0m\u001b[1;32m      3\u001b[0m \u001b[0;34m\u001b[0m\u001b[0m\n\u001b[1;32m      4\u001b[0m \u001b[0;31m#General\u001b[0m\u001b[0;34m\u001b[0m\u001b[0;34m\u001b[0m\u001b[0;34m\u001b[0m\u001b[0m\n\u001b[1;32m      5\u001b[0m \u001b[0;32mimport\u001b[0m \u001b[0mnumpy\u001b[0m \u001b[0;32mas\u001b[0m \u001b[0mnp\u001b[0m\u001b[0;34m\u001b[0m\u001b[0;34m\u001b[0m\u001b[0m\n",
            "\u001b[0;32m/usr/local/lib/python3.7/dist-packages/google/colab/drive.py\u001b[0m in \u001b[0;36mmount\u001b[0;34m(mountpoint, force_remount, timeout_ms, use_metadata_server)\u001b[0m\n\u001b[1;32m    111\u001b[0m       \u001b[0mtimeout_ms\u001b[0m\u001b[0;34m=\u001b[0m\u001b[0mtimeout_ms\u001b[0m\u001b[0;34m,\u001b[0m\u001b[0;34m\u001b[0m\u001b[0;34m\u001b[0m\u001b[0m\n\u001b[1;32m    112\u001b[0m       \u001b[0muse_metadata_server\u001b[0m\u001b[0;34m=\u001b[0m\u001b[0muse_metadata_server\u001b[0m\u001b[0;34m,\u001b[0m\u001b[0;34m\u001b[0m\u001b[0;34m\u001b[0m\u001b[0m\n\u001b[0;32m--> 113\u001b[0;31m       ephemeral=ephemeral)\n\u001b[0m\u001b[1;32m    114\u001b[0m \u001b[0;34m\u001b[0m\u001b[0m\n\u001b[1;32m    115\u001b[0m \u001b[0;34m\u001b[0m\u001b[0m\n",
            "\u001b[0;32m/usr/local/lib/python3.7/dist-packages/google/colab/drive.py\u001b[0m in \u001b[0;36m_mount\u001b[0;34m(mountpoint, force_remount, timeout_ms, use_metadata_server, ephemeral)\u001b[0m\n\u001b[1;32m    192\u001b[0m       \u001b[0;32mraise\u001b[0m \u001b[0mValueError\u001b[0m\u001b[0;34m(\u001b[0m\u001b[0;34m'Mountpoint must not be a symlink'\u001b[0m\u001b[0;34m)\u001b[0m\u001b[0;34m\u001b[0m\u001b[0;34m\u001b[0m\u001b[0m\n\u001b[1;32m    193\u001b[0m     \u001b[0;32mif\u001b[0m \u001b[0m_os\u001b[0m\u001b[0;34m.\u001b[0m\u001b[0mpath\u001b[0m\u001b[0;34m.\u001b[0m\u001b[0misdir\u001b[0m\u001b[0;34m(\u001b[0m\u001b[0mmountpoint\u001b[0m\u001b[0;34m)\u001b[0m \u001b[0;32mand\u001b[0m \u001b[0m_os\u001b[0m\u001b[0;34m.\u001b[0m\u001b[0mlistdir\u001b[0m\u001b[0;34m(\u001b[0m\u001b[0mmountpoint\u001b[0m\u001b[0;34m)\u001b[0m\u001b[0;34m:\u001b[0m\u001b[0;34m\u001b[0m\u001b[0;34m\u001b[0m\u001b[0m\n\u001b[0;32m--> 194\u001b[0;31m       \u001b[0;32mraise\u001b[0m \u001b[0mValueError\u001b[0m\u001b[0;34m(\u001b[0m\u001b[0;34m'Mountpoint must not already contain files'\u001b[0m\u001b[0;34m)\u001b[0m\u001b[0;34m\u001b[0m\u001b[0;34m\u001b[0m\u001b[0m\n\u001b[0m\u001b[1;32m    195\u001b[0m     \u001b[0;32mif\u001b[0m \u001b[0;32mnot\u001b[0m \u001b[0m_os\u001b[0m\u001b[0;34m.\u001b[0m\u001b[0mpath\u001b[0m\u001b[0;34m.\u001b[0m\u001b[0misdir\u001b[0m\u001b[0;34m(\u001b[0m\u001b[0mmountpoint\u001b[0m\u001b[0;34m)\u001b[0m \u001b[0;32mand\u001b[0m \u001b[0m_os\u001b[0m\u001b[0;34m.\u001b[0m\u001b[0mpath\u001b[0m\u001b[0;34m.\u001b[0m\u001b[0mexists\u001b[0m\u001b[0;34m(\u001b[0m\u001b[0mmountpoint\u001b[0m\u001b[0;34m)\u001b[0m\u001b[0;34m:\u001b[0m\u001b[0;34m\u001b[0m\u001b[0;34m\u001b[0m\u001b[0m\n\u001b[1;32m    196\u001b[0m       \u001b[0;32mraise\u001b[0m \u001b[0mValueError\u001b[0m\u001b[0;34m(\u001b[0m\u001b[0;34m'Mountpoint must either be a directory or not exist'\u001b[0m\u001b[0;34m)\u001b[0m\u001b[0;34m\u001b[0m\u001b[0;34m\u001b[0m\u001b[0m\n",
            "\u001b[0;31mValueError\u001b[0m: Mountpoint must not already contain files"
          ]
        }
      ]
    },
    {
      "cell_type": "code",
      "source": [
        ""
      ],
      "metadata": {
        "id": "ilDGLnKXA-hJ"
      },
      "execution_count": null,
      "outputs": []
    }
  ]
}