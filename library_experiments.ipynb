{
 "metadata": {
  "language_info": {
   "codemirror_mode": {
    "name": "ipython",
    "version": 3
   },
   "file_extension": ".py",
   "mimetype": "text/x-python",
   "name": "python",
   "nbconvert_exporter": "python",
   "pygments_lexer": "ipython3",
   "version": "3.7.12"
  },
  "orig_nbformat": 2,
  "kernelspec": {
   "name": "python2",
   "display_name": "Python 2",
   "language": "python"
  }
 },
 "nbformat": 4,
 "nbformat_minor": 2,
 "cells": [
  {
   "source": [
    "<p align = center>\n",
    "    <img src=\"1_Overview.PNG\" width=800 height=500 align=center />\n",
    "<p/>"
   ],
   "cell_type": "markdown",
   "metadata": {}
  },
  {
   "source": [
    "# QISKIT"
   ],
   "cell_type": "markdown",
   "metadata": {}
  },
  {
   "source": [
    "## Setup"
   ],
   "cell_type": "markdown",
   "metadata": {}
  },
  {
   "cell_type": "code",
   "execution_count": 3,
   "metadata": {},
   "outputs": [],
   "source": [
    "# !pip install pyscf\n",
    "# !pip install qiskit-nature[pyscf]\n",
    "# !pip install qiskit"
   ]
  },
  {
   "source": [
    "## Code"
   ],
   "cell_type": "markdown",
   "metadata": {}
  },
  {
   "cell_type": "code",
   "execution_count": 1,
   "metadata": {},
   "outputs": [],
   "source": [
    "import pyscf\n",
    "from qiskit_nature.drivers import Molecule\n",
    "from qiskit_nature.drivers.second_quantization import ElectronicStructureDriverType, ElectronicStructureMoleculeDriver\n",
    "from qiskit_nature.drivers.second_quantization.pyscfd import PySCFDriver\n",
    "from qiskit_nature.properties import Property, GroupedProperty\n",
    "from qiskit_nature.problems.second_quantization import ElectronicStructureProblem\n",
    "\n",
    "from qiskit_nature.properties.second_quantization.electronic import (\n",
    "    ElectronicEnergy,\n",
    "    ElectronicDipoleMoment,\n",
    "    ParticleNumber,\n",
    "    AngularMomentum,\n",
    "    Magnetization,\n",
    ")\n",
    "\n",
    "from qiskit_nature.properties.second_quantization.electronic.integrals import (\n",
    "    ElectronicIntegrals,\n",
    "    OneBodyElectronicIntegrals,\n",
    "    TwoBodyElectronicIntegrals,\n",
    "    IntegralProperty,\n",
    ")\n",
    "\n",
    "from qiskit_nature.properties.second_quantization.electronic.bases import ElectronicBasis\n",
    "# from qiskit_nature.drivers import PySCFDriver\n",
    "\n",
    "from qiskit_nature.converters.second_quantization import QubitConverter\n",
    "\n",
    "from qiskit_nature.mappers.second_quantization import JordanWignerMapper, ParityMapper, BravyiKitaevMapper\n",
    "\n",
    "from qiskit_nature.circuit.library import HartreeFock\n",
    "\n",
    "from qiskit.circuit.library import EfficientSU2, TwoLocal, NLocal, PauliTwoDesign\n",
    "from qiskit_nature.circuit.library import UCCSD, PUCCD, SUCCD\n",
    "\n",
    "from qiskit.algorithms import NumPyMinimumEigensolver\n",
    "from qiskit_nature.algorithms import GroundStateEigensolver\n",
    "\n",
    "from qiskit.providers.aer import StatevectorSimulator, QasmSimulator\n",
    "from qiskit.algorithms.optimizers import COBYLA, L_BFGS_B, SPSA, SLSQP\n",
    "\n",
    "from qiskit.algorithms import VQE\n",
    "from qiskit_nature.algorithms import VQEUCCFactory, GroundStateEigensolver\n",
    "# from jupyterplot import ProgressPlot\n",
    "import numpy as np"
   ]
  },
  {
   "cell_type": "code",
   "execution_count": 2,
   "metadata": {},
   "outputs": [],
   "source": [
    "try:\n",
    "    import openfermion\n",
    "except ImportError:\n",
    "    !pip install -q git+https://github.com/quantumlib/OpenFermion.git@master#egg=openfermion"
   ]
  },
  {
   "cell_type": "code",
   "execution_count": 4,
   "metadata": {},
   "outputs": [],
   "source": [
    "from openfermion.chem import MolecularData\n",
    "from openfermion.transforms import get_fermion_operator, jordan_wigner\n",
    "from openfermion.linalg import get_ground_state, get_sparse_operator\n",
    "import numpy\n",
    "import scipy\n",
    "import scipy.linalg"
   ]
  },
  {
   "cell_type": "code",
   "execution_count": 5,
   "metadata": {},
   "outputs": [],
   "source": [
    "# !pip install dimod\n",
    "import math\n",
    "\n",
    "from openfermionpyscf import run_pyscf\n",
    "from openfermion.transforms import binary_code_transform, bravyi_kitaev_code, get_fermion_operator\n",
    "# from openfermion.hamiltonians import MolecularData\n",
    "from openfermion.ops import FermionOperator, QubitOperator\n",
    "from openfermion.utils import count_qubits\n",
    "from pyscf import gto, scf, mcscf\n",
    "\n",
    "from helper_functions import *\n",
    "from XBK_method import *\n",
    "from QCC_method import *"
   ]
  },
  {
   "cell_type": "code",
   "execution_count": 38,
   "metadata": {},
   "outputs": [
    {
     "output_type": "stream",
     "name": "stdout",
     "text": [
      "ElectronicStructureDriverResult:\n\tDriverMetadata:\n\t\tProgram: PYSCF\n\t\tVersion: 2.0.1\n\t\tConfig:\n\t\t\tatom=H 0.0 0.0 0.0;H 0.0 0.0 0.739\n\t\t\tunit=Angstrom\n\t\t\tcharge=0\n\t\t\tspin=0\n\t\t\tbasis=sto6g\n\t\t\tmethod=rhf\n\t\t\tconv_tol=1e-09\n\t\t\tmax_cycle=50\n\t\t\tinit_guess=minao\n\t\t\tmax_memory=4000\n\t\t\t\n\tElectronicBasisTransform:\n\t\tInitial basis: atomic\n\t\tFinal basis: molecular\n\t\tAlpha coefficients:\n\t\t[0, 0] = 0.5487577448772091\n\t\t[0, 1] = -1.2133644630859333\n\t\t[1, 0] = 0.548757744877208\n\t\t[1, 1] = 1.2133644630859337\n\t\tBeta coefficients:\n\t\t[0, 0] = 0.5487577448772091\n\t\t[0, 1] = -1.2133644630859333\n\t\t[1, 0] = 0.548757744877208\n\t\t[1, 1] = 1.2133644630859337\n\tParticleNumber:\n\t\t4 SOs\n\t\t1 alpha electrons\n\t\t\torbital occupation: [1. 0.]\n\t\t1 beta electrons\n\t\t\torbital occupation: [1. 0.]\n\tElectronicEnergy\n\t\t(AO) 1-Body Terms:\n\t\t\tAlpha\n\t\t\t<(2, 2) matrix with 4 non-zero entries>\n\t\t\t[0, 0] = -1.125830094586104\n\t\t\t[0, 1] = -0.9632570528121425\n\t\t\t[1, 0] = -0.9632570528121425\n\t\t\t[1, 1] = -1.1258300945861035\n\t\t\tBeta\n\t\t\t<(2, 2) matrix with 4 non-zero entries>\n\t\t\t[0, 0] = -1.125830094586104\n\t\t\t[0, 1] = -0.9632570528121425\n\t\t\t[1, 0] = -0.9632570528121425\n\t\t\t[1, 1] = -1.1258300945861035\n\t\t(AO) 2-Body Terms:\n\t\t\tAlpha-Alpha\n\t\t\t<(2, 2, 2, 2) matrix with 16 non-zero entries>\n\t\t\t[0, 0, 0, 0] = 0.774998521297643\n\t\t\t[0, 0, 0, 1] = 0.4449799296764234\n\t\t\t[0, 0, 1, 0] = 0.44497992967642347\n\t\t\t[0, 0, 1, 1] = 0.5703712368472429\n\t\t\t[0, 1, 0, 0] = 0.44497992967642364\n\t\t\t... skipping 11 entries\n\t\t\tBeta-Alpha\n\t\t\t<(2, 2, 2, 2) matrix with 16 non-zero entries>\n\t\t\t[0, 0, 0, 0] = 0.774998521297643\n\t\t\t[0, 0, 0, 1] = 0.4449799296764234\n\t\t\t[0, 0, 1, 0] = 0.44497992967642347\n\t\t\t[0, 0, 1, 1] = 0.5703712368472429\n\t\t\t[0, 1, 0, 0] = 0.44497992967642364\n\t\t\t... skipping 11 entries\n\t\t\tBeta-Beta\n\t\t\t<(2, 2, 2, 2) matrix with 16 non-zero entries>\n\t\t\t[0, 0, 0, 0] = 0.774998521297643\n\t\t\t[0, 0, 0, 1] = 0.4449799296764234\n\t\t\t[0, 0, 1, 0] = 0.44497992967642347\n\t\t\t[0, 0, 1, 1] = 0.5703712368472429\n\t\t\t[0, 1, 0, 0] = 0.44497992967642364\n\t\t\t... skipping 11 entries\n\t\t\tAlpha-Beta\n\t\t\t<(2, 2, 2, 2) matrix with 16 non-zero entries>\n\t\t\t[0, 0, 0, 0] = 0.774998521297643\n\t\t\t[0, 0, 0, 1] = 0.4449799296764234\n\t\t\t[0, 0, 1, 0] = 0.44497992967642347\n\t\t\t[0, 0, 1, 1] = 0.5703712368472429\n\t\t\t[0, 1, 0, 0] = 0.44497992967642364\n\t\t\t... skipping 11 entries\n\t\t(MO) 1-Body Terms:\n\t\t\tAlpha\n\t\t\t<(2, 2) matrix with 2 non-zero entries>\n\t\t\t[0, 0] = -1.258194777661488\n\t\t\t[1, 1] = -0.47869740107940717\n\t\t\tBeta\n\t\t\t<(2, 2) matrix with 2 non-zero entries>\n\t\t\t[0, 0] = -1.258194777661488\n\t\t\t[1, 1] = -0.47869740107940717\n\t\t(MO) 2-Body Terms:\n\t\t\tAlpha-Alpha\n\t\t\t<(2, 2, 2, 2) matrix with 8 non-zero entries>\n\t\t\t[0, 0, 0, 0] = 0.6748905616579757\n\t\t\t[0, 0, 1, 1] = 0.6645586562464452\n\t\t\t[0, 1, 0, 1] = 0.1814418245284773\n\t\t\t[0, 1, 1, 0] = 0.18144182452847726\n\t\t\t[1, 0, 0, 1] = 0.18144182452847724\n\t\t\t... skipping 3 entries\n\t\t\tBeta-Alpha\n\t\t\t<(2, 2, 2, 2) matrix with 8 non-zero entries>\n\t\t\t[0, 0, 0, 0] = 0.6748905616579757\n\t\t\t[0, 0, 1, 1] = 0.6645586562464452\n\t\t\t[0, 1, 0, 1] = 0.1814418245284773\n\t\t\t[0, 1, 1, 0] = 0.18144182452847726\n\t\t\t[1, 0, 0, 1] = 0.18144182452847724\n\t\t\t... skipping 3 entries\n\t\t\tBeta-Beta\n\t\t\t<(2, 2, 2, 2) matrix with 8 non-zero entries>\n\t\t\t[0, 0, 0, 0] = 0.6748905616579757\n\t\t\t[0, 0, 1, 1] = 0.6645586562464452\n\t\t\t[0, 1, 0, 1] = 0.1814418245284773\n\t\t\t[0, 1, 1, 0] = 0.18144182452847726\n\t\t\t[1, 0, 0, 1] = 0.18144182452847724\n\t\t\t... skipping 3 entries\n\t\t\tAlpha-Beta\n\t\t\t<(2, 2, 2, 2) matrix with 8 non-zero entries>\n\t\t\t[0, 0, 0, 0] = 0.6748905616579757\n\t\t\t[0, 0, 1, 1] = 0.6645586562464452\n\t\t\t[0, 1, 0, 1] = 0.1814418245284773\n\t\t\t[0, 1, 1, 0] = 0.18144182452847726\n\t\t\t[1, 0, 0, 1] = 0.18144182452847724\n\t\t\t... skipping 3 entries\n\tElectronicDipoleMoment:\n\t\tDipoleMomentX\n\t\t\t(AO) 1-Body Terms:\n\t\t\t\tAlpha\n\t\t\t\t<(2, 2) matrix with 0 non-zero entries>\n\t\t\t\tBeta\n\t\t\t\t<(2, 2) matrix with 0 non-zero entries>\n\t\t\t(MO) 1-Body Terms:\n\t\t\t\tAlpha\n\t\t\t\t<(2, 2) matrix with 0 non-zero entries>\n\t\t\t\tBeta\n\t\t\t\t<(2, 2) matrix with 0 non-zero entries>\n\t\tDipoleMomentY\n\t\t\t(AO) 1-Body Terms:\n\t\t\t\tAlpha\n\t\t\t\t<(2, 2) matrix with 0 non-zero entries>\n\t\t\t\tBeta\n\t\t\t\t<(2, 2) matrix with 0 non-zero entries>\n\t\t\t(MO) 1-Body Terms:\n\t\t\t\tAlpha\n\t\t\t\t<(2, 2) matrix with 0 non-zero entries>\n\t\t\t\tBeta\n\t\t\t\t<(2, 2) matrix with 0 non-zero entries>\n\t\tDipoleMomentZ\n\t\t\t(AO) 1-Body Terms:\n\t\t\t\tAlpha\n\t\t\t\t<(2, 2) matrix with 3 non-zero entries>\n\t\t\t\t[0, 1] = 0.46111601110994815\n\t\t\t\t[1, 0] = 0.46111601110994815\n\t\t\t\t[1, 1] = 1.3965076060535806\n\t\t\t\tBeta\n\t\t\t\t<(2, 2) matrix with 3 non-zero entries>\n\t\t\t\t[0, 1] = 0.46111601110994815\n\t\t\t\t[1, 0] = 0.46111601110994815\n\t\t\t\t[1, 1] = 1.3965076060535806\n\t\t\t(MO) 1-Body Terms:\n\t\t\t\tAlpha\n\t\t\t\t<(2, 2) matrix with 4 non-zero entries>\n\t\t\t\t[0, 0] = 0.6982538030267895\n\t\t\t\t[0, 1] = 0.9298550184940327\n\t\t\t\t[1, 0] = 0.9298550184940327\n\t\t\t\t[1, 1] = 0.6982538030267906\n\t\t\t\tBeta\n\t\t\t\t<(2, 2) matrix with 4 non-zero entries>\n\t\t\t\t[0, 0] = 0.6982538030267895\n\t\t\t\t[0, 1] = 0.9298550184940327\n\t\t\t\t[1, 0] = 0.9298550184940327\n\t\t\t\t[1, 1] = 0.6982538030267906\n\tAngularMomentum:\n\t\t4 SOs\n\tMagnetization:\n\t\t4 SOs\nMolecule:\n\tMultiplicity: 1\n\tCharge: 0\n\tGeometry:\n\t\tH\t[0.0, 0.0, 0.0]\n\t\tH\t[0.0, 0.0, 1.3965076060535806]\n\tMasses:\n\t\tH\t1\n\t\tH\t1\nFermionic Operator\nregister length=4, number terms=14\n  (0.18144182452847726+0j) * ( +_0 -_1 +_2 -_3 )\n+ (-0.1814418245284773+0j) * ( +_0 -_1 -_2 +_3 )\n+ (-0.1814418245284773+0j) * ( -_0 +_1 +_2 -_3 )\n+ (0.18144182452847724+0j) * ( -_0 +_1 -_2 +_3 )\n ...\n  (0, 0)\t(-8.326672684688674e-17+0j)\n  (1, 1)\t(-1.2581947776614881+0j)\n  (2, 2)\t(-0.4786974010794073+0j)\n  (3, 3)\t(-1.2537753470229274+0j)\n  (4, 4)\t(-1.258194777661488+0j)\n  (5, 5)\t(-1.8414989936650004+0j)\n  (5, 10)\t(0.1814418245284773+0j)\n  (6, 6)\t(-1.0723335224944501+0j)\n  (6, 9)\t(0.1814418245284773+0j)\n  (7, 7)\t(-1.1725209067799944+0j)\n  (8, 8)\t(-0.4786974010794073+0j)\n  (9, 6)\t(0.1814418245284773+0j)\n  (9, 9)\t(-1.0723335224944501+0j)\n  (10, 5)\t(0.1814418245284773+0j)\n  (10, 10)\t(-0.25797272006308136+0j)\n  (11, 11)\t(-0.3684920097601563+0j)\n  (12, 12)\t(-1.2537753470229271+0j)\n  (13, 13)\t(-1.1725209067799944+0j)\n  (14, 14)\t(-0.3684920097601562+0j)\n  (15, 15)\t(0.19587926220074448+0j)\n"
     ]
    }
   ],
   "source": [
    "#with qiskit\n",
    "\n",
    "#without qiskit (maybe more flexible when working between packages)\n",
    "# molecule = \"H .0 .0 .0; H .0 .0 0.739\"\n",
    "# driver = PySCFDriver(atom=molecule)\n",
    "# qmolecule = driver.run()\n",
    "# electronic_energy = qmolecule.get_property(ElectronicEnergy)\n",
    "# one_body_ints = electronic_energy.get_electronic_integral(ElectronicBasis.MO, 1)\n",
    "# h1 = qmolecule.one_body_integrals.diagonal()\n",
    "# h2 = qmolecule.two_body_integrals\n",
    "# print(h1, h2)\n",
    "\n",
    "#https://quantumcomputing.stackexchange.com/questions/13803/what-is-the-convention-of-indices-for-the-one-and-two-body-integrals-in-qiskit\n",
    "\n",
    "geometry = [['H', [  0.0,    0.0,    0.0]],\n",
    "            ['H', [  0.0,    0.0,   0.739]]]\n",
    "\n",
    "# geometry = [['H', [0.0, 0.0, 0.0]], ['H', [1.1, 0.0, 0.0]], ['H', [0.55, 0.9526279441628825, 0]]]\n",
    "\n",
    "molecule = Molecule(geometry=geometry, charge=0, multiplicity=1)\n",
    "\n",
    "driver = ElectronicStructureMoleculeDriver(molecule=molecule, \n",
    "                                           basis='sto6g', \n",
    "                                           driver_type=ElectronicStructureDriverType.PYSCF)\n",
    "\n",
    "properties = driver.run()\n",
    "print(properties)\n",
    "electronic_energy = properties.get_property(ElectronicEnergy)\n",
    "particle_number = properties.get_property(ParticleNumber)\n",
    "num_electron = sum(particle_number.num_particles)\n",
    "num_MO = num_electron\n",
    "num_SO = particle_number.num_spin_orbitals\n",
    "num_qubits = particle_number.num_spin_orbitals\n",
    "\n",
    "properties = {\n",
    "    'electronic_energy': electronic_energy.reference_energy,\n",
    "    'electrons': num_electron,\n",
    "    'MOs': num_MO,\n",
    "    'SOs': num_SO,\n",
    "    'qubits': num_qubits\n",
    "}\n",
    "# print(properties)\n",
    "es_problem = ElectronicStructureProblem(driver)\n",
    "second_q_op = es_problem.second_q_ops()\n",
    "fermionic_op = second_q_op[0]\n",
    "print(fermionic_op)\n",
    "\n",
    "qubit_converter = QubitConverter(JordanWignerMapper())\n",
    "qubit_op = qubit_converter.convert(second_q_op[0])\n",
    "print(qubit_op)\n",
    "qubit_matrix = qubit_op.to_matrix()\n",
    "print(qubit_op.to_spmatrix())\n",
    "\n",
    "init_state = HartreeFock(num_SO, particle_number.num_particles, qubit_converter)\n",
    "# init_state.draw()\n",
    "\n",
    "# ansatz = UCCSD(qubit_converter, particle_number.num_particles, num_SO,vinitial_state = init_state)\n",
    "ansatz = TwoLocal(rotation_blocks = ['h', 'rx', 'ry'], entanglement_blocks = 'cz', entanglement='linear', reps=3)\n",
    "# ansatz.decompose().draw()\n",
    "\n",
    "numpy_solver = NumPyMinimumEigensolver()\n",
    "numpy_ground_state_solver = GroundStateEigensolver(qubit_converter, numpy_solver)\n",
    "numpy_results = numpy_ground_state_solver.solve(es_problem)\n",
    "\n",
    "exact_energy = numpy_results.computed_energies[0]\n",
    "# print(f\"Exact electronic energy: {exact_energy:.6f} Hartree\\n\")\n",
    "# print(numpy_results)\n",
    "\n",
    "backend = StatevectorSimulator()\n",
    "optimizer = COBYLA()\n",
    "\n",
    "error_threshold = 10 # mHartree\n",
    "\n",
    "np.random.seed(5)  # fix seed for reproducibility\n",
    "initial_point = np.random.random(ansatz.num_parameters)\n",
    "\n",
    "# for live plotting\n",
    "# pp = ProgressPlot(plot_names=['Energy'],\n",
    "#                   line_names=['Runtime VQE', f'Target + {error_threshold}mH', 'Target']) \n",
    "intermediate_info = {\n",
    "    'nfev': [],\n",
    "    'parameters': [],\n",
    "    'energy': [],\n",
    "    'stddev': []\n",
    "}\n",
    "\n",
    "def callback(nfev, parameters, energy, stddev):\n",
    "    intermediate_info['nfev'].append(nfev)\n",
    "    intermediate_info['parameters'].append(parameters)\n",
    "    intermediate_info['energy'].append(energy)\n",
    "    intermediate_info['stddev'].append(stddev)\n",
    "    # pp.update([[energy, exact_energy+error_threshold/1000, exact_energy]])\n",
    "\n",
    "vqe = VQEUCCFactory(backend)\n",
    "vqe_ground_state_solver = GroundStateEigensolver(qubit_converter, vqe)\n",
    "vqe_results = vqe_ground_state_solver.solve(es_problem)\n",
    "\n",
    "# print(vqe_results)\n",
    "\n",
    "# error = (vqe_results.computed_energies[0] - exact_energy) * 1000 # mHartree\n",
    "# print(f'Error is: {error:.3f} mHartree')"
   ]
  },
  {
   "source": [
    "# TEQUILA!"
   ],
   "cell_type": "markdown",
   "metadata": {}
  },
  {
   "source": [
    "## Setup"
   ],
   "cell_type": "markdown",
   "metadata": {}
  },
  {
   "cell_type": "code",
   "execution_count": 66,
   "metadata": {},
   "outputs": [],
   "source": [
    "#Execute the following in the terminal to set up conda\n",
    "\n",
    "# MINICONDA_INSTALLER_SCRIPT=Miniconda3-4.5.4-Linux-x86_64.sh\n",
    "# MINICONDA_PREFIX=/usr/local\n",
    "# wget https://repo.continuum.io/miniconda/$MINICONDA_INSTALLER_SCRIPT\n",
    "# chmod +x $MINICONDA_INSTALLER_SCRIPT\n",
    "# ./$MINICONDA_INSTALLER_SCRIPT -b -f -p $MINICONDA_PREFIX"
   ]
  },
  {
   "cell_type": "code",
   "execution_count": 75,
   "metadata": {
    "tags": []
   },
   "outputs": [
    {
     "output_type": "stream",
     "name": "stdout",
     "text": [
      "Collecting tequila-basic\n",
      "  Using cached https://files.pythonhosted.org/packages/55/de/bac1892ca411db3934fc62f49d4c2bebe1bf9759bd3584141ed4f6adda98/tequila_basic-1.6.2-py3-none-any.whl\n",
      "Collecting cmake (from tequila-basic)\n",
      "  Using cached https://files.pythonhosted.org/packages/e7/60/18207ef16aa96ad4491da3e22e93b7eeb64d6a19b22f2d5e04a480aca6e7/cmake-3.21.4-py2.py3-none-manylinux_2_5_x86_64.manylinux1_x86_64.whl\n",
      "Collecting dataclasses; python_version < \"3.7\" (from tequila-basic)\n",
      "  Using cached https://files.pythonhosted.org/packages/fe/ca/75fac5856ab5cfa51bbbcefa250182e50441074fdc3f803f6e76451fab43/dataclasses-0.8-py3-none-any.whl\n",
      "Collecting openfermion<=1.0.0 (from tequila-basic)\n",
      "  Using cached https://files.pythonhosted.org/packages/72/6c/28e99141edfa6b22126e5d873dd62ce6b9987aebf66d33a98bfe42242f41/openfermion-1.0.0-py3-none-any.whl\n",
      "Collecting jaxlib (from tequila-basic)\n",
      "\u001b[31m  Could not find a version that satisfies the requirement jaxlib (from tequila-basic) (from versions: )\u001b[0m\n",
      "\u001b[31mNo matching distribution found for jaxlib (from tequila-basic)\u001b[0m\n"
     ]
    }
   ],
   "source": [
    "!pip install tequila-basic\n",
    "\n",
    "#https://pubs.acs.org/doi/10.1021/acs.jctc.7b00174 <-- whats that?\n",
    "# !conda install -c conda-forge psi4 -c psi4 --yes\n",
    "\n",
    "# !python -m pip install --user openfermion\n",
    "# !python -m pip install --user openfermionpyscf"
   ]
  },
  {
   "source": [
    "## Code"
   ],
   "cell_type": "markdown",
   "metadata": {}
  },
  {
   "cell_type": "code",
   "execution_count": 77,
   "metadata": {},
   "outputs": [
    {
     "output_type": "error",
     "ename": "ModuleNotFoundError",
     "evalue": "No module named 'tequila'",
     "traceback": [
      "\u001b[0;31m---------------------------------------------------------------------------\u001b[0m",
      "\u001b[0;31mModuleNotFoundError\u001b[0m                       Traceback (most recent call last)",
      "\u001b[0;32m<ipython-input-77-d62a6325d02c>\u001b[0m in \u001b[0;36m<module>\u001b[0;34m()\u001b[0m\n\u001b[1;32m      1\u001b[0m \u001b[0;32mimport\u001b[0m \u001b[0mnumpy\u001b[0m \u001b[0;32mas\u001b[0m \u001b[0mnp\u001b[0m\u001b[0;34m\u001b[0m\u001b[0;34m\u001b[0m\u001b[0m\n\u001b[0;32m----> 2\u001b[0;31m \u001b[0;32mimport\u001b[0m \u001b[0mtequila\u001b[0m \u001b[0;32mas\u001b[0m \u001b[0mtq\u001b[0m\u001b[0;34m\u001b[0m\u001b[0;34m\u001b[0m\u001b[0m\n\u001b[0m\u001b[1;32m      3\u001b[0m \u001b[0;32mfrom\u001b[0m \u001b[0mutility\u001b[0m \u001b[0;32mimport\u001b[0m \u001b[0;34m*\u001b[0m\u001b[0;34m\u001b[0m\u001b[0;34m\u001b[0m\u001b[0m\n",
      "\u001b[0;31mModuleNotFoundError\u001b[0m: No module named 'tequila'",
      "",
      "\u001b[0;31m---------------------------------------------------------------------------\u001b[0;32m\nNOTE: If your import is failing due to a missing package, you can\nmanually install dependencies using either !pip or !apt.\n\nTo view examples of installing some common dependencies, click the\n\"Open Examples\" button below.\n\u001b[0;31m---------------------------------------------------------------------------\u001b[0m\n"
     ]
    }
   ],
   "source": [
    "import numpy as np\n",
    "import tequila as tq\n",
    "from utility import *"
   ]
  },
  {
   "source": [
    "# D-Wave"
   ],
   "cell_type": "markdown",
   "metadata": {}
  },
  {
   "source": [
    "## Setup"
   ],
   "cell_type": "markdown",
   "metadata": {}
  },
  {
   "cell_type": "code",
   "execution_count": 78,
   "metadata": {},
   "outputs": [],
   "source": [
    "#!curl  -H \"X-Auth-Token: YourAPIkey\" -X DELETE https://cloud.dwavesys.com/sapi/problems/7211d196-cfc6-4630-84d0-f42ae5d55f0f\n",
    "\n",
    "#https://www.youtube.com/watch?v=bErs0dxC1aY&list=PLPvKnT7dgEsuhec_yW9oxcZ6gg9SfRFFV\n",
    "#https://docs.ocean.dwavesys.com/en/latest/overview/install.html#installoceansoftware\n",
    "#!python -m venv ocean\n",
    "#!\\Scripts\\activate\n",
    "\n",
    "# !pip install dwave-ocean-sdk\n",
    "# !pip install dwave-qiskit-plugin\n",
    "# !pip install requests --upgrade --yes\n",
    "# !dwave setup #API endpoint URL: https://cloud.dwavesys.com/sapi/\n",
    "\n",
    "#RESTART RUNTIME"
   ]
  },
  {
   "source": [
    "## Code"
   ],
   "cell_type": "markdown",
   "metadata": {}
  },
  {
   "cell_type": "code",
   "execution_count": null,
   "metadata": {},
   "outputs": [],
   "source": []
  }
 ]
}