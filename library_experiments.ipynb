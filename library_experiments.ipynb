{
 "metadata": {
  "language_info": {
   "codemirror_mode": {
    "name": "ipython",
    "version": 3
   },
   "file_extension": ".py",
   "mimetype": "text/x-python",
   "name": "python",
   "nbconvert_exporter": "python",
   "pygments_lexer": "ipython3",
   "version": "3.7.12"
  },
  "orig_nbformat": 2,
  "kernelspec": {
   "name": "python2",
   "display_name": "Python 2",
   "language": "python"
  }
 },
 "nbformat": 4,
 "nbformat_minor": 2,
 "cells": [
  {
   "source": [
    "<p align = center>\n",
    "    <img src=\"1_Overview.PNG\" width=800 height=500 align=center />\n",
    "<p/>"
   ],
   "cell_type": "markdown",
   "metadata": {}
  },
  {
   "source": [
    "# QISKIT"
   ],
   "cell_type": "markdown",
   "metadata": {}
  },
  {
   "source": [
    "## Setup"
   ],
   "cell_type": "markdown",
   "metadata": {}
  },
  {
   "cell_type": "code",
   "execution_count": 1,
   "metadata": {},
   "outputs": [],
   "source": [
    "# !pip install pyscf\n",
    "# !pip install qiskit-nature[pyscf]\n",
    "# !pip install qiskit"
   ]
  },
  {
   "source": [
    "## Code"
   ],
   "cell_type": "markdown",
   "metadata": {}
  },
  {
   "cell_type": "code",
   "execution_count": 61,
   "metadata": {},
   "outputs": [],
   "source": [
    "import pyscf\n",
    "from qiskit_nature.drivers import Molecule\n",
    "from qiskit_nature.drivers.second_quantization import ElectronicStructureDriverType, ElectronicStructureMoleculeDriver\n",
    "from qiskit_nature.drivers.second_quantization.pyscfd import PySCFDriver\n",
    "from qiskit_nature.properties import Property, GroupedProperty\n",
    "from qiskit_nature.problems.second_quantization import ElectronicStructureProblem\n",
    "\n",
    "from qiskit_nature.properties.second_quantization.electronic import (\n",
    "    ElectronicEnergy,\n",
    "    ElectronicDipoleMoment,\n",
    "    ParticleNumber,\n",
    "    AngularMomentum,\n",
    "    Magnetization,\n",
    ")\n",
    "\n",
    "from qiskit_nature.properties.second_quantization.electronic.integrals import (\n",
    "    ElectronicIntegrals,\n",
    "    OneBodyElectronicIntegrals,\n",
    "    TwoBodyElectronicIntegrals,\n",
    "    IntegralProperty,\n",
    ")\n",
    "\n",
    "from qiskit_nature.properties.second_quantization.electronic.bases import ElectronicBasis\n",
    "# from qiskit_nature.drivers import PySCFDriver\n",
    "\n",
    "from qiskit_nature.converters.second_quantization import QubitConverter\n",
    "\n",
    "from qiskit_nature.mappers.second_quantization import JordanWignerMapper, ParityMapper, BravyiKitaevMapper\n",
    "\n",
    "from qiskit_nature.circuit.library import HartreeFock\n",
    "\n",
    "from qiskit.circuit.library import EfficientSU2, TwoLocal, NLocal, PauliTwoDesign\n",
    "from qiskit_nature.circuit.library import UCCSD, PUCCD, SUCCD\n",
    "\n",
    "from qiskit.algorithms import NumPyMinimumEigensolver\n",
    "from qiskit_nature.algorithms import GroundStateEigensolver\n",
    "\n",
    "from qiskit.providers.aer import StatevectorSimulator, QasmSimulator\n",
    "from qiskit.algorithms.optimizers import COBYLA, L_BFGS_B, SPSA, SLSQP\n",
    "\n",
    "from qiskit.algorithms import VQE\n",
    "from qiskit_nature.algorithms import VQEUCCFactory, GroundStateEigensolver\n",
    "# from jupyterplot import ProgressPlot\n",
    "import numpy as np"
   ]
  },
  {
   "cell_type": "code",
   "execution_count": 80,
   "metadata": {},
   "outputs": [
    {
     "output_type": "stream",
     "name": "stdout",
     "text": [
      "-0.8118492064880123 * IIII\n",
      "- 0.2238938964291442 * ZIII\n",
      "+ 0.17156667591093255 * IZII\n",
      "+ 0.12068268831019144 * ZZII\n",
      "- 0.22389389642914417 * IIZI\n",
      "+ 0.17445893297586687 * ZIZI\n",
      "+ 0.16597132363812456 * IZZI\n",
      "+ 0.17156667591093255 * IIIZ\n",
      "+ 0.16597132363812456 * ZIIZ\n",
      "+ 0.16873669065193608 * IZIZ\n",
      "+ 0.12068268831019144 * IIZZ\n",
      "+ 0.04528863532793308 * XXXX\n",
      "+ 0.04528863532793308 * YYXX\n",
      "+ 0.04528863532793308 * XXYY\n",
      "+ 0.04528863532793308 * YYYY\n",
      "Exact electronic energy: -1.853364 Hartree\n",
      "\n",
      "=== GROUND STATE ENERGY ===\n",
      " \n",
      "* Electronic ground state energy (Hartree): -1.853363618672\n",
      "  - computed part:      -1.853363618672\n",
      "~ Nuclear repulsion energy (Hartree): 0.716072003951\n",
      "> Total ground state energy (Hartree): -1.137291614721\n",
      " \n",
      "=== MEASURED OBSERVABLES ===\n",
      " \n",
      "  0:  # Particles: 2.000 S: 0.000 S^2: 0.000 M: 0.000\n",
      " \n",
      "=== DIPOLE MOMENTS ===\n",
      " \n",
      "~ Nuclear dipole moment (a.u.): [0.0  0.0  1.39650761]\n",
      " \n",
      "  0: \n",
      "  * Electronic dipole moment (a.u.): [0.0  0.0  1.39650761]\n",
      "    - computed part:      [0.0  0.0  1.39650761]\n",
      "  > Dipole moment (a.u.): [0.0  0.0  0.0]  Total: 0.0\n",
      "                 (debye): [0.0  0.0  0.00000001]  Total: 0.00000001\n",
      " \n",
      "=== GROUND STATE ENERGY ===\n",
      " \n",
      "* Electronic ground state energy (Hartree): -1.853363618614\n",
      "  - computed part:      -1.853363618614\n",
      "~ Nuclear repulsion energy (Hartree): 0.716072003951\n",
      "> Total ground state energy (Hartree): -1.137291614663\n",
      " \n",
      "=== MEASURED OBSERVABLES ===\n",
      " \n",
      "  0:  # Particles: 2.000 S: 0.000 S^2: 0.000 M: -0.000\n",
      " \n",
      "=== DIPOLE MOMENTS ===\n",
      " \n",
      "~ Nuclear dipole moment (a.u.): [0.0  0.0  1.39650761]\n",
      " \n",
      "  0: \n",
      "  * Electronic dipole moment (a.u.): [0.0  0.0  1.39650763]\n",
      "    - computed part:      [0.0  0.0  1.39650763]\n",
      "  > Dipole moment (a.u.): [0.0  0.0  -0.00000002]  Total: 0.00000002\n",
      "                 (debye): [0.0  0.0  -0.00000005]  Total: 0.00000005\n",
      " \n",
      "Error is: 0.000 mHartree\n"
     ]
    }
   ],
   "source": [
    "#with qiskit\n",
    "\n",
    "#without qiskit (maybe more flexible when working between packages)\n",
    "# molecule = \"H .0 .0 .0; H .0 .0 0.739\"\n",
    "# driver = PySCFDriver(atom=molecule)\n",
    "# qmolecule = driver.run()\n",
    "# electronic_energy = qmolecule.get_property(ElectronicEnergy)\n",
    "# one_body_ints = electronic_energy.get_electronic_integral(ElectronicBasis.MO, 1)\n",
    "# h1 = qmolecule.one_body_integrals.diagonal()\n",
    "# h2 = qmolecule.two_body_integrals\n",
    "# print(h1, h2)\n",
    "\n",
    "#https://quantumcomputing.stackexchange.com/questions/13803/what-is-the-convention-of-indices-for-the-one-and-two-body-integrals-in-qiskit\n",
    "\n",
    "geometry = [['H', [  0.0,    0.0,    0.0]],\n",
    "            ['H', [  0.0,    0.0,   0.739]]]\n",
    "\n",
    "molecule = Molecule(geometry=geometry, charge=0, multiplicity=1)\n",
    "\n",
    "driver = ElectronicStructureMoleculeDriver(molecule=molecule, \n",
    "                                           basis='sto3g', \n",
    "                                           driver_type=ElectronicStructureDriverType.PYSCF)\n",
    "\n",
    "properties = driver.run()\n",
    "\n",
    "particle_number = properties.get_property(ParticleNumber)\n",
    "num_electron = sum(particle_number.num_particles)\n",
    "num_MO = num_electron\n",
    "num_SO = particle_number.num_spin_orbitals\n",
    "num_qubits = particle_number.num_spin_orbitals\n",
    "\n",
    "properties = {\n",
    "    'electrons': num_electron,\n",
    "    'MOs': num_MO,\n",
    "    'SOs': num_SO,\n",
    "    'qubits': num_qubits\n",
    "}\n",
    "\n",
    "es_problem = ElectronicStructureProblem(driver)\n",
    "second_q_op = es_problem.second_q_ops()\n",
    "fermionic_op = second_q_op[0]\n",
    "\n",
    "# print(fermionic_op)\n",
    "\n",
    "qubit_converter = QubitConverter(JordanWignerMapper())\n",
    "qubit_op = qubit_converter.convert(second_q_op[0])\n",
    "qubit_matrix = qubit_op.to_matrix()\n",
    "print(qubit_op)\n",
    "\n",
    "init_state = HartreeFock(num_SO, particle_number.num_particles, qubit_converter)\n",
    "# init_state.draw()\n",
    "\n",
    "# ansatz = UCCSD(qubit_converter, particle_number.num_particles, num_SO,vinitial_state = init_state)\n",
    "ansatz = TwoLocal(rotation_blocks = ['h', 'rx', 'ry'], entanglement_blocks = 'cz', entanglement='linear', reps=3)\n",
    "# ansatz.decompose().draw()\n",
    "\n",
    "numpy_solver = NumPyMinimumEigensolver()\n",
    "numpy_ground_state_solver = GroundStateEigensolver(qubit_converter, numpy_solver)\n",
    "numpy_results = numpy_ground_state_solver.solve(es_problem)\n",
    "\n",
    "exact_energy = numpy_results.computed_energies[0]\n",
    "print(f\"Exact electronic energy: {exact_energy:.6f} Hartree\\n\")\n",
    "print(numpy_results)\n",
    "\n",
    "backend = StatevectorSimulator()\n",
    "optimizer = COBYLA()\n",
    "\n",
    "error_threshold = 10 # mHartree\n",
    "\n",
    "np.random.seed(5)  # fix seed for reproducibility\n",
    "initial_point = np.random.random(ansatz.num_parameters)\n",
    "\n",
    "# for live plotting\n",
    "# pp = ProgressPlot(plot_names=['Energy'],\n",
    "#                   line_names=['Runtime VQE', f'Target + {error_threshold}mH', 'Target']) \n",
    "intermediate_info = {\n",
    "    'nfev': [],\n",
    "    'parameters': [],\n",
    "    'energy': [],\n",
    "    'stddev': []\n",
    "}\n",
    "\n",
    "def callback(nfev, parameters, energy, stddev):\n",
    "    intermediate_info['nfev'].append(nfev)\n",
    "    intermediate_info['parameters'].append(parameters)\n",
    "    intermediate_info['energy'].append(energy)\n",
    "    intermediate_info['stddev'].append(stddev)\n",
    "    # pp.update([[energy, exact_energy+error_threshold/1000, exact_energy]])\n",
    "\n",
    "vqe = VQEUCCFactory(backend)\n",
    "vqe_ground_state_solver = GroundStateEigensolver(qubit_converter, vqe)\n",
    "vqe_results = vqe_ground_state_solver.solve(es_problem)\n",
    "\n",
    "print(vqe_results)\n",
    "\n",
    "error = (vqe_results.computed_energies[0] - exact_energy) * 1000 # mHartree\n",
    "print(f'Error is: {error:.3f} mHartree')"
   ]
  },
  {
   "source": [
    "# TEQUILA!"
   ],
   "cell_type": "markdown",
   "metadata": {}
  },
  {
   "source": [
    "## Setup"
   ],
   "cell_type": "markdown",
   "metadata": {}
  },
  {
   "cell_type": "code",
   "execution_count": 66,
   "metadata": {},
   "outputs": [],
   "source": [
    "#Execute the following in the terminal to set up conda\n",
    "\n",
    "# MINICONDA_INSTALLER_SCRIPT=Miniconda3-4.5.4-Linux-x86_64.sh\n",
    "# MINICONDA_PREFIX=/usr/local\n",
    "# wget https://repo.continuum.io/miniconda/$MINICONDA_INSTALLER_SCRIPT\n",
    "# chmod +x $MINICONDA_INSTALLER_SCRIPT\n",
    "# ./$MINICONDA_INSTALLER_SCRIPT -b -f -p $MINICONDA_PREFIX"
   ]
  },
  {
   "cell_type": "code",
   "execution_count": 75,
   "metadata": {
    "tags": []
   },
   "outputs": [
    {
     "output_type": "stream",
     "name": "stdout",
     "text": [
      "Collecting tequila-basic\n",
      "  Using cached https://files.pythonhosted.org/packages/55/de/bac1892ca411db3934fc62f49d4c2bebe1bf9759bd3584141ed4f6adda98/tequila_basic-1.6.2-py3-none-any.whl\n",
      "Collecting cmake (from tequila-basic)\n",
      "  Using cached https://files.pythonhosted.org/packages/e7/60/18207ef16aa96ad4491da3e22e93b7eeb64d6a19b22f2d5e04a480aca6e7/cmake-3.21.4-py2.py3-none-manylinux_2_5_x86_64.manylinux1_x86_64.whl\n",
      "Collecting dataclasses; python_version < \"3.7\" (from tequila-basic)\n",
      "  Using cached https://files.pythonhosted.org/packages/fe/ca/75fac5856ab5cfa51bbbcefa250182e50441074fdc3f803f6e76451fab43/dataclasses-0.8-py3-none-any.whl\n",
      "Collecting openfermion<=1.0.0 (from tequila-basic)\n",
      "  Using cached https://files.pythonhosted.org/packages/72/6c/28e99141edfa6b22126e5d873dd62ce6b9987aebf66d33a98bfe42242f41/openfermion-1.0.0-py3-none-any.whl\n",
      "Collecting jaxlib (from tequila-basic)\n",
      "\u001b[31m  Could not find a version that satisfies the requirement jaxlib (from tequila-basic) (from versions: )\u001b[0m\n",
      "\u001b[31mNo matching distribution found for jaxlib (from tequila-basic)\u001b[0m\n"
     ]
    }
   ],
   "source": [
    "!pip install tequila-basic\n",
    "\n",
    "#https://pubs.acs.org/doi/10.1021/acs.jctc.7b00174 <-- whats that?\n",
    "# !conda install -c conda-forge psi4 -c psi4 --yes\n",
    "\n",
    "# !python -m pip install --user openfermion\n",
    "# !python -m pip install --user openfermionpyscf"
   ]
  },
  {
   "source": [
    "## Code"
   ],
   "cell_type": "markdown",
   "metadata": {}
  },
  {
   "cell_type": "code",
   "execution_count": 77,
   "metadata": {},
   "outputs": [
    {
     "output_type": "error",
     "ename": "ModuleNotFoundError",
     "evalue": "No module named 'tequila'",
     "traceback": [
      "\u001b[0;31m---------------------------------------------------------------------------\u001b[0m",
      "\u001b[0;31mModuleNotFoundError\u001b[0m                       Traceback (most recent call last)",
      "\u001b[0;32m<ipython-input-77-d62a6325d02c>\u001b[0m in \u001b[0;36m<module>\u001b[0;34m()\u001b[0m\n\u001b[1;32m      1\u001b[0m \u001b[0;32mimport\u001b[0m \u001b[0mnumpy\u001b[0m \u001b[0;32mas\u001b[0m \u001b[0mnp\u001b[0m\u001b[0;34m\u001b[0m\u001b[0;34m\u001b[0m\u001b[0m\n\u001b[0;32m----> 2\u001b[0;31m \u001b[0;32mimport\u001b[0m \u001b[0mtequila\u001b[0m \u001b[0;32mas\u001b[0m \u001b[0mtq\u001b[0m\u001b[0;34m\u001b[0m\u001b[0;34m\u001b[0m\u001b[0m\n\u001b[0m\u001b[1;32m      3\u001b[0m \u001b[0;32mfrom\u001b[0m \u001b[0mutility\u001b[0m \u001b[0;32mimport\u001b[0m \u001b[0;34m*\u001b[0m\u001b[0;34m\u001b[0m\u001b[0;34m\u001b[0m\u001b[0m\n",
      "\u001b[0;31mModuleNotFoundError\u001b[0m: No module named 'tequila'",
      "",
      "\u001b[0;31m---------------------------------------------------------------------------\u001b[0;32m\nNOTE: If your import is failing due to a missing package, you can\nmanually install dependencies using either !pip or !apt.\n\nTo view examples of installing some common dependencies, click the\n\"Open Examples\" button below.\n\u001b[0;31m---------------------------------------------------------------------------\u001b[0m\n"
     ]
    }
   ],
   "source": [
    "import numpy as np\n",
    "import tequila as tq\n",
    "from utility import *"
   ]
  },
  {
   "source": [
    "# D-Wave"
   ],
   "cell_type": "markdown",
   "metadata": {}
  },
  {
   "source": [
    "## Setup"
   ],
   "cell_type": "markdown",
   "metadata": {}
  },
  {
   "cell_type": "code",
   "execution_count": 78,
   "metadata": {},
   "outputs": [],
   "source": [
    "#!curl  -H \"X-Auth-Token: YourAPIkey\" -X DELETE https://cloud.dwavesys.com/sapi/problems/7211d196-cfc6-4630-84d0-f42ae5d55f0f\n",
    "\n",
    "#https://www.youtube.com/watch?v=bErs0dxC1aY&list=PLPvKnT7dgEsuhec_yW9oxcZ6gg9SfRFFV\n",
    "#https://docs.ocean.dwavesys.com/en/latest/overview/install.html#installoceansoftware\n",
    "#!python -m venv ocean\n",
    "#!\\Scripts\\activate\n",
    "\n",
    "# !pip install dwave-ocean-sdk\n",
    "# !pip install dwave-qiskit-plugin\n",
    "# !pip install requests --upgrade --yes\n",
    "# !dwave setup #API endpoint URL: https://cloud.dwavesys.com/sapi/\n",
    "\n",
    "#RESTART RUNTIME"
   ]
  },
  {
   "source": [
    "## Code"
   ],
   "cell_type": "markdown",
   "metadata": {}
  },
  {
   "cell_type": "code",
   "execution_count": null,
   "metadata": {},
   "outputs": [],
   "source": []
  }
 ]
}