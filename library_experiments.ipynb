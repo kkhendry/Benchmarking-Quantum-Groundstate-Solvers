{
 "metadata": {
  "language_info": {
   "codemirror_mode": {
    "name": "ipython",
    "version": 3
   },
   "file_extension": ".py",
   "mimetype": "text/x-python",
   "name": "python",
   "nbconvert_exporter": "python",
   "pygments_lexer": "ipython3",
   "version": "3.7.12"
  },
  "orig_nbformat": 2,
  "kernelspec": {
   "name": "python2",
   "display_name": "Python 2",
   "language": "python"
  }
 },
 "nbformat": 4,
 "nbformat_minor": 2,
 "cells": [
  {
   "source": [
    "<p align = center>\n",
    "    <img src=\"1_Overview.PNG\" width=800 height=500 align=center />\n",
    "<p/>"
   ],
   "cell_type": "markdown",
   "metadata": {}
  },
  {
   "source": [
    "## Setup"
   ],
   "cell_type": "markdown",
   "metadata": {}
  },
  {
   "cell_type": "code",
   "execution_count": 1,
   "metadata": {},
   "outputs": [],
   "source": [
    "#General\n",
    "import numpy as np\n",
    "import scipy\n",
    "import scipy.linalg\n",
    "import math\n",
    "\n",
    "#Molecule Drivers\n",
    "import pyscf\n",
    "from pyscf import gto, scf, mcscf\n",
    "\n",
    "##QISKIT\n",
    "#Molecule, Fermioninc Operator, Problem Definition\n",
    "from qiskit_nature.drivers import Molecule\n",
    "from qiskit_nature.operators.second_quantization import FermionicOp\n",
    "from qiskit_nature.drivers.second_quantization.pyscfd import PySCFDriver\n",
    "from qiskit_nature.drivers.second_quantization import ElectronicStructureDriverType, ElectronicStructureMoleculeDriver\n",
    "from qiskit_nature.problems.second_quantization import ElectronicStructureProblem\n",
    "\n",
    "#Properties\n",
    "from qiskit_nature.properties import Property, GroupedProperty\n",
    "from qiskit_nature.properties.second_quantization.electronic import (\n",
    "    ElectronicEnergy,\n",
    "    ElectronicDipoleMoment,\n",
    "    ParticleNumber,\n",
    "    AngularMomentum,\n",
    "    Magnetization,\n",
    ")\n",
    "from qiskit_nature.properties.second_quantization.electronic.integrals import (\n",
    "    ElectronicIntegrals,\n",
    "    OneBodyElectronicIntegrals,\n",
    "    TwoBodyElectronicIntegrals,\n",
    "    IntegralProperty,\n",
    ")\n",
    "from qiskit_nature.properties.second_quantization.electronic.bases import ElectronicBasis\n",
    "\n",
    "#Qubit Operator\n",
    "from qiskit_nature.mappers.second_quantization import JordanWignerMapper, ParityMapper, BravyiKitaevMapper\n",
    "from qiskit_nature.converters.second_quantization import QubitConverter\n",
    "\n",
    "#Circuits, Simulators, Algorithms, Solvers and VQE\n",
    "from qiskit_nature.circuit.library import HartreeFock\n",
    "from qiskit.circuit.library import EfficientSU2, TwoLocal, NLocal, PauliTwoDesign\n",
    "from qiskit_nature.circuit.library import UCCSD, PUCCD, SUCCD\n",
    "from qiskit.algorithms import NumPyMinimumEigensolver\n",
    "from qiskit_nature.algorithms import GroundStateEigensolver\n",
    "from qiskit.providers.aer import StatevectorSimulator, QasmSimulator\n",
    "from qiskit.algorithms.optimizers import COBYLA, L_BFGS_B, SPSA, SLSQP\n",
    "from qiskit.algorithms import VQE\n",
    "from qiskit_nature.algorithms import VQEUCCFactory, GroundStateEigensolver\n",
    "\n",
    "##OPENFERMION\n",
    "from openfermionpyscf import run_pyscf\n",
    "from openfermion.transforms import binary_code_transform, bravyi_kitaev_code, get_fermion_operator\n",
    "from openfermion.ops import FermionOperator, QubitOperator\n",
    "from openfermion.utils import count_qubits\n",
    "from openfermion.chem import MolecularData\n",
    "from openfermion.transforms import get_fermion_operator, jordan_wigner\n",
    "from openfermion.linalg import get_ground_state, get_sparse_operator\n",
    "import numpy\n",
    "import scipy\n",
    "import scipy.linalg\n",
    "\n",
    "##DWAVE\n",
    "from neal import SimulatedAnnealingSampler\n",
    "sampler = SimulatedAnnealingSampler()\n",
    "\n",
    "##UTILITIES\n",
    "from helper_functions import *\n",
    "from XBK_method import *\n",
    "from QCC_method import *\n"
   ]
  },
  {
   "cell_type": "code",
   "execution_count": 18,
   "metadata": {
    "tags": []
   },
   "outputs": [],
   "source": [
    "# #H2\n",
    "# geometry = [['H', [  0.0,    0.0,    0.0]],\n",
    "#             ['H', [  0.0,    0.0,   0.739]]]\n",
    "# molecule = Molecule(geometry=geometry, charge=0, multiplicity=1)\n",
    "\n",
    "# #H3\n",
    "# geometry = [['H', [0.0, 0.0, 0.0]], ['H', [1.1, 0.0, 0.0]], ['H', [0.55, 0.9526279441628825, 0]]]\n",
    "# molecule = Molecule(geometry=geometry, charge=1, multiplicity=1)\n",
    "\n",
    "# H20\n",
    "geometry = [['O', [0.0, 0.0, 0.0]], ['H', [0.0, 0.0, 1.0]], ['H', [0.0, 1.0, 0.0]]]\n",
    "molecule = Molecule(geometry=geometry, charge=0, multiplicity=1)\n",
    "\n",
    "# #HCONH2\n",
    "# geometry = [[\"O\",  [1.1280, 0.2091, 0.0000]],\n",
    "#             [\"N\", [-1.1878, 0.1791, 0.0000]],\n",
    "#             [\"C\", [0.0598, -0.3882, 0.0000]],\n",
    "#             [\"H\", [-1.3085, 1.1864, 0.0001]],\n",
    "#             [\"H\", [-2.0305, -0.3861, -0.0001]],\n",
    "#             [\"H\", [-0.0014, -1.4883, -0.0001]],\n",
    "#             ['C', [-0.1805, 1.3955, 0.000]]]\n",
    "# molecule = Molecule(geometry=geometry, charge=0, multiplicity=1)\n",
    "\n",
    "driver = ElectronicStructureMoleculeDriver(molecule=molecule, \n",
    "                                           basis='sto6g', \n",
    "                                           driver_type=ElectronicStructureDriverType.PYSCF)\n",
    "\n",
    "es_problem = ElectronicStructureProblem(driver)\n",
    "second_q_op = es_problem.second_q_ops()\n",
    "fermionic_op = second_q_op[0]\n",
    "# print(fermionic_op)\n",
    "register_length = fermionic_op.register_length\n",
    "of_fermionic_op = qiskit2of_fermionicOp(fermionic_op)\n",
    "q_fermionic_op = of2qiskit_fermionicOp(of_fermionic_op, register_length)\n",
    "# print(of_fermionic_op)\n",
    "of_fermionic_op = qiskit2of_fermionicOp(q_fermionic_op)\n",
    "# print(fermionic_op.to_list(), of_fermionic_op, q_fermionic_op.to_list())"
   ]
  },
  {
   "cell_type": "code",
   "execution_count": 19,
   "metadata": {},
   "outputs": [],
   "source": [
    "qubit_converter = QubitConverter(JordanWignerMapper())\n",
    "qubit_op = qubit_converter.convert(q_fermionic_op)\n",
    "# print(qubit_op[4].to_spmatrix())\n",
    "# qubit_matrix = qubit_op.to_matrix()\n",
    "# qubit_op_spmatrix = qubit_op.to_spmatrix()\n",
    "\n",
    "properties = driver.run()\n",
    "# print(properties)\n",
    "electronic_energy = properties.get_property(ElectronicEnergy)\n",
    "particle_number = properties.get_property(ParticleNumber)\n",
    "num_electron = sum(particle_number.num_particles)\n",
    "num_MO = num_electron\n",
    "num_SO = particle_number.num_spin_orbitals\n",
    "num_qubits = particle_number.num_spin_orbitals"
   ]
  },
  {
   "cell_type": "code",
   "execution_count": 17,
   "metadata": {},
   "outputs": [
    {
     "output_type": "stream",
     "name": "stdout",
     "text": [
      "Exact electronic energy: -1.862023 Hartree\n",
      "\n",
      "=== GROUND STATE ENERGY ===\n",
      " \n",
      "* Electronic ground state energy (Hartree): -1.862022752293\n",
      "  - computed part:      -1.862022752293\n",
      "~ Nuclear repulsion energy (Hartree): 0.716072003951\n",
      "> Total ground state energy (Hartree): -1.145950748341\n",
      " \n",
      "=== MEASURED OBSERVABLES ===\n",
      " \n",
      "  0:  # Particles: 2.000 S: 0.000 S^2: 0.000 M: 0.000\n",
      " \n",
      "=== DIPOLE MOMENTS ===\n",
      " \n",
      "~ Nuclear dipole moment (a.u.): [0.0  0.0  1.39650761]\n",
      " \n",
      "  0: \n",
      "  * Electronic dipole moment (a.u.): [0.0  0.0  1.39650761]\n",
      "    - computed part:      [0.0  0.0  1.39650761]\n",
      "  > Dipole moment (a.u.): [0.0  0.0  0.0]  Total: 0.0\n",
      "                 (debye): [0.0  0.0  0.00000001]  Total: 0.00000001\n",
      " \n",
      "=== GROUND STATE ENERGY ===\n",
      " \n",
      "* Electronic ground state energy (Hartree): -1.862022752234\n",
      "  - computed part:      -1.862022752234\n",
      "~ Nuclear repulsion energy (Hartree): 0.716072003951\n",
      "> Total ground state energy (Hartree): -1.145950748283\n",
      " \n",
      "=== MEASURED OBSERVABLES ===\n",
      " \n",
      "  0:  # Particles: 2.000 S: 0.000 S^2: 0.000 M: -0.000\n",
      " \n",
      "=== DIPOLE MOMENTS ===\n",
      " \n",
      "~ Nuclear dipole moment (a.u.): [0.0  0.0  1.39650761]\n",
      " \n",
      "  0: \n",
      "  * Electronic dipole moment (a.u.): [0.0  0.0  1.39650769]\n",
      "    - computed part:      [0.0  0.0  1.39650769]\n",
      "  > Dipole moment (a.u.): [0.0  0.0  -0.00000008]  Total: 0.00000008\n",
      "                 (debye): [0.0  0.0  -0.00000019]  Total: 0.00000019\n",
      " \n",
      "Error is: 0.000 mHartree\n"
     ]
    }
   ],
   "source": [
    "init_state = HartreeFock(num_SO, particle_number.num_particles, qubit_converter)\n",
    "# init_state.draw()\n",
    "\n",
    "ansatz = UCCSD(qubit_converter, particle_number.num_particles, num_SO, initial_state = init_state)\n",
    "# ansatz = TwoLocal(rotation_blocks = ['h', 'rx', 'ry'], entanglement_blocks = 'cz', entanglement='linear', reps=3)\n",
    "# ansatz.decompose().draw()\n",
    "\n",
    "numpy_solver = NumPyMinimumEigensolver()\n",
    "numpy_ground_state_solver = GroundStateEigensolver(qubit_converter, numpy_solver)\n",
    "numpy_results = numpy_ground_state_solver.solve(es_problem)\n",
    "\n",
    "exact_energy = numpy_results.computed_energies[0]\n",
    "print(f\"Exact electronic energy: {exact_energy:.6f} Hartree\\n\")\n",
    "print(numpy_results)\n",
    "\n",
    "backend = StatevectorSimulator()\n",
    "optimizer = COBYLA()\n",
    "\n",
    "error_threshold = 10 # mHartree\n",
    "\n",
    "np.random.seed(5)  # fix seed for reproducibility\n",
    "initial_point = np.random.random(ansatz.num_parameters)\n",
    "\n",
    "vqe = VQEUCCFactory(backend)\n",
    "vqe_ground_state_solver = GroundStateEigensolver(qubit_converter, vqe)\n",
    "vqe_results = vqe_ground_state_solver.solve(es_problem)\n",
    "\n",
    "print(vqe_results)\n",
    "\n",
    "error = (vqe_results.computed_energies[0] - exact_energy) * 1000 # mHartree\n",
    "print(f'Error is: {error:.3f} mHartree')"
   ]
  },
  {
   "cell_type": "code",
   "execution_count": 12,
   "metadata": {
    "tags": []
   },
   "outputs": [],
   "source": [
    "qubit_H = jordan_wigner(of_fermionic_op)\n",
    "m = count_qubits(qubit_H)\n",
    "# print(qubit_H)\n",
    "from neal import SimulatedAnnealingSampler\n",
    "sampler = SimulatedAnnealingSampler() #uses simulated annealing, see D-Wave's ocean sdk for more options"
   ]
  },
  {
   "cell_type": "code",
   "execution_count": 13,
   "metadata": {},
   "outputs": [
    {
     "output_type": "stream",
     "name": "stdout",
     "text": [
      "-2.7905329883651575\n{phi0: 4.576889037335392, phi1: 0.3687146794988572, phi2: 4.619880586233193, phi3: 5.199038585830702, phi4: 2.373202734956982, phi5: 5.199160604240118, the0: 3.141592653589793, the1: 0.0, the2: 3.141592653589793, the3: 3.1415633452828344, the4: 3.8714749192144834e-06, the5: 0.0, tau0: 3.141592653589793, tau1: 3.141592653589793, tau2: 5.922195673115059, tau3: 2.7806137342295743}\n"
     ]
    }
   ],
   "source": [
    "### QCC method ###\n",
    "# print(qubit_H)\n",
    "#set number of Bloch angle and entangler amplitude foldings\n",
    "angle_folds = 2\n",
    "amplitude_folds = 1\n",
    "\n",
    "#create dictionary of QubitOperator entanglers\n",
    "entanglers = {'IYZI': QubitOperator('Y1 Z2'), 'IZYI': QubitOperator('Z1 Y2'),\n",
    "              'IXYI': QubitOperator('X1 Y2'), 'IYXI': QubitOperator('Y1 X2')}\n",
    "\n",
    "#run QCC method\n",
    "QCC_energy, variables = QCC(qubit_H, entanglers, angle_folds, amplitude_folds, sampler, num_cycles=10, num_samples=1000, strength=1e3)\n",
    "    \n",
    "print(QCC_energy)\n",
    "print(variables)"
   ]
  },
  {
   "cell_type": "code",
   "execution_count": 14,
   "metadata": {},
   "outputs": [
    {
     "output_type": "stream",
     "name": "stdout",
     "text": [
      "0\n[]\n"
     ]
    }
   ],
   "source": [
    "### XBK method ###\n",
    "\n",
    "#set r value\n",
    "r = 4\n",
    "\n",
    "#construct qubit Hamiltonians and C terms for XBK method\n",
    "qubit_Hs, qubit_Cs = [],[]\n",
    "for p in range(int(math.ceil(r/2+1))):\n",
    "    qubit_Hs += [XBK_transform(qubit_H, r, p)]\n",
    "    qubit_Cs += [construct_C(m, r, p)]\n",
    "\n",
    "#run XBK method\n",
    "XBK_energy, ground_state = XBK(qubit_Hs, qubit_Cs, r, sampler, starting_lam=0, num_samples=1000, strength=1e3, verbose=False)\n",
    "\n",
    "print(XBK_energy)\n",
    "print(ground_state) #ground state in rm-qubit space\n"
   ]
  },
  {
   "source": [
    "# TEQUILA!"
   ],
   "cell_type": "markdown",
   "metadata": {}
  },
  {
   "source": [
    "## Setup"
   ],
   "cell_type": "markdown",
   "metadata": {}
  },
  {
   "cell_type": "code",
   "execution_count": 66,
   "metadata": {},
   "outputs": [],
   "source": [
    "#Execute the following in the terminal to set up conda\n",
    "\n",
    "# MINICONDA_INSTALLER_SCRIPT=Miniconda3-4.5.4-Linux-x86_64.sh\n",
    "# MINICONDA_PREFIX=/usr/local\n",
    "# wget https://repo.continuum.io/miniconda/$MINICONDA_INSTALLER_SCRIPT\n",
    "# chmod +x $MINICONDA_INSTALLER_SCRIPT\n",
    "# ./$MINICONDA_INSTALLER_SCRIPT -b -f -p $MINICONDA_PREFIX"
   ]
  },
  {
   "cell_type": "code",
   "execution_count": 75,
   "metadata": {
    "tags": []
   },
   "outputs": [
    {
     "output_type": "stream",
     "name": "stdout",
     "text": [
      "Collecting tequila-basic\n",
      "  Using cached https://files.pythonhosted.org/packages/55/de/bac1892ca411db3934fc62f49d4c2bebe1bf9759bd3584141ed4f6adda98/tequila_basic-1.6.2-py3-none-any.whl\n",
      "Collecting cmake (from tequila-basic)\n",
      "  Using cached https://files.pythonhosted.org/packages/e7/60/18207ef16aa96ad4491da3e22e93b7eeb64d6a19b22f2d5e04a480aca6e7/cmake-3.21.4-py2.py3-none-manylinux_2_5_x86_64.manylinux1_x86_64.whl\n",
      "Collecting dataclasses; python_version < \"3.7\" (from tequila-basic)\n",
      "  Using cached https://files.pythonhosted.org/packages/fe/ca/75fac5856ab5cfa51bbbcefa250182e50441074fdc3f803f6e76451fab43/dataclasses-0.8-py3-none-any.whl\n",
      "Collecting openfermion<=1.0.0 (from tequila-basic)\n",
      "  Using cached https://files.pythonhosted.org/packages/72/6c/28e99141edfa6b22126e5d873dd62ce6b9987aebf66d33a98bfe42242f41/openfermion-1.0.0-py3-none-any.whl\n",
      "Collecting jaxlib (from tequila-basic)\n",
      "\u001b[31m  Could not find a version that satisfies the requirement jaxlib (from tequila-basic) (from versions: )\u001b[0m\n",
      "\u001b[31mNo matching distribution found for jaxlib (from tequila-basic)\u001b[0m\n"
     ]
    }
   ],
   "source": [
    "!pip install tequila-basic\n",
    "\n",
    "#https://pubs.acs.org/doi/10.1021/acs.jctc.7b00174 <-- whats that?\n",
    "# !conda install -c conda-forge psi4 -c psi4 --yes\n",
    "\n",
    "# !python -m pip install --user openfermion\n",
    "# !python -m pip install --user openfermionpyscf"
   ]
  },
  {
   "source": [
    "## Code"
   ],
   "cell_type": "markdown",
   "metadata": {}
  },
  {
   "cell_type": "code",
   "execution_count": 77,
   "metadata": {},
   "outputs": [
    {
     "output_type": "error",
     "ename": "ModuleNotFoundError",
     "evalue": "No module named 'tequila'",
     "traceback": [
      "\u001b[0;31m---------------------------------------------------------------------------\u001b[0m",
      "\u001b[0;31mModuleNotFoundError\u001b[0m                       Traceback (most recent call last)",
      "\u001b[0;32m<ipython-input-77-d62a6325d02c>\u001b[0m in \u001b[0;36m<module>\u001b[0;34m()\u001b[0m\n\u001b[1;32m      1\u001b[0m \u001b[0;32mimport\u001b[0m \u001b[0mnumpy\u001b[0m \u001b[0;32mas\u001b[0m \u001b[0mnp\u001b[0m\u001b[0;34m\u001b[0m\u001b[0;34m\u001b[0m\u001b[0m\n\u001b[0;32m----> 2\u001b[0;31m \u001b[0;32mimport\u001b[0m \u001b[0mtequila\u001b[0m \u001b[0;32mas\u001b[0m \u001b[0mtq\u001b[0m\u001b[0;34m\u001b[0m\u001b[0;34m\u001b[0m\u001b[0m\n\u001b[0m\u001b[1;32m      3\u001b[0m \u001b[0;32mfrom\u001b[0m \u001b[0mutility\u001b[0m \u001b[0;32mimport\u001b[0m \u001b[0;34m*\u001b[0m\u001b[0;34m\u001b[0m\u001b[0;34m\u001b[0m\u001b[0m\n",
      "\u001b[0;31mModuleNotFoundError\u001b[0m: No module named 'tequila'",
      "",
      "\u001b[0;31m---------------------------------------------------------------------------\u001b[0;32m\nNOTE: If your import is failing due to a missing package, you can\nmanually install dependencies using either !pip or !apt.\n\nTo view examples of installing some common dependencies, click the\n\"Open Examples\" button below.\n\u001b[0;31m---------------------------------------------------------------------------\u001b[0m\n"
     ]
    }
   ],
   "source": [
    "import numpy as np\n",
    "import tequila as tq\n",
    "from utility import *"
   ]
  },
  {
   "source": [
    "# D-Wave"
   ],
   "cell_type": "markdown",
   "metadata": {}
  },
  {
   "source": [
    "## Setup"
   ],
   "cell_type": "markdown",
   "metadata": {}
  },
  {
   "cell_type": "code",
   "execution_count": 78,
   "metadata": {},
   "outputs": [],
   "source": [
    "#!curl  -H \"X-Auth-Token: YourAPIkey\" -X DELETE https://cloud.dwavesys.com/sapi/problems/7211d196-cfc6-4630-84d0-f42ae5d55f0f\n",
    "\n",
    "#https://www.youtube.com/watch?v=bErs0dxC1aY&list=PLPvKnT7dgEsuhec_yW9oxcZ6gg9SfRFFV\n",
    "#https://docs.ocean.dwavesys.com/en/latest/overview/install.html#installoceansoftware\n",
    "#!python -m venv ocean\n",
    "#!\\Scripts\\activate\n",
    "\n",
    "# !pip install dwave-ocean-sdk\n",
    "# !pip install dwave-qiskit-plugin\n",
    "# !pip install requests --upgrade --yes\n",
    "# !dwave setup #API endpoint URL: https://cloud.dwavesys.com/sapi/\n",
    "\n",
    "#RESTART RUNTIME"
   ]
  },
  {
   "source": [
    "## Potentially Useful Junk"
   ],
   "cell_type": "markdown",
   "metadata": {}
  },
  {
   "cell_type": "code",
   "execution_count": null,
   "metadata": {},
   "outputs": [],
   "source": [
    "# !pip install pyscf\n",
    "# !pip install qiskit-nature[pyscf]\n",
    "# !pip install qiskit\n",
    "\n",
    "# try:\n",
    "#     import openfermion\n",
    "# except ImportError:\n",
    "#     !pip install -q git+https://github.com/quantumlib/OpenFermion.git@master#egg=openfermion\n",
    "\n",
    "#with qiskit\n",
    "\n",
    "#without qiskit (maybe more flexible when working between packages)\n",
    "# molecule = \"H .0 .0 .0; H .0 .0 0.739\"\n",
    "# driver = PySCFDriver(atom=molecule)\n",
    "# qmolecule = driver.run()\n",
    "# electronic_energy = qmolecule.get_property(ElectronicEnergy)\n",
    "# one_body_ints = electronic_energy.get_electronic_integral(ElectronicBasis.MO, 1)\n",
    "# h1 = qmolecule.one_body_integrals.diagonal()\n",
    "# h2 = qmolecule.two_body_integrals\n",
    "# print(h1, h2)\n",
    "\n",
    "#https://quantumcomputing.stackexchange.com/questions/13803/what-is-the-convention-of-indices-for-the-one-and-two-body-integrals-in-qiskit\n",
    "\n",
    "# ##some qiskit properties\n",
    "# properties = driver.run()\n",
    "# print(properties)\n",
    "# electronic_energy = properties.get_property(ElectronicEnergy)\n",
    "# particle_number = properties.get_property(ParticleNumber)\n",
    "# num_electron = sum(particle_number.num_particles)\n",
    "# num_MO = num_electron\n",
    "# num_SO = particle_number.num_spin_orbitals\n",
    "# num_qubits = particle_number.num_spin_orbitals\n",
    "\n",
    "# some_properties = {\n",
    "#     'electronic_energy': electronic_energy.reference_energy,\n",
    "#     'electrons': num_electron,\n",
    "#     'MOs': num_MO,\n",
    "#     'SOs': num_SO,\n",
    "#     'qubits': num_qubits\n",
    "# }\n",
    "# # print(some_properties)\n",
    "\n",
    "##plotting qiskit VQE\n",
    "# # for live plotting\n",
    "# # pp = ProgressPlot(plot_names=['Energy'],\n",
    "# #                   line_names=['Runtime VQE', f'Target + {error_threshold}mH', 'Target']) \n",
    "# intermediate_info = {\n",
    "#     'nfev': [],\n",
    "#     'parameters': [],\n",
    "#     'energy': [],\n",
    "#     'stddev': []\n",
    "# }\n",
    "\n",
    "# def callback(nfev, parameters, energy, stddev):\n",
    "#     intermediate_info['nfev'].append(nfev)\n",
    "#     intermediate_info['parameters'].append(parameters)\n",
    "#     intermediate_info['energy'].append(energy)\n",
    "#     intermediate_info['stddev'].append(stddev)\n",
    "#     # pp.update([[energy, exact_energy+error_threshold/1000, exact_energy]])\n",
    "\n",
    "##iterate soarse matrix\n",
    "# import itertools\n",
    "# import random\n",
    "\n",
    "# def using_tocoo_zip(x):\n",
    "#     cx = x.tocoo()    \n",
    "#     for i,j,v in zip(cx.row, cx.col, cx.data):\n",
    "#         print((i,j),(np.real(v), np.imag(v)))\n",
    "\n",
    "# using_tocoo_zip(qubit_op_spmatrix)\n",
    "\n",
    "##open fermion molecule set up\n",
    "# #create molecule\n",
    "# charge = 0\n",
    "# multiplicity = 1\n",
    "# basis = 'sto-6g'\n",
    "\n",
    "# geometry = [['H', (  0.0,    0.0,    0.0)],\n",
    "#             ['H', (  0.0,    0.0,   0.739)]]\n",
    "# print(geometry)    \n",
    "# molecule = MolecularData(\n",
    "#     geometry=geometry,\n",
    "#     basis=basis,\n",
    "#     multiplicity=multiplicity,\n",
    "#     charge=charge\n",
    "# )\n",
    "\n",
    "# driver = run_pyscf(molecule, run_scf=True)\n",
    "\n",
    "# #convert to fermionic Hamiltonian\n",
    "# molecular_H = molecule.get_molecular_hamiltonian()\n",
    "\n",
    "# # if molecular_H[()] == None:\n",
    "# #     molecular_H[()] = 0\n",
    "# fermionic_H = get_fermion_operator(molecular_H)\n",
    "\n",
    "# q_fermionic_op = of2qiskit_fermionicOp(fermionic_H)\n",
    "# print(q_fermionic_op.to_list())"
   ]
  }
 ]
}