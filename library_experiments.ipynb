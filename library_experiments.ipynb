{
 "metadata": {
  "language_info": {
   "codemirror_mode": {
    "name": "ipython",
    "version": 3
   },
   "file_extension": ".py",
   "mimetype": "text/x-python",
   "name": "python",
   "nbconvert_exporter": "python",
   "pygments_lexer": "ipython3",
   "version": "3.7.12"
  },
  "orig_nbformat": 2,
  "kernelspec": {
   "name": "python2",
   "display_name": "Python 2",
   "language": "python"
  }
 },
 "nbformat": 4,
 "nbformat_minor": 2,
 "cells": [
  {
   "cell_type": "code",
   "execution_count": 1,
   "metadata": {},
   "outputs": [
    {
     "output_type": "stream",
     "name": "stdout",
     "text": [
      "Requirement already satisfied: pyscf in /usr/local/lib/python3.7/dist-packages (2.0.1)\n",
      "Requirement already satisfied: h5py>=2.7 in /usr/local/lib/python3.7/dist-packages (from pyscf) (3.1.0)\n",
      "Requirement already satisfied: numpy!=1.16,!=1.17,>=1.13 in /usr/local/lib/python3.7/dist-packages (from pyscf) (1.19.5)\n",
      "Requirement already satisfied: scipy!=1.5.0,!=1.5.1 in /usr/local/lib/python3.7/dist-packages (from pyscf) (1.4.1)\n",
      "Requirement already satisfied: cached-property in /usr/local/lib/python3.7/dist-packages (from h5py>=2.7->pyscf) (1.5.2)\n",
      "Requirement already satisfied: qiskit-nature[pyscf] in /usr/local/lib/python3.7/dist-packages (0.2.2)\n",
      "Requirement already satisfied: scipy>=1.4 in /usr/local/lib/python3.7/dist-packages (from qiskit-nature[pyscf]) (1.4.1)\n",
      "Requirement already satisfied: numpy>=1.17 in /usr/local/lib/python3.7/dist-packages (from qiskit-nature[pyscf]) (1.19.5)\n",
      "Requirement already satisfied: h5py<3.3 in /usr/local/lib/python3.7/dist-packages (from qiskit-nature[pyscf]) (3.1.0)\n",
      "Requirement already satisfied: setuptools>=40.1.0 in /usr/local/lib/python3.7/dist-packages (from qiskit-nature[pyscf]) (57.4.0)\n",
      "Requirement already satisfied: qiskit-terra>=0.18.0 in /usr/local/lib/python3.7/dist-packages (from qiskit-nature[pyscf]) (0.18.3)\n",
      "Requirement already satisfied: psutil>=5 in /usr/local/lib/python3.7/dist-packages (from qiskit-nature[pyscf]) (5.4.8)\n",
      "Requirement already satisfied: scikit-learn>=0.20.0 in /usr/local/lib/python3.7/dist-packages (from qiskit-nature[pyscf]) (0.22.2.post1)\n",
      "Requirement already satisfied: pyscf in /usr/local/lib/python3.7/dist-packages (from qiskit-nature[pyscf]) (2.0.1)\n",
      "Requirement already satisfied: cached-property in /usr/local/lib/python3.7/dist-packages (from h5py<3.3->qiskit-nature[pyscf]) (1.5.2)\n",
      "Requirement already satisfied: sympy>=1.3 in /usr/local/lib/python3.7/dist-packages (from qiskit-terra>=0.18.0->qiskit-nature[pyscf]) (1.7.1)\n",
      "Requirement already satisfied: python-constraint>=1.4 in /usr/local/lib/python3.7/dist-packages (from qiskit-terra>=0.18.0->qiskit-nature[pyscf]) (1.4.0)\n",
      "Requirement already satisfied: jsonschema>=2.6 in /usr/local/lib/python3.7/dist-packages (from qiskit-terra>=0.18.0->qiskit-nature[pyscf]) (4.2.0)\n",
      "Requirement already satisfied: ply>=3.10 in /usr/local/lib/python3.7/dist-packages (from qiskit-terra>=0.18.0->qiskit-nature[pyscf]) (3.11)\n",
      "Requirement already satisfied: symengine>0.7 in /usr/local/lib/python3.7/dist-packages (from qiskit-terra>=0.18.0->qiskit-nature[pyscf]) (0.8.1)\n",
      "Requirement already satisfied: fastjsonschema>=2.10 in /usr/local/lib/python3.7/dist-packages (from qiskit-terra>=0.18.0->qiskit-nature[pyscf]) (2.15.1)\n",
      "Requirement already satisfied: dill>=0.3 in /usr/local/lib/python3.7/dist-packages (from qiskit-terra>=0.18.0->qiskit-nature[pyscf]) (0.3.4)\n",
      "Requirement already satisfied: retworkx>=0.9.0 in /usr/local/lib/python3.7/dist-packages (from qiskit-terra>=0.18.0->qiskit-nature[pyscf]) (0.10.2)\n",
      "Requirement already satisfied: tweedledum<2.0,>=1.1 in /usr/local/lib/python3.7/dist-packages (from qiskit-terra>=0.18.0->qiskit-nature[pyscf]) (1.1.1)\n",
      "Requirement already satisfied: python-dateutil>=2.8.0 in /usr/local/lib/python3.7/dist-packages (from qiskit-terra>=0.18.0->qiskit-nature[pyscf]) (2.8.2)\n",
      "Requirement already satisfied: pyrsistent!=0.17.0,!=0.17.1,!=0.17.2,>=0.14.0 in /usr/local/lib/python3.7/dist-packages (from jsonschema>=2.6->qiskit-terra>=0.18.0->qiskit-nature[pyscf]) (0.18.0)\n",
      "Requirement already satisfied: importlib-metadata in /usr/local/lib/python3.7/dist-packages (from jsonschema>=2.6->qiskit-terra>=0.18.0->qiskit-nature[pyscf]) (4.8.1)\n",
      "Requirement already satisfied: attrs>=17.4.0 in /usr/local/lib/python3.7/dist-packages (from jsonschema>=2.6->qiskit-terra>=0.18.0->qiskit-nature[pyscf]) (21.2.0)\n",
      "Requirement already satisfied: importlib-resources in /usr/local/lib/python3.7/dist-packages (from jsonschema>=2.6->qiskit-terra>=0.18.0->qiskit-nature[pyscf]) (5.2.2)\n",
      "Requirement already satisfied: six>=1.5 in /usr/local/lib/python3.7/dist-packages (from python-dateutil>=2.8.0->qiskit-terra>=0.18.0->qiskit-nature[pyscf]) (1.15.0)\n",
      "Requirement already satisfied: joblib>=0.11 in /usr/local/lib/python3.7/dist-packages (from scikit-learn>=0.20.0->qiskit-nature[pyscf]) (1.0.1)\n",
      "Requirement already satisfied: mpmath>=0.19 in /usr/local/lib/python3.7/dist-packages (from sympy>=1.3->qiskit-terra>=0.18.0->qiskit-nature[pyscf]) (1.2.1)\n",
      "Requirement already satisfied: typing-extensions>=3.6.4 in /usr/local/lib/python3.7/dist-packages (from importlib-metadata->jsonschema>=2.6->qiskit-terra>=0.18.0->qiskit-nature[pyscf]) (3.7.4.3)\n",
      "Requirement already satisfied: zipp>=0.5 in /usr/local/lib/python3.7/dist-packages (from importlib-metadata->jsonschema>=2.6->qiskit-terra>=0.18.0->qiskit-nature[pyscf]) (3.6.0)\n"
     ]
    }
   ],
   "source": [
    "!pip install pyscf\n",
    "!pip install qiskit-nature[pyscf]"
   ]
  },
  {
   "cell_type": "code",
   "execution_count": 2,
   "metadata": {},
   "outputs": [],
   "source": [
    "import pyscf\n",
    "from qiskit_nature.drivers import Molecule\n",
    "from qiskit_nature.drivers.second_quantization import ElectronicStructureDriverType, ElectronicStructureMoleculeDriver\n",
    "from qiskit_nature.drivers import PySCFDriver"
   ]
  },
  {
   "cell_type": "code",
   "execution_count": 3,
   "metadata": {},
   "outputs": [
    {
     "output_type": "stream",
     "name": "stdout",
     "text": [
      "[FermionicOp([('+_0 -_1 +_2 -_3', (0.18093119978423106+0j)), ('+_0 -_1 -_2 +_3', (-0.18093119978423128+0j)), ('-_0 +_1 +_2 -_3', (-0.18093119978423128+0j)), ('-_0 +_1 -_2 +_3', (0.18093119978423144+0j)), ('+_...)], register_length=4, display_format='sparse'), FermionicOp([('+_0 -_0', (1+0j)), ('+_1 -_1', (1+0j)), ('+_2 -_2', (1+0j)), ('+_3 -_3', (1+0j))], register_length=4, display_format='sparse'), FermionicOp([('+_0 -_1 -_2 +_3', (1+0j)), ('-_0 +_1 +_2 -_3', (1+0j)), ('+_3 -_3', (0.75+0j)), ('+_2 -_2', (0.75+0j)), ('+_2 -_2 +_3 -_3', (0.5+0j)), ('+_1 -_1', (0.75+0j)), ('+_1 -_1 +_3 -_3', (-1.5+0j)), (...)], register_length=4, display_format='sparse'), FermionicOp([('+_0 -_0', (0.5+0j)), ('+_1 -_1', (0.5+0j)), ('+_2 -_2', (-0.5+0j)), ('+_3 -_3', (-0.5+0j))], register_length=4, display_format='sparse'), FermionicOp([('', 0j)], register_length=4, display_format='sparse'), FermionicOp([('', 0j)], register_length=4, display_format='sparse'), FermionicOp([('+_0 -_1', (-0.927833470459232+0j)), ('-_0 +_1', (0.9278334704592321+0j)), ('+_2 -_3', (-0.927833470459232+0j)), ('-_2 +_3', (0.9278334704592321+0j)), ('+_3 -_3', (0.6944743507776604+0j)), ('+_...)], register_length=4, display_format='sparse')]\n"
     ]
    }
   ],
   "source": [
    "geometry = [['H', [  0.0,    0.0,    0.0]],\n",
    "            ['H', [  0.0,    0.0,   0.735]]]\n",
    "\n",
    "molecule = Molecule(geometry=geometry, charge=0, multiplicity=1)\n",
    "\n",
    "driver = ElectronicStructureMoleculeDriver(molecule=molecule, \n",
    "                                           basis='sto3g', \n",
    "                                           driver_type=ElectronicStructureDriverType.PYSCF)\n",
    "from qiskit_nature.problems.second_quantization import ElectronicStructureProblem\n",
    "es_problem = ElectronicStructureProblem(driver)\n",
    "second_q_op = es_problem.second_q_ops()\n",
    "\n",
    "print(second_q_op)"
   ]
  },
  {
   "cell_type": "code",
   "execution_count": null,
   "metadata": {},
   "outputs": [],
   "source": []
  }
 ]
}